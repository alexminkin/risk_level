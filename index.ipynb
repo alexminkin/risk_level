{
 "cells": [
  {
   "cell_type": "markdown",
   "id": "68d3dd15",
   "metadata": {},
   "source": [
    "# Описание задачи"
   ]
  },
  {
   "cell_type": "markdown",
   "id": "b982a03b",
   "metadata": {},
   "source": [
    "Cоздать систему, которая могла бы оценить риск ДТП по выбранному маршруту движения. Под риском понимается вероятность ДТП с любым повреждением транспортного средства. Как только водитель забронировал автомобиль, сел за руль и выбрал маршрут, система должна оценить уровень риска. Если уровень риска высок, водитель увидит предупреждение и рекомендации по маршруту."
   ]
  },
  {
   "cell_type": "markdown",
   "id": "24e77c4f",
   "metadata": {},
   "source": [
    "# Загрузка данных"
   ]
  },
  {
   "cell_type": "code",
   "execution_count": 1,
   "id": "f3854c7a",
   "metadata": {},
   "outputs": [
    {
     "name": "stderr",
     "output_type": "stream",
     "text": [
      "/Users/alexander/opt/anaconda3/lib/python3.9/site-packages/scipy/__init__.py:155: UserWarning: A NumPy version >=1.18.5 and <1.25.0 is required for this version of SciPy (detected version 1.26.4\n",
      "  warnings.warn(f\"A NumPy version >={np_minversion} and <{np_maxversion}\"\n"
     ]
    }
   ],
   "source": [
    "import pandas as pd\n",
    "import numpy as np\n",
    "import matplotlib.pyplot as plt\n",
    "import seaborn as sns\n",
    "from matplotlib import pyplot\n",
    "\n",
    "import random\n",
    "\n",
    "from sklearn.model_selection import(\n",
    "    train_test_split,\n",
    "    cross_val_score\n",
    ")\n",
    "from sklearn.preprocessing import(\n",
    "    OneHotEncoder,\n",
    "    StandardScaler\n",
    ")\n",
    "\n",
    "from sklearn.metrics import(\n",
    "    recall_score as rec,\n",
    "    confusion_matrix,\n",
    "    precision_recall_curve\n",
    ")\n",
    "\n",
    "\n",
    "from sklearn.linear_model import LogisticRegression\n",
    "from lightgbm import LGBMClassifier\n",
    "from sklearn.ensemble import RandomForestClassifier\n",
    "\n",
    "from sqlalchemy import create_engine, text \n",
    "\n",
    "import warnings\n",
    "warnings.filterwarnings(\"ignore\")"
   ]
  },
  {
   "cell_type": "markdown",
   "id": "70fb830b",
   "metadata": {},
   "source": [
    "## Подключитесь к базе. Загрузите таблицы sql"
   ]
  },
  {
   "cell_type": "code",
   "execution_count": 2,
   "id": "d1f431a7",
   "metadata": {},
   "outputs": [],
   "source": [
    "db_config = {\n",
    "'user': 'praktikum_student', # имя пользователя,\n",
    "'pwd': 'Sdf4$2;d-d30pp', # пароль,\n",
    "'host': 'rc1b-wcoijxj3yxfsf3fs.mdb.yandexcloud.net',\n",
    "'port': 6432, # порт подключения,\n",
    "'db': 'data-science-vehicle-db' # название базы данных,\n",
    "} "
   ]
  },
  {
   "cell_type": "code",
   "execution_count": 3,
   "id": "fe4302a1",
   "metadata": {},
   "outputs": [],
   "source": [
    "connection_string = 'postgresql://{}:{}@{}:{}/{}'.format(\n",
    "    db_config['user'],\n",
    "    db_config['pwd'],\n",
    "    db_config['host'],\n",
    "    db_config['port'],\n",
    "    db_config['db'],\n",
    ") "
   ]
  },
  {
   "cell_type": "code",
   "execution_count": 4,
   "id": "d553dbe9",
   "metadata": {},
   "outputs": [],
   "source": [
    "engine = create_engine(connection_string) "
   ]
  },
  {
   "cell_type": "markdown",
   "id": "70a2ecb8",
   "metadata": {},
   "source": [
    "## Проведите первичное исследование таблиц"
   ]
  },
  {
   "cell_type": "markdown",
   "id": "27240b6f",
   "metadata": {},
   "source": [
    "Изучаем:"
   ]
  },
  {
   "cell_type": "markdown",
   "id": "f7e846bf",
   "metadata": {},
   "source": [
    "### Таблица `case_ids`:"
   ]
  },
  {
   "cell_type": "markdown",
   "id": "0cf1f605",
   "metadata": {},
   "source": [
    "В таблице case_ids есть дуюлирующий неинформативный столбец `Case_id`, не станем его выгружать:"
   ]
  },
  {
   "cell_type": "code",
   "execution_count": 5,
   "id": "c0a3baa3",
   "metadata": {},
   "outputs": [],
   "source": [
    "query = '''\n",
    "SELECT\n",
    "    case_id\n",
    "FROM case_ids\n",
    "LIMIT 10\n",
    "'''"
   ]
  },
  {
   "cell_type": "code",
   "execution_count": 6,
   "id": "47b1047a",
   "metadata": {},
   "outputs": [],
   "source": [
    "case_ids = pd.DataFrame(engine.connect().execute(text(query)))"
   ]
  },
  {
   "cell_type": "code",
   "execution_count": 7,
   "id": "1c7ec172",
   "metadata": {},
   "outputs": [
    {
     "data": {
      "text/html": [
       "<div>\n",
       "<style scoped>\n",
       "    .dataframe tbody tr th:only-of-type {\n",
       "        vertical-align: middle;\n",
       "    }\n",
       "\n",
       "    .dataframe tbody tr th {\n",
       "        vertical-align: top;\n",
       "    }\n",
       "\n",
       "    .dataframe thead th {\n",
       "        text-align: right;\n",
       "    }\n",
       "</style>\n",
       "<table border=\"1\" class=\"dataframe\">\n",
       "  <thead>\n",
       "    <tr style=\"text-align: right;\">\n",
       "      <th></th>\n",
       "      <th>case_id</th>\n",
       "    </tr>\n",
       "  </thead>\n",
       "  <tbody>\n",
       "    <tr>\n",
       "      <th>0</th>\n",
       "      <td>0081715</td>\n",
       "    </tr>\n",
       "    <tr>\n",
       "      <th>1</th>\n",
       "      <td>0726202</td>\n",
       "    </tr>\n",
       "    <tr>\n",
       "      <th>2</th>\n",
       "      <td>3858022</td>\n",
       "    </tr>\n",
       "    <tr>\n",
       "      <th>3</th>\n",
       "      <td>3899441</td>\n",
       "    </tr>\n",
       "    <tr>\n",
       "      <th>4</th>\n",
       "      <td>3899442</td>\n",
       "    </tr>\n",
       "    <tr>\n",
       "      <th>5</th>\n",
       "      <td>3899445</td>\n",
       "    </tr>\n",
       "    <tr>\n",
       "      <th>6</th>\n",
       "      <td>3899446</td>\n",
       "    </tr>\n",
       "    <tr>\n",
       "      <th>7</th>\n",
       "      <td>3899449</td>\n",
       "    </tr>\n",
       "    <tr>\n",
       "      <th>8</th>\n",
       "      <td>3899450</td>\n",
       "    </tr>\n",
       "    <tr>\n",
       "      <th>9</th>\n",
       "      <td>3899453</td>\n",
       "    </tr>\n",
       "  </tbody>\n",
       "</table>\n",
       "</div>"
      ],
      "text/plain": [
       "   case_id\n",
       "0  0081715\n",
       "1  0726202\n",
       "2  3858022\n",
       "3  3899441\n",
       "4  3899442\n",
       "5  3899445\n",
       "6  3899446\n",
       "7  3899449\n",
       "8  3899450\n",
       "9  3899453"
      ]
     },
     "execution_count": 7,
     "metadata": {},
     "output_type": "execute_result"
    }
   ],
   "source": [
    "case_ids"
   ]
  },
  {
   "cell_type": "markdown",
   "id": "655caccf",
   "metadata": {},
   "source": [
    "Пропущенные значения:"
   ]
  },
  {
   "cell_type": "code",
   "execution_count": 8,
   "id": "a9834c9a",
   "metadata": {},
   "outputs": [],
   "source": [
    "query = '''\n",
    "SELECT\n",
    "     COUNT(*)\n",
    "FROM \n",
    "    case_ids\n",
    "WHERE\n",
    "    case_id IS NULL\n",
    "'''"
   ]
  },
  {
   "cell_type": "code",
   "execution_count": 9,
   "id": "7e6cfcba",
   "metadata": {},
   "outputs": [],
   "source": [
    "case_ids = pd.DataFrame(engine.connect().execute(text(query)))"
   ]
  },
  {
   "cell_type": "code",
   "execution_count": 10,
   "id": "48653066",
   "metadata": {
    "scrolled": true
   },
   "outputs": [
    {
     "data": {
      "text/html": [
       "<div>\n",
       "<style scoped>\n",
       "    .dataframe tbody tr th:only-of-type {\n",
       "        vertical-align: middle;\n",
       "    }\n",
       "\n",
       "    .dataframe tbody tr th {\n",
       "        vertical-align: top;\n",
       "    }\n",
       "\n",
       "    .dataframe thead th {\n",
       "        text-align: right;\n",
       "    }\n",
       "</style>\n",
       "<table border=\"1\" class=\"dataframe\">\n",
       "  <thead>\n",
       "    <tr style=\"text-align: right;\">\n",
       "      <th></th>\n",
       "      <th>count</th>\n",
       "    </tr>\n",
       "  </thead>\n",
       "  <tbody>\n",
       "    <tr>\n",
       "      <th>0</th>\n",
       "      <td>0</td>\n",
       "    </tr>\n",
       "  </tbody>\n",
       "</table>\n",
       "</div>"
      ],
      "text/plain": [
       "   count\n",
       "0      0"
      ]
     },
     "execution_count": 10,
     "metadata": {},
     "output_type": "execute_result"
    }
   ],
   "source": [
    "case_ids"
   ]
  },
  {
   "cell_type": "markdown",
   "id": "7dd45831",
   "metadata": {},
   "source": [
    "Их нет."
   ]
  },
  {
   "cell_type": "markdown",
   "id": "f115727e",
   "metadata": {},
   "source": [
    "### Таблица `vehicles`:"
   ]
  },
  {
   "cell_type": "markdown",
   "id": "a446fc06",
   "metadata": {},
   "source": [
    "Неинформативных столбцов нет."
   ]
  },
  {
   "cell_type": "code",
   "execution_count": 11,
   "id": "8d3fdadb",
   "metadata": {},
   "outputs": [],
   "source": [
    "query = '''\n",
    "SELECT\n",
    "    *\n",
    "FROM\n",
    "    vehicles\n",
    "LIMIT 10\n",
    "'''"
   ]
  },
  {
   "cell_type": "code",
   "execution_count": 12,
   "id": "9e3bee3b",
   "metadata": {},
   "outputs": [],
   "source": [
    "vehicles = pd.DataFrame(engine.connect().execute(text(query)))"
   ]
  },
  {
   "cell_type": "code",
   "execution_count": 13,
   "id": "8583f370",
   "metadata": {
    "scrolled": false
   },
   "outputs": [
    {
     "data": {
      "text/html": [
       "<div>\n",
       "<style scoped>\n",
       "    .dataframe tbody tr th:only-of-type {\n",
       "        vertical-align: middle;\n",
       "    }\n",
       "\n",
       "    .dataframe tbody tr th {\n",
       "        vertical-align: top;\n",
       "    }\n",
       "\n",
       "    .dataframe thead th {\n",
       "        text-align: right;\n",
       "    }\n",
       "</style>\n",
       "<table border=\"1\" class=\"dataframe\">\n",
       "  <thead>\n",
       "    <tr style=\"text-align: right;\">\n",
       "      <th></th>\n",
       "      <th>id</th>\n",
       "      <th>case_id</th>\n",
       "      <th>party_number</th>\n",
       "      <th>vehicle_type</th>\n",
       "      <th>vehicle_transmission</th>\n",
       "      <th>vehicle_age</th>\n",
       "    </tr>\n",
       "  </thead>\n",
       "  <tbody>\n",
       "    <tr>\n",
       "      <th>0</th>\n",
       "      <td>1175713</td>\n",
       "      <td>5305032</td>\n",
       "      <td>2</td>\n",
       "      <td>sedan</td>\n",
       "      <td>manual</td>\n",
       "      <td>3</td>\n",
       "    </tr>\n",
       "    <tr>\n",
       "      <th>1</th>\n",
       "      <td>1</td>\n",
       "      <td>3858022</td>\n",
       "      <td>1</td>\n",
       "      <td>sedan</td>\n",
       "      <td>auto</td>\n",
       "      <td>3</td>\n",
       "    </tr>\n",
       "    <tr>\n",
       "      <th>2</th>\n",
       "      <td>1175712</td>\n",
       "      <td>5305030</td>\n",
       "      <td>1</td>\n",
       "      <td>sedan</td>\n",
       "      <td>auto</td>\n",
       "      <td>3</td>\n",
       "    </tr>\n",
       "    <tr>\n",
       "      <th>3</th>\n",
       "      <td>1175717</td>\n",
       "      <td>5305033</td>\n",
       "      <td>3</td>\n",
       "      <td>sedan</td>\n",
       "      <td>auto</td>\n",
       "      <td>5</td>\n",
       "    </tr>\n",
       "    <tr>\n",
       "      <th>4</th>\n",
       "      <td>1175722</td>\n",
       "      <td>5305034</td>\n",
       "      <td>2</td>\n",
       "      <td>sedan</td>\n",
       "      <td>auto</td>\n",
       "      <td>5</td>\n",
       "    </tr>\n",
       "    <tr>\n",
       "      <th>5</th>\n",
       "      <td>1175737</td>\n",
       "      <td>5305046</td>\n",
       "      <td>2</td>\n",
       "      <td>sedan</td>\n",
       "      <td>auto</td>\n",
       "      <td>5</td>\n",
       "    </tr>\n",
       "    <tr>\n",
       "      <th>6</th>\n",
       "      <td>1175750</td>\n",
       "      <td>5305053</td>\n",
       "      <td>3</td>\n",
       "      <td>sedan</td>\n",
       "      <td>auto</td>\n",
       "      <td>9</td>\n",
       "    </tr>\n",
       "    <tr>\n",
       "      <th>7</th>\n",
       "      <td>1175715</td>\n",
       "      <td>5305033</td>\n",
       "      <td>1</td>\n",
       "      <td>sedan</td>\n",
       "      <td>manual</td>\n",
       "      <td>10</td>\n",
       "    </tr>\n",
       "    <tr>\n",
       "      <th>8</th>\n",
       "      <td>1175716</td>\n",
       "      <td>5305033</td>\n",
       "      <td>2</td>\n",
       "      <td>sedan</td>\n",
       "      <td>manual</td>\n",
       "      <td>4</td>\n",
       "    </tr>\n",
       "    <tr>\n",
       "      <th>9</th>\n",
       "      <td>1175758</td>\n",
       "      <td>5305060</td>\n",
       "      <td>2</td>\n",
       "      <td>sedan</td>\n",
       "      <td>auto</td>\n",
       "      <td>11</td>\n",
       "    </tr>\n",
       "  </tbody>\n",
       "</table>\n",
       "</div>"
      ],
      "text/plain": [
       "        id  case_id  party_number vehicle_type vehicle_transmission  \\\n",
       "0  1175713  5305032             2        sedan               manual   \n",
       "1        1  3858022             1        sedan                 auto   \n",
       "2  1175712  5305030             1        sedan                 auto   \n",
       "3  1175717  5305033             3        sedan                 auto   \n",
       "4  1175722  5305034             2        sedan                 auto   \n",
       "5  1175737  5305046             2        sedan                 auto   \n",
       "6  1175750  5305053             3        sedan                 auto   \n",
       "7  1175715  5305033             1        sedan               manual   \n",
       "8  1175716  5305033             2        sedan               manual   \n",
       "9  1175758  5305060             2        sedan                 auto   \n",
       "\n",
       "   vehicle_age  \n",
       "0            3  \n",
       "1            3  \n",
       "2            3  \n",
       "3            5  \n",
       "4            5  \n",
       "5            5  \n",
       "6            9  \n",
       "7           10  \n",
       "8            4  \n",
       "9           11  "
      ]
     },
     "execution_count": 13,
     "metadata": {},
     "output_type": "execute_result"
    }
   ],
   "source": [
    "vehicles"
   ]
  },
  {
   "cell_type": "markdown",
   "id": "d984dc93",
   "metadata": {},
   "source": [
    "Пропущенные значения по `case_id` и `party_number`:"
   ]
  },
  {
   "cell_type": "code",
   "execution_count": 14,
   "id": "1ef8696b",
   "metadata": {},
   "outputs": [],
   "source": [
    "query = '''\n",
    "SELECT\n",
    "     COUNT(*)\n",
    "FROM\n",
    "    vehicles\n",
    "WHERE\n",
    "    case_id IS NULL OR\n",
    "    party_number IS NULL\n",
    "'''"
   ]
  },
  {
   "cell_type": "code",
   "execution_count": 15,
   "id": "a0f0f60b",
   "metadata": {},
   "outputs": [],
   "source": [
    "vehicles = pd.DataFrame(engine.connect().execute(text(query)))"
   ]
  },
  {
   "cell_type": "code",
   "execution_count": 16,
   "id": "37ce5bd0",
   "metadata": {
    "scrolled": true
   },
   "outputs": [
    {
     "data": {
      "text/html": [
       "<div>\n",
       "<style scoped>\n",
       "    .dataframe tbody tr th:only-of-type {\n",
       "        vertical-align: middle;\n",
       "    }\n",
       "\n",
       "    .dataframe tbody tr th {\n",
       "        vertical-align: top;\n",
       "    }\n",
       "\n",
       "    .dataframe thead th {\n",
       "        text-align: right;\n",
       "    }\n",
       "</style>\n",
       "<table border=\"1\" class=\"dataframe\">\n",
       "  <thead>\n",
       "    <tr style=\"text-align: right;\">\n",
       "      <th></th>\n",
       "      <th>count</th>\n",
       "    </tr>\n",
       "  </thead>\n",
       "  <tbody>\n",
       "    <tr>\n",
       "      <th>0</th>\n",
       "      <td>0</td>\n",
       "    </tr>\n",
       "  </tbody>\n",
       "</table>\n",
       "</div>"
      ],
      "text/plain": [
       "   count\n",
       "0      0"
      ]
     },
     "execution_count": 16,
     "metadata": {},
     "output_type": "execute_result"
    }
   ],
   "source": [
    "vehicles"
   ]
  },
  {
   "cell_type": "markdown",
   "id": "ccb31be6",
   "metadata": {},
   "source": [
    "Их нет."
   ]
  },
  {
   "cell_type": "markdown",
   "id": "c7c9f697",
   "metadata": {},
   "source": [
    "### Таблица `collisions`:"
   ]
  },
  {
   "cell_type": "markdown",
   "id": "3ad3711f",
   "metadata": {},
   "source": [
    "Неинформативных столбцов нет."
   ]
  },
  {
   "cell_type": "code",
   "execution_count": 17,
   "id": "2bac4ff4",
   "metadata": {},
   "outputs": [],
   "source": [
    "query = '''\n",
    "SELECT\n",
    "    *\n",
    "FROM\n",
    "    collisions\n",
    "LIMIT 10\n",
    "'''"
   ]
  },
  {
   "cell_type": "code",
   "execution_count": 18,
   "id": "2e690ad2",
   "metadata": {},
   "outputs": [],
   "source": [
    "collisions = pd.DataFrame(engine.connect().execute(text(query)))"
   ]
  },
  {
   "cell_type": "code",
   "execution_count": 19,
   "id": "63d8ae77",
   "metadata": {
    "scrolled": false
   },
   "outputs": [
    {
     "data": {
      "text/html": [
       "<div>\n",
       "<style scoped>\n",
       "    .dataframe tbody tr th:only-of-type {\n",
       "        vertical-align: middle;\n",
       "    }\n",
       "\n",
       "    .dataframe tbody tr th {\n",
       "        vertical-align: top;\n",
       "    }\n",
       "\n",
       "    .dataframe thead th {\n",
       "        text-align: right;\n",
       "    }\n",
       "</style>\n",
       "<table border=\"1\" class=\"dataframe\">\n",
       "  <thead>\n",
       "    <tr style=\"text-align: right;\">\n",
       "      <th></th>\n",
       "      <th>case_id</th>\n",
       "      <th>county_city_location</th>\n",
       "      <th>county_location</th>\n",
       "      <th>distance</th>\n",
       "      <th>direction</th>\n",
       "      <th>intersection</th>\n",
       "      <th>weather_1</th>\n",
       "      <th>location_type</th>\n",
       "      <th>collision_damage</th>\n",
       "      <th>party_count</th>\n",
       "      <th>primary_collision_factor</th>\n",
       "      <th>pcf_violation_category</th>\n",
       "      <th>type_of_collision</th>\n",
       "      <th>motor_vehicle_involved_with</th>\n",
       "      <th>road_surface</th>\n",
       "      <th>road_condition_1</th>\n",
       "      <th>lighting</th>\n",
       "      <th>control_device</th>\n",
       "      <th>collision_date</th>\n",
       "      <th>collision_time</th>\n",
       "    </tr>\n",
       "  </thead>\n",
       "  <tbody>\n",
       "    <tr>\n",
       "      <th>0</th>\n",
       "      <td>4083072</td>\n",
       "      <td>1942</td>\n",
       "      <td>los angeles</td>\n",
       "      <td>528.0</td>\n",
       "      <td>north</td>\n",
       "      <td>0</td>\n",
       "      <td>cloudy</td>\n",
       "      <td>highway</td>\n",
       "      <td>small damage</td>\n",
       "      <td>2</td>\n",
       "      <td>vehicle code violation</td>\n",
       "      <td>unsafe lane change</td>\n",
       "      <td>sideswipe</td>\n",
       "      <td>other motor vehicle</td>\n",
       "      <td>wet</td>\n",
       "      <td>normal</td>\n",
       "      <td>daylight</td>\n",
       "      <td>none</td>\n",
       "      <td>2009-01-22</td>\n",
       "      <td>07:25:00</td>\n",
       "    </tr>\n",
       "    <tr>\n",
       "      <th>1</th>\n",
       "      <td>4083075</td>\n",
       "      <td>4313</td>\n",
       "      <td>santa clara</td>\n",
       "      <td>0.0</td>\n",
       "      <td>None</td>\n",
       "      <td>1</td>\n",
       "      <td>clear</td>\n",
       "      <td>None</td>\n",
       "      <td>small damage</td>\n",
       "      <td>1</td>\n",
       "      <td>vehicle code violation</td>\n",
       "      <td>improper passing</td>\n",
       "      <td>hit object</td>\n",
       "      <td>fixed object</td>\n",
       "      <td>dry</td>\n",
       "      <td>normal</td>\n",
       "      <td>dark with street lights</td>\n",
       "      <td>functioning</td>\n",
       "      <td>2009-01-03</td>\n",
       "      <td>02:26:00</td>\n",
       "    </tr>\n",
       "    <tr>\n",
       "      <th>2</th>\n",
       "      <td>4083073</td>\n",
       "      <td>0109</td>\n",
       "      <td>alameda</td>\n",
       "      <td>0.0</td>\n",
       "      <td>None</td>\n",
       "      <td>1</td>\n",
       "      <td>clear</td>\n",
       "      <td>None</td>\n",
       "      <td>scratch</td>\n",
       "      <td>2</td>\n",
       "      <td>vehicle code violation</td>\n",
       "      <td>improper turning</td>\n",
       "      <td>broadside</td>\n",
       "      <td>other motor vehicle</td>\n",
       "      <td>dry</td>\n",
       "      <td>normal</td>\n",
       "      <td>dark with street lights</td>\n",
       "      <td>functioning</td>\n",
       "      <td>2009-01-11</td>\n",
       "      <td>03:32:00</td>\n",
       "    </tr>\n",
       "    <tr>\n",
       "      <th>3</th>\n",
       "      <td>4083077</td>\n",
       "      <td>0109</td>\n",
       "      <td>alameda</td>\n",
       "      <td>0.0</td>\n",
       "      <td>None</td>\n",
       "      <td>1</td>\n",
       "      <td>clear</td>\n",
       "      <td>None</td>\n",
       "      <td>scratch</td>\n",
       "      <td>2</td>\n",
       "      <td>vehicle code violation</td>\n",
       "      <td>automobile right of way</td>\n",
       "      <td>broadside</td>\n",
       "      <td>other motor vehicle</td>\n",
       "      <td>dry</td>\n",
       "      <td>normal</td>\n",
       "      <td>daylight</td>\n",
       "      <td>functioning</td>\n",
       "      <td>2009-01-11</td>\n",
       "      <td>10:35:00</td>\n",
       "    </tr>\n",
       "    <tr>\n",
       "      <th>4</th>\n",
       "      <td>4083087</td>\n",
       "      <td>4313</td>\n",
       "      <td>santa clara</td>\n",
       "      <td>0.0</td>\n",
       "      <td>None</td>\n",
       "      <td>1</td>\n",
       "      <td>clear</td>\n",
       "      <td>None</td>\n",
       "      <td>scratch</td>\n",
       "      <td>2</td>\n",
       "      <td>vehicle code violation</td>\n",
       "      <td>speeding</td>\n",
       "      <td>rear end</td>\n",
       "      <td>other motor vehicle</td>\n",
       "      <td>dry</td>\n",
       "      <td>None</td>\n",
       "      <td>dark with street lights</td>\n",
       "      <td>functioning</td>\n",
       "      <td>2009-01-02</td>\n",
       "      <td>22:43:00</td>\n",
       "    </tr>\n",
       "    <tr>\n",
       "      <th>5</th>\n",
       "      <td>4083097</td>\n",
       "      <td>0109</td>\n",
       "      <td>alameda</td>\n",
       "      <td>0.0</td>\n",
       "      <td>None</td>\n",
       "      <td>1</td>\n",
       "      <td>clear</td>\n",
       "      <td>ramp</td>\n",
       "      <td>small damage</td>\n",
       "      <td>2</td>\n",
       "      <td>vehicle code violation</td>\n",
       "      <td>speeding</td>\n",
       "      <td>rear end</td>\n",
       "      <td>other motor vehicle</td>\n",
       "      <td>dry</td>\n",
       "      <td>normal</td>\n",
       "      <td>dark with street lights</td>\n",
       "      <td>functioning</td>\n",
       "      <td>2009-01-18</td>\n",
       "      <td>02:18:00</td>\n",
       "    </tr>\n",
       "    <tr>\n",
       "      <th>6</th>\n",
       "      <td>4083092</td>\n",
       "      <td>1942</td>\n",
       "      <td>los angeles</td>\n",
       "      <td>1320.0</td>\n",
       "      <td>south</td>\n",
       "      <td>0</td>\n",
       "      <td>clear</td>\n",
       "      <td>highway</td>\n",
       "      <td>scratch</td>\n",
       "      <td>2</td>\n",
       "      <td>vehicle code violation</td>\n",
       "      <td>unsafe lane change</td>\n",
       "      <td>rear end</td>\n",
       "      <td>other motor vehicle</td>\n",
       "      <td>dry</td>\n",
       "      <td>normal</td>\n",
       "      <td>daylight</td>\n",
       "      <td>none</td>\n",
       "      <td>2009-01-21</td>\n",
       "      <td>10:30:00</td>\n",
       "    </tr>\n",
       "    <tr>\n",
       "      <th>7</th>\n",
       "      <td>4083096</td>\n",
       "      <td>1942</td>\n",
       "      <td>los angeles</td>\n",
       "      <td>200.0</td>\n",
       "      <td>south</td>\n",
       "      <td>0</td>\n",
       "      <td>clear</td>\n",
       "      <td>highway</td>\n",
       "      <td>scratch</td>\n",
       "      <td>3</td>\n",
       "      <td>vehicle code violation</td>\n",
       "      <td>speeding</td>\n",
       "      <td>rear end</td>\n",
       "      <td>other motor vehicle</td>\n",
       "      <td>dry</td>\n",
       "      <td>normal</td>\n",
       "      <td>daylight</td>\n",
       "      <td>none</td>\n",
       "      <td>2009-01-21</td>\n",
       "      <td>08:55:00</td>\n",
       "    </tr>\n",
       "    <tr>\n",
       "      <th>8</th>\n",
       "      <td>4083100</td>\n",
       "      <td>1942</td>\n",
       "      <td>los angeles</td>\n",
       "      <td>2112.0</td>\n",
       "      <td>north</td>\n",
       "      <td>0</td>\n",
       "      <td>cloudy</td>\n",
       "      <td>highway</td>\n",
       "      <td>scratch</td>\n",
       "      <td>2</td>\n",
       "      <td>vehicle code violation</td>\n",
       "      <td>speeding</td>\n",
       "      <td>rear end</td>\n",
       "      <td>other motor vehicle</td>\n",
       "      <td>dry</td>\n",
       "      <td>normal</td>\n",
       "      <td>daylight</td>\n",
       "      <td>none</td>\n",
       "      <td>2009-01-21</td>\n",
       "      <td>16:20:00</td>\n",
       "    </tr>\n",
       "    <tr>\n",
       "      <th>9</th>\n",
       "      <td>4083103</td>\n",
       "      <td>4313</td>\n",
       "      <td>santa clara</td>\n",
       "      <td>0.0</td>\n",
       "      <td>None</td>\n",
       "      <td>1</td>\n",
       "      <td>cloudy</td>\n",
       "      <td>None</td>\n",
       "      <td>scratch</td>\n",
       "      <td>2</td>\n",
       "      <td>vehicle code violation</td>\n",
       "      <td>None</td>\n",
       "      <td>broadside</td>\n",
       "      <td>other motor vehicle</td>\n",
       "      <td>wet</td>\n",
       "      <td>normal</td>\n",
       "      <td>dusk or dawn</td>\n",
       "      <td>functioning</td>\n",
       "      <td>2009-01-02</td>\n",
       "      <td>15:55:00</td>\n",
       "    </tr>\n",
       "  </tbody>\n",
       "</table>\n",
       "</div>"
      ],
      "text/plain": [
       "   case_id county_city_location county_location  distance direction  \\\n",
       "0  4083072                 1942     los angeles     528.0     north   \n",
       "1  4083075                 4313     santa clara       0.0      None   \n",
       "2  4083073                 0109         alameda       0.0      None   \n",
       "3  4083077                 0109         alameda       0.0      None   \n",
       "4  4083087                 4313     santa clara       0.0      None   \n",
       "5  4083097                 0109         alameda       0.0      None   \n",
       "6  4083092                 1942     los angeles    1320.0     south   \n",
       "7  4083096                 1942     los angeles     200.0     south   \n",
       "8  4083100                 1942     los angeles    2112.0     north   \n",
       "9  4083103                 4313     santa clara       0.0      None   \n",
       "\n",
       "   intersection weather_1 location_type collision_damage  party_count  \\\n",
       "0             0    cloudy       highway     small damage            2   \n",
       "1             1     clear          None     small damage            1   \n",
       "2             1     clear          None          scratch            2   \n",
       "3             1     clear          None          scratch            2   \n",
       "4             1     clear          None          scratch            2   \n",
       "5             1     clear          ramp     small damage            2   \n",
       "6             0     clear       highway          scratch            2   \n",
       "7             0     clear       highway          scratch            3   \n",
       "8             0    cloudy       highway          scratch            2   \n",
       "9             1    cloudy          None          scratch            2   \n",
       "\n",
       "  primary_collision_factor   pcf_violation_category type_of_collision  \\\n",
       "0   vehicle code violation       unsafe lane change         sideswipe   \n",
       "1   vehicle code violation         improper passing        hit object   \n",
       "2   vehicle code violation         improper turning         broadside   \n",
       "3   vehicle code violation  automobile right of way         broadside   \n",
       "4   vehicle code violation                 speeding          rear end   \n",
       "5   vehicle code violation                 speeding          rear end   \n",
       "6   vehicle code violation       unsafe lane change          rear end   \n",
       "7   vehicle code violation                 speeding          rear end   \n",
       "8   vehicle code violation                 speeding          rear end   \n",
       "9   vehicle code violation                     None         broadside   \n",
       "\n",
       "  motor_vehicle_involved_with road_surface road_condition_1  \\\n",
       "0         other motor vehicle          wet           normal   \n",
       "1                fixed object          dry           normal   \n",
       "2         other motor vehicle          dry           normal   \n",
       "3         other motor vehicle          dry           normal   \n",
       "4         other motor vehicle          dry             None   \n",
       "5         other motor vehicle          dry           normal   \n",
       "6         other motor vehicle          dry           normal   \n",
       "7         other motor vehicle          dry           normal   \n",
       "8         other motor vehicle          dry           normal   \n",
       "9         other motor vehicle          wet           normal   \n",
       "\n",
       "                  lighting control_device collision_date collision_time  \n",
       "0                 daylight           none     2009-01-22       07:25:00  \n",
       "1  dark with street lights    functioning     2009-01-03       02:26:00  \n",
       "2  dark with street lights    functioning     2009-01-11       03:32:00  \n",
       "3                 daylight    functioning     2009-01-11       10:35:00  \n",
       "4  dark with street lights    functioning     2009-01-02       22:43:00  \n",
       "5  dark with street lights    functioning     2009-01-18       02:18:00  \n",
       "6                 daylight           none     2009-01-21       10:30:00  \n",
       "7                 daylight           none     2009-01-21       08:55:00  \n",
       "8                 daylight           none     2009-01-21       16:20:00  \n",
       "9             dusk or dawn    functioning     2009-01-02       15:55:00  "
      ]
     },
     "execution_count": 19,
     "metadata": {},
     "output_type": "execute_result"
    }
   ],
   "source": [
    "collisions"
   ]
  },
  {
   "cell_type": "markdown",
   "id": "9f8ff23f",
   "metadata": {},
   "source": [
    "Пропущенные значения по `case_id`:"
   ]
  },
  {
   "cell_type": "code",
   "execution_count": 20,
   "id": "57801f79",
   "metadata": {},
   "outputs": [],
   "source": [
    "query = '''\n",
    "SELECT\n",
    "     COUNT(*)\n",
    "FROM\n",
    "    collisions\n",
    "WHERE\n",
    "    case_id IS NULL\n",
    "'''"
   ]
  },
  {
   "cell_type": "code",
   "execution_count": 21,
   "id": "bf41895b",
   "metadata": {},
   "outputs": [],
   "source": [
    "collisions = pd.DataFrame(engine.connect().execute(text(query)))"
   ]
  },
  {
   "cell_type": "code",
   "execution_count": 22,
   "id": "1cacae5a",
   "metadata": {
    "scrolled": true
   },
   "outputs": [
    {
     "data": {
      "text/html": [
       "<div>\n",
       "<style scoped>\n",
       "    .dataframe tbody tr th:only-of-type {\n",
       "        vertical-align: middle;\n",
       "    }\n",
       "\n",
       "    .dataframe tbody tr th {\n",
       "        vertical-align: top;\n",
       "    }\n",
       "\n",
       "    .dataframe thead th {\n",
       "        text-align: right;\n",
       "    }\n",
       "</style>\n",
       "<table border=\"1\" class=\"dataframe\">\n",
       "  <thead>\n",
       "    <tr style=\"text-align: right;\">\n",
       "      <th></th>\n",
       "      <th>count</th>\n",
       "    </tr>\n",
       "  </thead>\n",
       "  <tbody>\n",
       "    <tr>\n",
       "      <th>0</th>\n",
       "      <td>0</td>\n",
       "    </tr>\n",
       "  </tbody>\n",
       "</table>\n",
       "</div>"
      ],
      "text/plain": [
       "   count\n",
       "0      0"
      ]
     },
     "execution_count": 22,
     "metadata": {},
     "output_type": "execute_result"
    }
   ],
   "source": [
    "collisions"
   ]
  },
  {
   "cell_type": "markdown",
   "id": "54e8c367",
   "metadata": {},
   "source": [
    "### Таблица `parties`:"
   ]
  },
  {
   "cell_type": "markdown",
   "id": "e840c2da",
   "metadata": {},
   "source": [
    "Неинформативных столбцов нет."
   ]
  },
  {
   "cell_type": "code",
   "execution_count": 23,
   "id": "71b6669d",
   "metadata": {},
   "outputs": [],
   "source": [
    "query = '''\n",
    "SELECT\n",
    "    *\n",
    "FROM\n",
    "    parties\n",
    "LIMIT 10\n",
    "'''"
   ]
  },
  {
   "cell_type": "code",
   "execution_count": 24,
   "id": "1857c157",
   "metadata": {},
   "outputs": [],
   "source": [
    "parties = pd.DataFrame(engine.connect().execute(text(query)))"
   ]
  },
  {
   "cell_type": "code",
   "execution_count": 25,
   "id": "156192cb",
   "metadata": {
    "scrolled": false
   },
   "outputs": [
    {
     "data": {
      "text/html": [
       "<div>\n",
       "<style scoped>\n",
       "    .dataframe tbody tr th:only-of-type {\n",
       "        vertical-align: middle;\n",
       "    }\n",
       "\n",
       "    .dataframe tbody tr th {\n",
       "        vertical-align: top;\n",
       "    }\n",
       "\n",
       "    .dataframe thead th {\n",
       "        text-align: right;\n",
       "    }\n",
       "</style>\n",
       "<table border=\"1\" class=\"dataframe\">\n",
       "  <thead>\n",
       "    <tr style=\"text-align: right;\">\n",
       "      <th></th>\n",
       "      <th>id</th>\n",
       "      <th>case_id</th>\n",
       "      <th>party_number</th>\n",
       "      <th>party_type</th>\n",
       "      <th>at_fault</th>\n",
       "      <th>insurance_premium</th>\n",
       "      <th>party_sobriety</th>\n",
       "      <th>party_drug_physical</th>\n",
       "      <th>cellphone_in_use</th>\n",
       "    </tr>\n",
       "  </thead>\n",
       "  <tbody>\n",
       "    <tr>\n",
       "      <th>0</th>\n",
       "      <td>22</td>\n",
       "      <td>3899454</td>\n",
       "      <td>1</td>\n",
       "      <td>road signs</td>\n",
       "      <td>1</td>\n",
       "      <td>29.0</td>\n",
       "      <td>had not been drinking</td>\n",
       "      <td>None</td>\n",
       "      <td>0.0</td>\n",
       "    </tr>\n",
       "    <tr>\n",
       "      <th>1</th>\n",
       "      <td>23</td>\n",
       "      <td>3899454</td>\n",
       "      <td>2</td>\n",
       "      <td>road signs</td>\n",
       "      <td>0</td>\n",
       "      <td>7.0</td>\n",
       "      <td>had not been drinking</td>\n",
       "      <td>None</td>\n",
       "      <td>0.0</td>\n",
       "    </tr>\n",
       "    <tr>\n",
       "      <th>2</th>\n",
       "      <td>29</td>\n",
       "      <td>3899462</td>\n",
       "      <td>2</td>\n",
       "      <td>car</td>\n",
       "      <td>0</td>\n",
       "      <td>21.0</td>\n",
       "      <td>had not been drinking</td>\n",
       "      <td>None</td>\n",
       "      <td>0.0</td>\n",
       "    </tr>\n",
       "    <tr>\n",
       "      <th>3</th>\n",
       "      <td>31</td>\n",
       "      <td>3899465</td>\n",
       "      <td>2</td>\n",
       "      <td>road signs</td>\n",
       "      <td>0</td>\n",
       "      <td>24.0</td>\n",
       "      <td>had not been drinking</td>\n",
       "      <td>None</td>\n",
       "      <td>0.0</td>\n",
       "    </tr>\n",
       "    <tr>\n",
       "      <th>4</th>\n",
       "      <td>41</td>\n",
       "      <td>3899478</td>\n",
       "      <td>2</td>\n",
       "      <td>road bumper</td>\n",
       "      <td>0</td>\n",
       "      <td>NaN</td>\n",
       "      <td>not applicable</td>\n",
       "      <td>not applicable</td>\n",
       "      <td>0.0</td>\n",
       "    </tr>\n",
       "    <tr>\n",
       "      <th>5</th>\n",
       "      <td>43</td>\n",
       "      <td>3899481</td>\n",
       "      <td>2</td>\n",
       "      <td>road bumper</td>\n",
       "      <td>0</td>\n",
       "      <td>NaN</td>\n",
       "      <td>not applicable</td>\n",
       "      <td>not applicable</td>\n",
       "      <td>0.0</td>\n",
       "    </tr>\n",
       "    <tr>\n",
       "      <th>6</th>\n",
       "      <td>72</td>\n",
       "      <td>3899505</td>\n",
       "      <td>2</td>\n",
       "      <td>road bumper</td>\n",
       "      <td>0</td>\n",
       "      <td>NaN</td>\n",
       "      <td>not applicable</td>\n",
       "      <td>not applicable</td>\n",
       "      <td>0.0</td>\n",
       "    </tr>\n",
       "    <tr>\n",
       "      <th>7</th>\n",
       "      <td>73</td>\n",
       "      <td>3899505</td>\n",
       "      <td>3</td>\n",
       "      <td>road bumper</td>\n",
       "      <td>0</td>\n",
       "      <td>NaN</td>\n",
       "      <td>not applicable</td>\n",
       "      <td>not applicable</td>\n",
       "      <td>0.0</td>\n",
       "    </tr>\n",
       "    <tr>\n",
       "      <th>8</th>\n",
       "      <td>76</td>\n",
       "      <td>3899509</td>\n",
       "      <td>1</td>\n",
       "      <td>road bumper</td>\n",
       "      <td>0</td>\n",
       "      <td>NaN</td>\n",
       "      <td>had not been drinking</td>\n",
       "      <td>None</td>\n",
       "      <td>0.0</td>\n",
       "    </tr>\n",
       "    <tr>\n",
       "      <th>9</th>\n",
       "      <td>93</td>\n",
       "      <td>3981292</td>\n",
       "      <td>2</td>\n",
       "      <td>road bumper</td>\n",
       "      <td>0</td>\n",
       "      <td>NaN</td>\n",
       "      <td>had not been drinking</td>\n",
       "      <td>None</td>\n",
       "      <td>NaN</td>\n",
       "    </tr>\n",
       "  </tbody>\n",
       "</table>\n",
       "</div>"
      ],
      "text/plain": [
       "   id  case_id  party_number   party_type  at_fault  insurance_premium  \\\n",
       "0  22  3899454             1   road signs         1               29.0   \n",
       "1  23  3899454             2   road signs         0                7.0   \n",
       "2  29  3899462             2          car         0               21.0   \n",
       "3  31  3899465             2   road signs         0               24.0   \n",
       "4  41  3899478             2  road bumper         0                NaN   \n",
       "5  43  3899481             2  road bumper         0                NaN   \n",
       "6  72  3899505             2  road bumper         0                NaN   \n",
       "7  73  3899505             3  road bumper         0                NaN   \n",
       "8  76  3899509             1  road bumper         0                NaN   \n",
       "9  93  3981292             2  road bumper         0                NaN   \n",
       "\n",
       "          party_sobriety party_drug_physical  cellphone_in_use  \n",
       "0  had not been drinking                None               0.0  \n",
       "1  had not been drinking                None               0.0  \n",
       "2  had not been drinking                None               0.0  \n",
       "3  had not been drinking                None               0.0  \n",
       "4         not applicable      not applicable               0.0  \n",
       "5         not applicable      not applicable               0.0  \n",
       "6         not applicable      not applicable               0.0  \n",
       "7         not applicable      not applicable               0.0  \n",
       "8  had not been drinking                None               0.0  \n",
       "9  had not been drinking                None               NaN  "
      ]
     },
     "execution_count": 25,
     "metadata": {},
     "output_type": "execute_result"
    }
   ],
   "source": [
    "parties"
   ]
  },
  {
   "cell_type": "markdown",
   "id": "5ed02b4d",
   "metadata": {},
   "source": [
    "Пропущенные значения по `case_id` и `party_number`:"
   ]
  },
  {
   "cell_type": "code",
   "execution_count": 26,
   "id": "5a2122ea",
   "metadata": {},
   "outputs": [],
   "source": [
    "query = '''\n",
    "SELECT\n",
    "     COUNT(*)\n",
    "FROM\n",
    "    parties\n",
    "WHERE\n",
    "    case_id IS NULL\n",
    "'''"
   ]
  },
  {
   "cell_type": "code",
   "execution_count": 27,
   "id": "d82c3cb1",
   "metadata": {},
   "outputs": [],
   "source": [
    "parties = pd.DataFrame(engine.connect().execute(text(query)))"
   ]
  },
  {
   "cell_type": "code",
   "execution_count": 28,
   "id": "ee01d0c5",
   "metadata": {
    "scrolled": true
   },
   "outputs": [
    {
     "data": {
      "text/html": [
       "<div>\n",
       "<style scoped>\n",
       "    .dataframe tbody tr th:only-of-type {\n",
       "        vertical-align: middle;\n",
       "    }\n",
       "\n",
       "    .dataframe tbody tr th {\n",
       "        vertical-align: top;\n",
       "    }\n",
       "\n",
       "    .dataframe thead th {\n",
       "        text-align: right;\n",
       "    }\n",
       "</style>\n",
       "<table border=\"1\" class=\"dataframe\">\n",
       "  <thead>\n",
       "    <tr style=\"text-align: right;\">\n",
       "      <th></th>\n",
       "      <th>count</th>\n",
       "    </tr>\n",
       "  </thead>\n",
       "  <tbody>\n",
       "    <tr>\n",
       "      <th>0</th>\n",
       "      <td>0</td>\n",
       "    </tr>\n",
       "  </tbody>\n",
       "</table>\n",
       "</div>"
      ],
      "text/plain": [
       "   count\n",
       "0      0"
      ]
     },
     "execution_count": 28,
     "metadata": {},
     "output_type": "execute_result"
    }
   ],
   "source": [
    "parties"
   ]
  },
  {
   "cell_type": "markdown",
   "id": "34a3ead7",
   "metadata": {},
   "source": [
    "*В условии задачи, не была указана таблица cases_ids.*"
   ]
  },
  {
   "cell_type": "markdown",
   "id": "530fb3b7",
   "metadata": {},
   "source": [
    "*Общий ключ для связи таблиц есть. Это `case_id`*."
   ]
  },
  {
   "cell_type": "markdown",
   "id": "2b2c6f28",
   "metadata": {},
   "source": [
    "##  Проведите статистический анализ факторов ДТП"
   ]
  },
  {
   "cell_type": "markdown",
   "id": "403c5aa1",
   "metadata": {},
   "source": [
    "### Дтп по месяцам:"
   ]
  },
  {
   "cell_type": "markdown",
   "id": "1d45b680",
   "metadata": {},
   "source": [
    "Выясним, в какие месяцы происходит наибольшее количество аварий за весь период наблюдений:"
   ]
  },
  {
   "cell_type": "code",
   "execution_count": 29,
   "id": "faa3d94d",
   "metadata": {},
   "outputs": [],
   "source": [
    "query = '''\n",
    "SELECT\n",
    "    DISTINCT EXTRACT(MONTH from collision_date) AS month,\n",
    "    COUNT(case_id) AS num_of_col\n",
    "FROM\n",
    "    collisions\n",
    "GROUP BY\n",
    "    EXTRACT(MONTH from collision_date)\n",
    "'''"
   ]
  },
  {
   "cell_type": "code",
   "execution_count": 30,
   "id": "f4b14877",
   "metadata": {},
   "outputs": [],
   "source": [
    "df = pd.DataFrame(engine.connect().execute(text(query)))"
   ]
  },
  {
   "cell_type": "code",
   "execution_count": 31,
   "id": "4656a611",
   "metadata": {},
   "outputs": [
    {
     "data": {
      "image/png": "[encoded data removed]",
      "text/plain": [
       "<Figure size 1200x500 with 1 Axes>"
      ]
     },
     "metadata": {},
     "output_type": "display_data"
    }
   ],
   "source": [
    "ax = df.plot.bar(x = 'month', y = 'num_of_col', rot=0, figsize=(12, 5), title='Число аварий по месяцам')\n",
    "\n",
    "ax.set(xlabel = 'Месяц',\n",
    "       ylabel = 'Число аварий')\n",
    "\n",
    "ax.set_facecolor('seashell')\n",
    "\n",
    "ax.get_legend().remove()\n",
    "\n",
    "plt.show()"
   ]
  },
  {
   "cell_type": "markdown",
   "id": "cc855459",
   "metadata": {},
   "source": [
    "Видим, что наибольшее число аварий происходит зимой и весной. Причиной этому может быть непогода и большое число праздников. С другой стороны, непогода также должна была повлиять на число дтп осенью; этого почти не видно, если не брать в расчёт октябрь. "
   ]
  },
  {
   "cell_type": "markdown",
   "id": "0ac79764",
   "metadata": {},
   "source": [
    "### Задачи для коллег:"
   ]
  },
  {
   "cell_type": "markdown",
   "id": "2058700f",
   "metadata": {},
   "source": [
    "- Провести анализ серьёзности повреждений транспортного средства, исходя из состояния дороги в момент ДТП\n",
    "\n",
    "- Найти самые частые причины ДТП\n",
    "\n",
    "- Проверить гипотезу о том, что в январе-декабре подавляющее большинство нарушителей -- нетрезвые водители \n",
    "\n",
    "- В какое время суток чаще всего происходят ДТП? Проверить гипотезу о том, что самое опасное время -- сумерки и вечер\n",
    "\n",
    "- Выяснить, какие клиенты с какой суммой страховки чаще всего попадают в серьёзные аварии?\n",
    "\n",
    "- На каких типах/участках дорог чаще всего происходят ДТП?"
   ]
  },
  {
   "cell_type": "markdown",
   "id": "2301d5cf",
   "metadata": {},
   "source": [
    "**Решение задачи `Провести анализ серьёзности повреждений транспортного средства, исходя из состояния дороги в момент ДТП`**"
   ]
  },
  {
   "cell_type": "code",
   "execution_count": 32,
   "id": "e7b4b9ed",
   "metadata": {},
   "outputs": [],
   "source": [
    "query = '''\n",
    "SELECT\n",
    "    collision_damage,\n",
    "    road_surface,\n",
    "    COUNT(*)\n",
    "FROM\n",
    "    collisions\n",
    "GROUP BY\n",
    "    collision_damage,\n",
    "    road_surface\n",
    "'''"
   ]
  },
  {
   "cell_type": "code",
   "execution_count": 33,
   "id": "cf2c3075",
   "metadata": {
    "scrolled": false
   },
   "outputs": [
    {
     "data": {
      "text/html": [
       "<div>\n",
       "<style scoped>\n",
       "    .dataframe tbody tr th:only-of-type {\n",
       "        vertical-align: middle;\n",
       "    }\n",
       "\n",
       "    .dataframe tbody tr th {\n",
       "        vertical-align: top;\n",
       "    }\n",
       "\n",
       "    .dataframe thead th {\n",
       "        text-align: right;\n",
       "    }\n",
       "</style>\n",
       "<table border=\"1\" class=\"dataframe\">\n",
       "  <thead>\n",
       "    <tr style=\"text-align: right;\">\n",
       "      <th></th>\n",
       "      <th>collision_damage</th>\n",
       "      <th>road_surface</th>\n",
       "      <th>count</th>\n",
       "    </tr>\n",
       "  </thead>\n",
       "  <tbody>\n",
       "    <tr>\n",
       "      <th>0</th>\n",
       "      <td>fatal</td>\n",
       "      <td>dry</td>\n",
       "      <td>9823</td>\n",
       "    </tr>\n",
       "    <tr>\n",
       "      <th>1</th>\n",
       "      <td>fatal</td>\n",
       "      <td>slippery</td>\n",
       "      <td>12</td>\n",
       "    </tr>\n",
       "    <tr>\n",
       "      <th>2</th>\n",
       "      <td>fatal</td>\n",
       "      <td>snowy</td>\n",
       "      <td>46</td>\n",
       "    </tr>\n",
       "    <tr>\n",
       "      <th>3</th>\n",
       "      <td>fatal</td>\n",
       "      <td>wet</td>\n",
       "      <td>857</td>\n",
       "    </tr>\n",
       "    <tr>\n",
       "      <th>4</th>\n",
       "      <td>fatal</td>\n",
       "      <td>None</td>\n",
       "      <td>55</td>\n",
       "    </tr>\n",
       "  </tbody>\n",
       "</table>\n",
       "</div>"
      ],
      "text/plain": [
       "  collision_damage road_surface  count\n",
       "0            fatal          dry   9823\n",
       "1            fatal     slippery     12\n",
       "2            fatal        snowy     46\n",
       "3            fatal          wet    857\n",
       "4            fatal         None     55"
      ]
     },
     "execution_count": 33,
     "metadata": {},
     "output_type": "execute_result"
    }
   ],
   "source": [
    "df = pd.DataFrame(engine.connect().execute(text(query)))\n",
    "df.head()"
   ]
  },
  {
   "cell_type": "code",
   "execution_count": 34,
   "id": "6f41a0ca",
   "metadata": {},
   "outputs": [],
   "source": [
    "df = df.pivot('collision_damage', 'road_surface', 'count')"
   ]
  },
  {
   "cell_type": "code",
   "execution_count": 35,
   "id": "a5f602c4",
   "metadata": {},
   "outputs": [
    {
     "data": {
      "image/png": "[encoded data removed]",
      "text/plain": [
       "<Figure size 1000x600 with 2 Axes>"
      ]
     },
     "metadata": {},
     "output_type": "display_data"
    }
   ],
   "source": [
    "sns.set(rc={\"figure.figsize\":(10, 6)})\n",
    "sns.heatmap(df, annot=True, fmt=\"d\", annot_kws={\"size\":12});"
   ]
  },
  {
   "cell_type": "markdown",
   "id": "ba97c9d2",
   "metadata": {},
   "source": [
    "Больше всего повреждений во время `dry`. Это можно объяснить тем, что чаще всего такая погода и стоит. Если не рассматривать это состояние дороги, то чётко видна корреляция: число всех видов повреждений растёт при ухудшении погоды. "
   ]
  },
  {
   "cell_type": "markdown",
   "id": "a294f757",
   "metadata": {},
   "source": [
    "**Решение задачи `Найти самые частые причины ДТП`**"
   ]
  },
  {
   "cell_type": "code",
   "execution_count": 36,
   "id": "a8304ed3",
   "metadata": {},
   "outputs": [],
   "source": [
    "query = '''\n",
    "SELECT\n",
    "    primary_collision_factor,\n",
    "    COUNT(*)\n",
    "FROM\n",
    "    collisions\n",
    "GROUP BY\n",
    "    primary_collision_factor\n",
    "'''"
   ]
  },
  {
   "cell_type": "code",
   "execution_count": 37,
   "id": "e78d13f7",
   "metadata": {},
   "outputs": [],
   "source": [
    "df = pd.DataFrame(engine.connect().execute(text(query)))"
   ]
  },
  {
   "cell_type": "code",
   "execution_count": 38,
   "id": "c7adf906",
   "metadata": {
    "scrolled": true
   },
   "outputs": [
    {
     "data": {
      "text/html": [
       "<div>\n",
       "<style scoped>\n",
       "    .dataframe tbody tr th:only-of-type {\n",
       "        vertical-align: middle;\n",
       "    }\n",
       "\n",
       "    .dataframe tbody tr th {\n",
       "        vertical-align: top;\n",
       "    }\n",
       "\n",
       "    .dataframe thead th {\n",
       "        text-align: right;\n",
       "    }\n",
       "</style>\n",
       "<table border=\"1\" class=\"dataframe\">\n",
       "  <thead>\n",
       "    <tr style=\"text-align: right;\">\n",
       "      <th></th>\n",
       "      <th>primary_collision_factor</th>\n",
       "      <th>count</th>\n",
       "    </tr>\n",
       "  </thead>\n",
       "  <tbody>\n",
       "    <tr>\n",
       "      <th>0</th>\n",
       "      <td>fell asleep</td>\n",
       "      <td>117</td>\n",
       "    </tr>\n",
       "    <tr>\n",
       "      <th>1</th>\n",
       "      <td>other improper driving</td>\n",
       "      <td>8470</td>\n",
       "    </tr>\n",
       "    <tr>\n",
       "      <th>2</th>\n",
       "      <td>other than driver</td>\n",
       "      <td>29780</td>\n",
       "    </tr>\n",
       "    <tr>\n",
       "      <th>3</th>\n",
       "      <td>unknown</td>\n",
       "      <td>37014</td>\n",
       "    </tr>\n",
       "    <tr>\n",
       "      <th>4</th>\n",
       "      <td>vehicle code violation</td>\n",
       "      <td>1316453</td>\n",
       "    </tr>\n",
       "    <tr>\n",
       "      <th>5</th>\n",
       "      <td>None</td>\n",
       "      <td>8166</td>\n",
       "    </tr>\n",
       "  </tbody>\n",
       "</table>\n",
       "</div>"
      ],
      "text/plain": [
       "  primary_collision_factor    count\n",
       "0              fell asleep      117\n",
       "1   other improper driving     8470\n",
       "2        other than driver    29780\n",
       "3                  unknown    37014\n",
       "4   vehicle code violation  1316453\n",
       "5                     None     8166"
      ]
     },
     "execution_count": 38,
     "metadata": {},
     "output_type": "execute_result"
    }
   ],
   "source": [
    "df"
   ]
  },
  {
   "cell_type": "code",
   "execution_count": 39,
   "id": "40a32194",
   "metadata": {},
   "outputs": [
    {
     "data": {
      "image/png": "[encoded data removed]",
      "text/plain": [
       "<Figure size 1200x500 with 1 Axes>"
      ]
     },
     "metadata": {},
     "output_type": "display_data"
    }
   ],
   "source": [
    "ax = df.plot.bar(x = 'primary_collision_factor', y = 'count', rot=0, figsize=(12, 5))\n",
    "\n",
    "ax.set_facecolor('seashell')\n",
    "\n",
    "plt.show()"
   ]
  },
  {
   "cell_type": "markdown",
   "id": "a6412e88",
   "metadata": {},
   "source": [
    "Итак, основной причиной аварий является нарушение ПДД"
   ]
  },
  {
   "cell_type": "markdown",
   "id": "59344f40",
   "metadata": {},
   "source": [
    "**Решение задачи `Выяснить, какие клиенты с какой суммой страховки чаще всего попадают в серьёзные аварии?`.**"
   ]
  },
  {
   "cell_type": "code",
   "execution_count": 40,
   "id": "9d630429",
   "metadata": {},
   "outputs": [],
   "source": [
    "query = '''\n",
    "SELECT\n",
    "    p.insurance_premium AS insurance\n",
    "FROM\n",
    "    collisions AS c INNER JOIN\n",
    "    parties AS p ON c.case_id = p.case_id\n",
    "WHERE \n",
    "    p.at_fault = 1 AND\n",
    "    c.collision_damage != 'scratch' AND\n",
    "    c.collision_damage != 'small damage'\n",
    "'''"
   ]
  },
  {
   "cell_type": "code",
   "execution_count": 41,
   "id": "e2112336",
   "metadata": {},
   "outputs": [],
   "source": [
    "df = pd.DataFrame(engine.connect().execute(text(query)))"
   ]
  },
  {
   "cell_type": "code",
   "execution_count": 42,
   "id": "e69dbb80",
   "metadata": {},
   "outputs": [
    {
     "data": {
      "image/png": "[encoded data removed]",
      "text/plain": [
       "<Figure size 800x500 with 1 Axes>"
      ]
     },
     "metadata": {},
     "output_type": "display_data"
    }
   ],
   "source": [
    "ax = df.plot.hist(bins=20, range=(0, 150), figsize=(8, 5), title='Распределение виновников аварии по сумме страхования');\n",
    "\n",
    "ax.set(xlabel = 'Сумма страховки',\n",
    "       ylabel = 'Количество виновников')\n",
    "\n",
    "ax.set_facecolor('seashell')\n",
    "\n",
    "plt.show()"
   ]
  },
  {
   "cell_type": "markdown",
   "id": "48fe046e",
   "metadata": {},
   "source": [
    "Особенностей не наблюдается: чаще всего в аварии попадают клиенты со стандартной (как я понимаю) суммой страховки. Вероятно, из-за того, что их банально больше. Хотя и виднеется небольшой всплеск в районе 50."
   ]
  },
  {
   "cell_type": "markdown",
   "id": "ed40267a",
   "metadata": {},
   "source": [
    "**Решение задачи `Проверить гипотезу о том, что в январе-декабре подавляющее большинство нарушителей -- нетрезвые водители`:**"
   ]
  },
  {
   "cell_type": "code",
   "execution_count": 43,
   "id": "2709a543",
   "metadata": {},
   "outputs": [],
   "source": [
    "query = '''\n",
    "SELECT\n",
    "    p.party_sobriety,\n",
    "    COUNT(*)\n",
    "FROM\n",
    "    collisions AS c INNER JOIN\n",
    "    parties AS p ON c.case_id = p.case_id\n",
    "WHERE \n",
    "    p.at_fault = 1 AND\n",
    "    (EXTRACT(MONTH FROM c.collision_date) = 12.0 OR\n",
    "    EXTRACT(MONTH FROM c.collision_date) = 1.0) AND\n",
    "    p.party_sobriety != 'impairment unknown' AND\n",
    "    p.party_sobriety != 'not applicable' AND\n",
    "    p.party_sobriety IS NOT NULL\n",
    "GROUP BY\n",
    "    p.party_sobriety\n",
    "'''"
   ]
  },
  {
   "cell_type": "code",
   "execution_count": 44,
   "id": "b66dd765",
   "metadata": {},
   "outputs": [],
   "source": [
    "df = pd.DataFrame(engine.connect().execute(text(query)))"
   ]
  },
  {
   "cell_type": "code",
   "execution_count": 45,
   "id": "aba5f2d2",
   "metadata": {},
   "outputs": [
    {
     "data": {
      "text/html": [
       "<div>\n",
       "<style scoped>\n",
       "    .dataframe tbody tr th:only-of-type {\n",
       "        vertical-align: middle;\n",
       "    }\n",
       "\n",
       "    .dataframe tbody tr th {\n",
       "        vertical-align: top;\n",
       "    }\n",
       "\n",
       "    .dataframe thead th {\n",
       "        text-align: right;\n",
       "    }\n",
       "</style>\n",
       "<table border=\"1\" class=\"dataframe\">\n",
       "  <thead>\n",
       "    <tr style=\"text-align: right;\">\n",
       "      <th></th>\n",
       "      <th>party_sobriety</th>\n",
       "      <th>count</th>\n",
       "    </tr>\n",
       "  </thead>\n",
       "  <tbody>\n",
       "    <tr>\n",
       "      <th>0</th>\n",
       "      <td>had been drinking, impairment unknown</td>\n",
       "      <td>3048</td>\n",
       "    </tr>\n",
       "    <tr>\n",
       "      <th>1</th>\n",
       "      <td>had been drinking, not under influence</td>\n",
       "      <td>1987</td>\n",
       "    </tr>\n",
       "    <tr>\n",
       "      <th>2</th>\n",
       "      <td>had been drinking, under influence</td>\n",
       "      <td>18375</td>\n",
       "    </tr>\n",
       "    <tr>\n",
       "      <th>3</th>\n",
       "      <td>had not been drinking</td>\n",
       "      <td>159301</td>\n",
       "    </tr>\n",
       "  </tbody>\n",
       "</table>\n",
       "</div>"
      ],
      "text/plain": [
       "                           party_sobriety   count\n",
       "0   had been drinking, impairment unknown    3048\n",
       "1  had been drinking, not under influence    1987\n",
       "2      had been drinking, under influence   18375\n",
       "3                   had not been drinking  159301"
      ]
     },
     "execution_count": 45,
     "metadata": {},
     "output_type": "execute_result"
    }
   ],
   "source": [
    "df"
   ]
  },
  {
   "cell_type": "code",
   "execution_count": 46,
   "id": "9009623c",
   "metadata": {},
   "outputs": [
    {
     "data": {
      "image/png": "[encoded data removed]",
      "text/plain": [
       "<Figure size 1200x500 with 1 Axes>"
      ]
     },
     "metadata": {},
     "output_type": "display_data"
    }
   ],
   "source": [
    "ax = df.plot.bar(x = 'party_sobriety', y = 'count',\\\n",
    "                 rot=0, figsize=(12, 5), title='Число аварий по факту наличия опьянения')\n",
    "\n",
    "ax.set(xlabel = 'Состояние нарушителя',\n",
    "       ylabel = 'Количество нарушителей')\n",
    "\n",
    "ax.set_facecolor('seashell')\n",
    "\n",
    "ax.get_legend().remove()\n",
    "\n",
    "plt.show()"
   ]
  },
  {
   "cell_type": "markdown",
   "id": "e372a7cc",
   "metadata": {},
   "source": [
    "Нетрезвых нарушителей немало, но гораздо меньше, чем тех, кто не пил."
   ]
  },
  {
   "cell_type": "markdown",
   "id": "1dd6f33e",
   "metadata": {},
   "source": [
    "## Создайте модель для оценки водительского риска"
   ]
  },
  {
   "cell_type": "markdown",
   "id": "11d5531d",
   "metadata": {},
   "source": [
    "### Выгрузим данные в датафрейм и выполним предобработаку:"
   ]
  },
  {
   "cell_type": "markdown",
   "id": "36990862",
   "metadata": {},
   "source": [
    "Выгрузим необходимые для обучения данные в таблицу `df`:"
   ]
  },
  {
   "cell_type": "code",
   "execution_count": 47,
   "id": "d3a75a0f",
   "metadata": {},
   "outputs": [],
   "source": [
    "query = '''\n",
    "SELECT\n",
    "    c.distance,\n",
    "    c.intersection,\n",
    "    c.weather_1,\n",
    "    c.location_type,\n",
    "    c.road_surface,\n",
    "    c.road_condition_1,\n",
    "    c.lighting,\n",
    "    p.at_fault,\n",
    "    p.party_sobriety,\n",
    "    p.party_drug_physical,\n",
    "    p.cellphone_in_use,\n",
    "    v.vehicle_type,\n",
    "    v.vehicle_transmission,\n",
    "    v.vehicle_age    \n",
    "FROM\n",
    "    collisions AS c INNER JOIN\n",
    "    parties AS p ON c.case_id = p.case_id INNER JOIN\n",
    "    vehicles AS v ON p.case_id = v.case_id AND p.party_number = v.party_number\n",
    "WHERE\n",
    "    p.party_type = 'car' AND\n",
    "    c.collision_damage != 'scratch' AND\n",
    "    EXTRACT(YEAR FROM c.collision_date) = 2012\n",
    "'''"
   ]
  },
  {
   "cell_type": "code",
   "execution_count": 48,
   "id": "3c60018c",
   "metadata": {},
   "outputs": [
    {
     "name": "stdout",
     "output_type": "stream",
     "text": [
      "CPU times: user 544 ms, sys: 90.7 ms, total: 635 ms\n",
      "Wall time: 8.65 s\n"
     ]
    }
   ],
   "source": [
    "%%time\n",
    "df = pd.DataFrame(engine.connect().execute(text(query)))"
   ]
  },
  {
   "cell_type": "code",
   "execution_count": 49,
   "id": "4b3cfa43",
   "metadata": {},
   "outputs": [
    {
     "data": {
      "text/plain": [
       "(56248, 14)"
      ]
     },
     "execution_count": 49,
     "metadata": {},
     "output_type": "execute_result"
    }
   ],
   "source": [
    "df.shape"
   ]
  },
  {
   "cell_type": "code",
   "execution_count": 50,
   "id": "63b3f9fd",
   "metadata": {
    "scrolled": true
   },
   "outputs": [
    {
     "name": "stdout",
     "output_type": "stream",
     "text": [
      "<class 'pandas.core.frame.DataFrame'>\n",
      "RangeIndex: 56248 entries, 0 to 56247\n",
      "Data columns (total 14 columns):\n",
      " #   Column                Non-Null Count  Dtype  \n",
      "---  ------                --------------  -----  \n",
      " 0   distance              56248 non-null  float64\n",
      " 1   intersection          56073 non-null  float64\n",
      " 2   weather_1             56080 non-null  object \n",
      " 3   location_type         25932 non-null  object \n",
      " 4   road_surface          55900 non-null  object \n",
      " 5   road_condition_1      55999 non-null  object \n",
      " 6   lighting              56094 non-null  object \n",
      " 7   at_fault              56248 non-null  int64  \n",
      " 8   party_sobriety        55376 non-null  object \n",
      " 9   party_drug_physical   2857 non-null   object \n",
      " 10  cellphone_in_use      51777 non-null  float64\n",
      " 11  vehicle_type          56248 non-null  object \n",
      " 12  vehicle_transmission  55389 non-null  object \n",
      " 13  vehicle_age           54554 non-null  float64\n",
      "dtypes: float64(4), int64(1), object(9)\n",
      "memory usage: 6.0+ MB\n"
     ]
    }
   ],
   "source": [
    "df.info()"
   ]
  },
  {
   "cell_type": "markdown",
   "id": "e57a2c60",
   "metadata": {},
   "source": [
    "Отберём необходимые признаки, которые могут влиять на ДТП:"
   ]
  },
  {
   "cell_type": "code",
   "execution_count": 51,
   "id": "b7f055e7",
   "metadata": {},
   "outputs": [],
   "source": [
    "columns =[  'distance',     # Расстояние до главной дороги может влиять. Таблица collisions\n",
    "            'intersection', # Наличие перекрёстков на пути может влиять на вероятность аварии. Таблица collisions\n",
    "            'weather_1', # Погодные условия могут влиять на вероятность на дтп. Таблица collisions\n",
    "            'location_type', # Тип дороги может влиять на вероятность на дтп. Таблица collisions\n",
    "            'road_surface', # Погодное поверхности дороги могут влиять на дтп. Таблица collisions\n",
    "            'road_condition_1', # Ремонтное состояние поверхности дороги могут влиять на дтп. Таблица collisions\n",
    "            'lighting', # Освещённость дороги может влиять на дтп. Таблица collisions\n",
    "            'at_fault', # Целевой признак\n",
    "            'party_sobriety', # Алкогольное опьянение влияет. Таблица parties\n",
    "            'party_drug_physical', #Состояние от приёма лекарств влияет. Таблица parties\n",
    "            'cellphone_in_use', #Наличие возможности говорить по телефону может влиять\n",
    "            'vehicle_type', #Тип авто может влиять -- на грузовиках трудно ехать\n",
    "            'vehicle_transmission', #На механике ехать сложнее, чем на автомате\n",
    "            'vehicle_age' #Возраст может влиять\n",
    "         ] "
   ]
  },
  {
   "cell_type": "code",
   "execution_count": 52,
   "id": "83aee09f",
   "metadata": {},
   "outputs": [
    {
     "name": "stdout",
     "output_type": "stream",
     "text": [
      "<class 'pandas.core.frame.DataFrame'>\n",
      "RangeIndex: 56248 entries, 0 to 56247\n",
      "Data columns (total 14 columns):\n",
      " #   Column                Non-Null Count  Dtype  \n",
      "---  ------                --------------  -----  \n",
      " 0   distance              56248 non-null  float64\n",
      " 1   intersection          56073 non-null  float64\n",
      " 2   weather_1             56080 non-null  object \n",
      " 3   location_type         25932 non-null  object \n",
      " 4   road_surface          55900 non-null  object \n",
      " 5   road_condition_1      55999 non-null  object \n",
      " 6   lighting              56094 non-null  object \n",
      " 7   at_fault              56248 non-null  int64  \n",
      " 8   party_sobriety        55376 non-null  object \n",
      " 9   party_drug_physical   2857 non-null   object \n",
      " 10  cellphone_in_use      51777 non-null  float64\n",
      " 11  vehicle_type          56248 non-null  object \n",
      " 12  vehicle_transmission  55389 non-null  object \n",
      " 13  vehicle_age           54554 non-null  float64\n",
      "dtypes: float64(4), int64(1), object(9)\n",
      "memory usage: 6.0+ MB\n"
     ]
    }
   ],
   "source": [
    "df = df[columns]\n",
    "df.info()"
   ]
  },
  {
   "cell_type": "markdown",
   "id": "497cff39",
   "metadata": {},
   "source": [
    "В графе `location_type` и `party_drug_physical` очень много пропусков. Восстановить их разумных образом нет возможности. Исключим эти столбцы из рассмотрения:"
   ]
  },
  {
   "cell_type": "code",
   "execution_count": 53,
   "id": "9a66ac33",
   "metadata": {},
   "outputs": [],
   "source": [
    "df.drop(['location_type', 'party_drug_physical'], axis=1, inplace=True)"
   ]
  },
  {
   "cell_type": "code",
   "execution_count": 54,
   "id": "7efcfc3d",
   "metadata": {},
   "outputs": [
    {
     "name": "stdout",
     "output_type": "stream",
     "text": [
      "<class 'pandas.core.frame.DataFrame'>\n",
      "RangeIndex: 56248 entries, 0 to 56247\n",
      "Data columns (total 12 columns):\n",
      " #   Column                Non-Null Count  Dtype  \n",
      "---  ------                --------------  -----  \n",
      " 0   distance              56248 non-null  float64\n",
      " 1   intersection          56073 non-null  float64\n",
      " 2   weather_1             56080 non-null  object \n",
      " 3   road_surface          55900 non-null  object \n",
      " 4   road_condition_1      55999 non-null  object \n",
      " 5   lighting              56094 non-null  object \n",
      " 6   at_fault              56248 non-null  int64  \n",
      " 7   party_sobriety        55376 non-null  object \n",
      " 8   cellphone_in_use      51777 non-null  float64\n",
      " 9   vehicle_type          56248 non-null  object \n",
      " 10  vehicle_transmission  55389 non-null  object \n",
      " 11  vehicle_age           54554 non-null  float64\n",
      "dtypes: float64(4), int64(1), object(7)\n",
      "memory usage: 5.1+ MB\n"
     ]
    }
   ],
   "source": [
    "df.info()"
   ]
  },
  {
   "cell_type": "markdown",
   "id": "844d5315",
   "metadata": {},
   "source": [
    "Посмотрим на процент пропусков в столбце `cellphone_in_use`: "
   ]
  },
  {
   "cell_type": "code",
   "execution_count": 55,
   "id": "dc5814bb",
   "metadata": {},
   "outputs": [
    {
     "name": "stdout",
     "output_type": "stream",
     "text": [
      "8.6 %\n"
     ]
    }
   ],
   "source": [
    "print(round(df['cellphone_in_use'].isna().sum()/ df['cellphone_in_use'].count() * 100, 1), '%')"
   ]
  },
  {
   "cell_type": "markdown",
   "id": "3bf583f7",
   "metadata": {},
   "source": [
    "Слишком велик процент по сравнению с общим объёмом. Исключим этот столбец, чтобы избежать ошибок во время обучения:"
   ]
  },
  {
   "cell_type": "code",
   "execution_count": 56,
   "id": "4018e656",
   "metadata": {},
   "outputs": [],
   "source": [
    "df.drop(['cellphone_in_use'], axis=1, inplace=True)"
   ]
  },
  {
   "cell_type": "code",
   "execution_count": 57,
   "id": "688818cc",
   "metadata": {
    "scrolled": true
   },
   "outputs": [
    {
     "name": "stdout",
     "output_type": "stream",
     "text": [
      "<class 'pandas.core.frame.DataFrame'>\n",
      "RangeIndex: 56248 entries, 0 to 56247\n",
      "Data columns (total 11 columns):\n",
      " #   Column                Non-Null Count  Dtype  \n",
      "---  ------                --------------  -----  \n",
      " 0   distance              56248 non-null  float64\n",
      " 1   intersection          56073 non-null  float64\n",
      " 2   weather_1             56080 non-null  object \n",
      " 3   road_surface          55900 non-null  object \n",
      " 4   road_condition_1      55999 non-null  object \n",
      " 5   lighting              56094 non-null  object \n",
      " 6   at_fault              56248 non-null  int64  \n",
      " 7   party_sobriety        55376 non-null  object \n",
      " 8   vehicle_type          56248 non-null  object \n",
      " 9   vehicle_transmission  55389 non-null  object \n",
      " 10  vehicle_age           54554 non-null  float64\n",
      "dtypes: float64(3), int64(1), object(7)\n",
      "memory usage: 4.7+ MB\n"
     ]
    }
   ],
   "source": [
    "df.info()"
   ]
  },
  {
   "cell_type": "markdown",
   "id": "6737f6a8",
   "metadata": {},
   "source": [
    "В остальных столбцах пропусков мало. Просто исключим соответствующие строки:"
   ]
  },
  {
   "cell_type": "code",
   "execution_count": 58,
   "id": "a67fd823",
   "metadata": {},
   "outputs": [
    {
     "name": "stdout",
     "output_type": "stream",
     "text": [
      "<class 'pandas.core.frame.DataFrame'>\n",
      "Int64Index: 52337 entries, 1 to 56247\n",
      "Data columns (total 11 columns):\n",
      " #   Column                Non-Null Count  Dtype  \n",
      "---  ------                --------------  -----  \n",
      " 0   distance              52337 non-null  float64\n",
      " 1   intersection          52337 non-null  float64\n",
      " 2   weather_1             52337 non-null  object \n",
      " 3   road_surface          52337 non-null  object \n",
      " 4   road_condition_1      52337 non-null  object \n",
      " 5   lighting              52337 non-null  object \n",
      " 6   at_fault              52337 non-null  int64  \n",
      " 7   party_sobriety        52337 non-null  object \n",
      " 8   vehicle_type          52337 non-null  object \n",
      " 9   vehicle_transmission  52337 non-null  object \n",
      " 10  vehicle_age           52337 non-null  float64\n",
      "dtypes: float64(3), int64(1), object(7)\n",
      "memory usage: 4.8+ MB\n"
     ]
    }
   ],
   "source": [
    "df = df[~df.isnull().any(axis=1)]\n",
    "df.info()"
   ]
  },
  {
   "cell_type": "markdown",
   "id": "bed60e3a",
   "metadata": {},
   "source": [
    "### Проверим столбцы на наличие аномалий:"
   ]
  },
  {
   "cell_type": "markdown",
   "id": "f4c282b5",
   "metadata": {},
   "source": [
    "#### Столбец `distance`:"
   ]
  },
  {
   "cell_type": "code",
   "execution_count": 59,
   "id": "51d8a66e",
   "metadata": {},
   "outputs": [
    {
     "data": {
      "text/plain": [
       "count    5.233700e+04\n",
       "mean     8.824403e+02\n",
       "std      7.478005e+03\n",
       "min      0.000000e+00\n",
       "25%      1.000000e+01\n",
       "50%      1.500000e+02\n",
       "75%      6.000000e+02\n",
       "max      1.584000e+06\n",
       "Name: distance, dtype: float64"
      ]
     },
     "execution_count": 59,
     "metadata": {},
     "output_type": "execute_result"
    }
   ],
   "source": [
    "df.distance.describe()"
   ]
  },
  {
   "cell_type": "markdown",
   "id": "f78cd551",
   "metadata": {},
   "source": [
    "Для более подробного изучения построим диаграмму размаха:"
   ]
  },
  {
   "cell_type": "code",
   "execution_count": 60,
   "id": "3bb7888e",
   "metadata": {},
   "outputs": [
    {
     "data": {
      "image/png": "[encoded data removed]",
      "text/plain": [
       "<Figure size 1000x600 with 1 Axes>"
      ]
     },
     "metadata": {},
     "output_type": "display_data"
    }
   ],
   "source": [
    "plt.ylim(0, 1e4)\n",
    "plt.xlim(0, 2) \n",
    "df.boxplot(column='distance');"
   ]
  },
  {
   "cell_type": "markdown",
   "id": "6c66bd1a",
   "metadata": {},
   "source": [
    "Выше верхнего уса лежит большое количество выбросов. Посмотрим на значения, которые лежат выше верхнего уса:"
   ]
  },
  {
   "cell_type": "code",
   "execution_count": 61,
   "id": "5f248b41",
   "metadata": {
    "scrolled": true
   },
   "outputs": [
    {
     "data": {
      "text/html": [
       "<div>\n",
       "<style scoped>\n",
       "    .dataframe tbody tr th:only-of-type {\n",
       "        vertical-align: middle;\n",
       "    }\n",
       "\n",
       "    .dataframe tbody tr th {\n",
       "        vertical-align: top;\n",
       "    }\n",
       "\n",
       "    .dataframe thead th {\n",
       "        text-align: right;\n",
       "    }\n",
       "</style>\n",
       "<table border=\"1\" class=\"dataframe\">\n",
       "  <thead>\n",
       "    <tr style=\"text-align: right;\">\n",
       "      <th></th>\n",
       "      <th>distance</th>\n",
       "    </tr>\n",
       "  </thead>\n",
       "  <tbody>\n",
       "    <tr>\n",
       "      <th>14968</th>\n",
       "      <td>1489.0</td>\n",
       "    </tr>\n",
       "    <tr>\n",
       "      <th>44142</th>\n",
       "      <td>1492.0</td>\n",
       "    </tr>\n",
       "    <tr>\n",
       "      <th>52697</th>\n",
       "      <td>1492.0</td>\n",
       "    </tr>\n",
       "    <tr>\n",
       "      <th>54310</th>\n",
       "      <td>1493.0</td>\n",
       "    </tr>\n",
       "    <tr>\n",
       "      <th>30783</th>\n",
       "      <td>1500.0</td>\n",
       "    </tr>\n",
       "    <tr>\n",
       "      <th>...</th>\n",
       "      <td>...</td>\n",
       "    </tr>\n",
       "    <tr>\n",
       "      <th>52774</th>\n",
       "      <td>79200.0</td>\n",
       "    </tr>\n",
       "    <tr>\n",
       "      <th>44219</th>\n",
       "      <td>79200.0</td>\n",
       "    </tr>\n",
       "    <tr>\n",
       "      <th>29518</th>\n",
       "      <td>124080.0</td>\n",
       "    </tr>\n",
       "    <tr>\n",
       "      <th>25520</th>\n",
       "      <td>171600.0</td>\n",
       "    </tr>\n",
       "    <tr>\n",
       "      <th>28380</th>\n",
       "      <td>1584000.0</td>\n",
       "    </tr>\n",
       "  </tbody>\n",
       "</table>\n",
       "<p>7197 rows × 1 columns</p>\n",
       "</div>"
      ],
      "text/plain": [
       "        distance\n",
       "14968     1489.0\n",
       "44142     1492.0\n",
       "52697     1492.0\n",
       "54310     1493.0\n",
       "30783     1500.0\n",
       "...          ...\n",
       "52774    79200.0\n",
       "44219    79200.0\n",
       "29518   124080.0\n",
       "25520   171600.0\n",
       "28380  1584000.0\n",
       "\n",
       "[7197 rows x 1 columns]"
      ]
     },
     "execution_count": 61,
     "metadata": {},
     "output_type": "execute_result"
    }
   ],
   "source": [
    "Q1 = df['distance'].quantile(0.25)\n",
    "Q3 = df['distance'].quantile(0.75)\n",
    "IQR = Q3 - Q1\n",
    "df[df['distance'] > Q3 + 1.5*IQR]['distance'].sort_values().to_frame()"
   ]
  },
  {
   "cell_type": "markdown",
   "id": "79f8a946",
   "metadata": {},
   "source": [
    "Посмотрим на процент происшествий, случившихся на расстоянии более чем 10 км от главной дороги:"
   ]
  },
  {
   "cell_type": "code",
   "execution_count": 62,
   "id": "b5147afc",
   "metadata": {},
   "outputs": [
    {
     "name": "stdout",
     "output_type": "stream",
     "text": [
      "1.34 %\n"
     ]
    }
   ],
   "source": [
    "print(round(df[df['distance'] > 10000]['distance'].count()/ df['distance'].count() * 100, 2), '%')"
   ]
  },
  {
   "cell_type": "markdown",
   "id": "b5693e82",
   "metadata": {},
   "source": [
    "Их весьма мало. Исключим аномалии:"
   ]
  },
  {
   "cell_type": "code",
   "execution_count": 63,
   "id": "49e33549",
   "metadata": {},
   "outputs": [],
   "source": [
    "df = df[df['distance'] <= 10000]"
   ]
  },
  {
   "cell_type": "code",
   "execution_count": 64,
   "id": "beb376df",
   "metadata": {},
   "outputs": [
    {
     "name": "stdout",
     "output_type": "stream",
     "text": [
      "<class 'pandas.core.frame.DataFrame'>\n",
      "Int64Index: 51634 entries, 1 to 56247\n",
      "Data columns (total 11 columns):\n",
      " #   Column                Non-Null Count  Dtype  \n",
      "---  ------                --------------  -----  \n",
      " 0   distance              51634 non-null  float64\n",
      " 1   intersection          51634 non-null  float64\n",
      " 2   weather_1             51634 non-null  object \n",
      " 3   road_surface          51634 non-null  object \n",
      " 4   road_condition_1      51634 non-null  object \n",
      " 5   lighting              51634 non-null  object \n",
      " 6   at_fault              51634 non-null  int64  \n",
      " 7   party_sobriety        51634 non-null  object \n",
      " 8   vehicle_type          51634 non-null  object \n",
      " 9   vehicle_transmission  51634 non-null  object \n",
      " 10  vehicle_age           51634 non-null  float64\n",
      "dtypes: float64(3), int64(1), object(7)\n",
      "memory usage: 4.7+ MB\n"
     ]
    }
   ],
   "source": [
    "df.info()"
   ]
  },
  {
   "cell_type": "markdown",
   "id": "d5ae7db3",
   "metadata": {},
   "source": [
    "#### Столбец `intersection`:"
   ]
  },
  {
   "cell_type": "code",
   "execution_count": 65,
   "id": "e28a69c8",
   "metadata": {},
   "outputs": [
    {
     "data": {
      "text/plain": [
       "count    51634.000000\n",
       "mean         0.219545\n",
       "std          0.413943\n",
       "min          0.000000\n",
       "25%          0.000000\n",
       "50%          0.000000\n",
       "75%          0.000000\n",
       "max          1.000000\n",
       "Name: intersection, dtype: float64"
      ]
     },
     "execution_count": 65,
     "metadata": {},
     "output_type": "execute_result"
    }
   ],
   "source": [
    "df.intersection.describe()"
   ]
  },
  {
   "cell_type": "code",
   "execution_count": 66,
   "id": "5b1113fc",
   "metadata": {},
   "outputs": [
    {
     "data": {
      "text/plain": [
       "array([0., 1.])"
      ]
     },
     "execution_count": 66,
     "metadata": {},
     "output_type": "execute_result"
    }
   ],
   "source": [
    "df.intersection.unique()"
   ]
  },
  {
   "cell_type": "code",
   "execution_count": 67,
   "id": "5c1e5862",
   "metadata": {},
   "outputs": [],
   "source": [
    "df.intersection = df.intersection.astype('int64')"
   ]
  },
  {
   "cell_type": "markdown",
   "id": "eb9ef1dc",
   "metadata": {},
   "source": [
    "Аномалий не наблюдается."
   ]
  },
  {
   "cell_type": "markdown",
   "id": "0d677ac2",
   "metadata": {},
   "source": [
    "#### Столбец `weather_1`:"
   ]
  },
  {
   "cell_type": "code",
   "execution_count": 68,
   "id": "e3ba73b6",
   "metadata": {},
   "outputs": [
    {
     "data": {
      "text/plain": [
       "count     51634\n",
       "unique        7\n",
       "top       clear\n",
       "freq      41500\n",
       "Name: weather_1, dtype: object"
      ]
     },
     "execution_count": 68,
     "metadata": {},
     "output_type": "execute_result"
    }
   ],
   "source": [
    "df.weather_1.describe()"
   ]
  },
  {
   "cell_type": "code",
   "execution_count": 69,
   "id": "025731f3",
   "metadata": {
    "scrolled": false
   },
   "outputs": [
    {
     "data": {
      "text/plain": [
       "array(['cloudy', 'clear', 'raining', 'snowing', 'fog', 'wind', 'other'],\n",
       "      dtype=object)"
      ]
     },
     "execution_count": 69,
     "metadata": {},
     "output_type": "execute_result"
    }
   ],
   "source": [
    "df.weather_1.unique()"
   ]
  },
  {
   "cell_type": "markdown",
   "id": "7538a6b4",
   "metadata": {},
   "source": [
    "Аномалий не наблюдается."
   ]
  },
  {
   "cell_type": "markdown",
   "id": "17a3b11c",
   "metadata": {},
   "source": [
    "Категория `other` кажется исключающейся из списка. Проверим, каков процент записей с таким значением от общего числа: "
   ]
  },
  {
   "cell_type": "code",
   "execution_count": 70,
   "id": "e1f77ac0",
   "metadata": {
    "scrolled": true
   },
   "outputs": [
    {
     "name": "stdout",
     "output_type": "stream",
     "text": [
      "0.05 %\n"
     ]
    }
   ],
   "source": [
    "print(round(100 * df[df.weather_1 == 'other'].at_fault.count() / df.at_fault.count(), 2), '%')"
   ]
  },
  {
   "cell_type": "markdown",
   "id": "3c77fbf4",
   "metadata": {},
   "source": [
    "Очень мало, исключим шум:"
   ]
  },
  {
   "cell_type": "code",
   "execution_count": 71,
   "id": "e5f428b3",
   "metadata": {},
   "outputs": [],
   "source": [
    "df = df[df.weather_1 != 'other']"
   ]
  },
  {
   "cell_type": "code",
   "execution_count": 72,
   "id": "609d3819",
   "metadata": {},
   "outputs": [
    {
     "data": {
      "text/plain": [
       "array(['cloudy', 'clear', 'raining', 'snowing', 'fog', 'wind'],\n",
       "      dtype=object)"
      ]
     },
     "execution_count": 72,
     "metadata": {},
     "output_type": "execute_result"
    }
   ],
   "source": [
    "df.weather_1.unique()"
   ]
  },
  {
   "cell_type": "code",
   "execution_count": 73,
   "id": "7cc20af6",
   "metadata": {},
   "outputs": [
    {
     "name": "stdout",
     "output_type": "stream",
     "text": [
      "<class 'pandas.core.frame.DataFrame'>\n",
      "Int64Index: 51606 entries, 1 to 56247\n",
      "Data columns (total 11 columns):\n",
      " #   Column                Non-Null Count  Dtype  \n",
      "---  ------                --------------  -----  \n",
      " 0   distance              51606 non-null  float64\n",
      " 1   intersection          51606 non-null  int64  \n",
      " 2   weather_1             51606 non-null  object \n",
      " 3   road_surface          51606 non-null  object \n",
      " 4   road_condition_1      51606 non-null  object \n",
      " 5   lighting              51606 non-null  object \n",
      " 6   at_fault              51606 non-null  int64  \n",
      " 7   party_sobriety        51606 non-null  object \n",
      " 8   vehicle_type          51606 non-null  object \n",
      " 9   vehicle_transmission  51606 non-null  object \n",
      " 10  vehicle_age           51606 non-null  float64\n",
      "dtypes: float64(2), int64(2), object(7)\n",
      "memory usage: 4.7+ MB\n"
     ]
    }
   ],
   "source": [
    "df.info()"
   ]
  },
  {
   "cell_type": "markdown",
   "id": "36394f27",
   "metadata": {},
   "source": [
    "#### Столбец `road_surface`:"
   ]
  },
  {
   "cell_type": "code",
   "execution_count": 74,
   "id": "d072340d",
   "metadata": {},
   "outputs": [
    {
     "data": {
      "text/plain": [
       "count     51606\n",
       "unique        4\n",
       "top         dry\n",
       "freq      46397\n",
       "Name: road_surface, dtype: object"
      ]
     },
     "execution_count": 74,
     "metadata": {},
     "output_type": "execute_result"
    }
   ],
   "source": [
    "df.road_surface.describe()"
   ]
  },
  {
   "cell_type": "code",
   "execution_count": 75,
   "id": "79e96979",
   "metadata": {},
   "outputs": [
    {
     "data": {
      "text/plain": [
       "array(['dry', 'wet', 'slippery', 'snowy'], dtype=object)"
      ]
     },
     "execution_count": 75,
     "metadata": {},
     "output_type": "execute_result"
    }
   ],
   "source": [
    "df.road_surface.unique()"
   ]
  },
  {
   "cell_type": "markdown",
   "id": "ebba4047",
   "metadata": {},
   "source": [
    "Аномалий не наблюдается."
   ]
  },
  {
   "cell_type": "markdown",
   "id": "e3daef6f",
   "metadata": {},
   "source": [
    "#### Столбец `road_condition_1`:"
   ]
  },
  {
   "cell_type": "code",
   "execution_count": 76,
   "id": "71022dad",
   "metadata": {},
   "outputs": [
    {
     "data": {
      "text/plain": [
       "count      51606\n",
       "unique         8\n",
       "top       normal\n",
       "freq       49935\n",
       "Name: road_condition_1, dtype: object"
      ]
     },
     "execution_count": 76,
     "metadata": {},
     "output_type": "execute_result"
    }
   ],
   "source": [
    "df.road_condition_1.describe()"
   ]
  },
  {
   "cell_type": "code",
   "execution_count": 77,
   "id": "3fcfe718",
   "metadata": {},
   "outputs": [
    {
     "data": {
      "text/plain": [
       "array(['normal', 'construction', 'other', 'loose material', 'holes',\n",
       "       'obstruction', 'reduced width', 'flooded'], dtype=object)"
      ]
     },
     "execution_count": 77,
     "metadata": {},
     "output_type": "execute_result"
    }
   ],
   "source": [
    "df.road_condition_1.unique()"
   ]
  },
  {
   "cell_type": "markdown",
   "id": "8bf10083",
   "metadata": {},
   "source": [
    "Аномалий не наблюдается."
   ]
  },
  {
   "cell_type": "code",
   "execution_count": 78,
   "id": "d5367917",
   "metadata": {},
   "outputs": [
    {
     "name": "stdout",
     "output_type": "stream",
     "text": [
      "<class 'pandas.core.frame.DataFrame'>\n",
      "Int64Index: 51606 entries, 1 to 56247\n",
      "Data columns (total 11 columns):\n",
      " #   Column                Non-Null Count  Dtype  \n",
      "---  ------                --------------  -----  \n",
      " 0   distance              51606 non-null  float64\n",
      " 1   intersection          51606 non-null  int64  \n",
      " 2   weather_1             51606 non-null  object \n",
      " 3   road_surface          51606 non-null  object \n",
      " 4   road_condition_1      51606 non-null  object \n",
      " 5   lighting              51606 non-null  object \n",
      " 6   at_fault              51606 non-null  int64  \n",
      " 7   party_sobriety        51606 non-null  object \n",
      " 8   vehicle_type          51606 non-null  object \n",
      " 9   vehicle_transmission  51606 non-null  object \n",
      " 10  vehicle_age           51606 non-null  float64\n",
      "dtypes: float64(2), int64(2), object(7)\n",
      "memory usage: 4.7+ MB\n"
     ]
    }
   ],
   "source": [
    "df.info()"
   ]
  },
  {
   "cell_type": "markdown",
   "id": "16707583",
   "metadata": {},
   "source": [
    "#### Столбец `lighting`:"
   ]
  },
  {
   "cell_type": "code",
   "execution_count": 79,
   "id": "9418bed5",
   "metadata": {},
   "outputs": [
    {
     "data": {
      "text/plain": [
       "count        51606\n",
       "unique           5\n",
       "top       daylight\n",
       "freq         35074\n",
       "Name: lighting, dtype: object"
      ]
     },
     "execution_count": 79,
     "metadata": {},
     "output_type": "execute_result"
    }
   ],
   "source": [
    "df.lighting.describe()"
   ]
  },
  {
   "cell_type": "code",
   "execution_count": 80,
   "id": "0d272b1f",
   "metadata": {
    "scrolled": true
   },
   "outputs": [
    {
     "data": {
      "text/plain": [
       "array(['dusk or dawn', 'daylight', 'dark with street lights',\n",
       "       'dark with no street lights',\n",
       "       'dark with street lights not functioning'], dtype=object)"
      ]
     },
     "execution_count": 80,
     "metadata": {},
     "output_type": "execute_result"
    }
   ],
   "source": [
    "df.lighting.unique()"
   ]
  },
  {
   "cell_type": "markdown",
   "id": "a7fd62bd",
   "metadata": {},
   "source": [
    "Категории `dark with no street lights` и `dark with street lights not functioning` можно объединить в одну:"
   ]
  },
  {
   "cell_type": "code",
   "execution_count": 81,
   "id": "c1d53ded",
   "metadata": {},
   "outputs": [],
   "source": [
    "df.lighting.replace({'dark with street lights not functioning':\\\n",
    "                           'dark with no street lights'}, inplace = True)"
   ]
  },
  {
   "cell_type": "code",
   "execution_count": 82,
   "id": "6473ad8c",
   "metadata": {},
   "outputs": [
    {
     "data": {
      "text/plain": [
       "array(['dusk or dawn', 'daylight', 'dark with street lights',\n",
       "       'dark with no street lights'], dtype=object)"
      ]
     },
     "execution_count": 82,
     "metadata": {},
     "output_type": "execute_result"
    }
   ],
   "source": [
    "df.lighting.unique()"
   ]
  },
  {
   "cell_type": "markdown",
   "id": "54484089",
   "metadata": {},
   "source": [
    "Аномалий не наблюдается."
   ]
  },
  {
   "cell_type": "code",
   "execution_count": 83,
   "id": "98ab52a7",
   "metadata": {
    "scrolled": false
   },
   "outputs": [
    {
     "name": "stdout",
     "output_type": "stream",
     "text": [
      "<class 'pandas.core.frame.DataFrame'>\n",
      "Int64Index: 51606 entries, 1 to 56247\n",
      "Data columns (total 11 columns):\n",
      " #   Column                Non-Null Count  Dtype  \n",
      "---  ------                --------------  -----  \n",
      " 0   distance              51606 non-null  float64\n",
      " 1   intersection          51606 non-null  int64  \n",
      " 2   weather_1             51606 non-null  object \n",
      " 3   road_surface          51606 non-null  object \n",
      " 4   road_condition_1      51606 non-null  object \n",
      " 5   lighting              51606 non-null  object \n",
      " 6   at_fault              51606 non-null  int64  \n",
      " 7   party_sobriety        51606 non-null  object \n",
      " 8   vehicle_type          51606 non-null  object \n",
      " 9   vehicle_transmission  51606 non-null  object \n",
      " 10  vehicle_age           51606 non-null  float64\n",
      "dtypes: float64(2), int64(2), object(7)\n",
      "memory usage: 4.7+ MB\n"
     ]
    }
   ],
   "source": [
    "df.info()"
   ]
  },
  {
   "cell_type": "markdown",
   "id": "89dddbb5",
   "metadata": {},
   "source": [
    "#### Столбец `party_sobriety`:"
   ]
  },
  {
   "cell_type": "code",
   "execution_count": 84,
   "id": "83b5bf84",
   "metadata": {},
   "outputs": [
    {
     "data": {
      "text/plain": [
       "count                     51606\n",
       "unique                        6\n",
       "top       had not been drinking\n",
       "freq                      45385\n",
       "Name: party_sobriety, dtype: object"
      ]
     },
     "execution_count": 84,
     "metadata": {},
     "output_type": "execute_result"
    }
   ],
   "source": [
    "df.party_sobriety.describe()"
   ]
  },
  {
   "cell_type": "code",
   "execution_count": 85,
   "id": "deb8c64b",
   "metadata": {},
   "outputs": [
    {
     "data": {
      "text/plain": [
       "array(['had not been drinking', 'had been drinking, under influence',\n",
       "       'impairment unknown', 'not applicable',\n",
       "       'had been drinking, not under influence',\n",
       "       'had been drinking, impairment unknown'], dtype=object)"
      ]
     },
     "execution_count": 85,
     "metadata": {},
     "output_type": "execute_result"
    }
   ],
   "source": [
    "df.party_sobriety.unique()"
   ]
  },
  {
   "cell_type": "markdown",
   "id": "bfe9e102",
   "metadata": {},
   "source": [
    "Признаков с подтверждённым фактом опьянения достаточно много. Хотелось бы их объединить в один. Но для этого сначала проверим, в скольких процентах случаев пьяный водитель был виновником аварии:"
   ]
  },
  {
   "cell_type": "markdown",
   "id": "0d657d0e",
   "metadata": {},
   "source": [
    "Опьянённых виновников:"
   ]
  },
  {
   "cell_type": "code",
   "execution_count": 86,
   "id": "87c92e52",
   "metadata": {},
   "outputs": [
    {
     "data": {
      "text/plain": [
       "4611"
      ]
     },
     "execution_count": 86,
     "metadata": {},
     "output_type": "execute_result"
    }
   ],
   "source": [
    "drunken_bastards = ((df.party_sobriety != 'impairment unknown') & (df.party_sobriety != 'not applicable')\\\n",
    "   & (df.party_sobriety != 'had not been drinking') & (df.at_fault == 1)).sum()\n",
    "drunken_bastards"
   ]
  },
  {
   "cell_type": "markdown",
   "id": "e3cebb70",
   "metadata": {},
   "source": [
    "Опьянённых невиновников:"
   ]
  },
  {
   "cell_type": "code",
   "execution_count": 87,
   "id": "c41d28a0",
   "metadata": {},
   "outputs": [
    {
     "data": {
      "text/plain": [
       "357"
      ]
     },
     "execution_count": 87,
     "metadata": {},
     "output_type": "execute_result"
    }
   ],
   "source": [
    "drunken_pre_bastards = ((df.party_sobriety != 'impairment unknown') & (df.party_sobriety != 'not applicable')\\\n",
    "   & (df.party_sobriety != 'had not been drinking') & (df.at_fault == 0)).sum()\n",
    "drunken_pre_bastards"
   ]
  },
  {
   "cell_type": "markdown",
   "id": "d38206a2",
   "metadata": {},
   "source": [
    "Процент виновников среди всех опьянённых:"
   ]
  },
  {
   "cell_type": "code",
   "execution_count": 88,
   "id": "8dc864f2",
   "metadata": {},
   "outputs": [
    {
     "name": "stdout",
     "output_type": "stream",
     "text": [
      "92.81 %\n"
     ]
    }
   ],
   "source": [
    "print(round(100 * drunken_bastards / (drunken_bastards + drunken_pre_bastards), 2), '%')"
   ]
  },
  {
   "cell_type": "markdown",
   "id": "d0db98fb",
   "metadata": {},
   "source": [
    "Процент опьянённых невиновников к числу во всём датасете:"
   ]
  },
  {
   "cell_type": "code",
   "execution_count": 89,
   "id": "4c7382a2",
   "metadata": {},
   "outputs": [
    {
     "name": "stdout",
     "output_type": "stream",
     "text": [
      "0.69 %\n"
     ]
    }
   ],
   "source": [
    "print(round(100 * drunken_pre_bastards / len(df.at_fault), 2), '%')"
   ]
  },
  {
   "cell_type": "markdown",
   "id": "455f6fe3",
   "metadata": {},
   "source": [
    "Теперь без зазрения совести выкинем всех пьяных невиновников из датасета, после чего всех опьянённых объединим в одну категорию: так нейросети будет проще обучаться:"
   ]
  },
  {
   "cell_type": "code",
   "execution_count": 90,
   "id": "8a3229bd",
   "metadata": {},
   "outputs": [],
   "source": [
    "df = df[~((df.party_sobriety != 'impairment unknown') & (df.party_sobriety != 'not applicable')\\\n",
    "   & (df.party_sobriety != 'had not been drinking') & (df.at_fault == 0))]"
   ]
  },
  {
   "cell_type": "code",
   "execution_count": 91,
   "id": "9db49ec3",
   "metadata": {},
   "outputs": [
    {
     "data": {
      "text/plain": [
       "array(['had not been drinking', 'had been drinking, under influence',\n",
       "       'impairment unknown', 'not applicable',\n",
       "       'had been drinking, not under influence',\n",
       "       'had been drinking, impairment unknown'], dtype=object)"
      ]
     },
     "execution_count": 91,
     "metadata": {},
     "output_type": "execute_result"
    }
   ],
   "source": [
    "df.party_sobriety.unique()"
   ]
  },
  {
   "cell_type": "markdown",
   "id": "880a158b",
   "metadata": {},
   "source": [
    "Теперь заменим названия:"
   ]
  },
  {
   "cell_type": "code",
   "execution_count": 92,
   "id": "4a305b5e",
   "metadata": {},
   "outputs": [],
   "source": [
    "df.party_sobriety.replace({'had been drinking, under influence': 'had been drinking',\\\n",
    "                       'had been drinking, impairment unknown': 'had been drinking',\\\n",
    "                       'had been drinking, not under influence': 'had been drinking'}, inplace = True)"
   ]
  },
  {
   "cell_type": "code",
   "execution_count": 93,
   "id": "3691efef",
   "metadata": {},
   "outputs": [
    {
     "data": {
      "text/plain": [
       "array(['had not been drinking', 'had been drinking', 'impairment unknown',\n",
       "       'not applicable'], dtype=object)"
      ]
     },
     "execution_count": 93,
     "metadata": {},
     "output_type": "execute_result"
    }
   ],
   "source": [
    "df.party_sobriety.unique()"
   ]
  },
  {
   "cell_type": "markdown",
   "id": "1941d5e1",
   "metadata": {},
   "source": [
    "Проверим, каков процент участников от общего числа имеют статус `impairment unknown` или `not applicable`:"
   ]
  },
  {
   "cell_type": "code",
   "execution_count": 94,
   "id": "f76741ad",
   "metadata": {},
   "outputs": [
    {
     "name": "stdout",
     "output_type": "stream",
     "text": [
      "2.44 %\n"
     ]
    }
   ],
   "source": [
    "print(round(100 * df[(df.party_sobriety == 'impairment unknown') | (df.party_sobriety == 'not applicable')]\\\n",
    "            .at_fault.count() / df.at_fault.count(), 2), '%')"
   ]
  },
  {
   "cell_type": "markdown",
   "id": "55eaf0f8",
   "metadata": {},
   "source": [
    "Весьма много. Проверим, сколько процентов каждого вида:"
   ]
  },
  {
   "cell_type": "markdown",
   "id": "9f1cbba6",
   "metadata": {},
   "source": [
    "`impairment unknown`:"
   ]
  },
  {
   "cell_type": "code",
   "execution_count": 95,
   "id": "68ada3b9",
   "metadata": {},
   "outputs": [
    {
     "name": "stdout",
     "output_type": "stream",
     "text": [
      "2.01 %\n"
     ]
    }
   ],
   "source": [
    "print(round(100 * df[(df.party_sobriety == 'impairment unknown')]\\\n",
    "            .at_fault.count() / df.at_fault.count(), 2), '%')"
   ]
  },
  {
   "cell_type": "markdown",
   "id": "4b1c45db",
   "metadata": {},
   "source": [
    "Таких много, не тронем эту категорию."
   ]
  },
  {
   "cell_type": "markdown",
   "id": "da5bf4b8",
   "metadata": {},
   "source": [
    "`not applicable`:"
   ]
  },
  {
   "cell_type": "code",
   "execution_count": 96,
   "id": "fff65343",
   "metadata": {},
   "outputs": [
    {
     "name": "stdout",
     "output_type": "stream",
     "text": [
      "0.43 %\n"
     ]
    }
   ],
   "source": [
    "print(round(100 * df[(df.party_sobriety == 'not applicable')]\\\n",
    "            .at_fault.count() / df.at_fault.count(), 2), '%')"
   ]
  },
  {
   "cell_type": "markdown",
   "id": "bc9d74e6",
   "metadata": {},
   "source": [
    "Таких мало, исключим шум:"
   ]
  },
  {
   "cell_type": "code",
   "execution_count": 97,
   "id": "b9eec779",
   "metadata": {},
   "outputs": [
    {
     "data": {
      "text/plain": [
       "array(['had not been drinking', 'had been drinking', 'impairment unknown'],\n",
       "      dtype=object)"
      ]
     },
     "execution_count": 97,
     "metadata": {},
     "output_type": "execute_result"
    }
   ],
   "source": [
    "df = df[df.party_sobriety != 'not applicable']\n",
    "df.party_sobriety.unique()"
   ]
  },
  {
   "cell_type": "code",
   "execution_count": 98,
   "id": "f70145a8",
   "metadata": {
    "scrolled": true
   },
   "outputs": [
    {
     "name": "stdout",
     "output_type": "stream",
     "text": [
      "<class 'pandas.core.frame.DataFrame'>\n",
      "Int64Index: 51028 entries, 1 to 56247\n",
      "Data columns (total 11 columns):\n",
      " #   Column                Non-Null Count  Dtype  \n",
      "---  ------                --------------  -----  \n",
      " 0   distance              51028 non-null  float64\n",
      " 1   intersection          51028 non-null  int64  \n",
      " 2   weather_1             51028 non-null  object \n",
      " 3   road_surface          51028 non-null  object \n",
      " 4   road_condition_1      51028 non-null  object \n",
      " 5   lighting              51028 non-null  object \n",
      " 6   at_fault              51028 non-null  int64  \n",
      " 7   party_sobriety        51028 non-null  object \n",
      " 8   vehicle_type          51028 non-null  object \n",
      " 9   vehicle_transmission  51028 non-null  object \n",
      " 10  vehicle_age           51028 non-null  float64\n",
      "dtypes: float64(2), int64(2), object(7)\n",
      "memory usage: 4.7+ MB\n"
     ]
    }
   ],
   "source": [
    "df.info()"
   ]
  },
  {
   "cell_type": "code",
   "execution_count": 99,
   "id": "7bf4b2cd",
   "metadata": {},
   "outputs": [],
   "source": [
    "df.reset_index(drop=True, inplace=True)"
   ]
  },
  {
   "cell_type": "code",
   "execution_count": 100,
   "id": "9bbc7739",
   "metadata": {
    "scrolled": true
   },
   "outputs": [
    {
     "name": "stdout",
     "output_type": "stream",
     "text": [
      "<class 'pandas.core.frame.DataFrame'>\n",
      "RangeIndex: 51028 entries, 0 to 51027\n",
      "Data columns (total 11 columns):\n",
      " #   Column                Non-Null Count  Dtype  \n",
      "---  ------                --------------  -----  \n",
      " 0   distance              51028 non-null  float64\n",
      " 1   intersection          51028 non-null  int64  \n",
      " 2   weather_1             51028 non-null  object \n",
      " 3   road_surface          51028 non-null  object \n",
      " 4   road_condition_1      51028 non-null  object \n",
      " 5   lighting              51028 non-null  object \n",
      " 6   at_fault              51028 non-null  int64  \n",
      " 7   party_sobriety        51028 non-null  object \n",
      " 8   vehicle_type          51028 non-null  object \n",
      " 9   vehicle_transmission  51028 non-null  object \n",
      " 10  vehicle_age           51028 non-null  float64\n",
      "dtypes: float64(2), int64(2), object(7)\n",
      "memory usage: 4.3+ MB\n"
     ]
    }
   ],
   "source": [
    "df.info()"
   ]
  },
  {
   "cell_type": "markdown",
   "id": "fc6d8b0d",
   "metadata": {},
   "source": [
    "#### Столбец `vehicle_age`:"
   ]
  },
  {
   "cell_type": "code",
   "execution_count": 101,
   "id": "0f3ea309",
   "metadata": {
    "scrolled": true
   },
   "outputs": [
    {
     "data": {
      "text/plain": [
       "count    51028.000000\n",
       "mean         4.840793\n",
       "std          3.247647\n",
       "min          0.000000\n",
       "25%          3.000000\n",
       "50%          4.000000\n",
       "75%          7.000000\n",
       "max        161.000000\n",
       "Name: vehicle_age, dtype: float64"
      ]
     },
     "execution_count": 101,
     "metadata": {},
     "output_type": "execute_result"
    }
   ],
   "source": [
    "df.vehicle_age.describe()"
   ]
  },
  {
   "cell_type": "markdown",
   "id": "3297e701",
   "metadata": {},
   "source": [
    "Для более подробного изучения построим диаграмму размаха:"
   ]
  },
  {
   "cell_type": "code",
   "execution_count": 102,
   "id": "e968ae88",
   "metadata": {},
   "outputs": [
    {
     "data": {
      "image/png": "[encoded data removed]",
      "text/plain": [
       "<Figure size 1000x600 with 1 Axes>"
      ]
     },
     "metadata": {},
     "output_type": "display_data"
    }
   ],
   "source": [
    "plt.ylim(0, 25)\n",
    "plt.xlim(0, 2) \n",
    "df.boxplot(column='vehicle_age');"
   ]
  },
  {
   "cell_type": "markdown",
   "id": "59c9acf0",
   "metadata": {},
   "source": [
    "Выше верхнего уса лежит небольшое число данных. Посмотрим на них"
   ]
  },
  {
   "cell_type": "code",
   "execution_count": 103,
   "id": "1305090d",
   "metadata": {},
   "outputs": [
    {
     "data": {
      "text/html": [
       "<div>\n",
       "<style scoped>\n",
       "    .dataframe tbody tr th:only-of-type {\n",
       "        vertical-align: middle;\n",
       "    }\n",
       "\n",
       "    .dataframe tbody tr th {\n",
       "        vertical-align: top;\n",
       "    }\n",
       "\n",
       "    .dataframe thead th {\n",
       "        text-align: right;\n",
       "    }\n",
       "</style>\n",
       "<table border=\"1\" class=\"dataframe\">\n",
       "  <thead>\n",
       "    <tr style=\"text-align: right;\">\n",
       "      <th></th>\n",
       "      <th>vehicle_age</th>\n",
       "    </tr>\n",
       "  </thead>\n",
       "  <tbody>\n",
       "    <tr>\n",
       "      <th>176</th>\n",
       "      <td>14.0</td>\n",
       "    </tr>\n",
       "    <tr>\n",
       "      <th>32688</th>\n",
       "      <td>14.0</td>\n",
       "    </tr>\n",
       "    <tr>\n",
       "      <th>32628</th>\n",
       "      <td>14.0</td>\n",
       "    </tr>\n",
       "    <tr>\n",
       "      <th>32575</th>\n",
       "      <td>14.0</td>\n",
       "    </tr>\n",
       "    <tr>\n",
       "      <th>32441</th>\n",
       "      <td>14.0</td>\n",
       "    </tr>\n",
       "    <tr>\n",
       "      <th>...</th>\n",
       "      <td>...</td>\n",
       "    </tr>\n",
       "    <tr>\n",
       "      <th>30494</th>\n",
       "      <td>16.0</td>\n",
       "    </tr>\n",
       "    <tr>\n",
       "      <th>14107</th>\n",
       "      <td>17.0</td>\n",
       "    </tr>\n",
       "    <tr>\n",
       "      <th>44921</th>\n",
       "      <td>19.0</td>\n",
       "    </tr>\n",
       "    <tr>\n",
       "      <th>30623</th>\n",
       "      <td>161.0</td>\n",
       "    </tr>\n",
       "    <tr>\n",
       "      <th>21338</th>\n",
       "      <td>161.0</td>\n",
       "    </tr>\n",
       "  </tbody>\n",
       "</table>\n",
       "<p>314 rows × 1 columns</p>\n",
       "</div>"
      ],
      "text/plain": [
       "       vehicle_age\n",
       "176           14.0\n",
       "32688         14.0\n",
       "32628         14.0\n",
       "32575         14.0\n",
       "32441         14.0\n",
       "...            ...\n",
       "30494         16.0\n",
       "14107         17.0\n",
       "44921         19.0\n",
       "30623        161.0\n",
       "21338        161.0\n",
       "\n",
       "[314 rows x 1 columns]"
      ]
     },
     "execution_count": 103,
     "metadata": {},
     "output_type": "execute_result"
    }
   ],
   "source": [
    "Q1 = df['vehicle_age'].quantile(0.25)\n",
    "Q3 = df['vehicle_age'].quantile(0.75)\n",
    "IQR = Q3 - Q1\n",
    "df[df['vehicle_age'] > Q3 + 1.5*IQR]['vehicle_age'].sort_values().to_frame()"
   ]
  },
  {
   "cell_type": "markdown",
   "id": "5f78d0a3",
   "metadata": {},
   "source": [
    "Посмотрим на процент автомобилей, котором больше 50 лет"
   ]
  },
  {
   "cell_type": "code",
   "execution_count": 104,
   "id": "da6af946",
   "metadata": {},
   "outputs": [
    {
     "name": "stdout",
     "output_type": "stream",
     "text": [
      "0.0 %\n"
     ]
    }
   ],
   "source": [
    "print(round(df[df['vehicle_age'] > 50]['vehicle_age'].count()/ df['vehicle_age'].count() * 100, 2), '%')"
   ]
  },
  {
   "cell_type": "code",
   "execution_count": 105,
   "id": "0ef599ad",
   "metadata": {},
   "outputs": [
    {
     "name": "stdout",
     "output_type": "stream",
     "text": [
      "<class 'pandas.core.frame.DataFrame'>\n",
      "RangeIndex: 51028 entries, 0 to 51027\n",
      "Data columns (total 11 columns):\n",
      " #   Column                Non-Null Count  Dtype  \n",
      "---  ------                --------------  -----  \n",
      " 0   distance              51028 non-null  float64\n",
      " 1   intersection          51028 non-null  int64  \n",
      " 2   weather_1             51028 non-null  object \n",
      " 3   road_surface          51028 non-null  object \n",
      " 4   road_condition_1      51028 non-null  object \n",
      " 5   lighting              51028 non-null  object \n",
      " 6   at_fault              51028 non-null  int64  \n",
      " 7   party_sobriety        51028 non-null  object \n",
      " 8   vehicle_type          51028 non-null  object \n",
      " 9   vehicle_transmission  51028 non-null  object \n",
      " 10  vehicle_age           51028 non-null  float64\n",
      "dtypes: float64(2), int64(2), object(7)\n",
      "memory usage: 4.3+ MB\n"
     ]
    }
   ],
   "source": [
    "df.info()"
   ]
  },
  {
   "cell_type": "markdown",
   "id": "9485ca43",
   "metadata": {},
   "source": [
    "Автомобилей с аномальным возрастом нет. Не будем их трогать"
   ]
  },
  {
   "cell_type": "markdown",
   "id": "6f061a12",
   "metadata": {},
   "source": [
    "#### Столбец `vehicle_transmission`:"
   ]
  },
  {
   "cell_type": "code",
   "execution_count": 106,
   "id": "e6760c9d",
   "metadata": {},
   "outputs": [
    {
     "data": {
      "text/plain": [
       "count      51028\n",
       "unique         2\n",
       "top       manual\n",
       "freq       26907\n",
       "Name: vehicle_transmission, dtype: object"
      ]
     },
     "execution_count": 106,
     "metadata": {},
     "output_type": "execute_result"
    }
   ],
   "source": [
    "df.vehicle_transmission.describe()"
   ]
  },
  {
   "cell_type": "code",
   "execution_count": 107,
   "id": "05281546",
   "metadata": {},
   "outputs": [
    {
     "data": {
      "text/plain": [
       "array(['auto', 'manual'], dtype=object)"
      ]
     },
     "execution_count": 107,
     "metadata": {},
     "output_type": "execute_result"
    }
   ],
   "source": [
    "df.vehicle_transmission.unique()"
   ]
  },
  {
   "cell_type": "code",
   "execution_count": 108,
   "id": "9d60fdd9",
   "metadata": {},
   "outputs": [
    {
     "data": {
      "text/plain": [
       "vehicle_transmission\n",
       "auto      24121\n",
       "manual    26907\n",
       "Name: vehicle_transmission, dtype: int64"
      ]
     },
     "execution_count": 108,
     "metadata": {},
     "output_type": "execute_result"
    }
   ],
   "source": [
    "df.groupby(by='vehicle_transmission')['vehicle_transmission'].count()"
   ]
  },
  {
   "cell_type": "markdown",
   "id": "d504a236",
   "metadata": {},
   "source": [
    "Аномалий не наблюдается"
   ]
  },
  {
   "cell_type": "markdown",
   "id": "240ea062",
   "metadata": {},
   "source": [
    "#### Столбец `vehicle_type`:"
   ]
  },
  {
   "cell_type": "code",
   "execution_count": 109,
   "id": "55331293",
   "metadata": {},
   "outputs": [
    {
     "data": {
      "text/plain": [
       "count     51028\n",
       "unique        3\n",
       "top       sedan\n",
       "freq      33680\n",
       "Name: vehicle_type, dtype: object"
      ]
     },
     "execution_count": 109,
     "metadata": {},
     "output_type": "execute_result"
    }
   ],
   "source": [
    "df.vehicle_type.describe()"
   ]
  },
  {
   "cell_type": "code",
   "execution_count": 110,
   "id": "3cd76c94",
   "metadata": {},
   "outputs": [
    {
     "data": {
      "text/plain": [
       "array(['sedan', 'coupe', 'other'], dtype=object)"
      ]
     },
     "execution_count": 110,
     "metadata": {},
     "output_type": "execute_result"
    }
   ],
   "source": [
    "df.vehicle_type.unique()"
   ]
  },
  {
   "cell_type": "code",
   "execution_count": 111,
   "id": "f79b8183",
   "metadata": {},
   "outputs": [
    {
     "data": {
      "text/plain": [
       "vehicle_type\n",
       "coupe    17346\n",
       "other        2\n",
       "sedan    33680\n",
       "Name: vehicle_type, dtype: int64"
      ]
     },
     "execution_count": 111,
     "metadata": {},
     "output_type": "execute_result"
    }
   ],
   "source": [
    "df.groupby(by='vehicle_type')['vehicle_type'].count()"
   ]
  },
  {
   "cell_type": "markdown",
   "id": "8b2a6efc",
   "metadata": {},
   "source": [
    "Рассмотрим данные со значением `other`"
   ]
  },
  {
   "cell_type": "code",
   "execution_count": 112,
   "id": "4951001f",
   "metadata": {
    "scrolled": true
   },
   "outputs": [
    {
     "data": {
      "text/html": [
       "<div>\n",
       "<style scoped>\n",
       "    .dataframe tbody tr th:only-of-type {\n",
       "        vertical-align: middle;\n",
       "    }\n",
       "\n",
       "    .dataframe tbody tr th {\n",
       "        vertical-align: top;\n",
       "    }\n",
       "\n",
       "    .dataframe thead th {\n",
       "        text-align: right;\n",
       "    }\n",
       "</style>\n",
       "<table border=\"1\" class=\"dataframe\">\n",
       "  <thead>\n",
       "    <tr style=\"text-align: right;\">\n",
       "      <th></th>\n",
       "      <th>distance</th>\n",
       "      <th>intersection</th>\n",
       "      <th>weather_1</th>\n",
       "      <th>road_surface</th>\n",
       "      <th>road_condition_1</th>\n",
       "      <th>lighting</th>\n",
       "      <th>at_fault</th>\n",
       "      <th>party_sobriety</th>\n",
       "      <th>vehicle_type</th>\n",
       "      <th>vehicle_transmission</th>\n",
       "      <th>vehicle_age</th>\n",
       "    </tr>\n",
       "  </thead>\n",
       "  <tbody>\n",
       "    <tr>\n",
       "      <th>25940</th>\n",
       "      <td>0.0</td>\n",
       "      <td>1</td>\n",
       "      <td>clear</td>\n",
       "      <td>dry</td>\n",
       "      <td>normal</td>\n",
       "      <td>daylight</td>\n",
       "      <td>1</td>\n",
       "      <td>had not been drinking</td>\n",
       "      <td>other</td>\n",
       "      <td>manual</td>\n",
       "      <td>6.0</td>\n",
       "    </tr>\n",
       "    <tr>\n",
       "      <th>32865</th>\n",
       "      <td>239.0</td>\n",
       "      <td>0</td>\n",
       "      <td>cloudy</td>\n",
       "      <td>dry</td>\n",
       "      <td>normal</td>\n",
       "      <td>daylight</td>\n",
       "      <td>1</td>\n",
       "      <td>had not been drinking</td>\n",
       "      <td>other</td>\n",
       "      <td>manual</td>\n",
       "      <td>3.0</td>\n",
       "    </tr>\n",
       "  </tbody>\n",
       "</table>\n",
       "</div>"
      ],
      "text/plain": [
       "       distance  intersection weather_1 road_surface road_condition_1  \\\n",
       "25940       0.0             1     clear          dry           normal   \n",
       "32865     239.0             0    cloudy          dry           normal   \n",
       "\n",
       "       lighting  at_fault         party_sobriety vehicle_type  \\\n",
       "25940  daylight         1  had not been drinking        other   \n",
       "32865  daylight         1  had not been drinking        other   \n",
       "\n",
       "      vehicle_transmission  vehicle_age  \n",
       "25940               manual          6.0  \n",
       "32865               manual          3.0  "
      ]
     },
     "execution_count": 112,
     "metadata": {},
     "output_type": "execute_result"
    }
   ],
   "source": [
    "df[df['vehicle_type'] == 'other']"
   ]
  },
  {
   "cell_type": "markdown",
   "id": "f322afa0",
   "metadata": {},
   "source": [
    "Оставим эти данные, так как может быть так, что `other` повлияет на итоговый результат предсказания"
   ]
  },
  {
   "cell_type": "markdown",
   "id": "e86f099b",
   "metadata": {},
   "source": [
    "#### Столбец `at_fault` – целевой признак:"
   ]
  },
  {
   "cell_type": "code",
   "execution_count": 113,
   "id": "6647c05a",
   "metadata": {},
   "outputs": [
    {
     "data": {
      "text/plain": [
       "count    51028.000000\n",
       "mean         0.502998\n",
       "std          0.499996\n",
       "min          0.000000\n",
       "25%          0.000000\n",
       "50%          1.000000\n",
       "75%          1.000000\n",
       "max          1.000000\n",
       "Name: at_fault, dtype: float64"
      ]
     },
     "execution_count": 113,
     "metadata": {},
     "output_type": "execute_result"
    }
   ],
   "source": [
    "df.at_fault.describe()"
   ]
  },
  {
   "cell_type": "code",
   "execution_count": 114,
   "id": "8bf49a89",
   "metadata": {},
   "outputs": [
    {
     "data": {
      "text/plain": [
       "array([0, 1])"
      ]
     },
     "execution_count": 114,
     "metadata": {},
     "output_type": "execute_result"
    }
   ],
   "source": [
    "df.at_fault.unique()"
   ]
  },
  {
   "cell_type": "code",
   "execution_count": 115,
   "id": "a97d26b9",
   "metadata": {},
   "outputs": [
    {
     "data": {
      "text/plain": [
       "at_fault\n",
       "0    25361\n",
       "1    25667\n",
       "Name: at_fault, dtype: int64"
      ]
     },
     "execution_count": 115,
     "metadata": {},
     "output_type": "execute_result"
    }
   ],
   "source": [
    "df.groupby(by='at_fault')['at_fault'].count()"
   ]
  },
  {
   "cell_type": "markdown",
   "id": "d7e1a0d2",
   "metadata": {},
   "source": [
    "Дисбаланса классов (1 и 0) нет, аномалий также не обнаружено"
   ]
  },
  {
   "cell_type": "markdown",
   "id": "33c4b61a",
   "metadata": {},
   "source": [
    "### Проверим, имеются ли дубликаты:"
   ]
  },
  {
   "cell_type": "code",
   "execution_count": 116,
   "id": "6eddd1bb",
   "metadata": {},
   "outputs": [
    {
     "data": {
      "text/plain": [
       "23127"
      ]
     },
     "execution_count": 116,
     "metadata": {},
     "output_type": "execute_result"
    }
   ],
   "source": [
    "df.duplicated().sum()"
   ]
  },
  {
   "cell_type": "markdown",
   "id": "228a20a1",
   "metadata": {},
   "source": [
    "Весьма много. Исключим дубликаты:"
   ]
  },
  {
   "cell_type": "code",
   "execution_count": 117,
   "id": "7aaf177b",
   "metadata": {},
   "outputs": [
    {
     "data": {
      "text/plain": [
       "0"
      ]
     },
     "execution_count": 117,
     "metadata": {},
     "output_type": "execute_result"
    }
   ],
   "source": [
    "df.drop_duplicates(inplace=True)\n",
    "df.duplicated().sum()"
   ]
  },
  {
   "cell_type": "code",
   "execution_count": 118,
   "id": "ebe61ea8",
   "metadata": {
    "scrolled": true
   },
   "outputs": [
    {
     "name": "stdout",
     "output_type": "stream",
     "text": [
      "<class 'pandas.core.frame.DataFrame'>\n",
      "Int64Index: 27901 entries, 0 to 51027\n",
      "Data columns (total 11 columns):\n",
      " #   Column                Non-Null Count  Dtype  \n",
      "---  ------                --------------  -----  \n",
      " 0   distance              27901 non-null  float64\n",
      " 1   intersection          27901 non-null  int64  \n",
      " 2   weather_1             27901 non-null  object \n",
      " 3   road_surface          27901 non-null  object \n",
      " 4   road_condition_1      27901 non-null  object \n",
      " 5   lighting              27901 non-null  object \n",
      " 6   at_fault              27901 non-null  int64  \n",
      " 7   party_sobriety        27901 non-null  object \n",
      " 8   vehicle_type          27901 non-null  object \n",
      " 9   vehicle_transmission  27901 non-null  object \n",
      " 10  vehicle_age           27901 non-null  float64\n",
      "dtypes: float64(2), int64(2), object(7)\n",
      "memory usage: 2.6+ MB\n"
     ]
    }
   ],
   "source": [
    "df.info()"
   ]
  },
  {
   "cell_type": "markdown",
   "id": "920eb2b9",
   "metadata": {},
   "source": [
    "#### Вывод"
   ]
  },
  {
   "cell_type": "markdown",
   "id": "add013a7",
   "metadata": {},
   "source": [
    "Данные не содержат много шума, однако достаточно дубликатов. По этой причине размер выборки уменьшился в два раза. Данные содержат большое количество категориальных признаков, что не всегда удобно при анализе данных. Разработчикам системы сбора данных можно вынести предложение о том, что необходимо больше количественных признаков."
   ]
  },
  {
   "cell_type": "markdown",
   "id": "982a9b11",
   "metadata": {},
   "source": [
    "### Разбиение на выборки и масштабирование:"
   ]
  },
  {
   "cell_type": "markdown",
   "id": "3a4196bf",
   "metadata": {},
   "source": [
    "Разобъём данные на выборки:"
   ]
  },
  {
   "cell_type": "code",
   "execution_count": 119,
   "id": "86eca9c9",
   "metadata": {},
   "outputs": [
    {
     "name": "stdout",
     "output_type": "stream",
     "text": [
      "(14647, 10) (14647,)\n",
      "(6278, 10) (6278,)\n",
      "(6976, 10) (6976,)\n"
     ]
    }
   ],
   "source": [
    "features = df.drop('at_fault', axis=1)\n",
    "target = df['at_fault']\n",
    "\n",
    "features_train_valid, features_test, target_train_valid, target_test = train_test_split(\n",
    "    features, target, test_size=0.25, random_state=42, shuffle=True)\n",
    "\n",
    "features_train, features_valid, target_train, target_valid = train_test_split(\n",
    "    features_train_valid, target_train_valid, test_size=0.3, random_state=42, shuffle=True)\n",
    "\n",
    "features_train.reset_index(drop=True, inplace=True)\n",
    "features_valid.reset_index(drop=True, inplace=True)\n",
    "features_test.reset_index(drop=True, inplace=True)\n",
    "\n",
    "print(features_train.shape, target_train.shape)\n",
    "print(features_valid.shape, target_valid.shape)\n",
    "print(features_test.shape, target_test.shape)"
   ]
  },
  {
   "cell_type": "markdown",
   "id": "122abec8",
   "metadata": {},
   "source": [
    "### Переведём категориальные данные в количественные:"
   ]
  },
  {
   "cell_type": "code",
   "execution_count": 120,
   "id": "294ffd8c",
   "metadata": {},
   "outputs": [
    {
     "name": "stdout",
     "output_type": "stream",
     "text": [
      "<class 'pandas.core.frame.DataFrame'>\n",
      "Int64Index: 27901 entries, 0 to 51027\n",
      "Data columns (total 11 columns):\n",
      " #   Column                Non-Null Count  Dtype  \n",
      "---  ------                --------------  -----  \n",
      " 0   distance              27901 non-null  float64\n",
      " 1   intersection          27901 non-null  int64  \n",
      " 2   weather_1             27901 non-null  object \n",
      " 3   road_surface          27901 non-null  object \n",
      " 4   road_condition_1      27901 non-null  object \n",
      " 5   lighting              27901 non-null  object \n",
      " 6   at_fault              27901 non-null  int64  \n",
      " 7   party_sobriety        27901 non-null  object \n",
      " 8   vehicle_type          27901 non-null  object \n",
      " 9   vehicle_transmission  27901 non-null  object \n",
      " 10  vehicle_age           27901 non-null  float64\n",
      "dtypes: float64(2), int64(2), object(7)\n",
      "memory usage: 2.6+ MB\n"
     ]
    }
   ],
   "source": [
    "df.info()"
   ]
  },
  {
   "cell_type": "code",
   "execution_count": 121,
   "id": "601f4fe3",
   "metadata": {},
   "outputs": [],
   "source": [
    "categorical = ['weather_1',\n",
    "               'road_surface',\n",
    "               'road_condition_1', \n",
    "               'lighting', \n",
    "               'party_sobriety', \n",
    "               'vehicle_type',\n",
    "               'vehicle_transmission',\n",
    "               'vehicle_age']"
   ]
  },
  {
   "cell_type": "markdown",
   "id": "0a194cce",
   "metadata": {},
   "source": [
    "Используем OneHotEncoder():"
   ]
  },
  {
   "cell_type": "code",
   "execution_count": 122,
   "id": "d39dc656",
   "metadata": {},
   "outputs": [],
   "source": [
    "encoder = OneHotEncoder(handle_unknown='ignore', drop='first')"
   ]
  },
  {
   "cell_type": "code",
   "execution_count": 123,
   "id": "255f07e4",
   "metadata": {
    "scrolled": false
   },
   "outputs": [
    {
     "data": {
      "text/plain": [
       "distance                0\n",
       "intersection            0\n",
       "weather_1               0\n",
       "road_surface            0\n",
       "road_condition_1        0\n",
       "lighting                0\n",
       "party_sobriety          0\n",
       "vehicle_type            0\n",
       "vehicle_transmission    0\n",
       "vehicle_age             0\n",
       "dtype: int64"
      ]
     },
     "execution_count": 123,
     "metadata": {},
     "output_type": "execute_result"
    }
   ],
   "source": [
    "features_train.isnull().sum()"
   ]
  },
  {
   "cell_type": "code",
   "execution_count": 124,
   "id": "70d7ab2e",
   "metadata": {},
   "outputs": [
    {
     "data": {
      "text/plain": [
       "distance                0\n",
       "intersection            0\n",
       "weather_1               0\n",
       "road_surface            0\n",
       "road_condition_1        0\n",
       "lighting                0\n",
       "party_sobriety          0\n",
       "vehicle_type            0\n",
       "vehicle_transmission    0\n",
       "vehicle_age             0\n",
       "dtype: int64"
      ]
     },
     "execution_count": 124,
     "metadata": {},
     "output_type": "execute_result"
    }
   ],
   "source": [
    "features_valid.isnull().sum()"
   ]
  },
  {
   "cell_type": "code",
   "execution_count": 125,
   "id": "f2842005",
   "metadata": {
    "scrolled": true
   },
   "outputs": [
    {
     "data": {
      "text/html": [
       "<div>\n",
       "<style scoped>\n",
       "    .dataframe tbody tr th:only-of-type {\n",
       "        vertical-align: middle;\n",
       "    }\n",
       "\n",
       "    .dataframe tbody tr th {\n",
       "        vertical-align: top;\n",
       "    }\n",
       "\n",
       "    .dataframe thead th {\n",
       "        text-align: right;\n",
       "    }\n",
       "</style>\n",
       "<table border=\"1\" class=\"dataframe\">\n",
       "  <thead>\n",
       "    <tr style=\"text-align: right;\">\n",
       "      <th></th>\n",
       "      <th>distance</th>\n",
       "      <th>intersection</th>\n",
       "      <th>weather_1</th>\n",
       "      <th>road_surface</th>\n",
       "      <th>road_condition_1</th>\n",
       "      <th>lighting</th>\n",
       "      <th>party_sobriety</th>\n",
       "      <th>vehicle_type</th>\n",
       "      <th>vehicle_transmission</th>\n",
       "      <th>vehicle_age</th>\n",
       "    </tr>\n",
       "  </thead>\n",
       "  <tbody>\n",
       "    <tr>\n",
       "      <th>0</th>\n",
       "      <td>9926.0</td>\n",
       "      <td>0</td>\n",
       "      <td>clear</td>\n",
       "      <td>dry</td>\n",
       "      <td>normal</td>\n",
       "      <td>dark with street lights</td>\n",
       "      <td>had been drinking</td>\n",
       "      <td>coupe</td>\n",
       "      <td>manual</td>\n",
       "      <td>3.0</td>\n",
       "    </tr>\n",
       "    <tr>\n",
       "      <th>1</th>\n",
       "      <td>574.0</td>\n",
       "      <td>0</td>\n",
       "      <td>clear</td>\n",
       "      <td>dry</td>\n",
       "      <td>normal</td>\n",
       "      <td>dark with no street lights</td>\n",
       "      <td>impairment unknown</td>\n",
       "      <td>coupe</td>\n",
       "      <td>manual</td>\n",
       "      <td>3.0</td>\n",
       "    </tr>\n",
       "    <tr>\n",
       "      <th>2</th>\n",
       "      <td>0.0</td>\n",
       "      <td>1</td>\n",
       "      <td>raining</td>\n",
       "      <td>wet</td>\n",
       "      <td>normal</td>\n",
       "      <td>daylight</td>\n",
       "      <td>had not been drinking</td>\n",
       "      <td>coupe</td>\n",
       "      <td>manual</td>\n",
       "      <td>9.0</td>\n",
       "    </tr>\n",
       "  </tbody>\n",
       "</table>\n",
       "</div>"
      ],
      "text/plain": [
       "   distance  intersection weather_1 road_surface road_condition_1  \\\n",
       "0    9926.0             0     clear          dry           normal   \n",
       "1     574.0             0     clear          dry           normal   \n",
       "2       0.0             1   raining          wet           normal   \n",
       "\n",
       "                     lighting         party_sobriety vehicle_type  \\\n",
       "0     dark with street lights      had been drinking        coupe   \n",
       "1  dark with no street lights     impairment unknown        coupe   \n",
       "2                    daylight  had not been drinking        coupe   \n",
       "\n",
       "  vehicle_transmission  vehicle_age  \n",
       "0               manual          3.0  \n",
       "1               manual          3.0  \n",
       "2               manual          9.0  "
      ]
     },
     "execution_count": 125,
     "metadata": {},
     "output_type": "execute_result"
    }
   ],
   "source": [
    "features_test.head(3)"
   ]
  },
  {
   "cell_type": "code",
   "execution_count": 126,
   "id": "31f7d593",
   "metadata": {},
   "outputs": [
    {
     "data": {
      "text/plain": [
       "Index(['distance', 'intersection', 'weather_1', 'road_surface',\n",
       "       'road_condition_1', 'lighting', 'party_sobriety', 'vehicle_type',\n",
       "       'vehicle_transmission', 'vehicle_age'],\n",
       "      dtype='object')"
      ]
     },
     "execution_count": 126,
     "metadata": {},
     "output_type": "execute_result"
    }
   ],
   "source": [
    "features_train.columns"
   ]
  },
  {
   "cell_type": "code",
   "execution_count": 127,
   "id": "44dd1cef",
   "metadata": {
    "scrolled": true
   },
   "outputs": [
    {
     "data": {
      "text/plain": [
       "Index(['distance', 'intersection', 'weather_1', 'road_surface',\n",
       "       'road_condition_1', 'lighting', 'at_fault', 'party_sobriety',\n",
       "       'vehicle_type', 'vehicle_transmission', 'vehicle_age'],\n",
       "      dtype='object')"
      ]
     },
     "execution_count": 127,
     "metadata": {},
     "output_type": "execute_result"
    }
   ],
   "source": [
    "df.columns"
   ]
  },
  {
   "cell_type": "code",
   "execution_count": 128,
   "id": "59585200",
   "metadata": {},
   "outputs": [],
   "source": [
    "encoder.fit(features_train[categorical].to_numpy())\n",
    "\n",
    "\n",
    "transformed = encoder.transform(features_train[categorical].to_numpy())\n",
    "ohe_df = pd.DataFrame(transformed.toarray(), columns=encoder.get_feature_names_out())\n",
    "features_train = pd.concat([features_train, ohe_df], axis=1).drop(categorical, axis=1)\n",
    "\n",
    "transformed = encoder.transform(features_valid[categorical].to_numpy())\n",
    "ohe_df = pd.DataFrame(transformed.toarray(), columns=encoder.get_feature_names_out())\n",
    "features_valid = pd.concat([features_valid, ohe_df], axis=1).drop(categorical, axis=1)\n",
    "\n",
    "transformed = encoder.transform(features_test[categorical].to_numpy())\n",
    "ohe_df = pd.DataFrame(transformed.toarray(), columns=encoder.get_feature_names_out())\n",
    "features_test = pd.concat([features_test, ohe_df], axis=1).drop(categorical, axis=1)"
   ]
  },
  {
   "cell_type": "markdown",
   "id": "372d8763",
   "metadata": {},
   "source": [
    "Масштабируем данные:"
   ]
  },
  {
   "cell_type": "code",
   "execution_count": 129,
   "id": "75c72800",
   "metadata": {},
   "outputs": [],
   "source": [
    "scaler = StandardScaler()\n",
    "scaler.fit(features_train)\n",
    "\n",
    "features_train = scaler.transform(features_train)\n",
    "features_valid = scaler.transform(features_valid)\n",
    "features_test = scaler.transform(features_test)"
   ]
  },
  {
   "cell_type": "markdown",
   "id": "7ab7e9ae",
   "metadata": {},
   "source": [
    "<div class=\"alert alert-block alert-warning\">\n",
    "<b>Комментарий от ревьюера v1</b> ⚠️ \n",
    "    \n",
    "Нет необходимости масштабировать признаки, закодированные OHE\n",
    "    \n",
    "Кроме того, для облегчения обработки данных можно использовать [`make_column_transformer`](https://scikit-learn.org/stable/modules/generated/sklearn.compose.make_column_transformer.html#sklearn.compose.make_column_transformer) или [`ColumnTransformer`](https://scikit-learn.org/stable/modules/generated/sklearn.compose.ColumnTransformer.html). Этот инструмент можно встраивать в [пайплайны](https://scikit-learn.org/stable/modules/generated/sklearn.pipeline.Pipeline.html) для автоматизации и улучшения качества предобработки данных и разработки моделей..\n",
    "    \n",
    "[Здесь](https://colab.research.google.com/drive/1_gAMXcQKoCShB_l8FNtYEejMnosm9mvt?usp=sharing#scrollTo=organized-pierce) есть пример того, как кодируются и масштабируются признаки."
   ]
  },
  {
   "cell_type": "markdown",
   "id": "c45ee307",
   "metadata": {},
   "source": [
    "### Обучение моделей"
   ]
  },
  {
   "cell_type": "markdown",
   "id": "5f87d94e",
   "metadata": {},
   "source": [
    "Везде будем использовать метрику `Recall`, так как нам очень важно предсказывать максимально большое количество тех случаев, когда авария действительно будет. Выписать же предупреждение аккуратному водителю не страшно, хуже от напоминания о безопасности не станет. "
   ]
  },
  {
   "cell_type": "markdown",
   "id": "cab80317",
   "metadata": {},
   "source": [
    "#### Модель LGBMClassifier:"
   ]
  },
  {
   "cell_type": "markdown",
   "id": "796384b8",
   "metadata": {},
   "source": [
    "Обучим модель:"
   ]
  },
  {
   "cell_type": "code",
   "execution_count": 130,
   "id": "dfa11c5e",
   "metadata": {
    "scrolled": false
   },
   "outputs": [
    {
     "name": "stdout",
     "output_type": "stream",
     "text": [
      "est = 5\n",
      "rec_score = 0.7957435046987286\n",
      "est = 8\n",
      "rec_score = 0.7487562189054726\n",
      "est = 11\n",
      "rec_score = 0.7001105583195135\n",
      "best_est = 5\n",
      "best_rec_lgbm_valid = 0.7957435046987286\n",
      "CPU times: user 419 ms, sys: 175 ms, total: 594 ms\n",
      "Wall time: 96.5 ms\n"
     ]
    }
   ],
   "source": [
    "%%time\n",
    "best_rec = 0\n",
    "best_est = 0\n",
    "best_model_lgbm = None\n",
    "\n",
    "    \n",
    "for est in range(5, 12, 3):\n",
    "\n",
    "    model = LGBMClassifier(n_estimators = est, objective='binary', boosting_type = 'gbdt')\n",
    "    model.fit(features_train, target_train)\n",
    "    \n",
    "    predictions = model.predict(features_valid)\n",
    "    rec_score = rec(target_valid, predictions)\n",
    "    \n",
    "    if best_rec < rec_score:\n",
    "        best_rec = rec_score\n",
    "        best_est = est\n",
    "        best_model_lgbm = model\n",
    "        \n",
    "    print(f'est = {est}')\n",
    "    print(f'rec_score = {rec_score}')\n",
    "\n",
    "best_rec_lgbm_valid = best_rec\n",
    "        \n",
    "print(f'best_est = {best_est}')\n",
    "print(f'best_rec_lgbm_valid = {best_rec_lgbm_valid}')"
   ]
  },
  {
   "cell_type": "markdown",
   "id": "8666108a",
   "metadata": {},
   "source": [
    "Результаты подозрительно хорошие. Кажется, что dummy ловушки нет. И утечки таргета не наблюдается."
   ]
  },
  {
   "cell_type": "markdown",
   "id": "1875b37e",
   "metadata": {},
   "source": [
    "Далее по аналогии исследуем ещё 2 модели."
   ]
  },
  {
   "cell_type": "markdown",
   "id": "00e40466",
   "metadata": {},
   "source": [
    "#### Модель LogisticRegression:"
   ]
  },
  {
   "cell_type": "code",
   "execution_count": 131,
   "id": "8e546d37",
   "metadata": {},
   "outputs": [
    {
     "name": "stdout",
     "output_type": "stream",
     "text": [
      "best_C = 0.40000000006\n",
      "best_rec_lr_valid = 0.5223880597014925\n",
      "CPU times: user 3.26 s, sys: 206 ms, total: 3.47 s\n",
      "Wall time: 473 ms\n"
     ]
    }
   ],
   "source": [
    "%%time\n",
    "best_rec = 0\n",
    "best_C = 0\n",
    "best_model_lr = None\n",
    "a = 1e-10\n",
    "b = 1\n",
    "n = 10\n",
    "for j in range(n + 1):\n",
    "    CC = a + j*(b - a)/n\n",
    "    model = LogisticRegression(random_state=99999999, solver='lbfgs', C=CC, class_weight='balanced') \n",
    "    model.fit(features_train, target_train)\n",
    "    predictions = model.predict(features_valid)\n",
    "    rec_score = rec(target_valid, predictions)\n",
    "    \n",
    "    if best_rec < rec_score:\n",
    "        best_rec = rec_score\n",
    "        best_C = CC\n",
    "        best_model_lr = model\n",
    "\n",
    "best_rec_lr_valid = best_rec\n",
    "        \n",
    "print(f'best_C = {best_C}')\n",
    "print(f'best_rec_lr_valid = {best_rec_lr_valid}')"
   ]
  },
  {
   "cell_type": "markdown",
   "id": "15a74f0e",
   "metadata": {},
   "source": [
    "#### Модель RandomForest:"
   ]
  },
  {
   "cell_type": "code",
   "execution_count": 132,
   "id": "11b2a5e8",
   "metadata": {},
   "outputs": [
    {
     "name": "stdout",
     "output_type": "stream",
     "text": [
      "best_depth = 1\n",
      "best_est = 1\n",
      "best_rec_rf_valid = 0.9527363184079602\n"
     ]
    }
   ],
   "source": [
    "best_rec = 0\n",
    "best_depth = 0\n",
    "best_est = 100\n",
    "best_model_rf = None\n",
    "\n",
    "for depth in range(1,10):    \n",
    "    model = RandomForestClassifier(random_state=77766613, max_depth=depth, class_weight='balanced')\n",
    "    model.fit(features_train, target_train)\n",
    "\n",
    "    predictions = model.predict(features_valid)\n",
    "    rec_score = rec(target_valid, predictions)\n",
    "    \n",
    "    if best_rec < rec_score:\n",
    "        best_rec = rec_score\n",
    "        best_depth = depth\n",
    "        best_model_rf = model\n",
    "    \n",
    "for est in range(1, 10):\n",
    "\n",
    "    model = RandomForestClassifier(random_state=15878934, n_estimators=est, max_depth=best_depth, class_weight='balanced')\n",
    "    model.fit(features_train, target_train)\n",
    "    \n",
    "    predictions = model.predict(features_valid)\n",
    "    rec_score = rec(target_valid, predictions)\n",
    "    \n",
    "    if best_rec < rec_score:\n",
    "        best_rec = rec_score\n",
    "        best_est = est\n",
    "        best_model_rf = model\n",
    "\n",
    "        \n",
    "print(f'best_depth = {best_depth}')\n",
    "print(f'best_est = {best_est}')\n",
    "\n",
    "best_rec_rf_valid = best_rec\n",
    "\n",
    "print(f'best_rec_rf_valid = {best_rec_rf_valid}')"
   ]
  },
  {
   "cell_type": "markdown",
   "id": "8add0df9",
   "metadata": {},
   "source": [
    "Итак, лучшие результаты показала модель `lgbm`:"
   ]
  },
  {
   "cell_type": "code",
   "execution_count": 133,
   "id": "a4480ff2",
   "metadata": {},
   "outputs": [
    {
     "data": {
      "image/png": "[encoded data removed]",
      "text/plain": [
       "<Figure size 500x500 with 1 Axes>"
      ]
     },
     "metadata": {},
     "output_type": "display_data"
    }
   ],
   "source": [
    "ax.set_facecolor('seashell')\n",
    "\n",
    "names = ['lgbm', 'logistic_regression', 'random_forest']\n",
    "values = [best_rec_lgbm_valid, best_rec_lr_valid, best_rec_rf_valid]\n",
    "\n",
    "plt.figure(figsize=(5, 5))\n",
    "\n",
    "plt.bar(names, values)\n",
    "plt.show()"
   ]
  },
  {
   "cell_type": "markdown",
   "id": "0935decb",
   "metadata": {},
   "source": [
    "Результаты лучшей модели на тестовой выборке:"
   ]
  },
  {
   "cell_type": "code",
   "execution_count": 134,
   "id": "889d2592",
   "metadata": {},
   "outputs": [
    {
     "name": "stdout",
     "output_type": "stream",
     "text": [
      "best_model_test = 0.7993842996408415\n"
     ]
    }
   ],
   "source": [
    "predictions = best_model_lgbm.predict(features_test)\n",
    "\n",
    "print(f'best_model_test = {rec(target_test, predictions)}')"
   ]
  },
  {
   "cell_type": "markdown",
   "id": "758df748",
   "metadata": {},
   "source": [
    "## Проведите анализ важности факторов ДТП"
   ]
  },
  {
   "cell_type": "markdown",
   "id": "d754acab",
   "metadata": {},
   "source": [
    "Матрица ошибок для лучшей модели:"
   ]
  },
  {
   "cell_type": "code",
   "execution_count": 135,
   "id": "03da7e92",
   "metadata": {},
   "outputs": [],
   "source": [
    "predictions = best_model_lgbm.predict(features_test)"
   ]
  },
  {
   "cell_type": "code",
   "execution_count": 136,
   "id": "4633f139",
   "metadata": {},
   "outputs": [],
   "source": [
    "cm = confusion_matrix(target_test, predictions)"
   ]
  },
  {
   "cell_type": "code",
   "execution_count": 137,
   "id": "14173370",
   "metadata": {},
   "outputs": [
    {
     "data": {
      "text/plain": [
       "array([[1313, 1765],\n",
       "       [ 782, 3116]])"
      ]
     },
     "execution_count": 137,
     "metadata": {},
     "output_type": "execute_result"
    }
   ],
   "source": [
    "cm"
   ]
  },
  {
   "cell_type": "code",
   "execution_count": 138,
   "id": "f671686f",
   "metadata": {
    "scrolled": false
   },
   "outputs": [
    {
     "data": {
      "text/plain": [
       "[Text(0, 0.5, 'Не виновен'), Text(0, 1.5, 'Виновен')]"
      ]
     },
     "execution_count": 138,
     "metadata": {},
     "output_type": "execute_result"
    },
    {
     "data": {
      "image/png": "[encoded data removed]",
      "text/plain": [
       "<Figure size 1000x600 with 2 Axes>"
      ]
     },
     "metadata": {},
     "output_type": "display_data"
    }
   ],
   "source": [
    "ax= plt.subplot()\n",
    "sns.heatmap(cm, annot=True, fmt='g', ax=ax); \n",
    "\n",
    "ax.set_xlabel('Реальные данные');\n",
    "ax.set_ylabel('Предсказаные данные'); \n",
    "ax.set_title('Матрица ошибок'); \n",
    "ax.xaxis.set_ticklabels(['Не виновен', 'Виновен']); \n",
    "ax.yaxis.set_ticklabels(['Не виновен', 'Виновен'])"
   ]
  },
  {
   "cell_type": "code",
   "execution_count": 139,
   "id": "873ffd0b",
   "metadata": {
    "scrolled": true
   },
   "outputs": [
    {
     "data": {
      "image/png": "[encoded data removed]",
      "text/plain": [
       "<Figure size 1000x600 with 1 Axes>"
      ]
     },
     "metadata": {},
     "output_type": "display_data"
    }
   ],
   "source": [
    "ax.set_facecolor('seashell')\n",
    "precision, recall, _ = precision_recall_curve(target_test, predictions)\n",
    "\n",
    "pyplot.plot(recall, precision, marker='.')\n",
    "\n",
    "pyplot.xlabel('Полнота')\n",
    "pyplot.ylabel('Точность')\n",
    "pyplot.show()"
   ]
  },
  {
   "cell_type": "markdown",
   "id": "fe44dbba",
   "metadata": {},
   "source": [
    "В поставленной задаче требовалось проанализировать важность основных факторов, влияющих на вероятность ДТП. Как это сделать в случае такого большого количества категориальных переменных как унас я не имею понятия. Однако для удовлетворения воли составителей сделаем максимально тупой ход:"
   ]
  },
  {
   "cell_type": "markdown",
   "id": "11bd997b",
   "metadata": {},
   "source": [
    "Посмотрим, с чем сильнее всего коррелирует целевой признак:"
   ]
  },
  {
   "cell_type": "code",
   "execution_count": 140,
   "id": "2f0f27f6",
   "metadata": {},
   "outputs": [
    {
     "data": {
      "text/html": [
       "<div>\n",
       "<style scoped>\n",
       "    .dataframe tbody tr th:only-of-type {\n",
       "        vertical-align: middle;\n",
       "    }\n",
       "\n",
       "    .dataframe tbody tr th {\n",
       "        vertical-align: top;\n",
       "    }\n",
       "\n",
       "    .dataframe thead th {\n",
       "        text-align: right;\n",
       "    }\n",
       "</style>\n",
       "<table border=\"1\" class=\"dataframe\">\n",
       "  <thead>\n",
       "    <tr style=\"text-align: right;\">\n",
       "      <th></th>\n",
       "      <th>distance</th>\n",
       "      <th>intersection</th>\n",
       "      <th>at_fault</th>\n",
       "      <th>vehicle_age</th>\n",
       "    </tr>\n",
       "  </thead>\n",
       "  <tbody>\n",
       "    <tr>\n",
       "      <th>distance</th>\n",
       "      <td>1.000000</td>\n",
       "      <td>-0.131545</td>\n",
       "      <td>0.044712</td>\n",
       "      <td>0.035911</td>\n",
       "    </tr>\n",
       "    <tr>\n",
       "      <th>intersection</th>\n",
       "      <td>-0.131545</td>\n",
       "      <td>1.000000</td>\n",
       "      <td>-0.005038</td>\n",
       "      <td>0.054273</td>\n",
       "    </tr>\n",
       "    <tr>\n",
       "      <th>at_fault</th>\n",
       "      <td>0.044712</td>\n",
       "      <td>-0.005038</td>\n",
       "      <td>1.000000</td>\n",
       "      <td>-0.069648</td>\n",
       "    </tr>\n",
       "    <tr>\n",
       "      <th>vehicle_age</th>\n",
       "      <td>0.035911</td>\n",
       "      <td>0.054273</td>\n",
       "      <td>-0.069648</td>\n",
       "      <td>1.000000</td>\n",
       "    </tr>\n",
       "  </tbody>\n",
       "</table>\n",
       "</div>"
      ],
      "text/plain": [
       "              distance  intersection  at_fault  vehicle_age\n",
       "distance      1.000000     -0.131545  0.044712     0.035911\n",
       "intersection -0.131545      1.000000 -0.005038     0.054273\n",
       "at_fault      0.044712     -0.005038  1.000000    -0.069648\n",
       "vehicle_age   0.035911      0.054273 -0.069648     1.000000"
      ]
     },
     "execution_count": 140,
     "metadata": {},
     "output_type": "execute_result"
    }
   ],
   "source": [
    "df.corr()"
   ]
  },
  {
   "cell_type": "markdown",
   "id": "9202ab2b",
   "metadata": {},
   "source": [
    "Наиболее сильная корреляция с фактом принятия алкоголя."
   ]
  },
  {
   "cell_type": "markdown",
   "id": "3465900d",
   "metadata": {},
   "source": [
    "Решение проблемы: ужесточить наказание. Страх заставит особенно неразумных водителей не пить перед поездками."
   ]
  },
  {
   "cell_type": "markdown",
   "id": "d217acd0",
   "metadata": {},
   "source": [
    "### Дополнительный анализ важных факторов влияющих на ДТП"
   ]
  },
  {
   "cell_type": "code",
   "execution_count": 141,
   "id": "eeaf9c89",
   "metadata": {
    "scrolled": true
   },
   "outputs": [
    {
     "name": "stdout",
     "output_type": "stream",
     "text": [
      "<class 'pandas.core.frame.DataFrame'>\n",
      "Int64Index: 27901 entries, 0 to 51027\n",
      "Data columns (total 11 columns):\n",
      " #   Column                Non-Null Count  Dtype  \n",
      "---  ------                --------------  -----  \n",
      " 0   distance              27901 non-null  float64\n",
      " 1   intersection          27901 non-null  int64  \n",
      " 2   weather_1             27901 non-null  object \n",
      " 3   road_surface          27901 non-null  object \n",
      " 4   road_condition_1      27901 non-null  object \n",
      " 5   lighting              27901 non-null  object \n",
      " 6   at_fault              27901 non-null  int64  \n",
      " 7   party_sobriety        27901 non-null  object \n",
      " 8   vehicle_type          27901 non-null  object \n",
      " 9   vehicle_transmission  27901 non-null  object \n",
      " 10  vehicle_age           27901 non-null  float64\n",
      "dtypes: float64(2), int64(2), object(7)\n",
      "memory usage: 2.6+ MB\n"
     ]
    }
   ],
   "source": [
    "df.info()"
   ]
  },
  {
   "cell_type": "markdown",
   "id": "5f812e46",
   "metadata": {},
   "source": [
    "Функция отбора признаков и построения столбчатой диаграммы"
   ]
  },
  {
   "cell_type": "code",
   "execution_count": 142,
   "id": "64ac9a7b",
   "metadata": {},
   "outputs": [],
   "source": [
    "def explore_influence(string_col):\n",
    "    dict_cols = {}\n",
    "    col_party_sobriety = df[string_col].unique().tolist()\n",
    "    dict_cols[string_col] = col_party_sobriety\n",
    "    col_at_fault = df.at_fault.unique().tolist()\n",
    "    dict_cols['at_fault'] = col_at_fault\n",
    "    dict_df = {}\n",
    "    for col1 in dict_cols[string_col]:\n",
    "        for col2 in dict_cols['at_fault']:\n",
    "            num_value = df[(df[string_col] == col1) & (df['at_fault'] == col2)]['at_fault'].count()\n",
    "            key_d = '{}_{}'.format(col1, col2)\n",
    "            dict_df[key_d] = num_value\n",
    "\n",
    "    yer = pd.DataFrame(data=dict_df, index=[0])\n",
    "    sns.barplot(data=yer)"
   ]
  },
  {
   "cell_type": "code",
   "execution_count": 143,
   "id": "7891ea55",
   "metadata": {
    "scrolled": false
   },
   "outputs": [
    {
     "data": {
      "image/png": "[encoded data removed]",
      "text/plain": [
       "<Figure size 1000x600 with 1 Axes>"
      ]
     },
     "metadata": {},
     "output_type": "display_data"
    }
   ],
   "source": [
    "explore_influence('party_sobriety')"
   ]
  },
  {
   "cell_type": "markdown",
   "id": "e9546221",
   "metadata": {},
   "source": [
    "Не выпившие и те кто употребил алкоголь примерно одинаково попадают в ДТП. Однако те кто выпил попадают в аварию всегда. Это действительно может быть наиболее значимый признак в ДТП"
   ]
  },
  {
   "cell_type": "code",
   "execution_count": 144,
   "id": "0c57c638",
   "metadata": {},
   "outputs": [
    {
     "data": {
      "image/png": "[encoded data removed]",
      "text/plain": [
       "<Figure size 1000x600 with 1 Axes>"
      ]
     },
     "metadata": {},
     "output_type": "display_data"
    }
   ],
   "source": [
    "explore_influence('weather_1')"
   ]
  },
  {
   "cell_type": "markdown",
   "id": "5e3e8a1d",
   "metadata": {},
   "source": [
    "Состояние погоды судя по всему не особо влияет на ДТП"
   ]
  },
  {
   "cell_type": "code",
   "execution_count": 145,
   "id": "44935e71",
   "metadata": {
    "scrolled": true
   },
   "outputs": [
    {
     "data": {
      "image/png": "[encoded data removed]",
      "text/plain": [
       "<Figure size 1000x600 with 1 Axes>"
      ]
     },
     "metadata": {},
     "output_type": "display_data"
    }
   ],
   "source": [
    "explore_influence('road_surface')"
   ]
  },
  {
   "cell_type": "markdown",
   "id": "fd85635a",
   "metadata": {},
   "source": [
    "Состояние дороги также судя по всему не особо влияет на ДТП"
   ]
  },
  {
   "cell_type": "code",
   "execution_count": 146,
   "id": "9f60a76c",
   "metadata": {
    "scrolled": false
   },
   "outputs": [
    {
     "data": {
      "image/png": "[encoded data removed]",
      "text/plain": [
       "<Figure size 1000x600 with 1 Axes>"
      ]
     },
     "metadata": {},
     "output_type": "display_data"
    }
   ],
   "source": [
    "explore_influence('lighting')"
   ]
  },
  {
   "cell_type": "markdown",
   "id": "a332f5b7",
   "metadata": {},
   "source": [
    "Аварии происходят больше всего в дневное время суток"
   ]
  },
  {
   "cell_type": "markdown",
   "id": "93426e16",
   "metadata": {},
   "source": [
    "## Выводы"
   ]
  },
  {
   "cell_type": "markdown",
   "id": "8723fc08",
   "metadata": {},
   "source": [
    "Наилучшая модель `lgbm`. Создание адекватной системы оценки риска при выдаче авто невозможно: все модели проявили себя плохо. Для решения проблемы требуется более продвинутое исследование и обработка данных."
   ]
  },
  {
   "cell_type": "markdown",
   "id": "87ca1716",
   "metadata": {},
   "source": [
    "Однако стоит отметить, что требуется дополнительные признаки для того, чтобы разработать более качественную модель, а именно: \n",
    "- Количество пассажиров в автомобиле\n",
    "- Длительность поездки до аварии\n",
    "- Количество штрафов (желательно разбить на признаки каждый тип штрафа) у каждого водителя\n",
    "- Были ли исправны габариты автомобиля\n",
    "- Скорость автомобиля на протяжении поездки (есть технические трудности, так как необходимо разработать датчик, который бы выводил риск аварии в реальном времени)\n"
   ]
  }
 ],
 "metadata": {
  "ExecuteTimeLog": [
   {
    "duration": 876,
    "start_time": "2023-06-18T05:23:52.636Z"
   },
   {
    "duration": 4,
    "start_time": "2023-06-18T05:26:56.931Z"
   },
   {
    "duration": 3,
    "start_time": "2023-06-18T05:28:13.950Z"
   },
   {
    "duration": 9028,
    "start_time": "2023-06-18T05:28:28.732Z"
   },
   {
    "duration": 3,
    "start_time": "2023-06-18T06:18:29.201Z"
   },
   {
    "duration": 2562,
    "start_time": "2023-06-18T06:18:36.413Z"
   },
   {
    "duration": 13,
    "start_time": "2023-06-18T06:18:44.279Z"
   },
   {
    "duration": 1868,
    "start_time": "2023-06-18T06:31:09.432Z"
   },
   {
    "duration": 3,
    "start_time": "2023-06-18T06:36:10.211Z"
   },
   {
    "duration": 37,
    "start_time": "2023-06-18T06:36:11.347Z"
   },
   {
    "duration": 6,
    "start_time": "2023-06-18T06:36:16.048Z"
   },
   {
    "duration": 2,
    "start_time": "2023-06-18T06:38:23.548Z"
   },
   {
    "duration": 36,
    "start_time": "2023-06-18T06:38:24.874Z"
   },
   {
    "duration": 7,
    "start_time": "2023-06-18T06:38:27.431Z"
   },
   {
    "duration": 2,
    "start_time": "2023-06-18T06:56:59.768Z"
   },
   {
    "duration": 194,
    "start_time": "2023-06-18T06:57:06.686Z"
   },
   {
    "duration": 2,
    "start_time": "2023-06-18T06:57:23.957Z"
   },
   {
    "duration": 37,
    "start_time": "2023-06-18T06:57:26.729Z"
   },
   {
    "duration": 9,
    "start_time": "2023-06-18T06:57:33.847Z"
   },
   {
    "duration": 2,
    "start_time": "2023-06-18T06:58:41.372Z"
   },
   {
    "duration": 69,
    "start_time": "2023-06-18T06:58:48.108Z"
   },
   {
    "duration": 6,
    "start_time": "2023-06-18T06:58:52.261Z"
   },
   {
    "duration": 3,
    "start_time": "2023-06-18T06:59:39.144Z"
   },
   {
    "duration": 73,
    "start_time": "2023-06-18T06:59:41.064Z"
   },
   {
    "duration": 5,
    "start_time": "2023-06-18T06:59:42.302Z"
   },
   {
    "duration": 2,
    "start_time": "2023-06-18T07:15:34.320Z"
   },
   {
    "duration": 118,
    "start_time": "2023-06-18T07:15:41.497Z"
   },
   {
    "duration": 5,
    "start_time": "2023-06-18T07:15:45.108Z"
   },
   {
    "duration": 689,
    "start_time": "2023-06-18T07:16:50.294Z"
   },
   {
    "duration": 3,
    "start_time": "2023-06-18T07:16:50.985Z"
   },
   {
    "duration": 28,
    "start_time": "2023-06-18T07:16:50.989Z"
   },
   {
    "duration": 8561,
    "start_time": "2023-06-18T07:16:51.020Z"
   },
   {
    "duration": 3,
    "start_time": "2023-06-18T07:16:59.583Z"
   },
   {
    "duration": 215,
    "start_time": "2023-06-18T07:16:59.588Z"
   },
   {
    "duration": 10,
    "start_time": "2023-06-18T07:16:59.805Z"
   },
   {
    "duration": 16,
    "start_time": "2023-06-18T07:16:59.816Z"
   },
   {
    "duration": 39,
    "start_time": "2023-06-18T07:16:59.834Z"
   },
   {
    "duration": 5,
    "start_time": "2023-06-18T07:16:59.876Z"
   },
   {
    "duration": 3,
    "start_time": "2023-06-18T07:17:19.508Z"
   },
   {
    "duration": 37,
    "start_time": "2023-06-18T07:17:20.798Z"
   },
   {
    "duration": 9,
    "start_time": "2023-06-18T07:17:22.327Z"
   },
   {
    "duration": 3,
    "start_time": "2023-06-18T07:17:35.717Z"
   },
   {
    "duration": 72,
    "start_time": "2023-06-18T07:17:40.204Z"
   },
   {
    "duration": 6,
    "start_time": "2023-06-18T07:17:41.997Z"
   },
   {
    "duration": 2,
    "start_time": "2023-06-18T07:17:54.191Z"
   },
   {
    "duration": 37,
    "start_time": "2023-06-18T07:18:06.743Z"
   },
   {
    "duration": 18,
    "start_time": "2023-06-18T07:18:11.264Z"
   },
   {
    "duration": 4,
    "start_time": "2023-06-18T07:18:56.415Z"
   },
   {
    "duration": 113,
    "start_time": "2023-06-18T07:19:15.541Z"
   },
   {
    "duration": 5,
    "start_time": "2023-06-18T07:19:32.746Z"
   },
   {
    "duration": 735,
    "start_time": "2023-06-18T07:33:19.540Z"
   },
   {
    "duration": 3,
    "start_time": "2023-06-18T07:33:20.278Z"
   },
   {
    "duration": 13,
    "start_time": "2023-06-18T07:33:20.283Z"
   },
   {
    "duration": 8758,
    "start_time": "2023-06-18T07:33:20.298Z"
   },
   {
    "duration": 4,
    "start_time": "2023-06-18T07:33:29.060Z"
   },
   {
    "duration": 261,
    "start_time": "2023-06-18T07:33:29.066Z"
   },
   {
    "duration": 12,
    "start_time": "2023-06-18T07:33:29.329Z"
   },
   {
    "duration": 6,
    "start_time": "2023-06-18T07:33:29.343Z"
   },
   {
    "duration": 54,
    "start_time": "2023-06-18T07:33:29.351Z"
   },
   {
    "duration": 9,
    "start_time": "2023-06-18T07:33:29.407Z"
   },
   {
    "duration": 20,
    "start_time": "2023-06-18T07:33:29.418Z"
   },
   {
    "duration": 46,
    "start_time": "2023-06-18T07:33:29.440Z"
   },
   {
    "duration": 9,
    "start_time": "2023-06-18T07:33:29.488Z"
   },
   {
    "duration": 13,
    "start_time": "2023-06-18T07:33:29.500Z"
   },
   {
    "duration": 80,
    "start_time": "2023-06-18T07:33:29.516Z"
   },
   {
    "duration": 7,
    "start_time": "2023-06-18T07:33:29.598Z"
   },
   {
    "duration": 23,
    "start_time": "2023-06-18T07:33:29.607Z"
   },
   {
    "duration": 60,
    "start_time": "2023-06-18T07:33:29.632Z"
   },
   {
    "duration": 29,
    "start_time": "2023-06-18T07:33:29.695Z"
   },
   {
    "duration": 15,
    "start_time": "2023-06-18T07:33:29.727Z"
   },
   {
    "duration": 127,
    "start_time": "2023-06-18T07:33:29.744Z"
   },
   {
    "duration": 8,
    "start_time": "2023-06-18T07:33:29.873Z"
   },
   {
    "duration": 3,
    "start_time": "2023-06-18T07:45:31.813Z"
   },
   {
    "duration": 36,
    "start_time": "2023-06-18T07:45:38.931Z"
   },
   {
    "duration": 12,
    "start_time": "2023-06-18T07:45:42.609Z"
   },
   {
    "duration": 3,
    "start_time": "2023-06-18T08:20:49.907Z"
   },
   {
    "duration": 132,
    "start_time": "2023-06-18T08:20:54.206Z"
   },
   {
    "duration": 5,
    "start_time": "2023-06-18T08:20:57.698Z"
   },
   {
    "duration": 3,
    "start_time": "2023-06-18T08:56:02.418Z"
   },
   {
    "duration": 111,
    "start_time": "2023-06-18T08:56:13.892Z"
   },
   {
    "duration": 6,
    "start_time": "2023-06-18T08:56:15.696Z"
   },
   {
    "duration": 3,
    "start_time": "2023-06-18T08:56:23.072Z"
   },
   {
    "duration": 36,
    "start_time": "2023-06-18T08:56:24.393Z"
   },
   {
    "duration": 17,
    "start_time": "2023-06-18T08:56:25.450Z"
   },
   {
    "duration": 3,
    "start_time": "2023-06-18T08:56:30.403Z"
   },
   {
    "duration": 39,
    "start_time": "2023-06-18T08:56:31.593Z"
   },
   {
    "duration": 15,
    "start_time": "2023-06-18T08:56:32.642Z"
   },
   {
    "duration": 6,
    "start_time": "2023-06-18T08:59:13.352Z"
   },
   {
    "duration": 83,
    "start_time": "2023-06-18T08:59:24.244Z"
   },
   {
    "duration": 11,
    "start_time": "2023-06-18T08:59:26.212Z"
   },
   {
    "duration": 12,
    "start_time": "2023-06-18T08:59:34.791Z"
   },
   {
    "duration": 31,
    "start_time": "2023-06-18T09:03:29.965Z"
   },
   {
    "duration": 5,
    "start_time": "2023-06-18T09:04:49.573Z"
   },
   {
    "duration": 307,
    "start_time": "2023-06-18T09:04:51.124Z"
   },
   {
    "duration": 13,
    "start_time": "2023-06-18T09:04:52.902Z"
   },
   {
    "duration": 4,
    "start_time": "2023-06-18T09:06:51.835Z"
   },
   {
    "duration": 313,
    "start_time": "2023-06-18T09:06:53.098Z"
   },
   {
    "duration": 15,
    "start_time": "2023-06-18T09:06:54.529Z"
   },
   {
    "duration": 3,
    "start_time": "2023-06-18T09:09:12.944Z"
   },
   {
    "duration": 231,
    "start_time": "2023-06-18T09:09:14.201Z"
   },
   {
    "duration": 10,
    "start_time": "2023-06-18T09:09:15.396Z"
   },
   {
    "duration": 4,
    "start_time": "2023-06-18T09:13:47.257Z"
   },
   {
    "duration": 273,
    "start_time": "2023-06-18T09:13:48.951Z"
   },
   {
    "duration": 13,
    "start_time": "2023-06-18T09:13:50.264Z"
   },
   {
    "duration": 26,
    "start_time": "2023-06-18T11:02:56.789Z"
   },
   {
    "duration": 199,
    "start_time": "2023-06-18T11:10:42.596Z"
   },
   {
    "duration": 8,
    "start_time": "2023-06-18T11:10:48.923Z"
   },
   {
    "duration": 4,
    "start_time": "2023-06-18T11:11:07.693Z"
   },
   {
    "duration": 242,
    "start_time": "2023-06-18T11:11:08.962Z"
   },
   {
    "duration": 8,
    "start_time": "2023-06-18T11:11:10.193Z"
   },
   {
    "duration": 216,
    "start_time": "2023-06-18T11:11:20.267Z"
   },
   {
    "duration": 3,
    "start_time": "2023-06-18T11:16:08.059Z"
   },
   {
    "duration": 237,
    "start_time": "2023-06-18T11:16:09.119Z"
   },
   {
    "duration": 8,
    "start_time": "2023-06-18T11:16:10.255Z"
   },
   {
    "duration": 1857,
    "start_time": "2023-06-18T11:16:12.653Z"
   },
   {
    "duration": 211,
    "start_time": "2023-06-18T11:16:35.811Z"
   },
   {
    "duration": 3,
    "start_time": "2023-06-18T12:43:41.814Z"
   },
   {
    "duration": 348,
    "start_time": "2023-06-18T12:43:50.326Z"
   },
   {
    "duration": 3,
    "start_time": "2023-06-18T13:20:03.230Z"
   },
   {
    "duration": 503,
    "start_time": "2023-06-18T13:22:23.617Z"
   },
   {
    "duration": 3,
    "start_time": "2023-06-18T13:22:31.179Z"
   },
   {
    "duration": 115,
    "start_time": "2023-06-18T13:22:42.337Z"
   },
   {
    "duration": 3734,
    "start_time": "2023-06-18T13:22:50.787Z"
   },
   {
    "duration": 4045,
    "start_time": "2023-06-18T13:23:01.192Z"
   },
   {
    "duration": 269,
    "start_time": "2023-06-18T13:23:09.683Z"
   },
   {
    "duration": 277,
    "start_time": "2023-06-18T13:23:28.020Z"
   },
   {
    "duration": 272,
    "start_time": "2023-06-18T13:23:33.145Z"
   },
   {
    "duration": 276,
    "start_time": "2023-06-18T13:24:33.039Z"
   },
   {
    "duration": 634,
    "start_time": "2023-06-18T13:32:07.942Z"
   },
   {
    "duration": 601,
    "start_time": "2023-06-18T13:32:24.805Z"
   },
   {
    "duration": 1762,
    "start_time": "2023-06-18T13:35:04.383Z"
   },
   {
    "duration": 3,
    "start_time": "2023-06-18T13:35:23.419Z"
   },
   {
    "duration": 319,
    "start_time": "2023-06-18T13:35:25.518Z"
   },
   {
    "duration": 3,
    "start_time": "2023-06-18T13:35:46.902Z"
   },
   {
    "duration": 17215,
    "start_time": "2023-06-18T13:35:48.231Z"
   },
   {
    "duration": 1231,
    "start_time": "2023-06-18T13:37:05.036Z"
   },
   {
    "duration": 8,
    "start_time": "2023-06-18T13:37:06.270Z"
   },
   {
    "duration": 17,
    "start_time": "2023-06-18T13:37:06.281Z"
   },
   {
    "duration": 8200,
    "start_time": "2023-06-18T13:37:06.300Z"
   },
   {
    "duration": 3,
    "start_time": "2023-06-18T13:37:14.502Z"
   },
   {
    "duration": 436,
    "start_time": "2023-06-18T13:37:14.506Z"
   },
   {
    "duration": 10,
    "start_time": "2023-06-18T13:37:14.944Z"
   },
   {
    "duration": 5,
    "start_time": "2023-06-18T13:37:14.955Z"
   },
   {
    "duration": 40,
    "start_time": "2023-06-18T13:37:14.961Z"
   },
   {
    "duration": 6,
    "start_time": "2023-06-18T13:37:15.003Z"
   },
   {
    "duration": 39,
    "start_time": "2023-06-18T13:37:15.011Z"
   },
   {
    "duration": 52,
    "start_time": "2023-06-18T13:37:15.052Z"
   },
   {
    "duration": 8,
    "start_time": "2023-06-18T13:37:15.106Z"
   },
   {
    "duration": 20,
    "start_time": "2023-06-18T13:37:15.117Z"
   },
   {
    "duration": 101,
    "start_time": "2023-06-18T13:37:15.139Z"
   },
   {
    "duration": 7,
    "start_time": "2023-06-18T13:37:15.242Z"
   },
   {
    "duration": 18,
    "start_time": "2023-06-18T13:37:15.250Z"
   },
   {
    "duration": 54,
    "start_time": "2023-06-18T13:37:15.270Z"
   },
   {
    "duration": 18,
    "start_time": "2023-06-18T13:37:15.325Z"
   },
   {
    "duration": 22,
    "start_time": "2023-06-18T13:37:15.345Z"
   },
   {
    "duration": 135,
    "start_time": "2023-06-18T13:37:15.369Z"
   },
   {
    "duration": 5,
    "start_time": "2023-06-18T13:37:15.505Z"
   },
   {
    "duration": 18,
    "start_time": "2023-06-18T13:37:15.512Z"
   },
   {
    "duration": 56,
    "start_time": "2023-06-18T13:37:15.532Z"
   },
   {
    "duration": 12,
    "start_time": "2023-06-18T13:37:15.589Z"
   },
   {
    "duration": 36,
    "start_time": "2023-06-18T13:37:15.603Z"
   },
   {
    "duration": 169,
    "start_time": "2023-06-18T13:37:15.641Z"
   },
   {
    "duration": 5,
    "start_time": "2023-06-18T13:37:15.812Z"
   },
   {
    "duration": 11,
    "start_time": "2023-06-18T13:37:15.819Z"
   },
   {
    "duration": 481,
    "start_time": "2023-06-18T13:37:15.831Z"
   },
   {
    "duration": 8,
    "start_time": "2023-06-18T13:37:16.314Z"
   },
   {
    "duration": 253,
    "start_time": "2023-06-18T13:37:16.324Z"
   },
   {
    "duration": 3,
    "start_time": "2023-06-18T13:37:21.295Z"
   },
   {
    "duration": 7512,
    "start_time": "2023-06-18T13:37:22.616Z"
   },
   {
    "duration": 658,
    "start_time": "2023-06-18T13:37:37.078Z"
   },
   {
    "duration": 3,
    "start_time": "2023-06-18T13:54:22.673Z"
   },
   {
    "duration": 3,
    "start_time": "2023-06-18T13:55:30.299Z"
   },
   {
    "duration": 111,
    "start_time": "2023-06-18T13:55:32.249Z"
   },
   {
    "duration": 3,
    "start_time": "2023-06-18T13:56:18.523Z"
   },
   {
    "duration": 308,
    "start_time": "2023-06-18T13:56:19.743Z"
   },
   {
    "duration": 11,
    "start_time": "2023-06-18T13:56:47.389Z"
   },
   {
    "duration": 17,
    "start_time": "2023-06-18T13:58:04.431Z"
   },
   {
    "duration": 12,
    "start_time": "2023-06-18T13:58:43.483Z"
   },
   {
    "duration": 6,
    "start_time": "2023-06-18T13:59:12.198Z"
   },
   {
    "duration": 354,
    "start_time": "2023-06-18T13:59:19.184Z"
   },
   {
    "duration": 351,
    "start_time": "2023-06-18T13:59:59.786Z"
   },
   {
    "duration": 332,
    "start_time": "2023-06-18T14:00:08.309Z"
   },
   {
    "duration": 122,
    "start_time": "2023-06-18T14:00:31.685Z"
   },
   {
    "duration": 364,
    "start_time": "2023-06-18T14:00:42.323Z"
   },
   {
    "duration": 391,
    "start_time": "2023-06-18T14:02:30.739Z"
   },
   {
    "duration": 381,
    "start_time": "2023-06-18T14:03:36.462Z"
   },
   {
    "duration": 384,
    "start_time": "2023-06-18T14:03:43.883Z"
   },
   {
    "duration": 405,
    "start_time": "2023-06-18T14:03:49.737Z"
   },
   {
    "duration": 3,
    "start_time": "2023-06-18T14:28:36.471Z"
   },
   {
    "duration": 123,
    "start_time": "2023-06-18T14:37:59.487Z"
   },
   {
    "duration": 3,
    "start_time": "2023-06-18T14:39:06.933Z"
   },
   {
    "duration": 128,
    "start_time": "2023-06-18T14:39:08.287Z"
   },
   {
    "duration": 1264,
    "start_time": "2023-06-18T14:40:54.098Z"
   },
   {
    "duration": 3,
    "start_time": "2023-06-18T14:40:55.364Z"
   },
   {
    "duration": 9,
    "start_time": "2023-06-18T14:40:55.374Z"
   },
   {
    "duration": 8980,
    "start_time": "2023-06-18T14:40:55.386Z"
   },
   {
    "duration": 3,
    "start_time": "2023-06-18T14:41:04.368Z"
   },
   {
    "duration": 218,
    "start_time": "2023-06-18T14:41:04.373Z"
   },
   {
    "duration": 9,
    "start_time": "2023-06-18T14:41:04.593Z"
   },
   {
    "duration": 21,
    "start_time": "2023-06-18T14:41:04.604Z"
   },
   {
    "duration": 55,
    "start_time": "2023-06-18T14:41:04.627Z"
   },
   {
    "duration": 6,
    "start_time": "2023-06-18T14:41:04.685Z"
   },
   {
    "duration": 6,
    "start_time": "2023-06-18T14:41:04.693Z"
   },
   {
    "duration": 49,
    "start_time": "2023-06-18T14:41:04.701Z"
   },
   {
    "duration": 9,
    "start_time": "2023-06-18T14:41:04.753Z"
   },
   {
    "duration": 10,
    "start_time": "2023-06-18T14:41:04.764Z"
   },
   {
    "duration": 120,
    "start_time": "2023-06-18T14:41:04.776Z"
   },
   {
    "duration": 6,
    "start_time": "2023-06-18T14:41:04.897Z"
   },
   {
    "duration": 7,
    "start_time": "2023-06-18T14:41:04.905Z"
   },
   {
    "duration": 43,
    "start_time": "2023-06-18T14:41:04.914Z"
   },
   {
    "duration": 19,
    "start_time": "2023-06-18T14:41:04.959Z"
   },
   {
    "duration": 9,
    "start_time": "2023-06-18T14:41:04.980Z"
   },
   {
    "duration": 125,
    "start_time": "2023-06-18T14:41:04.991Z"
   },
   {
    "duration": 6,
    "start_time": "2023-06-18T14:41:05.118Z"
   },
   {
    "duration": 9,
    "start_time": "2023-06-18T14:41:05.126Z"
   },
   {
    "duration": 50,
    "start_time": "2023-06-18T14:41:05.136Z"
   },
   {
    "duration": 13,
    "start_time": "2023-06-18T14:41:05.188Z"
   },
   {
    "duration": 37,
    "start_time": "2023-06-18T14:41:05.203Z"
   },
   {
    "duration": 154,
    "start_time": "2023-06-18T14:41:05.243Z"
   },
   {
    "duration": 7,
    "start_time": "2023-06-18T14:41:05.402Z"
   },
   {
    "duration": 35,
    "start_time": "2023-06-18T14:41:05.411Z"
   },
   {
    "duration": 28,
    "start_time": "2023-06-18T14:41:05.448Z"
   },
   {
    "duration": 235,
    "start_time": "2023-06-18T14:41:05.478Z"
   },
   {
    "duration": 5,
    "start_time": "2023-06-18T14:41:05.714Z"
   },
   {
    "duration": 423,
    "start_time": "2023-06-18T14:41:05.721Z"
   },
   {
    "duration": 2,
    "start_time": "2023-06-18T14:41:21.902Z"
   },
   {
    "duration": 217,
    "start_time": "2023-06-18T14:45:21.491Z"
   },
   {
    "duration": 117,
    "start_time": "2023-06-18T14:47:36.755Z"
   },
   {
    "duration": 3,
    "start_time": "2023-06-18T14:47:40.892Z"
   },
   {
    "duration": 121,
    "start_time": "2023-06-18T14:47:42.356Z"
   },
   {
    "duration": 3,
    "start_time": "2023-06-18T14:47:57.183Z"
   },
   {
    "duration": 189,
    "start_time": "2023-06-18T14:48:00.949Z"
   },
   {
    "duration": 7,
    "start_time": "2023-06-18T14:48:03.518Z"
   },
   {
    "duration": 1207,
    "start_time": "2023-06-18T14:56:18.348Z"
   },
   {
    "duration": 2,
    "start_time": "2023-06-18T14:56:19.557Z"
   },
   {
    "duration": 11,
    "start_time": "2023-06-18T14:56:19.561Z"
   },
   {
    "duration": 8075,
    "start_time": "2023-06-18T14:56:19.574Z"
   },
   {
    "duration": 2,
    "start_time": "2023-06-18T14:56:27.652Z"
   },
   {
    "duration": 228,
    "start_time": "2023-06-18T14:56:27.656Z"
   },
   {
    "duration": 10,
    "start_time": "2023-06-18T14:56:27.885Z"
   },
   {
    "duration": 7,
    "start_time": "2023-06-18T14:56:27.896Z"
   },
   {
    "duration": 39,
    "start_time": "2023-06-18T14:56:27.905Z"
   },
   {
    "duration": 6,
    "start_time": "2023-06-18T14:56:27.945Z"
   },
   {
    "duration": 8,
    "start_time": "2023-06-18T14:56:27.953Z"
   },
   {
    "duration": 42,
    "start_time": "2023-06-18T14:56:27.963Z"
   },
   {
    "duration": 9,
    "start_time": "2023-06-18T14:56:28.007Z"
   },
   {
    "duration": 5,
    "start_time": "2023-06-18T14:56:28.021Z"
   },
   {
    "duration": 74,
    "start_time": "2023-06-18T14:56:28.027Z"
   },
   {
    "duration": 6,
    "start_time": "2023-06-18T14:56:28.103Z"
   },
   {
    "duration": 8,
    "start_time": "2023-06-18T14:56:28.111Z"
   },
   {
    "duration": 41,
    "start_time": "2023-06-18T14:56:28.120Z"
   },
   {
    "duration": 19,
    "start_time": "2023-06-18T14:56:28.163Z"
   },
   {
    "duration": 7,
    "start_time": "2023-06-18T14:56:28.184Z"
   },
   {
    "duration": 112,
    "start_time": "2023-06-18T14:56:28.193Z"
   },
   {
    "duration": 6,
    "start_time": "2023-06-18T14:56:28.308Z"
   },
   {
    "duration": 6,
    "start_time": "2023-06-18T14:56:28.315Z"
   },
   {
    "duration": 45,
    "start_time": "2023-06-18T14:56:28.323Z"
   },
   {
    "duration": 12,
    "start_time": "2023-06-18T14:56:28.369Z"
   },
   {
    "duration": 5,
    "start_time": "2023-06-18T14:56:28.383Z"
   },
   {
    "duration": 131,
    "start_time": "2023-06-18T14:56:28.389Z"
   },
   {
    "duration": 6,
    "start_time": "2023-06-18T14:56:28.521Z"
   },
   {
    "duration": 5,
    "start_time": "2023-06-18T14:56:28.529Z"
   },
   {
    "duration": 237,
    "start_time": "2023-06-18T14:56:35.938Z"
   },
   {
    "duration": 173,
    "start_time": "2023-06-18T14:57:35.017Z"
   },
   {
    "duration": 168,
    "start_time": "2023-06-18T14:58:06.904Z"
   },
   {
    "duration": 2,
    "start_time": "2023-06-18T14:58:07.074Z"
   },
   {
    "duration": 238,
    "start_time": "2023-06-18T14:58:07.078Z"
   },
   {
    "duration": 7,
    "start_time": "2023-06-18T14:58:07.317Z"
   },
   {
    "duration": 370,
    "start_time": "2023-06-18T14:58:07.325Z"
   },
   {
    "duration": 2,
    "start_time": "2023-06-18T14:58:07.697Z"
   },
   {
    "duration": 196,
    "start_time": "2023-06-18T14:58:07.701Z"
   },
   {
    "duration": 5,
    "start_time": "2023-06-18T14:58:07.899Z"
   },
   {
    "duration": 170,
    "start_time": "2023-06-18T14:59:27.183Z"
   },
   {
    "duration": 3,
    "start_time": "2023-06-18T15:44:51.530Z"
   },
   {
    "duration": 297,
    "start_time": "2023-06-18T15:44:53.204Z"
   },
   {
    "duration": 3,
    "start_time": "2023-06-18T15:45:05.723Z"
   },
   {
    "duration": 156,
    "start_time": "2023-06-18T15:45:07.084Z"
   },
   {
    "duration": 3,
    "start_time": "2023-06-18T15:45:18.147Z"
   },
   {
    "duration": 7643,
    "start_time": "2023-06-18T15:45:19.439Z"
   },
   {
    "duration": 102,
    "start_time": "2023-06-18T15:45:31.423Z"
   },
   {
    "duration": 12,
    "start_time": "2023-06-18T16:05:19.089Z"
   },
   {
    "duration": 6,
    "start_time": "2023-06-18T16:10:08.474Z"
   },
   {
    "duration": 2,
    "start_time": "2023-06-18T16:10:19.702Z"
   },
   {
    "duration": 10630,
    "start_time": "2023-06-18T16:10:21.395Z"
   },
   {
    "duration": 483,
    "start_time": "2023-06-18T16:10:33.321Z"
   },
   {
    "duration": 64,
    "start_time": "2023-06-18T16:10:42.978Z"
   },
   {
    "duration": 66,
    "start_time": "2023-06-18T16:12:04.628Z"
   },
   {
    "duration": 51,
    "start_time": "2023-06-19T07:26:03.250Z"
   },
   {
    "duration": 1404,
    "start_time": "2023-06-19T07:26:16.884Z"
   },
   {
    "duration": 3,
    "start_time": "2023-06-19T07:26:18.291Z"
   },
   {
    "duration": 8,
    "start_time": "2023-06-19T07:26:18.296Z"
   },
   {
    "duration": 9496,
    "start_time": "2023-06-19T07:26:18.306Z"
   },
   {
    "duration": 3,
    "start_time": "2023-06-19T07:26:27.804Z"
   },
   {
    "duration": 235,
    "start_time": "2023-06-19T07:26:27.808Z"
   },
   {
    "duration": 11,
    "start_time": "2023-06-19T07:26:28.045Z"
   },
   {
    "duration": 6,
    "start_time": "2023-06-19T07:26:28.058Z"
   },
   {
    "duration": 42,
    "start_time": "2023-06-19T07:26:28.066Z"
   },
   {
    "duration": 6,
    "start_time": "2023-06-19T07:26:28.110Z"
   },
   {
    "duration": 11,
    "start_time": "2023-06-19T07:26:28.118Z"
   },
   {
    "duration": 43,
    "start_time": "2023-06-19T07:26:28.130Z"
   },
   {
    "duration": 10,
    "start_time": "2023-06-19T07:26:28.175Z"
   },
   {
    "duration": 4,
    "start_time": "2023-06-19T07:26:28.188Z"
   },
   {
    "duration": 95,
    "start_time": "2023-06-19T07:26:28.194Z"
   },
   {
    "duration": 8,
    "start_time": "2023-06-19T07:26:28.291Z"
   },
   {
    "duration": 13,
    "start_time": "2023-06-19T07:26:28.301Z"
   },
   {
    "duration": 49,
    "start_time": "2023-06-19T07:26:28.316Z"
   },
   {
    "duration": 23,
    "start_time": "2023-06-19T07:26:28.367Z"
   },
   {
    "duration": 15,
    "start_time": "2023-06-19T07:26:28.392Z"
   },
   {
    "duration": 128,
    "start_time": "2023-06-19T07:26:28.409Z"
   },
   {
    "duration": 7,
    "start_time": "2023-06-19T07:26:28.539Z"
   },
   {
    "duration": 8,
    "start_time": "2023-06-19T07:26:28.547Z"
   },
   {
    "duration": 44,
    "start_time": "2023-06-19T07:26:28.557Z"
   },
   {
    "duration": 13,
    "start_time": "2023-06-19T07:26:28.602Z"
   },
   {
    "duration": 5,
    "start_time": "2023-06-19T07:26:28.617Z"
   },
   {
    "duration": 137,
    "start_time": "2023-06-19T07:26:28.624Z"
   },
   {
    "duration": 5,
    "start_time": "2023-06-19T07:26:28.763Z"
   },
   {
    "duration": 9,
    "start_time": "2023-06-19T07:26:28.770Z"
   },
   {
    "duration": 242,
    "start_time": "2023-06-19T07:26:28.781Z"
   },
   {
    "duration": 197,
    "start_time": "2023-06-19T07:26:29.025Z"
   },
   {
    "duration": 3,
    "start_time": "2023-06-19T07:26:29.223Z"
   },
   {
    "duration": 235,
    "start_time": "2023-06-19T07:26:29.227Z"
   },
   {
    "duration": 6,
    "start_time": "2023-06-19T07:26:29.463Z"
   },
   {
    "duration": 416,
    "start_time": "2023-06-19T07:26:29.470Z"
   },
   {
    "duration": 3,
    "start_time": "2023-06-19T07:26:29.887Z"
   },
   {
    "duration": 206,
    "start_time": "2023-06-19T07:26:29.891Z"
   },
   {
    "duration": 7,
    "start_time": "2023-06-19T07:26:30.099Z"
   },
   {
    "duration": 190,
    "start_time": "2023-06-19T07:26:30.107Z"
   },
   {
    "duration": 3,
    "start_time": "2023-06-19T07:26:30.299Z"
   },
   {
    "duration": 11047,
    "start_time": "2023-06-19T07:26:30.305Z"
   },
   {
    "duration": 525,
    "start_time": "2023-06-19T07:26:41.354Z"
   },
   {
    "duration": 1814,
    "start_time": "2023-06-19T12:39:00.813Z"
   },
   {
    "duration": 3,
    "start_time": "2023-06-19T12:39:02.630Z"
   },
   {
    "duration": 37,
    "start_time": "2023-06-19T12:39:02.635Z"
   },
   {
    "duration": 9232,
    "start_time": "2023-06-19T12:39:02.674Z"
   },
   {
    "duration": 4,
    "start_time": "2023-06-19T12:39:11.908Z"
   },
   {
    "duration": 166,
    "start_time": "2023-06-19T12:39:11.913Z"
   },
   {
    "duration": 14,
    "start_time": "2023-06-19T12:39:12.081Z"
   },
   {
    "duration": 4,
    "start_time": "2023-06-19T12:39:12.097Z"
   },
   {
    "duration": 32,
    "start_time": "2023-06-19T12:39:12.103Z"
   },
   {
    "duration": 7,
    "start_time": "2023-06-19T12:39:12.137Z"
   },
   {
    "duration": 5,
    "start_time": "2023-06-19T12:39:12.146Z"
   },
   {
    "duration": 26,
    "start_time": "2023-06-19T12:39:12.153Z"
   },
   {
    "duration": 10,
    "start_time": "2023-06-19T12:39:12.180Z"
   },
   {
    "duration": 14,
    "start_time": "2023-06-19T12:39:12.194Z"
   },
   {
    "duration": 62,
    "start_time": "2023-06-19T12:39:12.210Z"
   },
   {
    "duration": 6,
    "start_time": "2023-06-19T12:39:12.274Z"
   },
   {
    "duration": 5,
    "start_time": "2023-06-19T12:39:12.282Z"
   },
   {
    "duration": 12,
    "start_time": "2023-06-19T12:39:12.289Z"
   },
   {
    "duration": 27,
    "start_time": "2023-06-19T12:39:12.302Z"
   },
   {
    "duration": 12,
    "start_time": "2023-06-19T12:39:12.332Z"
   },
   {
    "duration": 134,
    "start_time": "2023-06-19T12:39:12.346Z"
   },
   {
    "duration": 11,
    "start_time": "2023-06-19T12:39:12.487Z"
   },
   {
    "duration": 15,
    "start_time": "2023-06-19T12:39:12.503Z"
   },
   {
    "duration": 12,
    "start_time": "2023-06-19T12:39:12.521Z"
   },
   {
    "duration": 25,
    "start_time": "2023-06-19T12:39:12.536Z"
   },
   {
    "duration": 10,
    "start_time": "2023-06-19T12:39:12.563Z"
   },
   {
    "duration": 119,
    "start_time": "2023-06-19T12:39:12.579Z"
   },
   {
    "duration": 7,
    "start_time": "2023-06-19T12:39:12.700Z"
   },
   {
    "duration": 15,
    "start_time": "2023-06-19T12:39:12.709Z"
   },
   {
    "duration": 247,
    "start_time": "2023-06-19T12:39:12.726Z"
   },
   {
    "duration": 222,
    "start_time": "2023-06-19T12:39:12.975Z"
   },
   {
    "duration": 3,
    "start_time": "2023-06-19T12:39:13.199Z"
   },
   {
    "duration": 219,
    "start_time": "2023-06-19T12:39:13.203Z"
   },
   {
    "duration": 10,
    "start_time": "2023-06-19T12:39:13.424Z"
   },
   {
    "duration": 504,
    "start_time": "2023-06-19T12:39:13.435Z"
   },
   {
    "duration": 14,
    "start_time": "2023-06-19T12:39:13.941Z"
   },
   {
    "duration": 188,
    "start_time": "2023-06-19T12:39:13.963Z"
   },
   {
    "duration": 15,
    "start_time": "2023-06-19T12:39:14.154Z"
   },
   {
    "duration": 266,
    "start_time": "2023-06-19T12:39:14.175Z"
   },
   {
    "duration": 7,
    "start_time": "2023-06-19T12:39:14.448Z"
   },
   {
    "duration": 10635,
    "start_time": "2023-06-19T12:39:14.459Z"
   },
   {
    "duration": 487,
    "start_time": "2023-06-19T12:39:25.096Z"
   },
   {
    "duration": 17,
    "start_time": "2023-06-19T12:39:42.512Z"
   },
   {
    "duration": 204,
    "start_time": "2023-06-19T12:40:01.999Z"
   },
   {
    "duration": 14,
    "start_time": "2023-06-19T12:42:32.804Z"
   },
   {
    "duration": 7,
    "start_time": "2023-06-19T12:42:41.985Z"
   },
   {
    "duration": 12,
    "start_time": "2023-06-19T12:42:43.659Z"
   },
   {
    "duration": 442,
    "start_time": "2023-06-19T12:42:46.691Z"
   },
   {
    "duration": 295,
    "start_time": "2023-06-19T12:42:59.470Z"
   },
   {
    "duration": 74,
    "start_time": "2023-06-19T13:58:21.335Z"
   },
   {
    "duration": 19,
    "start_time": "2023-06-19T13:58:25.112Z"
   },
   {
    "duration": 154,
    "start_time": "2023-06-19T13:58:33.913Z"
   },
   {
    "duration": 5,
    "start_time": "2023-06-19T14:08:12.719Z"
   },
   {
    "duration": 62,
    "start_time": "2023-06-19T14:10:31.904Z"
   },
   {
    "duration": 35,
    "start_time": "2023-06-19T14:10:34.186Z"
   },
   {
    "duration": 15,
    "start_time": "2023-06-19T14:10:36.602Z"
   },
   {
    "duration": 1421,
    "start_time": "2023-06-19T14:11:13.903Z"
   },
   {
    "duration": 3,
    "start_time": "2023-06-19T14:11:15.326Z"
   },
   {
    "duration": 18,
    "start_time": "2023-06-19T14:11:15.331Z"
   },
   {
    "duration": 14097,
    "start_time": "2023-06-19T14:11:15.351Z"
   },
   {
    "duration": 3,
    "start_time": "2023-06-19T14:11:29.450Z"
   },
   {
    "duration": 83,
    "start_time": "2023-06-19T14:11:29.458Z"
   },
   {
    "duration": 20,
    "start_time": "2023-06-19T14:11:29.543Z"
   },
   {
    "duration": 4,
    "start_time": "2023-06-19T14:11:29.565Z"
   },
   {
    "duration": 37,
    "start_time": "2023-06-19T14:11:29.571Z"
   },
   {
    "duration": 6,
    "start_time": "2023-06-19T14:11:29.611Z"
   },
   {
    "duration": 6,
    "start_time": "2023-06-19T14:11:29.618Z"
   },
   {
    "duration": 22,
    "start_time": "2023-06-19T14:11:29.625Z"
   },
   {
    "duration": 35,
    "start_time": "2023-06-19T14:11:29.649Z"
   },
   {
    "duration": 3,
    "start_time": "2023-06-19T14:11:29.686Z"
   },
   {
    "duration": 103,
    "start_time": "2023-06-19T14:11:29.691Z"
   },
   {
    "duration": 7,
    "start_time": "2023-06-19T14:11:29.797Z"
   },
   {
    "duration": 6,
    "start_time": "2023-06-19T14:11:29.805Z"
   },
   {
    "duration": 10,
    "start_time": "2023-06-19T14:11:29.812Z"
   },
   {
    "duration": 20,
    "start_time": "2023-06-19T14:11:29.824Z"
   },
   {
    "duration": 14,
    "start_time": "2023-06-19T14:11:29.846Z"
   },
   {
    "duration": 144,
    "start_time": "2023-06-19T14:11:29.862Z"
   },
   {
    "duration": 5,
    "start_time": "2023-06-19T14:11:30.008Z"
   },
   {
    "duration": 22,
    "start_time": "2023-06-19T14:11:30.015Z"
   },
   {
    "duration": 66,
    "start_time": "2023-06-19T14:11:30.038Z"
   },
   {
    "duration": 30,
    "start_time": "2023-06-19T14:11:30.106Z"
   },
   {
    "duration": 38,
    "start_time": "2023-06-19T14:11:30.138Z"
   },
   {
    "duration": 153,
    "start_time": "2023-06-19T14:11:30.178Z"
   },
   {
    "duration": 5,
    "start_time": "2023-06-19T14:11:30.336Z"
   },
   {
    "duration": 58,
    "start_time": "2023-06-19T14:11:30.343Z"
   },
   {
    "duration": 323,
    "start_time": "2023-06-19T14:11:30.403Z"
   },
   {
    "duration": 232,
    "start_time": "2023-06-19T14:11:30.728Z"
   },
   {
    "duration": 8,
    "start_time": "2023-06-19T14:11:30.961Z"
   },
   {
    "duration": 271,
    "start_time": "2023-06-19T14:11:30.971Z"
   },
   {
    "duration": 13,
    "start_time": "2023-06-19T14:11:31.243Z"
   },
   {
    "duration": 466,
    "start_time": "2023-06-19T14:11:31.262Z"
   },
   {
    "duration": 3,
    "start_time": "2023-06-19T14:11:31.729Z"
   },
   {
    "duration": 267,
    "start_time": "2023-06-19T14:11:31.734Z"
   },
   {
    "duration": 7,
    "start_time": "2023-06-19T14:11:32.003Z"
   },
   {
    "duration": 254,
    "start_time": "2023-06-19T14:11:32.012Z"
   },
   {
    "duration": 3,
    "start_time": "2023-06-19T14:11:32.267Z"
   },
   {
    "duration": 10892,
    "start_time": "2023-06-19T14:11:32.278Z"
   },
   {
    "duration": 497,
    "start_time": "2023-06-19T14:11:43.172Z"
   },
   {
    "duration": 6,
    "start_time": "2023-06-19T14:11:43.671Z"
   },
   {
    "duration": 382,
    "start_time": "2023-06-19T14:11:43.679Z"
   },
   {
    "duration": 84,
    "start_time": "2023-06-19T14:11:44.064Z"
   },
   {
    "duration": 154,
    "start_time": "2023-06-19T14:11:44.150Z"
   },
   {
    "duration": 8,
    "start_time": "2023-06-19T14:11:44.306Z"
   },
   {
    "duration": 109,
    "start_time": "2023-06-19T14:11:44.316Z"
   },
   {
    "duration": 149,
    "start_time": "2023-06-19T14:11:44.428Z"
   },
   {
    "duration": 160,
    "start_time": "2023-06-19T14:15:02.519Z"
   },
   {
    "duration": 155,
    "start_time": "2023-06-19T14:15:06.246Z"
   },
   {
    "duration": 138,
    "start_time": "2023-06-19T14:15:18.579Z"
   },
   {
    "duration": 145,
    "start_time": "2023-06-19T14:15:23.421Z"
   },
   {
    "duration": 147,
    "start_time": "2023-06-19T14:16:00.945Z"
   },
   {
    "duration": 130,
    "start_time": "2023-06-19T14:16:09.904Z"
   },
   {
    "duration": 312,
    "start_time": "2023-06-19T14:16:25.171Z"
   },
   {
    "duration": 155,
    "start_time": "2023-06-19T14:16:54.124Z"
   },
   {
    "duration": 129,
    "start_time": "2023-06-19T14:17:12.191Z"
   },
   {
    "duration": 323,
    "start_time": "2023-06-19T14:18:17.777Z"
   },
   {
    "duration": 17,
    "start_time": "2023-06-19T14:23:26.794Z"
   },
   {
    "duration": 14,
    "start_time": "2023-06-19T14:25:37.432Z"
   },
   {
    "duration": 5,
    "start_time": "2023-06-19T14:25:58.575Z"
   },
   {
    "duration": 134,
    "start_time": "2023-06-19T14:26:53.875Z"
   },
   {
    "duration": 453,
    "start_time": "2023-06-19T14:27:25.131Z"
   },
   {
    "duration": 97,
    "start_time": "2023-06-19T14:28:24.522Z"
   },
   {
    "duration": 359,
    "start_time": "2023-06-19T14:28:27.049Z"
   },
   {
    "duration": 415,
    "start_time": "2023-06-19T14:28:35.632Z"
   },
   {
    "duration": 13,
    "start_time": "2023-06-19T14:30:59.716Z"
   },
   {
    "duration": 16,
    "start_time": "2023-06-19T14:31:07.369Z"
   },
   {
    "duration": 299,
    "start_time": "2023-06-19T14:33:51.176Z"
   },
   {
    "duration": 10,
    "start_time": "2023-06-19T14:33:58.813Z"
   },
   {
    "duration": 301,
    "start_time": "2023-06-19T14:34:13.375Z"
   },
   {
    "duration": 15,
    "start_time": "2023-06-19T14:34:25.224Z"
   },
   {
    "duration": 14,
    "start_time": "2023-06-19T14:35:26.778Z"
   },
   {
    "duration": 15,
    "start_time": "2023-06-19T14:35:35.420Z"
   },
   {
    "duration": 15,
    "start_time": "2023-06-19T14:35:46.570Z"
   },
   {
    "duration": 1465,
    "start_time": "2023-06-19T14:36:35.296Z"
   },
   {
    "duration": 2,
    "start_time": "2023-06-19T14:36:36.763Z"
   },
   {
    "duration": 17,
    "start_time": "2023-06-19T14:36:36.767Z"
   },
   {
    "duration": 9319,
    "start_time": "2023-06-19T14:36:36.788Z"
   },
   {
    "duration": 3,
    "start_time": "2023-06-19T14:36:46.109Z"
   },
   {
    "duration": 39,
    "start_time": "2023-06-19T14:36:46.114Z"
   },
   {
    "duration": 17,
    "start_time": "2023-06-19T14:36:46.157Z"
   },
   {
    "duration": 4,
    "start_time": "2023-06-19T14:36:46.179Z"
   },
   {
    "duration": 33,
    "start_time": "2023-06-19T14:36:46.184Z"
   },
   {
    "duration": 15,
    "start_time": "2023-06-19T14:36:46.220Z"
   },
   {
    "duration": 15,
    "start_time": "2023-06-19T14:36:46.236Z"
   },
   {
    "duration": 23,
    "start_time": "2023-06-19T14:36:46.260Z"
   },
   {
    "duration": 35,
    "start_time": "2023-06-19T14:36:46.285Z"
   },
   {
    "duration": 9,
    "start_time": "2023-06-19T14:36:46.322Z"
   },
   {
    "duration": 76,
    "start_time": "2023-06-19T14:36:46.333Z"
   },
   {
    "duration": 5,
    "start_time": "2023-06-19T14:36:46.411Z"
   },
   {
    "duration": 6,
    "start_time": "2023-06-19T14:36:46.418Z"
   },
   {
    "duration": 34,
    "start_time": "2023-06-19T14:36:46.426Z"
   },
   {
    "duration": 38,
    "start_time": "2023-06-19T14:36:46.462Z"
   },
   {
    "duration": 3,
    "start_time": "2023-06-19T14:36:46.502Z"
   },
   {
    "duration": 99,
    "start_time": "2023-06-19T14:36:46.507Z"
   },
   {
    "duration": 7,
    "start_time": "2023-06-19T14:36:46.608Z"
   },
   {
    "duration": 3,
    "start_time": "2023-06-19T14:36:46.617Z"
   },
   {
    "duration": 8,
    "start_time": "2023-06-19T14:36:46.622Z"
   },
   {
    "duration": 15,
    "start_time": "2023-06-19T14:36:46.631Z"
   },
   {
    "duration": 13,
    "start_time": "2023-06-19T14:36:46.648Z"
   },
   {
    "duration": 118,
    "start_time": "2023-06-19T14:36:46.671Z"
   },
   {
    "duration": 7,
    "start_time": "2023-06-19T14:36:46.793Z"
   },
   {
    "duration": 5,
    "start_time": "2023-06-19T14:36:46.801Z"
   },
   {
    "duration": 232,
    "start_time": "2023-06-19T14:36:46.807Z"
   },
   {
    "duration": 239,
    "start_time": "2023-06-19T14:36:47.040Z"
   },
   {
    "duration": 4,
    "start_time": "2023-06-19T14:36:47.280Z"
   },
   {
    "duration": 235,
    "start_time": "2023-06-19T14:36:47.285Z"
   },
   {
    "duration": 5,
    "start_time": "2023-06-19T14:36:47.522Z"
   },
   {
    "duration": 444,
    "start_time": "2023-06-19T14:36:47.530Z"
   },
   {
    "duration": 8,
    "start_time": "2023-06-19T14:36:47.975Z"
   },
   {
    "duration": 198,
    "start_time": "2023-06-19T14:36:47.984Z"
   },
   {
    "duration": 7,
    "start_time": "2023-06-19T14:36:48.183Z"
   },
   {
    "duration": 221,
    "start_time": "2023-06-19T14:36:48.192Z"
   },
   {
    "duration": 3,
    "start_time": "2023-06-19T14:36:48.415Z"
   },
   {
    "duration": 10579,
    "start_time": "2023-06-19T14:36:48.420Z"
   },
   {
    "duration": 538,
    "start_time": "2023-06-19T14:36:59.001Z"
   },
   {
    "duration": 10,
    "start_time": "2023-06-19T14:36:59.541Z"
   },
   {
    "duration": 407,
    "start_time": "2023-06-19T14:36:59.555Z"
   },
   {
    "duration": 76,
    "start_time": "2023-06-19T14:36:59.964Z"
   },
   {
    "duration": 188,
    "start_time": "2023-06-19T14:37:00.042Z"
   },
   {
    "duration": 4,
    "start_time": "2023-06-19T14:37:00.232Z"
   },
   {
    "duration": 98,
    "start_time": "2023-06-19T14:37:00.238Z"
   },
   {
    "duration": 178,
    "start_time": "2023-06-19T14:37:00.339Z"
   },
   {
    "duration": 376,
    "start_time": "2023-06-19T14:37:00.519Z"
   },
   {
    "duration": 21,
    "start_time": "2023-06-19T14:37:00.897Z"
   },
   {
    "duration": 25,
    "start_time": "2023-06-19T14:37:00.920Z"
   },
   {
    "duration": 39,
    "start_time": "2023-06-19T14:37:00.947Z"
   },
   {
    "duration": 208,
    "start_time": "2023-06-19T14:37:00.988Z"
   },
   {
    "duration": 144,
    "start_time": "2023-06-19T14:37:06.185Z"
   },
   {
    "duration": 6,
    "start_time": "2023-06-19T16:59:33.641Z"
   },
   {
    "duration": 171,
    "start_time": "2023-06-19T16:59:39.908Z"
   },
   {
    "duration": 6,
    "start_time": "2023-06-19T17:00:01.743Z"
   },
   {
    "duration": 152,
    "start_time": "2023-06-19T17:00:09.975Z"
   },
   {
    "duration": 110,
    "start_time": "2023-06-19T17:03:39.910Z"
   },
   {
    "duration": 6,
    "start_time": "2023-06-19T17:03:53.610Z"
   },
   {
    "duration": 80,
    "start_time": "2023-06-19T17:04:06.595Z"
   },
   {
    "duration": 142,
    "start_time": "2023-06-19T17:30:26.984Z"
   },
   {
    "duration": 102,
    "start_time": "2023-06-19T17:33:47.531Z"
   },
   {
    "duration": 72,
    "start_time": "2023-06-19T17:33:59.436Z"
   },
   {
    "duration": 115,
    "start_time": "2023-06-19T17:37:29.877Z"
   },
   {
    "duration": 54,
    "start_time": "2023-06-19T17:37:38.101Z"
   },
   {
    "duration": 142,
    "start_time": "2023-06-19T17:38:40.087Z"
   },
   {
    "duration": 106,
    "start_time": "2023-06-19T17:40:16.690Z"
   },
   {
    "duration": 55,
    "start_time": "2023-06-19T17:40:24.492Z"
   },
   {
    "duration": 171,
    "start_time": "2023-06-19T17:40:41.109Z"
   },
   {
    "duration": 67,
    "start_time": "2023-06-19T17:42:29.218Z"
   },
   {
    "duration": 48,
    "start_time": "2023-06-20T07:58:42.199Z"
   },
   {
    "duration": 1425,
    "start_time": "2023-06-20T07:58:53.415Z"
   },
   {
    "duration": 3,
    "start_time": "2023-06-20T07:58:54.842Z"
   },
   {
    "duration": 6,
    "start_time": "2023-06-20T07:58:54.855Z"
   },
   {
    "duration": 7530,
    "start_time": "2023-06-20T07:58:54.863Z"
   },
   {
    "duration": 3,
    "start_time": "2023-06-20T07:59:02.395Z"
   },
   {
    "duration": 86,
    "start_time": "2023-06-20T07:59:02.399Z"
   },
   {
    "duration": 10,
    "start_time": "2023-06-20T07:59:02.487Z"
   },
   {
    "duration": 2,
    "start_time": "2023-06-20T07:59:02.499Z"
   },
   {
    "duration": 20,
    "start_time": "2023-06-20T07:59:02.502Z"
   },
   {
    "duration": 5,
    "start_time": "2023-06-20T07:59:02.524Z"
   },
   {
    "duration": 11,
    "start_time": "2023-06-20T07:59:02.531Z"
   },
   {
    "duration": 36,
    "start_time": "2023-06-20T07:59:02.543Z"
   },
   {
    "duration": 9,
    "start_time": "2023-06-20T07:59:02.580Z"
   },
   {
    "duration": 5,
    "start_time": "2023-06-20T07:59:02.592Z"
   },
   {
    "duration": 58,
    "start_time": "2023-06-20T07:59:02.599Z"
   },
   {
    "duration": 5,
    "start_time": "2023-06-20T07:59:02.659Z"
   },
   {
    "duration": 10,
    "start_time": "2023-06-20T07:59:02.666Z"
   },
   {
    "duration": 13,
    "start_time": "2023-06-20T07:59:02.677Z"
   },
   {
    "duration": 18,
    "start_time": "2023-06-20T07:59:02.691Z"
   },
   {
    "duration": 18,
    "start_time": "2023-06-20T07:59:02.711Z"
   },
   {
    "duration": 123,
    "start_time": "2023-06-20T07:59:02.730Z"
   },
   {
    "duration": 7,
    "start_time": "2023-06-20T07:59:02.855Z"
   },
   {
    "duration": 14,
    "start_time": "2023-06-20T07:59:02.863Z"
   },
   {
    "duration": 17,
    "start_time": "2023-06-20T07:59:02.879Z"
   },
   {
    "duration": 17,
    "start_time": "2023-06-20T07:59:02.898Z"
   },
   {
    "duration": 15,
    "start_time": "2023-06-20T07:59:02.917Z"
   },
   {
    "duration": 126,
    "start_time": "2023-06-20T07:59:02.933Z"
   },
   {
    "duration": 5,
    "start_time": "2023-06-20T07:59:03.062Z"
   },
   {
    "duration": 17,
    "start_time": "2023-06-20T07:59:03.068Z"
   },
   {
    "duration": 236,
    "start_time": "2023-06-20T07:59:03.087Z"
   },
   {
    "duration": 182,
    "start_time": "2023-06-20T07:59:03.325Z"
   },
   {
    "duration": 2,
    "start_time": "2023-06-20T07:59:03.509Z"
   },
   {
    "duration": 220,
    "start_time": "2023-06-20T07:59:03.513Z"
   },
   {
    "duration": 7,
    "start_time": "2023-06-20T07:59:03.736Z"
   },
   {
    "duration": 424,
    "start_time": "2023-06-20T07:59:03.745Z"
   },
   {
    "duration": 2,
    "start_time": "2023-06-20T07:59:04.172Z"
   },
   {
    "duration": 205,
    "start_time": "2023-06-20T07:59:04.177Z"
   },
   {
    "duration": 7,
    "start_time": "2023-06-20T07:59:04.384Z"
   },
   {
    "duration": 164,
    "start_time": "2023-06-20T07:59:04.393Z"
   },
   {
    "duration": 3,
    "start_time": "2023-06-20T07:59:04.559Z"
   },
   {
    "duration": 9092,
    "start_time": "2023-06-20T07:59:04.565Z"
   },
   {
    "duration": 447,
    "start_time": "2023-06-20T07:59:13.659Z"
   },
   {
    "duration": 3,
    "start_time": "2023-06-20T07:59:14.108Z"
   },
   {
    "duration": 352,
    "start_time": "2023-06-20T07:59:14.112Z"
   },
   {
    "duration": 62,
    "start_time": "2023-06-20T07:59:14.466Z"
   },
   {
    "duration": 142,
    "start_time": "2023-06-20T07:59:14.530Z"
   },
   {
    "duration": 5,
    "start_time": "2023-06-20T07:59:14.673Z"
   },
   {
    "duration": 55,
    "start_time": "2023-06-20T07:59:14.680Z"
   },
   {
    "duration": 149,
    "start_time": "2023-06-20T07:59:14.737Z"
   },
   {
    "duration": 305,
    "start_time": "2023-06-20T07:59:14.888Z"
   },
   {
    "duration": 15,
    "start_time": "2023-06-20T07:59:15.195Z"
   },
   {
    "duration": 13,
    "start_time": "2023-06-20T07:59:15.212Z"
   },
   {
    "duration": 28,
    "start_time": "2023-06-20T07:59:15.227Z"
   },
   {
    "duration": 5,
    "start_time": "2023-06-20T07:59:15.257Z"
   },
   {
    "duration": 100,
    "start_time": "2023-06-20T07:59:15.263Z"
   },
   {
    "duration": 59,
    "start_time": "2023-06-20T07:59:15.365Z"
   },
   {
    "duration": 135,
    "start_time": "2023-06-20T07:59:15.426Z"
   },
   {
    "duration": 81,
    "start_time": "2023-06-20T07:59:15.562Z"
   },
   {
    "duration": 43,
    "start_time": "2023-06-20T07:59:15.654Z"
   },
   {
    "duration": 94,
    "start_time": "2023-06-20T07:59:15.698Z"
   },
   {
    "duration": 43,
    "start_time": "2023-06-20T07:59:15.794Z"
   },
   {
    "duration": 122,
    "start_time": "2023-06-20T07:59:15.855Z"
   },
   {
    "duration": 95,
    "start_time": "2023-06-20T07:59:15.979Z"
   },
   {
    "duration": 64,
    "start_time": "2023-06-20T07:59:16.076Z"
   },
   {
    "duration": 135,
    "start_time": "2023-06-20T07:59:16.142Z"
   },
   {
    "duration": 16,
    "start_time": "2023-06-20T07:59:22.464Z"
   },
   {
    "duration": 6,
    "start_time": "2023-06-20T07:59:58.940Z"
   },
   {
    "duration": 122,
    "start_time": "2023-06-20T08:03:04.493Z"
   },
   {
    "duration": 85,
    "start_time": "2023-06-20T08:03:31.364Z"
   },
   {
    "duration": 40,
    "start_time": "2023-06-20T08:04:27.629Z"
   },
   {
    "duration": 45,
    "start_time": "2023-06-20T08:33:16.591Z"
   },
   {
    "duration": 73,
    "start_time": "2023-06-20T08:33:39.180Z"
   },
   {
    "duration": 336,
    "start_time": "2023-06-20T08:33:43.313Z"
   },
   {
    "duration": 59,
    "start_time": "2023-06-20T08:34:46.237Z"
   },
   {
    "duration": 77,
    "start_time": "2023-06-20T08:35:09.566Z"
   },
   {
    "duration": 74,
    "start_time": "2023-06-20T08:35:48.415Z"
   },
   {
    "duration": 73,
    "start_time": "2023-06-20T08:36:31.058Z"
   },
   {
    "duration": 67,
    "start_time": "2023-06-20T08:36:56.610Z"
   },
   {
    "duration": 61,
    "start_time": "2023-06-20T08:37:06.080Z"
   },
   {
    "duration": 58,
    "start_time": "2023-06-20T08:37:15.258Z"
   },
   {
    "duration": 60,
    "start_time": "2023-06-20T08:37:37.049Z"
   },
   {
    "duration": 59,
    "start_time": "2023-06-20T08:39:19.077Z"
   },
   {
    "duration": 111,
    "start_time": "2023-06-20T08:40:07.702Z"
   },
   {
    "duration": 58,
    "start_time": "2023-06-20T08:40:24.998Z"
   },
   {
    "duration": 60,
    "start_time": "2023-06-20T08:41:29.995Z"
   },
   {
    "duration": 56,
    "start_time": "2023-06-20T08:42:03.434Z"
   },
   {
    "duration": 4,
    "start_time": "2023-06-20T08:46:36.831Z"
   },
   {
    "duration": 3,
    "start_time": "2023-06-20T08:47:14.923Z"
   },
   {
    "duration": 4,
    "start_time": "2023-06-20T08:48:29.270Z"
   },
   {
    "duration": 62,
    "start_time": "2023-06-20T08:53:02.818Z"
   },
   {
    "duration": 73,
    "start_time": "2023-06-20T08:53:13.689Z"
   },
   {
    "duration": 122,
    "start_time": "2023-06-20T08:53:57.250Z"
   },
   {
    "duration": 157,
    "start_time": "2023-06-20T08:54:16.760Z"
   },
   {
    "duration": 130,
    "start_time": "2023-06-20T08:54:24.678Z"
   },
   {
    "duration": 110,
    "start_time": "2023-06-20T08:56:43.311Z"
   },
   {
    "duration": 38,
    "start_time": "2023-06-20T08:58:02.777Z"
   },
   {
    "duration": 3,
    "start_time": "2023-06-20T09:00:39.200Z"
   },
   {
    "duration": 44,
    "start_time": "2023-06-20T09:00:45.927Z"
   },
   {
    "duration": 82,
    "start_time": "2023-06-20T09:02:23.548Z"
   },
   {
    "duration": 36,
    "start_time": "2023-06-20T09:02:24.873Z"
   },
   {
    "duration": 85,
    "start_time": "2023-06-20T09:09:26.436Z"
   },
   {
    "duration": 90,
    "start_time": "2023-06-20T09:09:49.625Z"
   },
   {
    "duration": 65,
    "start_time": "2023-06-20T09:10:31.576Z"
   },
   {
    "duration": 61,
    "start_time": "2023-06-20T09:11:00.875Z"
   },
   {
    "duration": 64,
    "start_time": "2023-06-20T09:11:09.351Z"
   },
   {
    "duration": 5,
    "start_time": "2023-06-20T09:11:31.481Z"
   },
   {
    "duration": 6,
    "start_time": "2023-06-20T09:11:40.050Z"
   },
   {
    "duration": 78,
    "start_time": "2023-06-20T09:11:57.145Z"
   },
   {
    "duration": 114,
    "start_time": "2023-06-20T09:13:09.135Z"
   },
   {
    "duration": 1261,
    "start_time": "2023-06-20T09:13:55.610Z"
   },
   {
    "duration": 3,
    "start_time": "2023-06-20T09:13:56.874Z"
   },
   {
    "duration": 13,
    "start_time": "2023-06-20T09:13:56.878Z"
   },
   {
    "duration": 9070,
    "start_time": "2023-06-20T09:13:56.892Z"
   },
   {
    "duration": 6,
    "start_time": "2023-06-20T09:14:05.963Z"
   },
   {
    "duration": 111,
    "start_time": "2023-06-20T09:14:05.970Z"
   },
   {
    "duration": 9,
    "start_time": "2023-06-20T09:14:06.083Z"
   },
   {
    "duration": 12,
    "start_time": "2023-06-20T09:14:06.094Z"
   },
   {
    "duration": 43,
    "start_time": "2023-06-20T09:14:06.107Z"
   },
   {
    "duration": 27,
    "start_time": "2023-06-20T09:14:06.153Z"
   },
   {
    "duration": 29,
    "start_time": "2023-06-20T09:14:06.181Z"
   },
   {
    "duration": 39,
    "start_time": "2023-06-20T09:14:06.212Z"
   },
   {
    "duration": 32,
    "start_time": "2023-06-20T09:14:06.253Z"
   },
   {
    "duration": 32,
    "start_time": "2023-06-20T09:14:06.287Z"
   },
   {
    "duration": 79,
    "start_time": "2023-06-20T09:14:06.320Z"
   },
   {
    "duration": 6,
    "start_time": "2023-06-20T09:14:06.400Z"
   },
   {
    "duration": 15,
    "start_time": "2023-06-20T09:14:06.408Z"
   },
   {
    "duration": 22,
    "start_time": "2023-06-20T09:14:06.425Z"
   },
   {
    "duration": 49,
    "start_time": "2023-06-20T09:14:06.448Z"
   },
   {
    "duration": 17,
    "start_time": "2023-06-20T09:14:06.499Z"
   },
   {
    "duration": 117,
    "start_time": "2023-06-20T09:14:06.519Z"
   },
   {
    "duration": 6,
    "start_time": "2023-06-20T09:14:06.638Z"
   },
   {
    "duration": 5,
    "start_time": "2023-06-20T09:14:06.646Z"
   },
   {
    "duration": 30,
    "start_time": "2023-06-20T09:14:06.652Z"
   },
   {
    "duration": 30,
    "start_time": "2023-06-20T09:14:06.684Z"
   },
   {
    "duration": 15,
    "start_time": "2023-06-20T09:14:06.716Z"
   },
   {
    "duration": 139,
    "start_time": "2023-06-20T09:14:06.733Z"
   },
   {
    "duration": 5,
    "start_time": "2023-06-20T09:14:06.877Z"
   },
   {
    "duration": 15,
    "start_time": "2023-06-20T09:14:06.884Z"
   },
   {
    "duration": 251,
    "start_time": "2023-06-20T09:14:06.901Z"
   },
   {
    "duration": 247,
    "start_time": "2023-06-20T09:14:07.154Z"
   },
   {
    "duration": 3,
    "start_time": "2023-06-20T09:14:07.403Z"
   },
   {
    "duration": 241,
    "start_time": "2023-06-20T09:14:07.408Z"
   },
   {
    "duration": 10,
    "start_time": "2023-06-20T09:14:07.652Z"
   },
   {
    "duration": 440,
    "start_time": "2023-06-20T09:14:07.667Z"
   },
   {
    "duration": 3,
    "start_time": "2023-06-20T09:14:08.109Z"
   },
   {
    "duration": 208,
    "start_time": "2023-06-20T09:14:08.113Z"
   },
   {
    "duration": 7,
    "start_time": "2023-06-20T09:14:08.323Z"
   },
   {
    "duration": 225,
    "start_time": "2023-06-20T09:14:08.332Z"
   },
   {
    "duration": 3,
    "start_time": "2023-06-20T09:14:08.565Z"
   },
   {
    "duration": 8726,
    "start_time": "2023-06-20T09:14:08.569Z"
   },
   {
    "duration": 522,
    "start_time": "2023-06-20T09:14:17.296Z"
   },
   {
    "duration": 5,
    "start_time": "2023-06-20T09:14:17.820Z"
   },
   {
    "duration": 382,
    "start_time": "2023-06-20T09:14:17.827Z"
   },
   {
    "duration": 70,
    "start_time": "2023-06-20T09:14:18.211Z"
   },
   {
    "duration": 175,
    "start_time": "2023-06-20T09:14:18.284Z"
   },
   {
    "duration": 14,
    "start_time": "2023-06-20T09:14:18.460Z"
   },
   {
    "duration": 87,
    "start_time": "2023-06-20T09:14:18.476Z"
   },
   {
    "duration": 204,
    "start_time": "2023-06-20T09:14:18.564Z"
   },
   {
    "duration": 311,
    "start_time": "2023-06-20T09:14:18.774Z"
   },
   {
    "duration": 18,
    "start_time": "2023-06-20T09:14:19.087Z"
   },
   {
    "duration": 32,
    "start_time": "2023-06-20T09:14:19.108Z"
   },
   {
    "duration": 17,
    "start_time": "2023-06-20T09:14:19.142Z"
   },
   {
    "duration": 22,
    "start_time": "2023-06-20T09:14:19.163Z"
   },
   {
    "duration": 105,
    "start_time": "2023-06-20T09:14:19.187Z"
   },
   {
    "duration": 79,
    "start_time": "2023-06-20T09:14:19.294Z"
   },
   {
    "duration": 143,
    "start_time": "2023-06-20T09:14:19.375Z"
   },
   {
    "duration": 110,
    "start_time": "2023-06-20T09:14:19.520Z"
   },
   {
    "duration": 66,
    "start_time": "2023-06-20T09:14:19.632Z"
   },
   {
    "duration": 94,
    "start_time": "2023-06-20T09:14:19.699Z"
   },
   {
    "duration": 71,
    "start_time": "2023-06-20T09:14:19.795Z"
   },
   {
    "duration": 135,
    "start_time": "2023-06-20T09:14:19.868Z"
   },
   {
    "duration": 115,
    "start_time": "2023-06-20T09:14:20.006Z"
   },
   {
    "duration": 67,
    "start_time": "2023-06-20T09:14:20.123Z"
   },
   {
    "duration": 147,
    "start_time": "2023-06-20T09:14:20.192Z"
   },
   {
    "duration": 29,
    "start_time": "2023-06-20T09:14:20.341Z"
   },
   {
    "duration": 11,
    "start_time": "2023-06-20T09:14:20.374Z"
   },
   {
    "duration": 172,
    "start_time": "2023-06-20T09:14:20.387Z"
   },
   {
    "duration": 74,
    "start_time": "2023-06-20T09:14:20.569Z"
   },
   {
    "duration": 56,
    "start_time": "2023-06-20T09:14:20.644Z"
   },
   {
    "duration": 72,
    "start_time": "2023-06-20T09:14:20.702Z"
   },
   {
    "duration": 94,
    "start_time": "2023-06-20T09:14:20.776Z"
   },
   {
    "duration": 4,
    "start_time": "2023-06-20T09:14:20.871Z"
   },
   {
    "duration": 16,
    "start_time": "2023-06-20T09:14:20.877Z"
   },
   {
    "duration": 141,
    "start_time": "2023-06-20T09:14:20.895Z"
   },
   {
    "duration": 44,
    "start_time": "2023-06-20T09:14:21.038Z"
   },
   {
    "duration": 115,
    "start_time": "2023-06-20T09:14:21.084Z"
   },
   {
    "duration": 39,
    "start_time": "2023-06-20T09:14:21.200Z"
   },
   {
    "duration": 72,
    "start_time": "2023-06-20T09:14:21.240Z"
   },
   {
    "duration": 162,
    "start_time": "2023-06-20T09:14:48.232Z"
   },
   {
    "duration": 138,
    "start_time": "2023-06-20T09:14:55.628Z"
   },
   {
    "duration": 1232,
    "start_time": "2023-06-20T09:15:38.840Z"
   },
   {
    "duration": 2,
    "start_time": "2023-06-20T09:15:40.074Z"
   },
   {
    "duration": 8,
    "start_time": "2023-06-20T09:15:40.078Z"
   },
   {
    "duration": 8638,
    "start_time": "2023-06-20T09:15:40.087Z"
   },
   {
    "duration": 3,
    "start_time": "2023-06-20T09:15:48.727Z"
   },
   {
    "duration": 45,
    "start_time": "2023-06-20T09:15:48.732Z"
   },
   {
    "duration": 11,
    "start_time": "2023-06-20T09:15:48.779Z"
   },
   {
    "duration": 3,
    "start_time": "2023-06-20T09:15:48.791Z"
   },
   {
    "duration": 8,
    "start_time": "2023-06-20T09:15:48.795Z"
   },
   {
    "duration": 9,
    "start_time": "2023-06-20T09:15:48.804Z"
   },
   {
    "duration": 4,
    "start_time": "2023-06-20T09:15:48.815Z"
   },
   {
    "duration": 15,
    "start_time": "2023-06-20T09:15:48.820Z"
   },
   {
    "duration": 8,
    "start_time": "2023-06-20T09:15:48.837Z"
   },
   {
    "duration": 20,
    "start_time": "2023-06-20T09:15:48.848Z"
   },
   {
    "duration": 47,
    "start_time": "2023-06-20T09:15:48.871Z"
   },
   {
    "duration": 5,
    "start_time": "2023-06-20T09:15:48.920Z"
   },
   {
    "duration": 7,
    "start_time": "2023-06-20T09:15:48.927Z"
   },
   {
    "duration": 9,
    "start_time": "2023-06-20T09:15:48.936Z"
   },
   {
    "duration": 27,
    "start_time": "2023-06-20T09:15:48.947Z"
   },
   {
    "duration": 2,
    "start_time": "2023-06-20T09:15:48.976Z"
   },
   {
    "duration": 94,
    "start_time": "2023-06-20T09:15:48.980Z"
   },
   {
    "duration": 7,
    "start_time": "2023-06-20T09:15:49.076Z"
   },
   {
    "duration": 3,
    "start_time": "2023-06-20T09:15:49.085Z"
   },
   {
    "duration": 8,
    "start_time": "2023-06-20T09:15:49.090Z"
   },
   {
    "duration": 14,
    "start_time": "2023-06-20T09:15:49.100Z"
   },
   {
    "duration": 3,
    "start_time": "2023-06-20T09:15:49.116Z"
   },
   {
    "duration": 111,
    "start_time": "2023-06-20T09:15:49.120Z"
   },
   {
    "duration": 5,
    "start_time": "2023-06-20T09:15:49.233Z"
   },
   {
    "duration": 6,
    "start_time": "2023-06-20T09:15:49.240Z"
   },
   {
    "duration": 259,
    "start_time": "2023-06-20T09:15:49.247Z"
   },
   {
    "duration": 185,
    "start_time": "2023-06-20T09:15:49.508Z"
   },
   {
    "duration": 3,
    "start_time": "2023-06-20T09:15:49.695Z"
   },
   {
    "duration": 219,
    "start_time": "2023-06-20T09:15:49.699Z"
   },
   {
    "duration": 5,
    "start_time": "2023-06-20T09:15:49.919Z"
   },
   {
    "duration": 419,
    "start_time": "2023-06-20T09:15:49.926Z"
   },
   {
    "duration": 16,
    "start_time": "2023-06-20T09:15:50.347Z"
   },
   {
    "duration": 180,
    "start_time": "2023-06-20T09:15:50.370Z"
   },
   {
    "duration": 19,
    "start_time": "2023-06-20T09:15:50.551Z"
   },
   {
    "duration": 167,
    "start_time": "2023-06-20T09:15:50.571Z"
   },
   {
    "duration": 2,
    "start_time": "2023-06-20T09:15:50.740Z"
   },
   {
    "duration": 9164,
    "start_time": "2023-06-20T09:15:50.755Z"
   },
   {
    "duration": 511,
    "start_time": "2023-06-20T09:15:59.921Z"
   },
   {
    "duration": 4,
    "start_time": "2023-06-20T09:16:00.433Z"
   },
   {
    "duration": 385,
    "start_time": "2023-06-20T09:16:00.438Z"
   },
   {
    "duration": 73,
    "start_time": "2023-06-20T09:16:00.825Z"
   },
   {
    "duration": 150,
    "start_time": "2023-06-20T09:16:00.900Z"
   },
   {
    "duration": 18,
    "start_time": "2023-06-20T09:16:01.054Z"
   },
   {
    "duration": 71,
    "start_time": "2023-06-20T09:16:01.074Z"
   },
   {
    "duration": 155,
    "start_time": "2023-06-20T09:16:01.147Z"
   },
   {
    "duration": 314,
    "start_time": "2023-06-20T09:16:01.303Z"
   },
   {
    "duration": 13,
    "start_time": "2023-06-20T09:16:01.619Z"
   },
   {
    "duration": 30,
    "start_time": "2023-06-20T09:16:01.634Z"
   },
   {
    "duration": 8,
    "start_time": "2023-06-20T09:16:01.666Z"
   },
   {
    "duration": 14,
    "start_time": "2023-06-20T09:16:01.676Z"
   },
   {
    "duration": 130,
    "start_time": "2023-06-20T09:16:01.692Z"
   },
   {
    "duration": 57,
    "start_time": "2023-06-20T09:16:01.823Z"
   },
   {
    "duration": 136,
    "start_time": "2023-06-20T09:16:01.882Z"
   },
   {
    "duration": 147,
    "start_time": "2023-06-20T09:16:02.020Z"
   },
   {
    "duration": 45,
    "start_time": "2023-06-20T09:16:02.169Z"
   },
   {
    "duration": 95,
    "start_time": "2023-06-20T09:16:02.215Z"
   },
   {
    "duration": 72,
    "start_time": "2023-06-20T09:16:02.312Z"
   },
   {
    "duration": 147,
    "start_time": "2023-06-20T09:16:02.386Z"
   },
   {
    "duration": 106,
    "start_time": "2023-06-20T09:16:02.536Z"
   },
   {
    "duration": 79,
    "start_time": "2023-06-20T09:16:02.644Z"
   },
   {
    "duration": 144,
    "start_time": "2023-06-20T09:16:02.724Z"
   },
   {
    "duration": 11,
    "start_time": "2023-06-20T09:16:02.870Z"
   },
   {
    "duration": 7,
    "start_time": "2023-06-20T09:16:02.882Z"
   },
   {
    "duration": 147,
    "start_time": "2023-06-20T09:16:02.890Z"
   },
   {
    "duration": 85,
    "start_time": "2023-06-20T09:16:03.039Z"
   },
   {
    "duration": 82,
    "start_time": "2023-06-20T09:16:03.125Z"
   },
   {
    "duration": 68,
    "start_time": "2023-06-20T09:16:03.210Z"
   },
   {
    "duration": 72,
    "start_time": "2023-06-20T09:16:03.280Z"
   },
   {
    "duration": 15,
    "start_time": "2023-06-20T09:16:03.353Z"
   },
   {
    "duration": 4,
    "start_time": "2023-06-20T09:17:57.532Z"
   },
   {
    "duration": 154,
    "start_time": "2023-06-20T09:18:32.248Z"
   },
   {
    "duration": 142,
    "start_time": "2023-06-20T09:18:38.081Z"
   },
   {
    "duration": 46,
    "start_time": "2023-06-20T09:18:44.098Z"
   },
   {
    "duration": 89,
    "start_time": "2023-06-20T09:18:56.478Z"
   },
   {
    "duration": 36,
    "start_time": "2023-06-20T09:18:59.411Z"
   },
   {
    "duration": 76,
    "start_time": "2023-06-20T09:19:17.530Z"
   },
   {
    "duration": 144,
    "start_time": "2023-06-20T09:19:23.342Z"
   },
   {
    "duration": 156,
    "start_time": "2023-06-20T09:19:32.123Z"
   },
   {
    "duration": 129,
    "start_time": "2023-06-20T09:19:33.892Z"
   },
   {
    "duration": 1263,
    "start_time": "2023-06-20T09:19:50.922Z"
   },
   {
    "duration": 4,
    "start_time": "2023-06-20T09:19:52.187Z"
   },
   {
    "duration": 23,
    "start_time": "2023-06-20T09:19:52.192Z"
   },
   {
    "duration": 9128,
    "start_time": "2023-06-20T09:19:52.217Z"
   },
   {
    "duration": 3,
    "start_time": "2023-06-20T09:20:01.347Z"
   },
   {
    "duration": 94,
    "start_time": "2023-06-20T09:20:01.352Z"
   },
   {
    "duration": 101,
    "start_time": "2023-06-20T09:20:01.448Z"
   },
   {
    "duration": 47,
    "start_time": "2023-06-20T09:20:01.551Z"
   },
   {
    "duration": 30,
    "start_time": "2023-06-20T09:20:01.600Z"
   },
   {
    "duration": 18,
    "start_time": "2023-06-20T09:20:01.633Z"
   },
   {
    "duration": 46,
    "start_time": "2023-06-20T09:20:01.653Z"
   },
   {
    "duration": 36,
    "start_time": "2023-06-20T09:20:01.701Z"
   },
   {
    "duration": 51,
    "start_time": "2023-06-20T09:20:01.739Z"
   },
   {
    "duration": 25,
    "start_time": "2023-06-20T09:20:01.792Z"
   },
   {
    "duration": 74,
    "start_time": "2023-06-20T09:20:01.820Z"
   },
   {
    "duration": 12,
    "start_time": "2023-06-20T09:20:01.896Z"
   },
   {
    "duration": 53,
    "start_time": "2023-06-20T09:20:01.910Z"
   },
   {
    "duration": 44,
    "start_time": "2023-06-20T09:20:01.964Z"
   },
   {
    "duration": 59,
    "start_time": "2023-06-20T09:20:02.010Z"
   },
   {
    "duration": 157,
    "start_time": "2023-06-20T09:20:02.070Z"
   },
   {
    "duration": 163,
    "start_time": "2023-06-20T09:20:02.230Z"
   },
   {
    "duration": 6,
    "start_time": "2023-06-20T09:20:02.396Z"
   },
   {
    "duration": 15,
    "start_time": "2023-06-20T09:20:02.404Z"
   },
   {
    "duration": 15,
    "start_time": "2023-06-20T09:20:02.421Z"
   },
   {
    "duration": 35,
    "start_time": "2023-06-20T09:20:02.438Z"
   },
   {
    "duration": 34,
    "start_time": "2023-06-20T09:20:02.477Z"
   },
   {
    "duration": 124,
    "start_time": "2023-06-20T09:20:02.512Z"
   },
   {
    "duration": 7,
    "start_time": "2023-06-20T09:20:02.643Z"
   },
   {
    "duration": 5,
    "start_time": "2023-06-20T09:20:02.652Z"
   },
   {
    "duration": 240,
    "start_time": "2023-06-20T09:20:02.665Z"
   },
   {
    "duration": 211,
    "start_time": "2023-06-20T09:20:02.908Z"
   },
   {
    "duration": 3,
    "start_time": "2023-06-20T09:20:03.121Z"
   },
   {
    "duration": 240,
    "start_time": "2023-06-20T09:20:03.125Z"
   },
   {
    "duration": 14,
    "start_time": "2023-06-20T09:20:03.367Z"
   },
   {
    "duration": 458,
    "start_time": "2023-06-20T09:20:03.383Z"
   },
   {
    "duration": 3,
    "start_time": "2023-06-20T09:20:03.842Z"
   },
   {
    "duration": 200,
    "start_time": "2023-06-20T09:20:03.847Z"
   },
   {
    "duration": 16,
    "start_time": "2023-06-20T09:20:04.049Z"
   },
   {
    "duration": 192,
    "start_time": "2023-06-20T09:20:04.071Z"
   },
   {
    "duration": 3,
    "start_time": "2023-06-20T09:20:04.265Z"
   },
   {
    "duration": 8661,
    "start_time": "2023-06-20T09:20:04.269Z"
   },
   {
    "duration": 494,
    "start_time": "2023-06-20T09:20:12.932Z"
   },
   {
    "duration": 3,
    "start_time": "2023-06-20T09:20:13.428Z"
   },
   {
    "duration": 361,
    "start_time": "2023-06-20T09:20:13.433Z"
   },
   {
    "duration": 75,
    "start_time": "2023-06-20T09:20:13.796Z"
   },
   {
    "duration": 152,
    "start_time": "2023-06-20T09:20:13.872Z"
   },
   {
    "duration": 4,
    "start_time": "2023-06-20T09:20:14.026Z"
   },
   {
    "duration": 77,
    "start_time": "2023-06-20T09:20:14.032Z"
   },
   {
    "duration": 134,
    "start_time": "2023-06-20T09:20:14.110Z"
   },
   {
    "duration": 342,
    "start_time": "2023-06-20T09:20:14.246Z"
   },
   {
    "duration": 14,
    "start_time": "2023-06-20T09:20:14.590Z"
   },
   {
    "duration": 11,
    "start_time": "2023-06-20T09:20:14.605Z"
   },
   {
    "duration": 4,
    "start_time": "2023-06-20T09:20:14.618Z"
   },
   {
    "duration": 10,
    "start_time": "2023-06-20T09:20:14.624Z"
   },
   {
    "duration": 116,
    "start_time": "2023-06-20T09:20:14.635Z"
   },
   {
    "duration": 58,
    "start_time": "2023-06-20T09:20:14.752Z"
   },
   {
    "duration": 154,
    "start_time": "2023-06-20T09:20:14.812Z"
   },
   {
    "duration": 91,
    "start_time": "2023-06-20T09:20:14.970Z"
   },
   {
    "duration": 60,
    "start_time": "2023-06-20T09:20:15.062Z"
   },
   {
    "duration": 93,
    "start_time": "2023-06-20T09:20:15.123Z"
   },
   {
    "duration": 61,
    "start_time": "2023-06-20T09:20:15.218Z"
   },
   {
    "duration": 127,
    "start_time": "2023-06-20T09:20:15.283Z"
   },
   {
    "duration": 105,
    "start_time": "2023-06-20T09:20:15.411Z"
   },
   {
    "duration": 61,
    "start_time": "2023-06-20T09:20:15.517Z"
   },
   {
    "duration": 135,
    "start_time": "2023-06-20T09:20:15.579Z"
   },
   {
    "duration": 22,
    "start_time": "2023-06-20T09:20:15.716Z"
   },
   {
    "duration": 41,
    "start_time": "2023-06-20T09:20:15.739Z"
   },
   {
    "duration": 158,
    "start_time": "2023-06-20T09:20:15.782Z"
   },
   {
    "duration": 86,
    "start_time": "2023-06-20T09:20:15.942Z"
   },
   {
    "duration": 49,
    "start_time": "2023-06-20T09:20:16.030Z"
   },
   {
    "duration": 58,
    "start_time": "2023-06-20T09:20:16.080Z"
   },
   {
    "duration": 85,
    "start_time": "2023-06-20T09:20:16.140Z"
   },
   {
    "duration": 2,
    "start_time": "2023-06-20T09:20:16.227Z"
   },
   {
    "duration": 5,
    "start_time": "2023-06-20T09:20:16.231Z"
   },
   {
    "duration": 151,
    "start_time": "2023-06-20T09:20:16.237Z"
   },
   {
    "duration": 41,
    "start_time": "2023-06-20T09:20:16.390Z"
   },
   {
    "duration": 102,
    "start_time": "2023-06-20T09:20:16.433Z"
   },
   {
    "duration": 48,
    "start_time": "2023-06-20T09:20:16.537Z"
   },
   {
    "duration": 53,
    "start_time": "2023-06-20T09:20:16.587Z"
   },
   {
    "duration": 131,
    "start_time": "2023-06-20T09:20:21.080Z"
   },
   {
    "duration": 112,
    "start_time": "2023-06-20T09:21:06.590Z"
   },
   {
    "duration": 64,
    "start_time": "2023-06-20T09:21:17.189Z"
   },
   {
    "duration": 70,
    "start_time": "2023-06-20T09:22:19.046Z"
   },
   {
    "duration": 1221,
    "start_time": "2023-06-20T09:23:41.124Z"
   },
   {
    "duration": 3,
    "start_time": "2023-06-20T09:23:42.347Z"
   },
   {
    "duration": 9,
    "start_time": "2023-06-20T09:23:42.360Z"
   },
   {
    "duration": 7788,
    "start_time": "2023-06-20T09:23:42.371Z"
   },
   {
    "duration": 3,
    "start_time": "2023-06-20T09:23:50.161Z"
   },
   {
    "duration": 52,
    "start_time": "2023-06-20T09:23:50.166Z"
   },
   {
    "duration": 12,
    "start_time": "2023-06-20T09:23:50.220Z"
   },
   {
    "duration": 18,
    "start_time": "2023-06-20T09:23:50.233Z"
   },
   {
    "duration": 34,
    "start_time": "2023-06-20T09:23:50.253Z"
   },
   {
    "duration": 9,
    "start_time": "2023-06-20T09:23:50.289Z"
   },
   {
    "duration": 17,
    "start_time": "2023-06-20T09:23:50.299Z"
   },
   {
    "duration": 9,
    "start_time": "2023-06-20T09:23:50.318Z"
   },
   {
    "duration": 8,
    "start_time": "2023-06-20T09:23:50.329Z"
   },
   {
    "duration": 3,
    "start_time": "2023-06-20T09:23:50.339Z"
   },
   {
    "duration": 57,
    "start_time": "2023-06-20T09:23:50.344Z"
   },
   {
    "duration": 6,
    "start_time": "2023-06-20T09:23:50.404Z"
   },
   {
    "duration": 13,
    "start_time": "2023-06-20T09:23:50.412Z"
   },
   {
    "duration": 23,
    "start_time": "2023-06-20T09:23:50.427Z"
   },
   {
    "duration": 24,
    "start_time": "2023-06-20T09:23:50.451Z"
   },
   {
    "duration": 5,
    "start_time": "2023-06-20T09:23:50.477Z"
   },
   {
    "duration": 125,
    "start_time": "2023-06-20T09:23:50.483Z"
   },
   {
    "duration": 5,
    "start_time": "2023-06-20T09:23:50.610Z"
   },
   {
    "duration": 16,
    "start_time": "2023-06-20T09:23:50.617Z"
   },
   {
    "duration": 18,
    "start_time": "2023-06-20T09:23:50.634Z"
   },
   {
    "duration": 41,
    "start_time": "2023-06-20T09:23:50.654Z"
   },
   {
    "duration": 24,
    "start_time": "2023-06-20T09:23:50.697Z"
   },
   {
    "duration": 129,
    "start_time": "2023-06-20T09:23:50.723Z"
   },
   {
    "duration": 8,
    "start_time": "2023-06-20T09:23:50.858Z"
   },
   {
    "duration": 21,
    "start_time": "2023-06-20T09:23:50.871Z"
   },
   {
    "duration": 245,
    "start_time": "2023-06-20T09:23:50.893Z"
   },
   {
    "duration": 193,
    "start_time": "2023-06-20T09:23:51.140Z"
   },
   {
    "duration": 3,
    "start_time": "2023-06-20T09:23:51.335Z"
   },
   {
    "duration": 246,
    "start_time": "2023-06-20T09:23:51.340Z"
   },
   {
    "duration": 6,
    "start_time": "2023-06-20T09:23:51.588Z"
   },
   {
    "duration": 407,
    "start_time": "2023-06-20T09:23:51.595Z"
   },
   {
    "duration": 4,
    "start_time": "2023-06-20T09:23:52.004Z"
   },
   {
    "duration": 191,
    "start_time": "2023-06-20T09:23:52.010Z"
   },
   {
    "duration": 8,
    "start_time": "2023-06-20T09:23:52.204Z"
   },
   {
    "duration": 281,
    "start_time": "2023-06-20T09:23:52.214Z"
   },
   {
    "duration": 3,
    "start_time": "2023-06-20T09:23:52.498Z"
   },
   {
    "duration": 7242,
    "start_time": "2023-06-20T09:23:52.503Z"
   },
   {
    "duration": 556,
    "start_time": "2023-06-20T09:23:59.746Z"
   },
   {
    "duration": 3,
    "start_time": "2023-06-20T09:24:00.304Z"
   },
   {
    "duration": 440,
    "start_time": "2023-06-20T09:24:00.309Z"
   },
   {
    "duration": 79,
    "start_time": "2023-06-20T09:24:00.754Z"
   },
   {
    "duration": 165,
    "start_time": "2023-06-20T09:24:00.835Z"
   },
   {
    "duration": 5,
    "start_time": "2023-06-20T09:24:01.001Z"
   },
   {
    "duration": 91,
    "start_time": "2023-06-20T09:24:01.007Z"
   },
   {
    "duration": 220,
    "start_time": "2023-06-20T09:24:01.099Z"
   },
   {
    "duration": 351,
    "start_time": "2023-06-20T09:24:01.322Z"
   },
   {
    "duration": 15,
    "start_time": "2023-06-20T09:24:01.676Z"
   },
   {
    "duration": 24,
    "start_time": "2023-06-20T09:24:01.692Z"
   },
   {
    "duration": 23,
    "start_time": "2023-06-20T09:24:01.718Z"
   },
   {
    "duration": 26,
    "start_time": "2023-06-20T09:24:01.743Z"
   },
   {
    "duration": 131,
    "start_time": "2023-06-20T09:24:01.770Z"
   },
   {
    "duration": 65,
    "start_time": "2023-06-20T09:24:01.902Z"
   },
   {
    "duration": 159,
    "start_time": "2023-06-20T09:24:01.968Z"
   },
   {
    "duration": 140,
    "start_time": "2023-06-20T09:24:02.128Z"
   },
   {
    "duration": 55,
    "start_time": "2023-06-20T09:24:02.270Z"
   },
   {
    "duration": 107,
    "start_time": "2023-06-20T09:24:02.327Z"
   },
   {
    "duration": 61,
    "start_time": "2023-06-20T09:24:02.436Z"
   },
   {
    "duration": 173,
    "start_time": "2023-06-20T09:24:02.499Z"
   },
   {
    "duration": 114,
    "start_time": "2023-06-20T09:24:02.674Z"
   },
   {
    "duration": 79,
    "start_time": "2023-06-20T09:24:02.790Z"
   },
   {
    "duration": 144,
    "start_time": "2023-06-20T09:24:02.872Z"
   },
   {
    "duration": 26,
    "start_time": "2023-06-20T09:24:03.017Z"
   },
   {
    "duration": 21,
    "start_time": "2023-06-20T09:24:03.045Z"
   },
   {
    "duration": 176,
    "start_time": "2023-06-20T09:24:03.069Z"
   },
   {
    "duration": 84,
    "start_time": "2023-06-20T09:24:03.247Z"
   },
   {
    "duration": 53,
    "start_time": "2023-06-20T09:24:03.332Z"
   },
   {
    "duration": 81,
    "start_time": "2023-06-20T09:24:03.386Z"
   },
   {
    "duration": 69,
    "start_time": "2023-06-20T09:24:03.470Z"
   },
   {
    "duration": 7,
    "start_time": "2023-06-20T09:24:03.543Z"
   },
   {
    "duration": 16,
    "start_time": "2023-06-20T09:24:03.554Z"
   },
   {
    "duration": 161,
    "start_time": "2023-06-20T09:24:16.424Z"
   },
   {
    "duration": 53,
    "start_time": "2023-06-20T09:24:17.708Z"
   },
   {
    "duration": 79,
    "start_time": "2023-06-20T09:24:19.973Z"
   },
   {
    "duration": 39,
    "start_time": "2023-06-20T09:24:21.092Z"
   },
   {
    "duration": 56,
    "start_time": "2023-06-20T09:24:30.979Z"
   },
   {
    "duration": 74,
    "start_time": "2023-06-20T09:25:29.853Z"
   },
   {
    "duration": 57,
    "start_time": "2023-06-20T09:25:43.827Z"
   },
   {
    "duration": 34,
    "start_time": "2023-06-20T09:26:34.412Z"
   },
   {
    "duration": 139,
    "start_time": "2023-06-20T09:28:07.150Z"
   },
   {
    "duration": 142,
    "start_time": "2023-06-20T09:28:10.176Z"
   },
   {
    "duration": 1266,
    "start_time": "2023-06-20T09:42:41.527Z"
   },
   {
    "duration": 3,
    "start_time": "2023-06-20T09:42:42.796Z"
   },
   {
    "duration": 11,
    "start_time": "2023-06-20T09:42:42.801Z"
   },
   {
    "duration": 9501,
    "start_time": "2023-06-20T09:42:42.814Z"
   },
   {
    "duration": 3,
    "start_time": "2023-06-20T09:42:52.317Z"
   },
   {
    "duration": 59,
    "start_time": "2023-06-20T09:42:52.322Z"
   },
   {
    "duration": 11,
    "start_time": "2023-06-20T09:42:52.384Z"
   },
   {
    "duration": 4,
    "start_time": "2023-06-20T09:42:52.398Z"
   },
   {
    "duration": 23,
    "start_time": "2023-06-20T09:42:52.404Z"
   },
   {
    "duration": 16,
    "start_time": "2023-06-20T09:42:52.429Z"
   },
   {
    "duration": 23,
    "start_time": "2023-06-20T09:42:52.446Z"
   },
   {
    "duration": 11,
    "start_time": "2023-06-20T09:42:52.474Z"
   },
   {
    "duration": 11,
    "start_time": "2023-06-20T09:42:52.486Z"
   },
   {
    "duration": 5,
    "start_time": "2023-06-20T09:42:52.500Z"
   },
   {
    "duration": 65,
    "start_time": "2023-06-20T09:42:52.507Z"
   },
   {
    "duration": 6,
    "start_time": "2023-06-20T09:42:52.575Z"
   },
   {
    "duration": 18,
    "start_time": "2023-06-20T09:42:52.583Z"
   },
   {
    "duration": 12,
    "start_time": "2023-06-20T09:42:52.603Z"
   },
   {
    "duration": 19,
    "start_time": "2023-06-20T09:42:52.617Z"
   },
   {
    "duration": 9,
    "start_time": "2023-06-20T09:42:52.638Z"
   },
   {
    "duration": 123,
    "start_time": "2023-06-20T09:42:52.649Z"
   },
   {
    "duration": 9,
    "start_time": "2023-06-20T09:42:52.778Z"
   },
   {
    "duration": 9,
    "start_time": "2023-06-20T09:42:52.789Z"
   },
   {
    "duration": 16,
    "start_time": "2023-06-20T09:42:52.800Z"
   },
   {
    "duration": 11,
    "start_time": "2023-06-20T09:42:52.818Z"
   },
   {
    "duration": 4,
    "start_time": "2023-06-20T09:42:52.831Z"
   },
   {
    "duration": 113,
    "start_time": "2023-06-20T09:42:52.837Z"
   },
   {
    "duration": 11,
    "start_time": "2023-06-20T09:42:52.952Z"
   },
   {
    "duration": 11,
    "start_time": "2023-06-20T09:42:52.966Z"
   },
   {
    "duration": 237,
    "start_time": "2023-06-20T09:42:52.979Z"
   },
   {
    "duration": 192,
    "start_time": "2023-06-20T09:42:53.218Z"
   },
   {
    "duration": 3,
    "start_time": "2023-06-20T09:42:53.412Z"
   },
   {
    "duration": 225,
    "start_time": "2023-06-20T09:42:53.416Z"
   },
   {
    "duration": 6,
    "start_time": "2023-06-20T09:42:53.643Z"
   },
   {
    "duration": 430,
    "start_time": "2023-06-20T09:42:53.650Z"
   },
   {
    "duration": 3,
    "start_time": "2023-06-20T09:42:54.082Z"
   },
   {
    "duration": 188,
    "start_time": "2023-06-20T09:42:54.086Z"
   },
   {
    "duration": 9,
    "start_time": "2023-06-20T09:42:54.276Z"
   },
   {
    "duration": 190,
    "start_time": "2023-06-20T09:42:54.287Z"
   },
   {
    "duration": 3,
    "start_time": "2023-06-20T09:42:54.479Z"
   },
   {
    "duration": 9616,
    "start_time": "2023-06-20T09:42:54.485Z"
   },
   {
    "duration": 576,
    "start_time": "2023-06-20T09:43:04.103Z"
   },
   {
    "duration": 4,
    "start_time": "2023-06-20T09:43:04.681Z"
   },
   {
    "duration": 442,
    "start_time": "2023-06-20T09:43:04.687Z"
   },
   {
    "duration": 85,
    "start_time": "2023-06-20T09:43:05.130Z"
   },
   {
    "duration": 164,
    "start_time": "2023-06-20T09:43:05.217Z"
   },
   {
    "duration": 5,
    "start_time": "2023-06-20T09:43:05.383Z"
   },
   {
    "duration": 85,
    "start_time": "2023-06-20T09:43:05.389Z"
   },
   {
    "duration": 144,
    "start_time": "2023-06-20T09:43:05.476Z"
   },
   {
    "duration": 378,
    "start_time": "2023-06-20T09:43:05.622Z"
   },
   {
    "duration": 14,
    "start_time": "2023-06-20T09:43:06.002Z"
   },
   {
    "duration": 35,
    "start_time": "2023-06-20T09:43:06.017Z"
   },
   {
    "duration": 12,
    "start_time": "2023-06-20T09:43:06.054Z"
   },
   {
    "duration": 6,
    "start_time": "2023-06-20T09:43:06.073Z"
   },
   {
    "duration": 108,
    "start_time": "2023-06-20T09:43:06.081Z"
   },
   {
    "duration": 81,
    "start_time": "2023-06-20T09:43:06.192Z"
   },
   {
    "duration": 148,
    "start_time": "2023-06-20T09:43:06.278Z"
   },
   {
    "duration": 128,
    "start_time": "2023-06-20T09:43:06.428Z"
   },
   {
    "duration": 71,
    "start_time": "2023-06-20T09:43:06.560Z"
   },
   {
    "duration": 123,
    "start_time": "2023-06-20T09:43:06.633Z"
   },
   {
    "duration": 67,
    "start_time": "2023-06-20T09:43:06.759Z"
   },
   {
    "duration": 176,
    "start_time": "2023-06-20T09:44:24.480Z"
   },
   {
    "duration": 107,
    "start_time": "2023-06-20T09:44:27.927Z"
   },
   {
    "duration": 66,
    "start_time": "2023-06-20T09:44:30.175Z"
   },
   {
    "duration": 49,
    "start_time": "2023-06-20T09:48:40.626Z"
   },
   {
    "duration": 38,
    "start_time": "2023-06-20T09:49:58.662Z"
   },
   {
    "duration": 100,
    "start_time": "2023-06-20T09:50:37.947Z"
   },
   {
    "duration": 65,
    "start_time": "2023-06-20T09:50:50.908Z"
   },
   {
    "duration": 129,
    "start_time": "2023-06-20T09:51:01.242Z"
   },
   {
    "duration": 93,
    "start_time": "2023-06-20T09:51:55.847Z"
   },
   {
    "duration": 57,
    "start_time": "2023-06-20T09:51:58.024Z"
   },
   {
    "duration": 98,
    "start_time": "2023-06-20T09:52:04.670Z"
   },
   {
    "duration": 59,
    "start_time": "2023-06-20T09:52:07.972Z"
   },
   {
    "duration": 142,
    "start_time": "2023-06-20T09:52:44.585Z"
   },
   {
    "duration": 94,
    "start_time": "2023-06-20T09:52:48.006Z"
   },
   {
    "duration": 67,
    "start_time": "2023-06-20T09:52:50.342Z"
   },
   {
    "duration": 47,
    "start_time": "2023-06-20T09:56:12.568Z"
   },
   {
    "duration": 152,
    "start_time": "2023-06-20T09:56:14.426Z"
   },
   {
    "duration": 74,
    "start_time": "2023-06-20T09:56:19.996Z"
   },
   {
    "duration": 1235,
    "start_time": "2023-06-20T09:56:38.712Z"
   },
   {
    "duration": 3,
    "start_time": "2023-06-20T09:56:39.948Z"
   },
   {
    "duration": 7,
    "start_time": "2023-06-20T09:56:39.952Z"
   },
   {
    "duration": 7677,
    "start_time": "2023-06-20T09:56:39.960Z"
   },
   {
    "duration": 3,
    "start_time": "2023-06-20T09:56:47.639Z"
   },
   {
    "duration": 87,
    "start_time": "2023-06-20T09:56:47.644Z"
   },
   {
    "duration": 11,
    "start_time": "2023-06-20T09:56:47.733Z"
   },
   {
    "duration": 2,
    "start_time": "2023-06-20T09:56:47.746Z"
   },
   {
    "duration": 22,
    "start_time": "2023-06-20T09:56:47.751Z"
   },
   {
    "duration": 7,
    "start_time": "2023-06-20T09:56:47.781Z"
   },
   {
    "duration": 11,
    "start_time": "2023-06-20T09:56:47.789Z"
   },
   {
    "duration": 19,
    "start_time": "2023-06-20T09:56:47.802Z"
   },
   {
    "duration": 12,
    "start_time": "2023-06-20T09:56:47.823Z"
   },
   {
    "duration": 13,
    "start_time": "2023-06-20T09:56:47.837Z"
   },
   {
    "duration": 58,
    "start_time": "2023-06-20T09:56:47.851Z"
   },
   {
    "duration": 5,
    "start_time": "2023-06-20T09:56:47.911Z"
   },
   {
    "duration": 6,
    "start_time": "2023-06-20T09:56:47.918Z"
   },
   {
    "duration": 9,
    "start_time": "2023-06-20T09:56:47.925Z"
   },
   {
    "duration": 36,
    "start_time": "2023-06-20T09:56:47.935Z"
   },
   {
    "duration": 3,
    "start_time": "2023-06-20T09:56:47.972Z"
   },
   {
    "duration": 98,
    "start_time": "2023-06-20T09:56:47.976Z"
   },
   {
    "duration": 6,
    "start_time": "2023-06-20T09:56:48.076Z"
   },
   {
    "duration": 4,
    "start_time": "2023-06-20T09:56:48.083Z"
   },
   {
    "duration": 7,
    "start_time": "2023-06-20T09:56:48.089Z"
   },
   {
    "duration": 11,
    "start_time": "2023-06-20T09:56:48.097Z"
   },
   {
    "duration": 3,
    "start_time": "2023-06-20T09:56:48.110Z"
   },
   {
    "duration": 107,
    "start_time": "2023-06-20T09:56:48.115Z"
   },
   {
    "duration": 5,
    "start_time": "2023-06-20T09:56:48.226Z"
   },
   {
    "duration": 3,
    "start_time": "2023-06-20T09:56:48.233Z"
   },
   {
    "duration": 231,
    "start_time": "2023-06-20T09:56:48.238Z"
   },
   {
    "duration": 199,
    "start_time": "2023-06-20T09:56:48.471Z"
   },
   {
    "duration": 3,
    "start_time": "2023-06-20T09:56:48.672Z"
   },
   {
    "duration": 220,
    "start_time": "2023-06-20T09:56:48.677Z"
   },
   {
    "duration": 5,
    "start_time": "2023-06-20T09:56:48.899Z"
   },
   {
    "duration": 388,
    "start_time": "2023-06-20T09:56:48.906Z"
   },
   {
    "duration": 3,
    "start_time": "2023-06-20T09:56:49.295Z"
   },
   {
    "duration": 197,
    "start_time": "2023-06-20T09:56:49.300Z"
   },
   {
    "duration": 6,
    "start_time": "2023-06-20T09:56:49.499Z"
   },
   {
    "duration": 183,
    "start_time": "2023-06-20T09:56:49.506Z"
   },
   {
    "duration": 2,
    "start_time": "2023-06-20T09:56:49.691Z"
   },
   {
    "duration": 10176,
    "start_time": "2023-06-20T09:56:49.694Z"
   },
   {
    "duration": 528,
    "start_time": "2023-06-20T09:56:59.874Z"
   },
   {
    "duration": 4,
    "start_time": "2023-06-20T09:57:00.403Z"
   },
   {
    "duration": 423,
    "start_time": "2023-06-20T09:57:00.410Z"
   },
   {
    "duration": 82,
    "start_time": "2023-06-20T09:57:00.835Z"
   },
   {
    "duration": 175,
    "start_time": "2023-06-20T09:57:00.918Z"
   },
   {
    "duration": 5,
    "start_time": "2023-06-20T09:57:01.095Z"
   },
   {
    "duration": 101,
    "start_time": "2023-06-20T09:57:01.101Z"
   },
   {
    "duration": 175,
    "start_time": "2023-06-20T09:57:01.204Z"
   },
   {
    "duration": 364,
    "start_time": "2023-06-20T09:57:01.381Z"
   },
   {
    "duration": 24,
    "start_time": "2023-06-20T09:57:01.747Z"
   },
   {
    "duration": 12,
    "start_time": "2023-06-20T09:57:01.773Z"
   },
   {
    "duration": 26,
    "start_time": "2023-06-20T09:57:01.786Z"
   },
   {
    "duration": 38,
    "start_time": "2023-06-20T09:57:01.813Z"
   },
   {
    "duration": 125,
    "start_time": "2023-06-20T09:57:01.852Z"
   },
   {
    "duration": 58,
    "start_time": "2023-06-20T09:57:01.979Z"
   },
   {
    "duration": 50,
    "start_time": "2023-06-20T09:57:02.039Z"
   },
   {
    "duration": 127,
    "start_time": "2023-06-20T09:57:02.091Z"
   },
   {
    "duration": 61,
    "start_time": "2023-06-20T09:57:02.220Z"
   },
   {
    "duration": 158,
    "start_time": "2023-06-20T09:57:02.283Z"
   },
   {
    "duration": 103,
    "start_time": "2023-06-20T09:57:02.443Z"
   },
   {
    "duration": 79,
    "start_time": "2023-06-20T09:57:02.548Z"
   },
   {
    "duration": 113,
    "start_time": "2023-06-20T09:57:02.629Z"
   },
   {
    "duration": 63,
    "start_time": "2023-06-20T09:57:02.754Z"
   },
   {
    "duration": 165,
    "start_time": "2023-06-20T09:57:02.818Z"
   },
   {
    "duration": 114,
    "start_time": "2023-06-20T09:57:02.985Z"
   },
   {
    "duration": 74,
    "start_time": "2023-06-20T09:57:03.101Z"
   },
   {
    "duration": 65,
    "start_time": "2023-06-20T09:57:03.180Z"
   },
   {
    "duration": 71,
    "start_time": "2023-06-20T09:57:03.247Z"
   },
   {
    "duration": 152,
    "start_time": "2023-06-20T09:57:29.945Z"
   },
   {
    "duration": 14,
    "start_time": "2023-06-20T09:57:32.575Z"
   },
   {
    "duration": 8,
    "start_time": "2023-06-20T09:57:33.941Z"
   },
   {
    "duration": 170,
    "start_time": "2023-06-20T09:57:36.026Z"
   },
   {
    "duration": 78,
    "start_time": "2023-06-20T09:57:39.048Z"
   },
   {
    "duration": 58,
    "start_time": "2023-06-20T09:57:41.545Z"
   },
   {
    "duration": 76,
    "start_time": "2023-06-20T09:57:43.453Z"
   },
   {
    "duration": 69,
    "start_time": "2023-06-20T09:57:45.127Z"
   },
   {
    "duration": 7,
    "start_time": "2023-06-20T09:57:46.952Z"
   },
   {
    "duration": 4,
    "start_time": "2023-06-20T09:57:49.081Z"
   },
   {
    "duration": 180,
    "start_time": "2023-06-20T09:57:50.854Z"
   },
   {
    "duration": 60,
    "start_time": "2023-06-20T09:57:53.521Z"
   },
   {
    "duration": 98,
    "start_time": "2023-06-20T09:57:55.802Z"
   },
   {
    "duration": 50,
    "start_time": "2023-06-20T09:57:57.552Z"
   },
   {
    "duration": 68,
    "start_time": "2023-06-20T09:58:00.353Z"
   },
   {
    "duration": 41,
    "start_time": "2023-06-20T09:58:02.272Z"
   },
   {
    "duration": 27,
    "start_time": "2023-06-20T09:58:05.005Z"
   },
   {
    "duration": 122,
    "start_time": "2023-06-20T09:58:09.670Z"
   },
   {
    "duration": 155,
    "start_time": "2023-06-20T09:58:12.701Z"
   },
   {
    "duration": 142,
    "start_time": "2023-06-20T09:59:27.899Z"
   },
   {
    "duration": 307,
    "start_time": "2023-06-20T10:00:09.620Z"
   },
   {
    "duration": 3,
    "start_time": "2023-06-20T10:00:15.397Z"
   },
   {
    "duration": 2,
    "start_time": "2023-06-20T10:05:31.870Z"
   },
   {
    "duration": 66,
    "start_time": "2023-06-20T10:07:51.591Z"
   },
   {
    "duration": 3,
    "start_time": "2023-06-20T10:10:41.170Z"
   },
   {
    "duration": 40,
    "start_time": "2023-06-20T10:10:42.571Z"
   },
   {
    "duration": 3,
    "start_time": "2023-06-20T10:21:06.989Z"
   },
   {
    "duration": 712,
    "start_time": "2023-06-20T10:21:10.169Z"
   },
   {
    "duration": 983,
    "start_time": "2023-06-20T10:23:15.086Z"
   },
   {
    "duration": 476,
    "start_time": "2023-06-20T10:23:19.301Z"
   },
   {
    "duration": 1422,
    "start_time": "2023-06-20T10:23:59.872Z"
   },
   {
    "duration": 1535,
    "start_time": "2023-06-20T10:24:09.154Z"
   },
   {
    "duration": 3,
    "start_time": "2023-06-20T10:24:10.692Z"
   },
   {
    "duration": 9,
    "start_time": "2023-06-20T10:24:10.696Z"
   },
   {
    "duration": 11036,
    "start_time": "2023-06-20T10:24:10.707Z"
   },
   {
    "duration": 3,
    "start_time": "2023-06-20T10:24:21.745Z"
   },
   {
    "duration": 69,
    "start_time": "2023-06-20T10:24:21.749Z"
   },
   {
    "duration": 12,
    "start_time": "2023-06-20T10:24:21.820Z"
   },
   {
    "duration": 14,
    "start_time": "2023-06-20T10:24:21.833Z"
   },
   {
    "duration": 36,
    "start_time": "2023-06-20T10:24:21.849Z"
   },
   {
    "duration": 5,
    "start_time": "2023-06-20T10:24:21.887Z"
   },
   {
    "duration": 4,
    "start_time": "2023-06-20T10:24:21.894Z"
   },
   {
    "duration": 11,
    "start_time": "2023-06-20T10:24:21.900Z"
   },
   {
    "duration": 13,
    "start_time": "2023-06-20T10:24:21.912Z"
   },
   {
    "duration": 3,
    "start_time": "2023-06-20T10:24:21.927Z"
   },
   {
    "duration": 53,
    "start_time": "2023-06-20T10:24:21.931Z"
   },
   {
    "duration": 6,
    "start_time": "2023-06-20T10:24:21.988Z"
   },
   {
    "duration": 3,
    "start_time": "2023-06-20T10:24:21.996Z"
   },
   {
    "duration": 9,
    "start_time": "2023-06-20T10:24:22.000Z"
   },
   {
    "duration": 29,
    "start_time": "2023-06-20T10:24:22.010Z"
   },
   {
    "duration": 20,
    "start_time": "2023-06-20T10:24:22.040Z"
   },
   {
    "duration": 124,
    "start_time": "2023-06-20T10:24:22.061Z"
   },
   {
    "duration": 5,
    "start_time": "2023-06-20T10:24:22.186Z"
   },
   {
    "duration": 13,
    "start_time": "2023-06-20T10:24:22.193Z"
   },
   {
    "duration": 11,
    "start_time": "2023-06-20T10:24:22.208Z"
   },
   {
    "duration": 11,
    "start_time": "2023-06-20T10:24:22.220Z"
   },
   {
    "duration": 5,
    "start_time": "2023-06-20T10:24:22.233Z"
   },
   {
    "duration": 147,
    "start_time": "2023-06-20T10:24:22.239Z"
   },
   {
    "duration": 6,
    "start_time": "2023-06-20T10:24:22.388Z"
   },
   {
    "duration": 2,
    "start_time": "2023-06-20T10:24:22.396Z"
   },
   {
    "duration": 234,
    "start_time": "2023-06-20T10:24:22.400Z"
   },
   {
    "duration": 196,
    "start_time": "2023-06-20T10:24:22.635Z"
   },
   {
    "duration": 2,
    "start_time": "2023-06-20T10:24:22.834Z"
   },
   {
    "duration": 219,
    "start_time": "2023-06-20T10:24:22.838Z"
   },
   {
    "duration": 11,
    "start_time": "2023-06-20T10:24:23.058Z"
   },
   {
    "duration": 466,
    "start_time": "2023-06-20T10:24:23.078Z"
   },
   {
    "duration": 10,
    "start_time": "2023-06-20T10:24:23.555Z"
   },
   {
    "duration": 212,
    "start_time": "2023-06-20T10:24:23.572Z"
   },
   {
    "duration": 6,
    "start_time": "2023-06-20T10:24:23.785Z"
   },
   {
    "duration": 174,
    "start_time": "2023-06-20T10:24:23.793Z"
   },
   {
    "duration": 6,
    "start_time": "2023-06-20T10:24:23.972Z"
   },
   {
    "duration": 9676,
    "start_time": "2023-06-20T10:24:23.985Z"
   },
   {
    "duration": 538,
    "start_time": "2023-06-20T10:24:33.670Z"
   },
   {
    "duration": 4,
    "start_time": "2023-06-20T10:24:34.209Z"
   },
   {
    "duration": 433,
    "start_time": "2023-06-20T10:24:34.214Z"
   },
   {
    "duration": 77,
    "start_time": "2023-06-20T10:24:34.648Z"
   },
   {
    "duration": 163,
    "start_time": "2023-06-20T10:24:34.727Z"
   },
   {
    "duration": 8,
    "start_time": "2023-06-20T10:24:34.892Z"
   },
   {
    "duration": 86,
    "start_time": "2023-06-20T10:24:34.902Z"
   },
   {
    "duration": 141,
    "start_time": "2023-06-20T10:24:34.990Z"
   },
   {
    "duration": 346,
    "start_time": "2023-06-20T10:24:35.132Z"
   },
   {
    "duration": 15,
    "start_time": "2023-06-20T10:24:35.485Z"
   },
   {
    "duration": 22,
    "start_time": "2023-06-20T10:24:35.501Z"
   },
   {
    "duration": 5,
    "start_time": "2023-06-20T10:24:35.524Z"
   },
   {
    "duration": 21,
    "start_time": "2023-06-20T10:24:35.531Z"
   },
   {
    "duration": 118,
    "start_time": "2023-06-20T10:24:35.557Z"
   },
   {
    "duration": 57,
    "start_time": "2023-06-20T10:24:35.676Z"
   },
   {
    "duration": 66,
    "start_time": "2023-06-20T10:24:35.734Z"
   },
   {
    "duration": 117,
    "start_time": "2023-06-20T10:24:35.802Z"
   },
   {
    "duration": 63,
    "start_time": "2023-06-20T10:24:35.921Z"
   },
   {
    "duration": 141,
    "start_time": "2023-06-20T10:24:35.986Z"
   },
   {
    "duration": 110,
    "start_time": "2023-06-20T10:24:36.128Z"
   },
   {
    "duration": 70,
    "start_time": "2023-06-20T10:24:36.239Z"
   },
   {
    "duration": 114,
    "start_time": "2023-06-20T10:24:36.311Z"
   },
   {
    "duration": 83,
    "start_time": "2023-06-20T10:24:36.426Z"
   },
   {
    "duration": 163,
    "start_time": "2023-06-20T10:24:36.510Z"
   },
   {
    "duration": 115,
    "start_time": "2023-06-20T10:24:36.675Z"
   },
   {
    "duration": 89,
    "start_time": "2023-06-20T10:24:36.792Z"
   },
   {
    "duration": 61,
    "start_time": "2023-06-20T10:24:36.885Z"
   },
   {
    "duration": 72,
    "start_time": "2023-06-20T10:24:36.947Z"
   },
   {
    "duration": 166,
    "start_time": "2023-06-20T10:24:37.021Z"
   },
   {
    "duration": 11,
    "start_time": "2023-06-20T10:24:37.189Z"
   },
   {
    "duration": 5,
    "start_time": "2023-06-20T10:24:37.202Z"
   },
   {
    "duration": 185,
    "start_time": "2023-06-20T10:24:37.208Z"
   },
   {
    "duration": 104,
    "start_time": "2023-06-20T10:24:37.397Z"
   },
   {
    "duration": 62,
    "start_time": "2023-06-20T10:24:37.506Z"
   },
   {
    "duration": 103,
    "start_time": "2023-06-20T10:24:37.569Z"
   },
   {
    "duration": 95,
    "start_time": "2023-06-20T10:24:37.674Z"
   },
   {
    "duration": 14,
    "start_time": "2023-06-20T10:24:37.771Z"
   },
   {
    "duration": 11,
    "start_time": "2023-06-20T10:24:37.786Z"
   },
   {
    "duration": 146,
    "start_time": "2023-06-20T10:24:37.799Z"
   },
   {
    "duration": 54,
    "start_time": "2023-06-20T10:24:37.946Z"
   },
   {
    "duration": 90,
    "start_time": "2023-06-20T10:24:38.002Z"
   },
   {
    "duration": 36,
    "start_time": "2023-06-20T10:24:38.094Z"
   },
   {
    "duration": 75,
    "start_time": "2023-06-20T10:24:38.132Z"
   },
   {
    "duration": 34,
    "start_time": "2023-06-20T10:24:38.209Z"
   },
   {
    "duration": 34,
    "start_time": "2023-06-20T10:24:38.257Z"
   },
   {
    "duration": 136,
    "start_time": "2023-06-20T10:24:38.293Z"
   },
   {
    "duration": 154,
    "start_time": "2023-06-20T10:24:38.431Z"
   },
   {
    "duration": 9,
    "start_time": "2023-06-20T10:24:38.586Z"
   },
   {
    "duration": 3,
    "start_time": "2023-06-20T10:24:38.597Z"
   },
   {
    "duration": 1142,
    "start_time": "2023-06-20T10:24:38.602Z"
   },
   {
    "duration": 19,
    "start_time": "2023-06-20T10:24:39.799Z"
   },
   {
    "duration": 23,
    "start_time": "2023-06-20T10:38:02.407Z"
   },
   {
    "duration": 113,
    "start_time": "2023-06-20T10:50:44.369Z"
   },
   {
    "duration": 9,
    "start_time": "2023-06-20T10:51:12.189Z"
   },
   {
    "duration": 3,
    "start_time": "2023-06-20T10:51:20.492Z"
   },
   {
    "duration": 10,
    "start_time": "2023-06-20T10:51:24.693Z"
   },
   {
    "duration": 9,
    "start_time": "2023-06-20T10:51:28.013Z"
   },
   {
    "duration": 457,
    "start_time": "2023-06-20T10:53:15.768Z"
   },
   {
    "duration": 7,
    "start_time": "2023-06-20T10:53:25.492Z"
   },
   {
    "duration": 40,
    "start_time": "2023-06-20T10:54:38.993Z"
   },
   {
    "duration": 16,
    "start_time": "2023-06-20T10:54:43.173Z"
   },
   {
    "duration": 5,
    "start_time": "2023-06-20T10:54:51.368Z"
   },
   {
    "duration": 85,
    "start_time": "2023-06-20T10:55:28.215Z"
   },
   {
    "duration": 130,
    "start_time": "2023-06-20T14:37:03.556Z"
   },
   {
    "duration": 12147,
    "start_time": "2023-06-20T14:37:20.649Z"
   },
   {
    "duration": 16,
    "start_time": "2023-06-20T14:37:32.803Z"
   },
   {
    "duration": 20,
    "start_time": "2023-06-20T14:37:32.821Z"
   },
   {
    "duration": 14688,
    "start_time": "2023-06-20T14:37:32.843Z"
   },
   {
    "duration": 3,
    "start_time": "2023-06-20T14:37:47.534Z"
   },
   {
    "duration": 439,
    "start_time": "2023-06-20T14:37:47.539Z"
   },
   {
    "duration": 19,
    "start_time": "2023-06-20T14:37:47.985Z"
   },
   {
    "duration": 21,
    "start_time": "2023-06-20T14:37:48.010Z"
   },
   {
    "duration": 83,
    "start_time": "2023-06-20T14:37:48.033Z"
   },
   {
    "duration": 8,
    "start_time": "2023-06-20T14:37:48.119Z"
   },
   {
    "duration": 61,
    "start_time": "2023-06-20T14:37:48.129Z"
   },
   {
    "duration": 82,
    "start_time": "2023-06-20T14:37:48.196Z"
   },
   {
    "duration": 32,
    "start_time": "2023-06-20T14:37:48.285Z"
   },
   {
    "duration": 25,
    "start_time": "2023-06-20T14:37:48.322Z"
   },
   {
    "duration": 159,
    "start_time": "2023-06-20T14:37:48.349Z"
   },
   {
    "duration": 14,
    "start_time": "2023-06-20T14:37:48.512Z"
   },
   {
    "duration": 88,
    "start_time": "2023-06-20T14:37:48.528Z"
   },
   {
    "duration": 140,
    "start_time": "2023-06-20T14:37:48.619Z"
   },
   {
    "duration": 67,
    "start_time": "2023-06-20T14:37:48.761Z"
   },
   {
    "duration": 67,
    "start_time": "2023-06-20T14:37:48.831Z"
   },
   {
    "duration": 188,
    "start_time": "2023-06-20T14:37:48.900Z"
   },
   {
    "duration": 8,
    "start_time": "2023-06-20T14:37:49.091Z"
   },
   {
    "duration": 120,
    "start_time": "2023-06-20T14:37:49.101Z"
   },
   {
    "duration": 153,
    "start_time": "2023-06-20T14:37:49.223Z"
   },
   {
    "duration": 51,
    "start_time": "2023-06-20T14:37:49.378Z"
   },
   {
    "duration": 94,
    "start_time": "2023-06-20T14:37:49.431Z"
   },
   {
    "duration": 251,
    "start_time": "2023-06-20T14:37:49.528Z"
   },
   {
    "duration": 9,
    "start_time": "2023-06-20T14:37:49.781Z"
   },
   {
    "duration": 109,
    "start_time": "2023-06-20T14:37:49.795Z"
   },
   {
    "duration": 294,
    "start_time": "2023-06-20T14:37:49.906Z"
   },
   {
    "duration": 326,
    "start_time": "2023-06-20T14:37:50.204Z"
   },
   {
    "duration": 3,
    "start_time": "2023-06-20T14:37:50.533Z"
   },
   {
    "duration": 321,
    "start_time": "2023-06-20T14:37:50.538Z"
   },
   {
    "duration": 12,
    "start_time": "2023-06-20T14:37:50.864Z"
   },
   {
    "duration": 598,
    "start_time": "2023-06-20T14:37:50.878Z"
   },
   {
    "duration": 5,
    "start_time": "2023-06-20T14:37:51.479Z"
   },
   {
    "duration": 247,
    "start_time": "2023-06-20T14:37:51.486Z"
   },
   {
    "duration": 10,
    "start_time": "2023-06-20T14:37:51.735Z"
   },
   {
    "duration": 366,
    "start_time": "2023-06-20T14:37:51.747Z"
   },
   {
    "duration": 3,
    "start_time": "2023-06-20T14:37:52.118Z"
   },
   {
    "duration": 11820,
    "start_time": "2023-06-20T14:37:52.129Z"
   },
   {
    "duration": 839,
    "start_time": "2023-06-20T14:38:03.951Z"
   },
   {
    "duration": 64,
    "start_time": "2023-06-20T14:38:04.801Z"
   },
   {
    "duration": 783,
    "start_time": "2023-06-20T14:38:04.875Z"
   },
   {
    "duration": 102,
    "start_time": "2023-06-20T14:38:05.660Z"
   },
   {
    "duration": 385,
    "start_time": "2023-06-20T14:38:05.769Z"
   },
   {
    "duration": 10,
    "start_time": "2023-06-20T14:38:06.156Z"
   },
   {
    "duration": 252,
    "start_time": "2023-06-20T14:38:06.168Z"
   },
   {
    "duration": 209,
    "start_time": "2023-06-20T14:38:06.431Z"
   },
   {
    "duration": 449,
    "start_time": "2023-06-20T14:38:06.642Z"
   },
   {
    "duration": 52,
    "start_time": "2023-06-20T14:38:07.118Z"
   },
   {
    "duration": 90,
    "start_time": "2023-06-20T14:38:07.179Z"
   },
   {
    "duration": 68,
    "start_time": "2023-06-20T14:38:07.277Z"
   },
   {
    "duration": 76,
    "start_time": "2023-06-20T14:38:07.349Z"
   },
   {
    "duration": 202,
    "start_time": "2023-06-20T14:38:07.429Z"
   },
   {
    "duration": 279,
    "start_time": "2023-06-20T14:38:07.634Z"
   },
   {
    "duration": 64,
    "start_time": "2023-06-20T14:38:07.922Z"
   },
   {
    "duration": 183,
    "start_time": "2023-06-20T14:38:07.993Z"
   },
   {
    "duration": 100,
    "start_time": "2023-06-20T14:38:08.183Z"
   },
   {
    "duration": 178,
    "start_time": "2023-06-20T14:38:08.290Z"
   },
   {
    "duration": 166,
    "start_time": "2023-06-20T14:38:08.473Z"
   },
   {
    "duration": 78,
    "start_time": "2023-06-20T14:38:08.645Z"
   },
   {
    "duration": 220,
    "start_time": "2023-06-20T14:38:08.728Z"
   },
   {
    "duration": 97,
    "start_time": "2023-06-20T14:38:08.953Z"
   },
   {
    "duration": 217,
    "start_time": "2023-06-20T14:38:09.056Z"
   },
   {
    "duration": 284,
    "start_time": "2023-06-20T14:38:09.278Z"
   },
   {
    "duration": 165,
    "start_time": "2023-06-20T14:38:09.564Z"
   },
   {
    "duration": 90,
    "start_time": "2023-06-20T14:38:09.734Z"
   },
   {
    "duration": 296,
    "start_time": "2023-06-20T14:38:09.827Z"
   },
   {
    "duration": 253,
    "start_time": "2023-06-20T14:38:10.125Z"
   },
   {
    "duration": 26,
    "start_time": "2023-06-20T14:38:10.389Z"
   },
   {
    "duration": 23,
    "start_time": "2023-06-20T14:38:10.418Z"
   },
   {
    "duration": 236,
    "start_time": "2023-06-20T14:38:10.443Z"
   },
   {
    "duration": 107,
    "start_time": "2023-06-20T14:38:10.683Z"
   },
   {
    "duration": 102,
    "start_time": "2023-06-20T14:38:10.796Z"
   },
   {
    "duration": 129,
    "start_time": "2023-06-20T14:38:10.908Z"
   },
   {
    "duration": 145,
    "start_time": "2023-06-20T14:38:11.043Z"
   },
   {
    "duration": 9,
    "start_time": "2023-06-20T14:38:11.190Z"
   },
   {
    "duration": 43,
    "start_time": "2023-06-20T14:38:11.201Z"
   },
   {
    "duration": 248,
    "start_time": "2023-06-20T14:38:11.247Z"
   },
   {
    "duration": 107,
    "start_time": "2023-06-20T14:38:11.499Z"
   },
   {
    "duration": 204,
    "start_time": "2023-06-20T14:38:11.608Z"
   },
   {
    "duration": 116,
    "start_time": "2023-06-20T14:38:11.814Z"
   },
   {
    "duration": 203,
    "start_time": "2023-06-20T14:38:11.933Z"
   },
   {
    "duration": 103,
    "start_time": "2023-06-20T14:38:12.143Z"
   },
   {
    "duration": 86,
    "start_time": "2023-06-20T14:38:12.249Z"
   },
   {
    "duration": 253,
    "start_time": "2023-06-20T14:38:12.337Z"
   },
   {
    "duration": 176,
    "start_time": "2023-06-20T14:38:12.595Z"
   },
   {
    "duration": 17,
    "start_time": "2023-06-20T14:38:12.777Z"
   },
   {
    "duration": 28,
    "start_time": "2023-06-20T14:38:12.801Z"
   },
   {
    "duration": 1602,
    "start_time": "2023-06-20T14:38:12.831Z"
   },
   {
    "duration": 65,
    "start_time": "2023-06-20T14:38:14.435Z"
   },
   {
    "duration": 159,
    "start_time": "2023-06-20T14:38:14.507Z"
   },
   {
    "duration": 166,
    "start_time": "2023-06-20T14:38:14.671Z"
   },
   {
    "duration": 178,
    "start_time": "2023-06-20T14:38:14.840Z"
   },
   {
    "duration": 196,
    "start_time": "2023-06-20T14:38:48.282Z"
   },
   {
    "duration": 283,
    "start_time": "2023-06-20T14:58:29.083Z"
   },
   {
    "duration": 190,
    "start_time": "2023-06-20T15:03:58.603Z"
   },
   {
    "duration": 2,
    "start_time": "2023-06-20T15:15:30.415Z"
   },
   {
    "duration": 247,
    "start_time": "2023-06-20T15:19:38.194Z"
   },
   {
    "duration": 9,
    "start_time": "2023-06-20T15:19:44.495Z"
   },
   {
    "duration": 272,
    "start_time": "2023-06-20T15:19:49.281Z"
   },
   {
    "duration": 5,
    "start_time": "2023-06-20T15:20:18.727Z"
   },
   {
    "duration": 13,
    "start_time": "2023-06-20T15:20:27.601Z"
   },
   {
    "duration": 2191,
    "start_time": "2023-06-20T15:26:21.374Z"
   },
   {
    "duration": 3,
    "start_time": "2023-06-20T15:26:23.568Z"
   },
   {
    "duration": 65,
    "start_time": "2023-06-20T15:26:23.572Z"
   },
   {
    "duration": 16956,
    "start_time": "2023-06-20T15:26:23.645Z"
   },
   {
    "duration": 9,
    "start_time": "2023-06-20T15:26:40.604Z"
   },
   {
    "duration": 498,
    "start_time": "2023-06-20T15:26:40.615Z"
   },
   {
    "duration": 15,
    "start_time": "2023-06-20T15:26:41.115Z"
   },
   {
    "duration": 89,
    "start_time": "2023-06-20T15:26:41.132Z"
   },
   {
    "duration": 117,
    "start_time": "2023-06-20T15:26:41.224Z"
   },
   {
    "duration": 7,
    "start_time": "2023-06-20T15:26:41.344Z"
   },
   {
    "duration": 106,
    "start_time": "2023-06-20T15:26:41.353Z"
   },
   {
    "duration": 136,
    "start_time": "2023-06-20T15:26:41.461Z"
   },
   {
    "duration": 46,
    "start_time": "2023-06-20T15:26:41.602Z"
   },
   {
    "duration": 89,
    "start_time": "2023-06-20T15:26:41.653Z"
   },
   {
    "duration": 177,
    "start_time": "2023-06-20T15:26:41.744Z"
   },
   {
    "duration": 14,
    "start_time": "2023-06-20T15:26:41.923Z"
   },
   {
    "duration": 109,
    "start_time": "2023-06-20T15:26:41.938Z"
   },
   {
    "duration": 239,
    "start_time": "2023-06-20T15:26:42.049Z"
   },
   {
    "duration": 25,
    "start_time": "2023-06-20T15:26:42.290Z"
   },
   {
    "duration": 108,
    "start_time": "2023-06-20T15:26:42.317Z"
   },
   {
    "duration": 201,
    "start_time": "2023-06-20T15:26:42.432Z"
   },
   {
    "duration": 9,
    "start_time": "2023-06-20T15:26:42.637Z"
   },
   {
    "duration": 137,
    "start_time": "2023-06-20T15:26:42.648Z"
   },
   {
    "duration": 167,
    "start_time": "2023-06-20T15:26:42.793Z"
   },
   {
    "duration": 42,
    "start_time": "2023-06-20T15:26:42.966Z"
   },
   {
    "duration": 98,
    "start_time": "2023-06-20T15:26:43.013Z"
   },
   {
    "duration": 289,
    "start_time": "2023-06-20T15:26:43.122Z"
   },
   {
    "duration": 25,
    "start_time": "2023-06-20T15:26:43.413Z"
   },
   {
    "duration": 97,
    "start_time": "2023-06-20T15:26:43.444Z"
   },
   {
    "duration": 402,
    "start_time": "2023-06-20T15:26:43.543Z"
   },
   {
    "duration": 355,
    "start_time": "2023-06-20T15:26:43.947Z"
   },
   {
    "duration": 4,
    "start_time": "2023-06-20T15:26:44.304Z"
   },
   {
    "duration": 404,
    "start_time": "2023-06-20T15:26:44.310Z"
   },
   {
    "duration": 12,
    "start_time": "2023-06-20T15:26:44.718Z"
   },
   {
    "duration": 563,
    "start_time": "2023-06-20T15:26:44.732Z"
   },
   {
    "duration": 4,
    "start_time": "2023-06-20T15:26:45.299Z"
   },
   {
    "duration": 342,
    "start_time": "2023-06-20T15:26:45.305Z"
   },
   {
    "duration": 15,
    "start_time": "2023-06-20T15:26:45.648Z"
   },
   {
    "duration": 379,
    "start_time": "2023-06-20T15:26:45.664Z"
   },
   {
    "duration": 3,
    "start_time": "2023-06-20T15:26:46.045Z"
   },
   {
    "duration": 8560,
    "start_time": "2023-06-20T15:26:46.070Z"
   },
   {
    "duration": 607,
    "start_time": "2023-06-20T15:26:54.632Z"
   },
   {
    "duration": 100,
    "start_time": "2023-06-20T15:26:55.243Z"
   },
   {
    "duration": 491,
    "start_time": "2023-06-20T15:26:55.345Z"
   },
   {
    "duration": 67,
    "start_time": "2023-06-20T15:26:55.841Z"
   },
   {
    "duration": 151,
    "start_time": "2023-06-20T15:26:55.910Z"
   },
   {
    "duration": 16,
    "start_time": "2023-06-20T15:26:56.068Z"
   },
   {
    "duration": 126,
    "start_time": "2023-06-20T15:26:56.097Z"
   },
   {
    "duration": 192,
    "start_time": "2023-06-20T15:26:56.225Z"
   },
   {
    "duration": 386,
    "start_time": "2023-06-20T15:26:56.424Z"
   },
   {
    "duration": 22,
    "start_time": "2023-06-20T15:26:56.812Z"
   },
   {
    "duration": 106,
    "start_time": "2023-06-20T15:26:56.836Z"
   },
   {
    "duration": 5,
    "start_time": "2023-06-20T15:26:56.944Z"
   },
   {
    "duration": 78,
    "start_time": "2023-06-20T15:26:56.951Z"
   },
   {
    "duration": 111,
    "start_time": "2023-06-20T15:26:57.030Z"
   },
   {
    "duration": 86,
    "start_time": "2023-06-20T15:26:57.143Z"
   },
   {
    "duration": 49,
    "start_time": "2023-06-20T15:26:57.233Z"
   },
   {
    "duration": 174,
    "start_time": "2023-06-20T15:26:57.283Z"
   },
   {
    "duration": 83,
    "start_time": "2023-06-20T15:26:57.459Z"
   },
   {
    "duration": 211,
    "start_time": "2023-06-20T15:26:57.544Z"
   },
   {
    "duration": 111,
    "start_time": "2023-06-20T15:26:57.757Z"
   },
   {
    "duration": 73,
    "start_time": "2023-06-20T15:26:57.869Z"
   },
   {
    "duration": 112,
    "start_time": "2023-06-20T15:26:57.944Z"
   },
   {
    "duration": 147,
    "start_time": "2023-06-20T15:26:58.061Z"
   },
   {
    "duration": 188,
    "start_time": "2023-06-20T15:26:58.211Z"
   },
   {
    "duration": 134,
    "start_time": "2023-06-20T15:26:58.400Z"
   },
   {
    "duration": 98,
    "start_time": "2023-06-20T15:26:58.537Z"
   },
   {
    "duration": 180,
    "start_time": "2023-06-20T15:26:58.640Z"
   },
   {
    "duration": 94,
    "start_time": "2023-06-20T15:26:58.821Z"
   },
   {
    "duration": 181,
    "start_time": "2023-06-20T15:26:58.919Z"
   },
   {
    "duration": 15,
    "start_time": "2023-06-20T15:26:59.105Z"
   },
   {
    "duration": 16,
    "start_time": "2023-06-20T15:26:59.130Z"
   },
   {
    "duration": 244,
    "start_time": "2023-06-20T15:26:59.148Z"
   },
   {
    "duration": 92,
    "start_time": "2023-06-20T15:26:59.394Z"
   },
   {
    "duration": 82,
    "start_time": "2023-06-20T15:26:59.488Z"
   },
   {
    "duration": 203,
    "start_time": "2023-06-20T15:26:59.580Z"
   },
   {
    "duration": 145,
    "start_time": "2023-06-20T15:26:59.788Z"
   },
   {
    "duration": 56,
    "start_time": "2023-06-20T15:26:59.934Z"
   },
   {
    "duration": 48,
    "start_time": "2023-06-20T15:26:59.999Z"
   },
   {
    "duration": 291,
    "start_time": "2023-06-20T15:27:00.049Z"
   },
   {
    "duration": 64,
    "start_time": "2023-06-20T15:27:00.343Z"
   },
   {
    "duration": 144,
    "start_time": "2023-06-20T15:27:00.410Z"
   },
   {
    "duration": 231,
    "start_time": "2023-06-20T15:27:00.555Z"
   },
   {
    "duration": 290,
    "start_time": "2023-06-20T15:27:00.788Z"
   },
   {
    "duration": 230,
    "start_time": "2023-06-20T15:27:01.080Z"
   },
   {
    "duration": 241,
    "start_time": "2023-06-20T15:27:01.326Z"
   },
   {
    "duration": 317,
    "start_time": "2023-06-20T15:27:01.586Z"
   },
   {
    "duration": 152,
    "start_time": "2023-06-20T15:27:01.908Z"
   },
   {
    "duration": 156,
    "start_time": "2023-06-20T15:27:02.065Z"
   },
   {
    "duration": 528,
    "start_time": "2023-06-20T15:27:02.224Z"
   },
   {
    "duration": 419,
    "start_time": "2023-06-20T15:27:02.755Z"
   },
   {
    "duration": 1142,
    "start_time": "2023-06-20T15:27:07.628Z"
   },
   {
    "duration": 36,
    "start_time": "2023-06-20T15:27:13.300Z"
   },
   {
    "duration": 44,
    "start_time": "2023-06-20T15:27:30.690Z"
   },
   {
    "duration": 39,
    "start_time": "2023-06-20T15:27:32.395Z"
   },
   {
    "duration": 1973,
    "start_time": "2023-06-20T15:28:28.079Z"
   },
   {
    "duration": 10,
    "start_time": "2023-06-20T15:28:30.055Z"
   },
   {
    "duration": 116,
    "start_time": "2023-06-20T15:28:30.071Z"
   },
   {
    "duration": 17018,
    "start_time": "2023-06-20T15:28:30.196Z"
   },
   {
    "duration": 3,
    "start_time": "2023-06-20T15:28:47.216Z"
   },
   {
    "duration": 440,
    "start_time": "2023-06-20T15:28:47.221Z"
   },
   {
    "duration": 28,
    "start_time": "2023-06-20T15:28:47.663Z"
   },
   {
    "duration": 34,
    "start_time": "2023-06-20T15:28:47.695Z"
   },
   {
    "duration": 107,
    "start_time": "2023-06-20T15:28:47.731Z"
   },
   {
    "duration": 10,
    "start_time": "2023-06-20T15:28:47.841Z"
   },
   {
    "duration": 89,
    "start_time": "2023-06-20T15:28:47.853Z"
   },
   {
    "duration": 80,
    "start_time": "2023-06-20T15:28:47.944Z"
   },
   {
    "duration": 17,
    "start_time": "2023-06-20T15:28:48.026Z"
   },
   {
    "duration": 10,
    "start_time": "2023-06-20T15:28:48.045Z"
   },
   {
    "duration": 180,
    "start_time": "2023-06-20T15:28:48.058Z"
   },
   {
    "duration": 7,
    "start_time": "2023-06-20T15:28:48.240Z"
   },
   {
    "duration": 28,
    "start_time": "2023-06-20T15:28:48.249Z"
   },
   {
    "duration": 131,
    "start_time": "2023-06-20T15:28:48.279Z"
   },
   {
    "duration": 116,
    "start_time": "2023-06-20T15:28:48.412Z"
   },
   {
    "duration": 4,
    "start_time": "2023-06-20T15:28:48.530Z"
   },
   {
    "duration": 204,
    "start_time": "2023-06-20T15:28:48.535Z"
   },
   {
    "duration": 6,
    "start_time": "2023-06-20T15:28:48.741Z"
   },
   {
    "duration": 63,
    "start_time": "2023-06-20T15:28:48.749Z"
   },
   {
    "duration": 106,
    "start_time": "2023-06-20T15:28:48.818Z"
   },
   {
    "duration": 13,
    "start_time": "2023-06-20T15:28:48.926Z"
   },
   {
    "duration": 84,
    "start_time": "2023-06-20T15:28:48.941Z"
   },
   {
    "duration": 196,
    "start_time": "2023-06-20T15:28:49.027Z"
   },
   {
    "duration": 6,
    "start_time": "2023-06-20T15:28:49.231Z"
   },
   {
    "duration": 56,
    "start_time": "2023-06-20T15:28:49.238Z"
   },
   {
    "duration": 327,
    "start_time": "2023-06-20T15:28:49.295Z"
   },
   {
    "duration": 278,
    "start_time": "2023-06-20T15:28:49.624Z"
   },
   {
    "duration": 3,
    "start_time": "2023-06-20T15:28:49.907Z"
   },
   {
    "duration": 311,
    "start_time": "2023-06-20T15:28:49.920Z"
   },
   {
    "duration": 6,
    "start_time": "2023-06-20T15:28:50.233Z"
   },
   {
    "duration": 605,
    "start_time": "2023-06-20T15:28:50.242Z"
   },
   {
    "duration": 2,
    "start_time": "2023-06-20T15:28:50.849Z"
   },
   {
    "duration": 390,
    "start_time": "2023-06-20T15:28:50.853Z"
   },
   {
    "duration": 7,
    "start_time": "2023-06-20T15:28:51.244Z"
   },
   {
    "duration": 345,
    "start_time": "2023-06-20T15:28:51.253Z"
   },
   {
    "duration": 2,
    "start_time": "2023-06-20T15:28:51.600Z"
   },
   {
    "duration": 11033,
    "start_time": "2023-06-20T15:28:51.604Z"
   },
   {
    "duration": 623,
    "start_time": "2023-06-20T15:29:02.645Z"
   },
   {
    "duration": 5,
    "start_time": "2023-06-20T15:29:03.270Z"
   },
   {
    "duration": 437,
    "start_time": "2023-06-20T15:29:03.279Z"
   },
   {
    "duration": 69,
    "start_time": "2023-06-20T15:29:03.721Z"
   },
   {
    "duration": 252,
    "start_time": "2023-06-20T15:29:03.796Z"
   },
   {
    "duration": 18,
    "start_time": "2023-06-20T15:29:04.052Z"
   },
   {
    "duration": 141,
    "start_time": "2023-06-20T15:29:04.072Z"
   },
   {
    "duration": 201,
    "start_time": "2023-06-20T15:29:04.215Z"
   },
   {
    "duration": 410,
    "start_time": "2023-06-20T15:29:04.419Z"
   },
   {
    "duration": 27,
    "start_time": "2023-06-20T15:29:04.835Z"
   },
   {
    "duration": 69,
    "start_time": "2023-06-20T15:29:04.864Z"
   },
   {
    "duration": 10,
    "start_time": "2023-06-20T15:29:04.935Z"
   },
   {
    "duration": 37,
    "start_time": "2023-06-20T15:29:04.947Z"
   },
   {
    "duration": 476,
    "start_time": "2023-06-20T15:29:04.986Z"
   },
   {
    "duration": 270,
    "start_time": "2023-06-20T15:29:05.463Z"
   },
   {
    "duration": 66,
    "start_time": "2023-06-20T15:29:05.735Z"
   },
   {
    "duration": 154,
    "start_time": "2023-06-20T15:29:05.813Z"
   },
   {
    "duration": 74,
    "start_time": "2023-06-20T15:29:05.968Z"
   },
   {
    "duration": 182,
    "start_time": "2023-06-20T15:29:06.044Z"
   },
   {
    "duration": 120,
    "start_time": "2023-06-20T15:29:06.235Z"
   },
   {
    "duration": 72,
    "start_time": "2023-06-20T15:29:06.357Z"
   },
   {
    "duration": 118,
    "start_time": "2023-06-20T15:29:06.431Z"
   },
   {
    "duration": 122,
    "start_time": "2023-06-20T15:29:06.551Z"
   },
   {
    "duration": 163,
    "start_time": "2023-06-20T15:29:06.679Z"
   },
   {
    "duration": 248,
    "start_time": "2023-06-20T15:29:06.844Z"
   },
   {
    "duration": 96,
    "start_time": "2023-06-20T15:29:07.104Z"
   },
   {
    "duration": 121,
    "start_time": "2023-06-20T15:29:07.205Z"
   },
   {
    "duration": 93,
    "start_time": "2023-06-20T15:29:07.330Z"
   },
   {
    "duration": 163,
    "start_time": "2023-06-20T15:29:07.428Z"
   },
   {
    "duration": 54,
    "start_time": "2023-06-20T15:29:07.597Z"
   },
   {
    "duration": 18,
    "start_time": "2023-06-20T15:29:07.653Z"
   },
   {
    "duration": 237,
    "start_time": "2023-06-20T15:29:07.675Z"
   },
   {
    "duration": 79,
    "start_time": "2023-06-20T15:29:07.917Z"
   },
   {
    "duration": 97,
    "start_time": "2023-06-20T15:29:08.003Z"
   },
   {
    "duration": 123,
    "start_time": "2023-06-20T15:29:08.105Z"
   },
   {
    "duration": 116,
    "start_time": "2023-06-20T15:29:08.229Z"
   },
   {
    "duration": 3,
    "start_time": "2023-06-20T15:29:08.347Z"
   },
   {
    "duration": 63,
    "start_time": "2023-06-20T15:29:08.352Z"
   },
   {
    "duration": 173,
    "start_time": "2023-06-20T15:29:08.417Z"
   },
   {
    "duration": 69,
    "start_time": "2023-06-20T15:29:08.596Z"
   },
   {
    "duration": 102,
    "start_time": "2023-06-20T15:29:08.677Z"
   },
   {
    "duration": 69,
    "start_time": "2023-06-20T15:29:08.780Z"
   },
   {
    "duration": 128,
    "start_time": "2023-06-20T15:29:08.854Z"
   },
   {
    "duration": 73,
    "start_time": "2023-06-20T15:29:08.987Z"
   },
   {
    "duration": 98,
    "start_time": "2023-06-20T15:29:09.066Z"
   },
   {
    "duration": 249,
    "start_time": "2023-06-20T15:29:09.172Z"
   },
   {
    "duration": 206,
    "start_time": "2023-06-20T15:29:09.423Z"
   },
   {
    "duration": 4,
    "start_time": "2023-06-20T15:30:43.209Z"
   },
   {
    "duration": 165,
    "start_time": "2023-06-20T15:30:50.127Z"
   },
   {
    "duration": 22,
    "start_time": "2023-06-20T15:31:05.508Z"
   },
   {
    "duration": 7,
    "start_time": "2023-06-20T15:31:07.077Z"
   },
   {
    "duration": 166,
    "start_time": "2023-06-20T15:31:09.301Z"
   },
   {
    "duration": 183,
    "start_time": "2023-06-20T15:31:25.207Z"
   },
   {
    "duration": 152,
    "start_time": "2023-06-20T15:31:28.903Z"
   },
   {
    "duration": 1095,
    "start_time": "2023-06-20T15:31:33.938Z"
   },
   {
    "duration": 26,
    "start_time": "2023-06-20T15:31:36.903Z"
   },
   {
    "duration": 42,
    "start_time": "2023-06-20T15:31:49.405Z"
   },
   {
    "duration": 41,
    "start_time": "2023-06-20T15:31:52.396Z"
   },
   {
    "duration": 5,
    "start_time": "2023-06-20T15:32:01.973Z"
   },
   {
    "duration": 90,
    "start_time": "2023-06-20T15:32:03.711Z"
   },
   {
    "duration": 26,
    "start_time": "2023-06-20T15:32:19.600Z"
   },
   {
    "duration": 15,
    "start_time": "2023-06-20T15:33:05.699Z"
   },
   {
    "duration": 6,
    "start_time": "2023-06-20T15:33:12.550Z"
   },
   {
    "duration": 5,
    "start_time": "2023-06-20T15:33:16.443Z"
   },
   {
    "duration": 146,
    "start_time": "2023-06-20T15:33:20.526Z"
   },
   {
    "duration": 190,
    "start_time": "2023-06-20T15:33:34.315Z"
   },
   {
    "duration": 3,
    "start_time": "2023-06-20T15:33:43.331Z"
   },
   {
    "duration": 9,
    "start_time": "2023-06-20T15:33:45.352Z"
   },
   {
    "duration": 258241,
    "start_time": "2023-06-20T15:33:53.201Z"
   },
   {
    "duration": 2153,
    "start_time": "2023-06-20T15:38:26.275Z"
   },
   {
    "duration": 7,
    "start_time": "2023-06-20T15:38:28.430Z"
   },
   {
    "duration": 43,
    "start_time": "2023-06-20T15:38:28.441Z"
   },
   {
    "duration": 17221,
    "start_time": "2023-06-20T15:38:28.489Z"
   },
   {
    "duration": 4,
    "start_time": "2023-06-20T15:38:45.716Z"
   },
   {
    "duration": 407,
    "start_time": "2023-06-20T15:38:45.723Z"
   },
   {
    "duration": 10,
    "start_time": "2023-06-20T15:38:46.132Z"
   },
   {
    "duration": 7,
    "start_time": "2023-06-20T15:38:46.144Z"
   },
   {
    "duration": 117,
    "start_time": "2023-06-20T15:38:46.159Z"
   },
   {
    "duration": 21,
    "start_time": "2023-06-20T15:38:46.277Z"
   },
   {
    "duration": 38,
    "start_time": "2023-06-20T15:38:46.302Z"
   },
   {
    "duration": 105,
    "start_time": "2023-06-20T15:38:46.342Z"
   },
   {
    "duration": 13,
    "start_time": "2023-06-20T15:38:46.449Z"
   },
   {
    "duration": 65,
    "start_time": "2023-06-20T15:38:46.467Z"
   },
   {
    "duration": 94,
    "start_time": "2023-06-20T15:38:46.534Z"
   },
   {
    "duration": 6,
    "start_time": "2023-06-20T15:38:46.630Z"
   },
   {
    "duration": 9,
    "start_time": "2023-06-20T15:38:46.637Z"
   },
   {
    "duration": 205,
    "start_time": "2023-06-20T15:38:46.647Z"
   },
   {
    "duration": 37,
    "start_time": "2023-06-20T15:38:46.865Z"
   },
   {
    "duration": 38,
    "start_time": "2023-06-20T15:38:46.907Z"
   },
   {
    "duration": 193,
    "start_time": "2023-06-20T15:38:46.947Z"
   },
   {
    "duration": 7,
    "start_time": "2023-06-20T15:38:47.141Z"
   },
   {
    "duration": 91,
    "start_time": "2023-06-20T15:38:47.149Z"
   },
   {
    "duration": 165,
    "start_time": "2023-06-20T15:38:47.242Z"
   },
   {
    "duration": 32,
    "start_time": "2023-06-20T15:38:47.409Z"
   },
   {
    "duration": 39,
    "start_time": "2023-06-20T15:38:47.443Z"
   },
   {
    "duration": 264,
    "start_time": "2023-06-20T15:38:47.484Z"
   },
   {
    "duration": 31,
    "start_time": "2023-06-20T15:38:47.750Z"
   },
   {
    "duration": 47,
    "start_time": "2023-06-20T15:38:47.789Z"
   },
   {
    "duration": 287,
    "start_time": "2023-06-20T15:38:47.838Z"
   },
   {
    "duration": 264,
    "start_time": "2023-06-20T15:38:48.127Z"
   },
   {
    "duration": 2,
    "start_time": "2023-06-20T15:38:48.393Z"
   },
   {
    "duration": 343,
    "start_time": "2023-06-20T15:38:48.397Z"
   },
   {
    "duration": 7,
    "start_time": "2023-06-20T15:38:48.741Z"
   },
   {
    "duration": 624,
    "start_time": "2023-06-20T15:38:48.749Z"
   },
   {
    "duration": 4,
    "start_time": "2023-06-20T15:38:49.375Z"
   },
   {
    "duration": 324,
    "start_time": "2023-06-20T15:38:49.381Z"
   },
   {
    "duration": 19,
    "start_time": "2023-06-20T15:38:49.707Z"
   },
   {
    "duration": 303,
    "start_time": "2023-06-20T15:38:49.732Z"
   },
   {
    "duration": 4,
    "start_time": "2023-06-20T15:38:50.040Z"
   },
   {
    "duration": 11239,
    "start_time": "2023-06-20T15:38:50.058Z"
   },
   {
    "duration": 553,
    "start_time": "2023-06-20T15:39:01.299Z"
   },
   {
    "duration": 5,
    "start_time": "2023-06-20T15:39:01.854Z"
   },
   {
    "duration": 424,
    "start_time": "2023-06-20T15:39:01.860Z"
   },
   {
    "duration": 102,
    "start_time": "2023-06-20T15:39:02.285Z"
   },
   {
    "duration": 179,
    "start_time": "2023-06-20T15:39:02.391Z"
   },
   {
    "duration": 10,
    "start_time": "2023-06-20T15:39:02.575Z"
   },
   {
    "duration": 290,
    "start_time": "2023-06-20T15:39:02.591Z"
   },
   {
    "duration": 263,
    "start_time": "2023-06-20T15:39:02.884Z"
   },
   {
    "duration": 406,
    "start_time": "2023-06-20T15:39:03.149Z"
   },
   {
    "duration": 81,
    "start_time": "2023-06-20T15:39:03.566Z"
   },
   {
    "duration": 273,
    "start_time": "2023-06-20T15:39:03.650Z"
   },
   {
    "duration": 46,
    "start_time": "2023-06-20T15:39:03.926Z"
   },
   {
    "duration": 138,
    "start_time": "2023-06-20T15:39:03.979Z"
   },
   {
    "duration": 233,
    "start_time": "2023-06-20T15:39:04.119Z"
   },
   {
    "duration": 84,
    "start_time": "2023-06-20T15:39:04.359Z"
   },
   {
    "duration": 74,
    "start_time": "2023-06-20T15:39:04.445Z"
   },
   {
    "duration": 141,
    "start_time": "2023-06-20T15:39:04.523Z"
   },
   {
    "duration": 85,
    "start_time": "2023-06-20T15:39:04.672Z"
   },
   {
    "duration": 174,
    "start_time": "2023-06-20T15:39:04.767Z"
   },
   {
    "duration": 179,
    "start_time": "2023-06-20T15:39:04.943Z"
   },
   {
    "duration": 95,
    "start_time": "2023-06-20T15:39:05.133Z"
   },
   {
    "duration": 120,
    "start_time": "2023-06-20T15:39:05.230Z"
   },
   {
    "duration": 153,
    "start_time": "2023-06-20T15:39:05.352Z"
   },
   {
    "duration": 259,
    "start_time": "2023-06-20T15:39:05.510Z"
   },
   {
    "duration": 205,
    "start_time": "2023-06-20T15:39:05.774Z"
   },
   {
    "duration": 83,
    "start_time": "2023-06-20T15:39:05.980Z"
   },
   {
    "duration": 156,
    "start_time": "2023-06-20T15:39:06.065Z"
   },
   {
    "duration": 113,
    "start_time": "2023-06-20T15:39:06.223Z"
   },
   {
    "duration": 182,
    "start_time": "2023-06-20T15:39:06.339Z"
   },
   {
    "duration": 15,
    "start_time": "2023-06-20T15:39:06.525Z"
   },
   {
    "duration": 21,
    "start_time": "2023-06-20T15:39:06.541Z"
   },
   {
    "duration": 223,
    "start_time": "2023-06-20T15:39:06.575Z"
   },
   {
    "duration": 91,
    "start_time": "2023-06-20T15:39:06.811Z"
   },
   {
    "duration": 103,
    "start_time": "2023-06-20T15:39:06.904Z"
   },
   {
    "duration": 139,
    "start_time": "2023-06-20T15:39:07.012Z"
   },
   {
    "duration": 121,
    "start_time": "2023-06-20T15:39:07.152Z"
   },
   {
    "duration": 11,
    "start_time": "2023-06-20T15:39:07.279Z"
   },
   {
    "duration": 92,
    "start_time": "2023-06-20T15:39:07.291Z"
   },
   {
    "duration": 207,
    "start_time": "2023-06-20T15:39:07.385Z"
   },
   {
    "duration": 62,
    "start_time": "2023-06-20T15:39:07.606Z"
   },
   {
    "duration": 137,
    "start_time": "2023-06-20T15:39:07.673Z"
   },
   {
    "duration": 46,
    "start_time": "2023-06-20T15:39:07.816Z"
   },
   {
    "duration": 173,
    "start_time": "2023-06-20T15:39:07.863Z"
   },
   {
    "duration": 66,
    "start_time": "2023-06-20T15:39:08.042Z"
   },
   {
    "duration": 111,
    "start_time": "2023-06-20T15:39:08.117Z"
   },
   {
    "duration": 168,
    "start_time": "2023-06-20T15:39:08.235Z"
   },
   {
    "duration": 157,
    "start_time": "2023-06-20T15:39:08.414Z"
   },
   {
    "duration": 18,
    "start_time": "2023-06-20T15:39:08.582Z"
   },
   {
    "duration": 176,
    "start_time": "2023-06-20T15:39:08.613Z"
   },
   {
    "duration": 4,
    "start_time": "2023-06-20T15:39:08.794Z"
   },
   {
    "duration": 43,
    "start_time": "2023-06-20T15:39:08.800Z"
   },
   {
    "duration": 1121,
    "start_time": "2023-06-20T15:39:08.845Z"
   },
   {
    "duration": 51,
    "start_time": "2023-06-20T15:39:09.977Z"
   },
   {
    "duration": 115,
    "start_time": "2023-06-20T15:39:10.029Z"
   },
   {
    "duration": 82,
    "start_time": "2023-06-20T15:39:10.146Z"
   },
   {
    "duration": 185,
    "start_time": "2023-06-20T15:39:10.229Z"
   },
   {
    "duration": 146,
    "start_time": "2023-06-20T15:39:10.425Z"
   },
   {
    "duration": 10,
    "start_time": "2023-06-20T15:39:10.573Z"
   },
   {
    "duration": 855695,
    "start_time": "2023-06-20T15:39:39.536Z"
   },
   {
    "duration": 5,
    "start_time": "2023-06-20T16:09:02.199Z"
   },
   {
    "duration": 4,
    "start_time": "2023-06-20T16:09:08.013Z"
   },
   {
    "duration": 154,
    "start_time": "2023-06-20T16:47:31.511Z"
   },
   {
    "duration": 47366,
    "start_time": "2023-06-20T16:47:46.325Z"
   },
   {
    "duration": 3,
    "start_time": "2023-06-20T16:51:02.012Z"
   },
   {
    "duration": 6852,
    "start_time": "2023-06-20T16:51:21.728Z"
   },
   {
    "duration": 13612,
    "start_time": "2023-06-20T16:51:42.793Z"
   },
   {
    "duration": 5,
    "start_time": "2023-06-20T16:53:31.847Z"
   },
   {
    "duration": 7,
    "start_time": "2023-06-20T16:54:07.070Z"
   },
   {
    "duration": 8,
    "start_time": "2023-06-20T16:55:53.752Z"
   },
   {
    "duration": 71886,
    "start_time": "2023-06-20T16:55:59.562Z"
   },
   {
    "duration": 17,
    "start_time": "2023-06-20T16:57:11.462Z"
   },
   {
    "duration": 1870,
    "start_time": "2023-06-20T16:58:21.940Z"
   },
   {
    "duration": 5,
    "start_time": "2023-06-20T16:58:23.813Z"
   },
   {
    "duration": 73,
    "start_time": "2023-06-20T16:58:23.820Z"
   },
   {
    "duration": 13651,
    "start_time": "2023-06-20T16:58:23.896Z"
   },
   {
    "duration": 3,
    "start_time": "2023-06-20T16:58:37.549Z"
   },
   {
    "duration": 350,
    "start_time": "2023-06-20T16:58:37.554Z"
   },
   {
    "duration": 12,
    "start_time": "2023-06-20T16:58:37.907Z"
   },
   {
    "duration": 74,
    "start_time": "2023-06-20T16:58:37.921Z"
   },
   {
    "duration": 124,
    "start_time": "2023-06-20T16:58:38.002Z"
   },
   {
    "duration": 57,
    "start_time": "2023-06-20T16:58:38.128Z"
   },
   {
    "duration": 70,
    "start_time": "2023-06-20T16:58:38.190Z"
   },
   {
    "duration": 130,
    "start_time": "2023-06-20T16:58:38.261Z"
   },
   {
    "duration": 14,
    "start_time": "2023-06-20T16:58:38.394Z"
   },
   {
    "duration": 47,
    "start_time": "2023-06-20T16:58:38.415Z"
   },
   {
    "duration": 128,
    "start_time": "2023-06-20T16:58:38.464Z"
   },
   {
    "duration": 44,
    "start_time": "2023-06-20T16:58:38.594Z"
   },
   {
    "duration": 90,
    "start_time": "2023-06-20T16:58:38.640Z"
   },
   {
    "duration": 231,
    "start_time": "2023-06-20T16:58:38.732Z"
   },
   {
    "duration": 32,
    "start_time": "2023-06-20T16:58:38.965Z"
   },
   {
    "duration": 21,
    "start_time": "2023-06-20T16:58:38.999Z"
   },
   {
    "duration": 202,
    "start_time": "2023-06-20T16:58:39.022Z"
   },
   {
    "duration": 7,
    "start_time": "2023-06-20T16:58:39.226Z"
   },
   {
    "duration": 78,
    "start_time": "2023-06-20T16:58:39.235Z"
   },
   {
    "duration": 104,
    "start_time": "2023-06-20T16:58:39.315Z"
   },
   {
    "duration": 23,
    "start_time": "2023-06-20T16:58:39.421Z"
   },
   {
    "duration": 50,
    "start_time": "2023-06-20T16:58:39.446Z"
   },
   {
    "duration": 197,
    "start_time": "2023-06-20T16:58:39.498Z"
   },
   {
    "duration": 6,
    "start_time": "2023-06-20T16:58:39.697Z"
   },
   {
    "duration": 43,
    "start_time": "2023-06-20T16:58:39.706Z"
   },
   {
    "duration": 340,
    "start_time": "2023-06-20T16:58:39.751Z"
   },
   {
    "duration": 278,
    "start_time": "2023-06-20T16:58:40.093Z"
   },
   {
    "duration": 11,
    "start_time": "2023-06-20T16:58:40.375Z"
   },
   {
    "duration": 333,
    "start_time": "2023-06-20T16:58:40.389Z"
   },
   {
    "duration": 8,
    "start_time": "2023-06-20T16:58:40.725Z"
   },
   {
    "duration": 608,
    "start_time": "2023-06-20T16:58:40.735Z"
   },
   {
    "duration": 14,
    "start_time": "2023-06-20T16:58:41.345Z"
   },
   {
    "duration": 263,
    "start_time": "2023-06-20T16:58:41.365Z"
   },
   {
    "duration": 8,
    "start_time": "2023-06-20T16:58:41.630Z"
   },
   {
    "duration": 326,
    "start_time": "2023-06-20T16:58:41.640Z"
   },
   {
    "duration": 6,
    "start_time": "2023-06-20T16:58:41.968Z"
   },
   {
    "duration": 11209,
    "start_time": "2023-06-20T16:58:41.991Z"
   },
   {
    "duration": 583,
    "start_time": "2023-06-20T16:58:53.202Z"
   },
   {
    "duration": 4,
    "start_time": "2023-06-20T16:58:53.788Z"
   },
   {
    "duration": 439,
    "start_time": "2023-06-20T16:58:53.794Z"
   },
   {
    "duration": 91,
    "start_time": "2023-06-20T16:58:54.237Z"
   },
   {
    "duration": 186,
    "start_time": "2023-06-20T16:58:54.330Z"
   },
   {
    "duration": 6,
    "start_time": "2023-06-20T16:58:54.519Z"
   },
   {
    "duration": 99,
    "start_time": "2023-06-20T16:58:54.527Z"
   },
   {
    "duration": 167,
    "start_time": "2023-06-20T16:58:54.628Z"
   },
   {
    "duration": 387,
    "start_time": "2023-06-20T16:58:54.798Z"
   },
   {
    "duration": 18,
    "start_time": "2023-06-20T16:58:55.187Z"
   },
   {
    "duration": 16,
    "start_time": "2023-06-20T16:58:55.208Z"
   },
   {
    "duration": 16,
    "start_time": "2023-06-20T16:58:55.226Z"
   },
   {
    "duration": 21,
    "start_time": "2023-06-20T16:58:55.244Z"
   },
   {
    "duration": 133,
    "start_time": "2023-06-20T16:58:55.269Z"
   },
   {
    "duration": 65,
    "start_time": "2023-06-20T16:58:55.403Z"
   },
   {
    "duration": 45,
    "start_time": "2023-06-20T16:58:55.470Z"
   },
   {
    "duration": 190,
    "start_time": "2023-06-20T16:58:55.518Z"
   },
   {
    "duration": 82,
    "start_time": "2023-06-20T16:58:55.711Z"
   },
   {
    "duration": 164,
    "start_time": "2023-06-20T16:58:55.803Z"
   },
   {
    "duration": 130,
    "start_time": "2023-06-20T16:58:55.976Z"
   },
   {
    "duration": 72,
    "start_time": "2023-06-20T16:58:56.108Z"
   },
   {
    "duration": 121,
    "start_time": "2023-06-20T16:58:56.188Z"
   },
   {
    "duration": 69,
    "start_time": "2023-06-20T16:58:56.311Z"
   },
   {
    "duration": 165,
    "start_time": "2023-06-20T16:58:56.381Z"
   },
   {
    "duration": 132,
    "start_time": "2023-06-20T16:58:56.548Z"
   },
   {
    "duration": 86,
    "start_time": "2023-06-20T16:58:56.683Z"
   },
   {
    "duration": 66,
    "start_time": "2023-06-20T16:58:56.779Z"
   },
   {
    "duration": 87,
    "start_time": "2023-06-20T16:58:56.847Z"
   },
   {
    "duration": 164,
    "start_time": "2023-06-20T16:58:56.936Z"
   },
   {
    "duration": 12,
    "start_time": "2023-06-20T16:58:57.103Z"
   },
   {
    "duration": 14,
    "start_time": "2023-06-20T16:58:57.118Z"
   },
   {
    "duration": 182,
    "start_time": "2023-06-20T16:58:57.134Z"
   },
   {
    "duration": 89,
    "start_time": "2023-06-20T16:58:57.319Z"
   },
   {
    "duration": 66,
    "start_time": "2023-06-20T16:58:57.410Z"
   },
   {
    "duration": 118,
    "start_time": "2023-06-20T16:58:57.482Z"
   },
   {
    "duration": 111,
    "start_time": "2023-06-20T16:58:57.607Z"
   },
   {
    "duration": 4,
    "start_time": "2023-06-20T16:58:57.720Z"
   },
   {
    "duration": 12,
    "start_time": "2023-06-20T16:58:57.726Z"
   },
   {
    "duration": 154,
    "start_time": "2023-06-20T16:58:57.739Z"
   },
   {
    "duration": 71,
    "start_time": "2023-06-20T16:58:57.896Z"
   },
   {
    "duration": 98,
    "start_time": "2023-06-20T16:58:57.974Z"
   },
   {
    "duration": 51,
    "start_time": "2023-06-20T16:58:58.074Z"
   },
   {
    "duration": 77,
    "start_time": "2023-06-20T16:58:58.127Z"
   },
   {
    "duration": 72,
    "start_time": "2023-06-20T16:58:58.206Z"
   },
   {
    "duration": 38,
    "start_time": "2023-06-20T16:58:58.285Z"
   },
   {
    "duration": 164,
    "start_time": "2023-06-20T16:58:58.325Z"
   },
   {
    "duration": 147,
    "start_time": "2023-06-20T16:58:58.491Z"
   },
   {
    "duration": 51,
    "start_time": "2023-06-20T16:58:58.640Z"
   },
   {
    "duration": 149,
    "start_time": "2023-06-20T16:58:58.693Z"
   },
   {
    "duration": 4,
    "start_time": "2023-06-20T16:58:58.844Z"
   },
   {
    "duration": 73,
    "start_time": "2023-06-20T16:58:58.853Z"
   },
   {
    "duration": 1120,
    "start_time": "2023-06-20T16:58:58.928Z"
   },
   {
    "duration": 38,
    "start_time": "2023-06-20T16:59:00.050Z"
   },
   {
    "duration": 52,
    "start_time": "2023-06-20T16:59:00.090Z"
   },
   {
    "duration": 4,
    "start_time": "2023-06-20T16:59:00.145Z"
   },
   {
    "duration": 155,
    "start_time": "2023-06-20T16:59:00.150Z"
   },
   {
    "duration": 126,
    "start_time": "2023-06-20T16:59:00.307Z"
   },
   {
    "duration": 900,
    "start_time": "2023-06-20T17:30:20.777Z"
   },
   {
    "duration": 284,
    "start_time": "2023-06-20T17:31:08.116Z"
   },
   {
    "duration": 0,
    "start_time": "2023-06-20T17:31:08.405Z"
   },
   {
    "duration": 0,
    "start_time": "2023-06-20T17:31:08.406Z"
   },
   {
    "duration": 0,
    "start_time": "2023-06-20T17:31:08.407Z"
   },
   {
    "duration": 0,
    "start_time": "2023-06-20T17:31:08.408Z"
   },
   {
    "duration": 0,
    "start_time": "2023-06-20T17:31:08.409Z"
   },
   {
    "duration": 0,
    "start_time": "2023-06-20T17:31:08.410Z"
   },
   {
    "duration": 0,
    "start_time": "2023-06-20T17:31:08.411Z"
   },
   {
    "duration": 0,
    "start_time": "2023-06-20T17:31:08.413Z"
   },
   {
    "duration": 0,
    "start_time": "2023-06-20T17:31:08.414Z"
   },
   {
    "duration": 0,
    "start_time": "2023-06-20T17:31:08.415Z"
   },
   {
    "duration": 0,
    "start_time": "2023-06-20T17:31:08.417Z"
   },
   {
    "duration": 0,
    "start_time": "2023-06-20T17:31:08.418Z"
   },
   {
    "duration": 0,
    "start_time": "2023-06-20T17:31:08.419Z"
   },
   {
    "duration": 0,
    "start_time": "2023-06-20T17:31:08.420Z"
   },
   {
    "duration": 0,
    "start_time": "2023-06-20T17:31:08.421Z"
   },
   {
    "duration": 0,
    "start_time": "2023-06-20T17:31:08.422Z"
   },
   {
    "duration": 0,
    "start_time": "2023-06-20T17:31:08.423Z"
   },
   {
    "duration": 0,
    "start_time": "2023-06-20T17:31:08.424Z"
   },
   {
    "duration": 0,
    "start_time": "2023-06-20T17:31:08.425Z"
   },
   {
    "duration": 0,
    "start_time": "2023-06-20T17:31:08.427Z"
   },
   {
    "duration": 0,
    "start_time": "2023-06-20T17:31:08.428Z"
   },
   {
    "duration": 0,
    "start_time": "2023-06-20T17:31:08.429Z"
   },
   {
    "duration": 0,
    "start_time": "2023-06-20T17:31:08.430Z"
   },
   {
    "duration": 0,
    "start_time": "2023-06-20T17:31:08.432Z"
   },
   {
    "duration": 0,
    "start_time": "2023-06-20T17:31:08.433Z"
   },
   {
    "duration": 0,
    "start_time": "2023-06-20T17:31:08.434Z"
   },
   {
    "duration": 0,
    "start_time": "2023-06-20T17:31:08.436Z"
   },
   {
    "duration": 0,
    "start_time": "2023-06-20T17:31:08.437Z"
   },
   {
    "duration": 0,
    "start_time": "2023-06-20T17:31:08.438Z"
   },
   {
    "duration": 0,
    "start_time": "2023-06-20T17:31:08.439Z"
   },
   {
    "duration": 0,
    "start_time": "2023-06-20T17:31:08.440Z"
   },
   {
    "duration": 0,
    "start_time": "2023-06-20T17:31:08.441Z"
   },
   {
    "duration": 0,
    "start_time": "2023-06-20T17:31:08.459Z"
   },
   {
    "duration": 0,
    "start_time": "2023-06-20T17:31:08.460Z"
   },
   {
    "duration": 0,
    "start_time": "2023-06-20T17:31:08.460Z"
   },
   {
    "duration": 0,
    "start_time": "2023-06-20T17:31:08.461Z"
   },
   {
    "duration": 0,
    "start_time": "2023-06-20T17:31:08.461Z"
   },
   {
    "duration": 0,
    "start_time": "2023-06-20T17:31:08.462Z"
   },
   {
    "duration": 0,
    "start_time": "2023-06-20T17:31:08.463Z"
   },
   {
    "duration": 0,
    "start_time": "2023-06-20T17:31:08.465Z"
   },
   {
    "duration": 0,
    "start_time": "2023-06-20T17:31:08.468Z"
   },
   {
    "duration": 0,
    "start_time": "2023-06-20T17:31:08.468Z"
   },
   {
    "duration": 0,
    "start_time": "2023-06-20T17:31:08.469Z"
   },
   {
    "duration": 0,
    "start_time": "2023-06-20T17:31:08.470Z"
   },
   {
    "duration": 0,
    "start_time": "2023-06-20T17:31:08.470Z"
   },
   {
    "duration": 0,
    "start_time": "2023-06-20T17:31:08.471Z"
   },
   {
    "duration": 0,
    "start_time": "2023-06-20T17:31:08.472Z"
   },
   {
    "duration": 0,
    "start_time": "2023-06-20T17:31:08.472Z"
   },
   {
    "duration": 0,
    "start_time": "2023-06-20T17:31:08.473Z"
   },
   {
    "duration": 0,
    "start_time": "2023-06-20T17:31:08.480Z"
   },
   {
    "duration": 0,
    "start_time": "2023-06-20T17:31:08.482Z"
   },
   {
    "duration": 1,
    "start_time": "2023-06-20T17:31:08.483Z"
   },
   {
    "duration": 0,
    "start_time": "2023-06-20T17:31:08.484Z"
   },
   {
    "duration": 0,
    "start_time": "2023-06-20T17:31:08.494Z"
   },
   {
    "duration": 0,
    "start_time": "2023-06-20T17:31:08.495Z"
   },
   {
    "duration": 0,
    "start_time": "2023-06-20T17:31:08.495Z"
   },
   {
    "duration": 0,
    "start_time": "2023-06-20T17:31:08.496Z"
   },
   {
    "duration": 0,
    "start_time": "2023-06-20T17:31:08.497Z"
   },
   {
    "duration": 0,
    "start_time": "2023-06-20T17:31:08.497Z"
   },
   {
    "duration": 0,
    "start_time": "2023-06-20T17:31:08.505Z"
   },
   {
    "duration": 0,
    "start_time": "2023-06-20T17:31:08.505Z"
   },
   {
    "duration": 0,
    "start_time": "2023-06-20T17:31:08.506Z"
   },
   {
    "duration": 0,
    "start_time": "2023-06-20T17:31:08.507Z"
   },
   {
    "duration": 0,
    "start_time": "2023-06-20T17:31:08.507Z"
   },
   {
    "duration": 0,
    "start_time": "2023-06-20T17:31:08.518Z"
   },
   {
    "duration": 0,
    "start_time": "2023-06-20T17:31:08.519Z"
   },
   {
    "duration": 0,
    "start_time": "2023-06-20T17:31:08.522Z"
   },
   {
    "duration": 1,
    "start_time": "2023-06-20T17:31:08.559Z"
   },
   {
    "duration": 0,
    "start_time": "2023-06-20T17:31:08.561Z"
   },
   {
    "duration": 0,
    "start_time": "2023-06-20T17:31:08.562Z"
   },
   {
    "duration": 0,
    "start_time": "2023-06-20T17:31:08.563Z"
   },
   {
    "duration": 0,
    "start_time": "2023-06-20T17:31:08.564Z"
   },
   {
    "duration": 0,
    "start_time": "2023-06-20T17:31:08.564Z"
   },
   {
    "duration": 0,
    "start_time": "2023-06-20T17:31:08.568Z"
   },
   {
    "duration": 0,
    "start_time": "2023-06-20T17:31:08.570Z"
   },
   {
    "duration": 0,
    "start_time": "2023-06-20T17:31:08.571Z"
   },
   {
    "duration": 0,
    "start_time": "2023-06-20T17:31:08.573Z"
   },
   {
    "duration": 0,
    "start_time": "2023-06-20T17:31:08.575Z"
   },
   {
    "duration": 0,
    "start_time": "2023-06-20T17:31:08.578Z"
   },
   {
    "duration": 0,
    "start_time": "2023-06-20T17:31:08.580Z"
   },
   {
    "duration": 0,
    "start_time": "2023-06-20T17:31:08.582Z"
   },
   {
    "duration": 0,
    "start_time": "2023-06-20T17:31:08.583Z"
   },
   {
    "duration": 0,
    "start_time": "2023-06-20T17:31:08.585Z"
   },
   {
    "duration": 0,
    "start_time": "2023-06-20T17:31:08.588Z"
   },
   {
    "duration": 0,
    "start_time": "2023-06-20T17:31:08.590Z"
   },
   {
    "duration": 0,
    "start_time": "2023-06-20T17:31:08.592Z"
   },
   {
    "duration": 0,
    "start_time": "2023-06-20T17:31:08.594Z"
   },
   {
    "duration": 0,
    "start_time": "2023-06-20T17:31:08.596Z"
   },
   {
    "duration": 0,
    "start_time": "2023-06-20T17:31:08.597Z"
   },
   {
    "duration": 0,
    "start_time": "2023-06-20T17:31:08.598Z"
   },
   {
    "duration": 0,
    "start_time": "2023-06-20T17:31:08.599Z"
   },
   {
    "duration": 0,
    "start_time": "2023-06-20T17:31:08.600Z"
   },
   {
    "duration": 0,
    "start_time": "2023-06-20T17:31:08.601Z"
   },
   {
    "duration": 0,
    "start_time": "2023-06-20T17:31:08.602Z"
   },
   {
    "duration": 0,
    "start_time": "2023-06-20T17:31:08.604Z"
   },
   {
    "duration": 6035,
    "start_time": "2023-06-20T17:32:28.313Z"
   },
   {
    "duration": 16,
    "start_time": "2023-06-20T17:32:34.351Z"
   },
   {
    "duration": 162,
    "start_time": "2023-06-20T17:32:34.376Z"
   },
   {
    "duration": 21399,
    "start_time": "2023-06-20T17:32:34.539Z"
   },
   {
    "duration": 3,
    "start_time": "2023-06-20T17:32:55.941Z"
   },
   {
    "duration": 571,
    "start_time": "2023-06-20T17:32:55.947Z"
   },
   {
    "duration": 12,
    "start_time": "2023-06-20T17:32:56.523Z"
   },
   {
    "duration": 86,
    "start_time": "2023-06-20T17:32:56.538Z"
   },
   {
    "duration": 122,
    "start_time": "2023-06-20T17:32:56.626Z"
   },
   {
    "duration": 9,
    "start_time": "2023-06-20T17:32:56.750Z"
   },
   {
    "duration": 84,
    "start_time": "2023-06-20T17:32:56.760Z"
   },
   {
    "duration": 142,
    "start_time": "2023-06-20T17:32:56.847Z"
   },
   {
    "duration": 12,
    "start_time": "2023-06-20T17:32:56.991Z"
   },
   {
    "duration": 26,
    "start_time": "2023-06-20T17:32:57.011Z"
   },
   {
    "duration": 98,
    "start_time": "2023-06-20T17:32:57.038Z"
   },
   {
    "duration": 7,
    "start_time": "2023-06-20T17:32:57.137Z"
   },
   {
    "duration": 9,
    "start_time": "2023-06-20T17:32:57.146Z"
   },
   {
    "duration": 186,
    "start_time": "2023-06-20T17:32:57.162Z"
   },
   {
    "duration": 30,
    "start_time": "2023-06-20T17:32:57.353Z"
   },
   {
    "duration": 38,
    "start_time": "2023-06-20T17:32:57.388Z"
   },
   {
    "duration": 177,
    "start_time": "2023-06-20T17:32:57.429Z"
   },
   {
    "duration": 11,
    "start_time": "2023-06-20T17:32:57.608Z"
   },
   {
    "duration": 96,
    "start_time": "2023-06-20T17:32:57.621Z"
   },
   {
    "duration": 47,
    "start_time": "2023-06-20T17:32:57.719Z"
   },
   {
    "duration": 23,
    "start_time": "2023-06-20T17:32:57.768Z"
   },
   {
    "duration": 32,
    "start_time": "2023-06-20T17:32:57.793Z"
   },
   {
    "duration": 170,
    "start_time": "2023-06-20T17:32:57.828Z"
   },
   {
    "duration": 14,
    "start_time": "2023-06-20T17:32:58.000Z"
   },
   {
    "duration": 10,
    "start_time": "2023-06-20T17:32:58.018Z"
   },
   {
    "duration": 279,
    "start_time": "2023-06-20T17:32:58.030Z"
   },
   {
    "duration": 280,
    "start_time": "2023-06-20T17:32:58.311Z"
   },
   {
    "duration": 3,
    "start_time": "2023-06-20T17:32:58.594Z"
   },
   {
    "duration": 322,
    "start_time": "2023-06-20T17:32:58.600Z"
   },
   {
    "duration": 6,
    "start_time": "2023-06-20T17:32:58.924Z"
   },
   {
    "duration": 511,
    "start_time": "2023-06-20T17:32:58.932Z"
   },
   {
    "duration": 18,
    "start_time": "2023-06-20T17:32:59.445Z"
   },
   {
    "duration": 448,
    "start_time": "2023-06-20T17:32:59.478Z"
   },
   {
    "duration": 7,
    "start_time": "2023-06-20T17:32:59.928Z"
   },
   {
    "duration": 308,
    "start_time": "2023-06-20T17:32:59.937Z"
   },
   {
    "duration": 21,
    "start_time": "2023-06-20T17:33:00.247Z"
   },
   {
    "duration": 8268,
    "start_time": "2023-06-20T17:33:00.276Z"
   },
   {
    "duration": 23,
    "start_time": "2023-06-20T17:33:08.546Z"
   },
   {
    "duration": 50,
    "start_time": "2023-06-20T17:33:08.577Z"
   },
   {
    "duration": 143,
    "start_time": "2023-06-20T17:33:08.630Z"
   },
   {
    "duration": 0,
    "start_time": "2023-06-20T17:33:08.775Z"
   },
   {
    "duration": 0,
    "start_time": "2023-06-20T17:33:08.776Z"
   },
   {
    "duration": 0,
    "start_time": "2023-06-20T17:33:08.777Z"
   },
   {
    "duration": 0,
    "start_time": "2023-06-20T17:33:08.783Z"
   },
   {
    "duration": 0,
    "start_time": "2023-06-20T17:33:08.784Z"
   },
   {
    "duration": 1,
    "start_time": "2023-06-20T17:33:08.785Z"
   },
   {
    "duration": 1,
    "start_time": "2023-06-20T17:33:08.787Z"
   },
   {
    "duration": 0,
    "start_time": "2023-06-20T17:33:08.789Z"
   },
   {
    "duration": 0,
    "start_time": "2023-06-20T17:33:08.791Z"
   },
   {
    "duration": 0,
    "start_time": "2023-06-20T17:33:08.792Z"
   },
   {
    "duration": 0,
    "start_time": "2023-06-20T17:33:08.793Z"
   },
   {
    "duration": 0,
    "start_time": "2023-06-20T17:33:08.795Z"
   },
   {
    "duration": 0,
    "start_time": "2023-06-20T17:33:08.796Z"
   },
   {
    "duration": 0,
    "start_time": "2023-06-20T17:33:08.798Z"
   },
   {
    "duration": 0,
    "start_time": "2023-06-20T17:33:08.799Z"
   },
   {
    "duration": 0,
    "start_time": "2023-06-20T17:33:08.801Z"
   },
   {
    "duration": 0,
    "start_time": "2023-06-20T17:33:08.806Z"
   },
   {
    "duration": 0,
    "start_time": "2023-06-20T17:33:08.808Z"
   },
   {
    "duration": 0,
    "start_time": "2023-06-20T17:33:08.810Z"
   },
   {
    "duration": 0,
    "start_time": "2023-06-20T17:33:08.811Z"
   },
   {
    "duration": 0,
    "start_time": "2023-06-20T17:33:08.813Z"
   },
   {
    "duration": 0,
    "start_time": "2023-06-20T17:33:08.816Z"
   },
   {
    "duration": 0,
    "start_time": "2023-06-20T17:33:08.818Z"
   },
   {
    "duration": 0,
    "start_time": "2023-06-20T17:33:08.820Z"
   },
   {
    "duration": 0,
    "start_time": "2023-06-20T17:33:08.821Z"
   },
   {
    "duration": 0,
    "start_time": "2023-06-20T17:33:08.822Z"
   },
   {
    "duration": 0,
    "start_time": "2023-06-20T17:33:08.824Z"
   },
   {
    "duration": 0,
    "start_time": "2023-06-20T17:33:08.825Z"
   },
   {
    "duration": 0,
    "start_time": "2023-06-20T17:33:08.827Z"
   },
   {
    "duration": 0,
    "start_time": "2023-06-20T17:33:08.828Z"
   },
   {
    "duration": 0,
    "start_time": "2023-06-20T17:33:08.857Z"
   },
   {
    "duration": 0,
    "start_time": "2023-06-20T17:33:08.862Z"
   },
   {
    "duration": 0,
    "start_time": "2023-06-20T17:33:08.863Z"
   },
   {
    "duration": 0,
    "start_time": "2023-06-20T17:33:08.863Z"
   },
   {
    "duration": 0,
    "start_time": "2023-06-20T17:33:08.864Z"
   },
   {
    "duration": 0,
    "start_time": "2023-06-20T17:33:08.865Z"
   },
   {
    "duration": 0,
    "start_time": "2023-06-20T17:33:08.865Z"
   },
   {
    "duration": 0,
    "start_time": "2023-06-20T17:33:08.870Z"
   },
   {
    "duration": 0,
    "start_time": "2023-06-20T17:33:08.871Z"
   },
   {
    "duration": 0,
    "start_time": "2023-06-20T17:33:08.871Z"
   },
   {
    "duration": 0,
    "start_time": "2023-06-20T17:33:08.872Z"
   },
   {
    "duration": 0,
    "start_time": "2023-06-20T17:33:08.873Z"
   },
   {
    "duration": 0,
    "start_time": "2023-06-20T17:33:08.873Z"
   },
   {
    "duration": 0,
    "start_time": "2023-06-20T17:33:08.876Z"
   },
   {
    "duration": 0,
    "start_time": "2023-06-20T17:33:08.877Z"
   },
   {
    "duration": 0,
    "start_time": "2023-06-20T17:33:08.884Z"
   },
   {
    "duration": 0,
    "start_time": "2023-06-20T17:33:08.886Z"
   },
   {
    "duration": 0,
    "start_time": "2023-06-20T17:33:08.887Z"
   },
   {
    "duration": 0,
    "start_time": "2023-06-20T17:33:08.887Z"
   },
   {
    "duration": 0,
    "start_time": "2023-06-20T17:33:08.888Z"
   },
   {
    "duration": 0,
    "start_time": "2023-06-20T17:33:08.889Z"
   },
   {
    "duration": 0,
    "start_time": "2023-06-20T17:33:08.890Z"
   },
   {
    "duration": 0,
    "start_time": "2023-06-20T17:33:08.891Z"
   },
   {
    "duration": 0,
    "start_time": "2023-06-20T17:33:08.892Z"
   },
   {
    "duration": 2240,
    "start_time": "2023-06-20T17:33:44.338Z"
   },
   {
    "duration": 5,
    "start_time": "2023-06-20T17:33:46.580Z"
   },
   {
    "duration": 6,
    "start_time": "2023-06-20T17:33:46.586Z"
   },
   {
    "duration": 23270,
    "start_time": "2023-06-20T17:33:46.594Z"
   },
   {
    "duration": 14,
    "start_time": "2023-06-20T17:34:09.873Z"
   },
   {
    "duration": 374,
    "start_time": "2023-06-20T17:34:09.905Z"
   },
   {
    "duration": 27,
    "start_time": "2023-06-20T17:34:10.290Z"
   },
   {
    "duration": 10,
    "start_time": "2023-06-20T17:34:10.320Z"
   },
   {
    "duration": 83,
    "start_time": "2023-06-20T17:34:10.331Z"
   },
   {
    "duration": 9,
    "start_time": "2023-06-20T17:34:10.422Z"
   },
   {
    "duration": 62,
    "start_time": "2023-06-20T17:34:10.433Z"
   },
   {
    "duration": 165,
    "start_time": "2023-06-20T17:34:10.501Z"
   },
   {
    "duration": 27,
    "start_time": "2023-06-20T17:34:10.676Z"
   },
   {
    "duration": 17,
    "start_time": "2023-06-20T17:34:10.708Z"
   },
   {
    "duration": 117,
    "start_time": "2023-06-20T17:34:10.727Z"
   },
   {
    "duration": 6,
    "start_time": "2023-06-20T17:34:10.846Z"
   },
   {
    "duration": 70,
    "start_time": "2023-06-20T17:34:10.857Z"
   },
   {
    "duration": 91,
    "start_time": "2023-06-20T17:34:10.929Z"
   },
   {
    "duration": 121,
    "start_time": "2023-06-20T17:34:11.022Z"
   },
   {
    "duration": 68,
    "start_time": "2023-06-20T17:34:11.145Z"
   },
   {
    "duration": 137,
    "start_time": "2023-06-20T17:34:11.215Z"
   },
   {
    "duration": 13,
    "start_time": "2023-06-20T17:34:11.360Z"
   },
   {
    "duration": 44,
    "start_time": "2023-06-20T17:34:11.375Z"
   },
   {
    "duration": 53,
    "start_time": "2023-06-20T17:34:11.421Z"
   },
   {
    "duration": 25,
    "start_time": "2023-06-20T17:34:11.476Z"
   },
   {
    "duration": 23,
    "start_time": "2023-06-20T17:34:11.505Z"
   },
   {
    "duration": 171,
    "start_time": "2023-06-20T17:34:11.530Z"
   },
   {
    "duration": 14,
    "start_time": "2023-06-20T17:34:11.706Z"
   },
   {
    "duration": 17,
    "start_time": "2023-06-20T17:34:11.724Z"
   },
   {
    "duration": 339,
    "start_time": "2023-06-20T17:34:11.743Z"
   },
   {
    "duration": 274,
    "start_time": "2023-06-20T17:34:12.087Z"
   },
   {
    "duration": 9,
    "start_time": "2023-06-20T17:34:12.364Z"
   },
   {
    "duration": 427,
    "start_time": "2023-06-20T17:34:12.381Z"
   },
   {
    "duration": 16,
    "start_time": "2023-06-20T17:34:12.810Z"
   },
   {
    "duration": 637,
    "start_time": "2023-06-20T17:34:12.828Z"
   },
   {
    "duration": 5,
    "start_time": "2023-06-20T17:34:13.468Z"
   },
   {
    "duration": 252,
    "start_time": "2023-06-20T17:34:13.476Z"
   },
   {
    "duration": 9,
    "start_time": "2023-06-20T17:34:13.731Z"
   },
   {
    "duration": 306,
    "start_time": "2023-06-20T17:34:13.742Z"
   },
   {
    "duration": 20,
    "start_time": "2023-06-20T17:34:14.050Z"
   },
   {
    "duration": 11098,
    "start_time": "2023-06-20T17:34:14.090Z"
   },
   {
    "duration": 604,
    "start_time": "2023-06-20T17:34:25.194Z"
   },
   {
    "duration": 11,
    "start_time": "2023-06-20T17:34:25.805Z"
   },
   {
    "duration": 461,
    "start_time": "2023-06-20T17:34:25.819Z"
   },
   {
    "duration": 85,
    "start_time": "2023-06-20T17:34:26.283Z"
   },
   {
    "duration": 163,
    "start_time": "2023-06-20T17:34:26.370Z"
   },
   {
    "duration": 6,
    "start_time": "2023-06-20T17:34:26.535Z"
   },
   {
    "duration": 168,
    "start_time": "2023-06-20T17:34:26.543Z"
   },
   {
    "duration": 169,
    "start_time": "2023-06-20T17:34:26.713Z"
   },
   {
    "duration": 381,
    "start_time": "2023-06-20T17:34:26.887Z"
   },
   {
    "duration": 28,
    "start_time": "2023-06-20T17:34:27.273Z"
   },
   {
    "duration": 42,
    "start_time": "2023-06-20T17:34:27.303Z"
   },
   {
    "duration": 50,
    "start_time": "2023-06-20T17:34:27.348Z"
   },
   {
    "duration": 33,
    "start_time": "2023-06-20T17:34:27.400Z"
   },
   {
    "duration": 161,
    "start_time": "2023-06-20T17:34:27.435Z"
   },
   {
    "duration": 73,
    "start_time": "2023-06-20T17:34:27.598Z"
   },
   {
    "duration": 51,
    "start_time": "2023-06-20T17:34:27.673Z"
   },
   {
    "duration": 274,
    "start_time": "2023-06-20T17:34:27.726Z"
   },
   {
    "duration": 93,
    "start_time": "2023-06-20T17:34:28.002Z"
   },
   {
    "duration": 195,
    "start_time": "2023-06-20T17:34:28.097Z"
   },
   {
    "duration": 142,
    "start_time": "2023-06-20T17:34:28.298Z"
   },
   {
    "duration": 95,
    "start_time": "2023-06-20T17:34:28.442Z"
   },
   {
    "duration": 144,
    "start_time": "2023-06-20T17:34:28.538Z"
   },
   {
    "duration": 71,
    "start_time": "2023-06-20T17:34:28.691Z"
   },
   {
    "duration": 169,
    "start_time": "2023-06-20T17:34:28.766Z"
   },
   {
    "duration": 192,
    "start_time": "2023-06-20T17:34:28.936Z"
   },
   {
    "duration": 101,
    "start_time": "2023-06-20T17:34:29.131Z"
   },
   {
    "duration": 180,
    "start_time": "2023-06-20T17:34:29.234Z"
   },
   {
    "duration": 135,
    "start_time": "2023-06-20T17:34:29.420Z"
   },
   {
    "duration": 200,
    "start_time": "2023-06-20T17:34:29.564Z"
   },
   {
    "duration": 79,
    "start_time": "2023-06-20T17:34:29.766Z"
   },
   {
    "duration": 6,
    "start_time": "2023-06-20T17:34:29.848Z"
   },
   {
    "duration": 256,
    "start_time": "2023-06-20T17:34:29.860Z"
   },
   {
    "duration": 95,
    "start_time": "2023-06-20T17:34:30.123Z"
   },
   {
    "duration": 113,
    "start_time": "2023-06-20T17:34:30.220Z"
   },
   {
    "duration": 94,
    "start_time": "2023-06-20T17:34:30.335Z"
   },
   {
    "duration": 129,
    "start_time": "2023-06-20T17:34:30.432Z"
   },
   {
    "duration": 123,
    "start_time": "2023-06-20T17:34:30.564Z"
   },
   {
    "duration": 118,
    "start_time": "2023-06-20T17:34:30.690Z"
   },
   {
    "duration": 264,
    "start_time": "2023-06-20T17:34:30.811Z"
   },
   {
    "duration": 62,
    "start_time": "2023-06-20T17:34:31.077Z"
   },
   {
    "duration": 151,
    "start_time": "2023-06-20T17:34:31.145Z"
   },
   {
    "duration": 65,
    "start_time": "2023-06-20T17:34:31.300Z"
   },
   {
    "duration": 250,
    "start_time": "2023-06-20T17:34:31.377Z"
   },
   {
    "duration": 103,
    "start_time": "2023-06-20T17:34:31.632Z"
   },
   {
    "duration": 78,
    "start_time": "2023-06-20T17:34:31.736Z"
   },
   {
    "duration": 297,
    "start_time": "2023-06-20T17:34:31.817Z"
   },
   {
    "duration": 169,
    "start_time": "2023-06-20T17:34:32.117Z"
   },
   {
    "duration": 62,
    "start_time": "2023-06-20T17:34:32.288Z"
   },
   {
    "duration": 356,
    "start_time": "2023-06-20T17:34:32.352Z"
   },
   {
    "duration": 10,
    "start_time": "2023-06-20T17:34:32.710Z"
   },
   {
    "duration": 115,
    "start_time": "2023-06-20T17:34:32.733Z"
   },
   {
    "duration": 1430,
    "start_time": "2023-06-20T17:34:32.851Z"
   },
   {
    "duration": 52,
    "start_time": "2023-06-20T17:34:34.287Z"
   },
   {
    "duration": 45,
    "start_time": "2023-06-20T17:34:34.344Z"
   },
   {
    "duration": 5,
    "start_time": "2023-06-20T17:34:50.289Z"
   },
   {
    "duration": 514,
    "start_time": "2023-06-20T17:36:30.622Z"
   },
   {
    "duration": 590,
    "start_time": "2023-06-20T17:39:19.400Z"
   },
   {
    "duration": 28233,
    "start_time": "2023-06-20T18:21:00.990Z"
   },
   {
    "duration": 14632,
    "start_time": "2023-06-20T18:27:35.041Z"
   },
   {
    "duration": 15444,
    "start_time": "2023-06-20T18:28:18.800Z"
   },
   {
    "duration": 25337,
    "start_time": "2023-06-20T18:28:44.693Z"
   },
   {
    "duration": 31262,
    "start_time": "2023-06-20T18:40:26.579Z"
   },
   {
    "duration": 31850,
    "start_time": "2023-06-20T18:42:01.636Z"
   },
   {
    "duration": 5,
    "start_time": "2023-06-20T19:31:48.776Z"
   },
   {
    "duration": 124,
    "start_time": "2023-06-20T19:32:32.700Z"
   },
   {
    "duration": 378860,
    "start_time": "2023-06-20T19:32:44.704Z"
   },
   {
    "duration": 261,
    "start_time": "2023-06-20T19:40:33.224Z"
   },
   {
    "duration": 325,
    "start_time": "2023-06-20T19:41:20.206Z"
   },
   {
    "duration": 347,
    "start_time": "2023-06-20T19:42:51.053Z"
   },
   {
    "duration": 340,
    "start_time": "2023-06-20T19:43:47.566Z"
   },
   {
    "duration": 6,
    "start_time": "2023-06-20T19:44:31.196Z"
   },
   {
    "duration": 6,
    "start_time": "2023-06-20T19:44:41.657Z"
   },
   {
    "duration": 28047,
    "start_time": "2023-06-20T19:44:49.019Z"
   },
   {
    "duration": 35390,
    "start_time": "2023-06-20T19:46:23.019Z"
   },
   {
    "duration": 365,
    "start_time": "2023-06-20T19:57:27.233Z"
   },
   {
    "duration": 201,
    "start_time": "2023-06-20T19:58:02.499Z"
   },
   {
    "duration": 184,
    "start_time": "2023-06-20T19:58:11.002Z"
   },
   {
    "duration": 329,
    "start_time": "2023-06-20T20:16:34.430Z"
   },
   {
    "duration": 29,
    "start_time": "2023-06-20T20:17:02.567Z"
   },
   {
    "duration": 6,
    "start_time": "2023-06-20T20:17:10.808Z"
   },
   {
    "duration": 62,
    "start_time": "2023-06-20T20:17:16.237Z"
   },
   {
    "duration": 31,
    "start_time": "2023-06-20T20:21:09.612Z"
   },
   {
    "duration": 313,
    "start_time": "2023-06-20T20:21:11.672Z"
   },
   {
    "duration": 319,
    "start_time": "2023-06-20T20:23:13.178Z"
   },
   {
    "duration": 317,
    "start_time": "2023-06-20T20:23:28.102Z"
   },
   {
    "duration": 4,
    "start_time": "2023-06-20T20:27:16.333Z"
   },
   {
    "duration": 11,
    "start_time": "2023-06-20T20:27:36.010Z"
   },
   {
    "duration": 16,
    "start_time": "2023-06-20T20:29:21.681Z"
   },
   {
    "duration": 16,
    "start_time": "2023-06-20T20:32:32.432Z"
   },
   {
    "duration": 12,
    "start_time": "2023-06-20T20:33:08.581Z"
   },
   {
    "duration": 5,
    "start_time": "2023-06-20T20:33:23.188Z"
   },
   {
    "duration": 13,
    "start_time": "2023-06-20T20:33:34.615Z"
   },
   {
    "duration": 12,
    "start_time": "2023-06-20T20:33:53.301Z"
   },
   {
    "duration": 12,
    "start_time": "2023-06-20T20:34:42.697Z"
   },
   {
    "duration": 225,
    "start_time": "2023-06-20T20:34:55.749Z"
   },
   {
    "duration": 233,
    "start_time": "2023-06-20T20:35:08.837Z"
   },
   {
    "duration": 191,
    "start_time": "2023-06-20T20:35:16.452Z"
   },
   {
    "duration": 365,
    "start_time": "2023-06-20T20:35:40.659Z"
   },
   {
    "duration": 82,
    "start_time": "2023-06-20T20:36:58.941Z"
   },
   {
    "duration": 475,
    "start_time": "2023-06-20T20:37:31.373Z"
   },
   {
    "duration": 8,
    "start_time": "2023-06-21T20:09:37.201Z"
   },
   {
    "duration": 3,
    "start_time": "2023-06-21T20:09:39.002Z"
   },
   {
    "duration": 42,
    "start_time": "2023-06-21T20:09:40.769Z"
   },
   {
    "duration": 79,
    "start_time": "2023-06-21T20:09:50.235Z"
   },
   {
    "duration": 102,
    "start_time": "2023-06-21T20:09:56.671Z"
   },
   {
    "duration": 122,
    "start_time": "2023-06-21T20:10:12.199Z"
   },
   {
    "duration": 1996,
    "start_time": "2023-06-21T20:10:15.095Z"
   },
   {
    "duration": 1802,
    "start_time": "2023-06-21T20:10:24.575Z"
   },
   {
    "duration": 16,
    "start_time": "2023-06-21T20:10:27.433Z"
   },
   {
    "duration": 9,
    "start_time": "2023-06-21T20:10:28.649Z"
   },
   {
    "duration": 9629,
    "start_time": "2023-06-21T20:10:31.671Z"
   },
   {
    "duration": 11,
    "start_time": "2023-06-21T20:10:50.934Z"
   },
   {
    "duration": 107,
    "start_time": "2023-06-21T20:10:52.169Z"
   },
   {
    "duration": 12,
    "start_time": "2023-06-21T20:10:53.361Z"
   },
   {
    "duration": 5,
    "start_time": "2023-06-21T20:10:55.006Z"
   },
   {
    "duration": 7,
    "start_time": "2023-06-21T20:10:56.904Z"
   },
   {
    "duration": 6,
    "start_time": "2023-06-21T20:10:58.057Z"
   },
   {
    "duration": 6,
    "start_time": "2023-06-21T20:10:59.905Z"
   },
   {
    "duration": 6,
    "start_time": "2023-06-21T20:11:01.762Z"
   },
   {
    "duration": 9,
    "start_time": "2023-06-21T20:11:02.989Z"
   },
   {
    "duration": 6,
    "start_time": "2023-06-21T20:11:04.713Z"
   },
   {
    "duration": 85,
    "start_time": "2023-06-21T20:11:06.211Z"
   },
   {
    "duration": 6,
    "start_time": "2023-06-21T20:11:07.372Z"
   },
   {
    "duration": 7,
    "start_time": "2023-06-21T20:11:09.342Z"
   },
   {
    "duration": 8,
    "start_time": "2023-06-21T20:11:10.594Z"
   },
   {
    "duration": 27,
    "start_time": "2023-06-21T20:11:11.764Z"
   },
   {
    "duration": 3,
    "start_time": "2023-06-21T20:11:13.906Z"
   },
   {
    "duration": 105,
    "start_time": "2023-06-21T20:11:15.154Z"
   },
   {
    "duration": 5,
    "start_time": "2023-06-21T20:11:16.306Z"
   },
   {
    "duration": 4,
    "start_time": "2023-06-21T20:11:20.562Z"
   },
   {
    "duration": 8,
    "start_time": "2023-06-21T20:13:03.450Z"
   },
   {
    "duration": 11,
    "start_time": "2023-06-21T20:13:04.673Z"
   },
   {
    "duration": 3,
    "start_time": "2023-06-21T20:13:15.760Z"
   },
   {
    "duration": 122,
    "start_time": "2023-06-21T20:13:17.646Z"
   },
   {
    "duration": 7,
    "start_time": "2023-06-21T20:13:19.244Z"
   },
   {
    "duration": 3,
    "start_time": "2023-06-21T20:13:38.659Z"
   },
   {
    "duration": 239,
    "start_time": "2023-06-21T20:13:40.934Z"
   },
   {
    "duration": 295,
    "start_time": "2023-06-21T20:13:42.209Z"
   },
   {
    "duration": 222,
    "start_time": "2023-06-21T20:21:06.672Z"
   },
   {
    "duration": 288,
    "start_time": "2023-06-21T20:40:35.390Z"
   },
   {
    "duration": 238,
    "start_time": "2023-06-21T20:40:49.098Z"
   },
   {
    "duration": 267,
    "start_time": "2023-06-21T20:44:15.295Z"
   },
   {
    "duration": 329,
    "start_time": "2023-06-21T20:45:54.311Z"
   },
   {
    "duration": 259,
    "start_time": "2023-06-21T20:46:21.531Z"
   },
   {
    "duration": 1508,
    "start_time": "2023-06-21T20:46:36.964Z"
   },
   {
    "duration": 228,
    "start_time": "2023-06-21T20:46:50.161Z"
   },
   {
    "duration": 297,
    "start_time": "2023-06-21T20:47:07.708Z"
   },
   {
    "duration": 257,
    "start_time": "2023-06-21T20:47:27.065Z"
   },
   {
    "duration": 390,
    "start_time": "2023-06-21T20:47:32.382Z"
   },
   {
    "duration": 267,
    "start_time": "2023-06-21T20:47:45.535Z"
   },
   {
    "duration": 233,
    "start_time": "2023-06-21T20:48:42.190Z"
   },
   {
    "duration": 7,
    "start_time": "2023-06-21T20:52:17.941Z"
   },
   {
    "duration": 242,
    "start_time": "2023-06-21T20:52:20.008Z"
   },
   {
    "duration": 6,
    "start_time": "2023-06-21T20:52:22.800Z"
   },
   {
    "duration": 451,
    "start_time": "2023-06-21T20:52:23.931Z"
   },
   {
    "duration": 14,
    "start_time": "2023-06-21T20:52:26.837Z"
   },
   {
    "duration": 190,
    "start_time": "2023-06-21T20:52:28.660Z"
   },
   {
    "duration": 11,
    "start_time": "2023-06-21T20:52:29.761Z"
   },
   {
    "duration": 233,
    "start_time": "2023-06-21T20:52:31.377Z"
   },
   {
    "duration": 8,
    "start_time": "2023-06-22T07:52:30.458Z"
   },
   {
    "duration": 44,
    "start_time": "2023-06-22T07:52:41.642Z"
   },
   {
    "duration": 1853,
    "start_time": "2023-06-22T07:52:52.923Z"
   },
   {
    "duration": 3,
    "start_time": "2023-06-22T07:52:54.778Z"
   },
   {
    "duration": 7,
    "start_time": "2023-06-22T07:52:54.782Z"
   },
   {
    "duration": 20601,
    "start_time": "2023-06-22T07:52:54.791Z"
   },
   {
    "duration": 4,
    "start_time": "2023-06-22T07:53:15.394Z"
   },
   {
    "duration": 269,
    "start_time": "2023-06-22T07:53:15.399Z"
   },
   {
    "duration": 11,
    "start_time": "2023-06-22T07:53:15.669Z"
   },
   {
    "duration": 36,
    "start_time": "2023-06-22T07:53:15.681Z"
   },
   {
    "duration": 55,
    "start_time": "2023-06-22T07:53:15.718Z"
   },
   {
    "duration": 6,
    "start_time": "2023-06-22T07:53:15.776Z"
   },
   {
    "duration": 54,
    "start_time": "2023-06-22T07:53:15.784Z"
   },
   {
    "duration": 55,
    "start_time": "2023-06-22T07:53:15.841Z"
   },
   {
    "duration": 16,
    "start_time": "2023-06-22T07:53:15.898Z"
   },
   {
    "duration": 24,
    "start_time": "2023-06-22T07:53:15.915Z"
   },
   {
    "duration": 120,
    "start_time": "2023-06-22T07:53:15.941Z"
   },
   {
    "duration": 6,
    "start_time": "2023-06-22T07:53:16.063Z"
   },
   {
    "duration": 35,
    "start_time": "2023-06-22T07:53:16.071Z"
   },
   {
    "duration": 65,
    "start_time": "2023-06-22T07:53:16.108Z"
   },
   {
    "duration": 124,
    "start_time": "2023-06-22T07:53:16.174Z"
   },
   {
    "duration": 39,
    "start_time": "2023-06-22T07:53:16.302Z"
   },
   {
    "duration": 201,
    "start_time": "2023-06-22T07:53:16.343Z"
   },
   {
    "duration": 6,
    "start_time": "2023-06-22T07:53:16.546Z"
   },
   {
    "duration": 56,
    "start_time": "2023-06-22T07:53:16.554Z"
   },
   {
    "duration": 75,
    "start_time": "2023-06-22T07:53:16.613Z"
   },
   {
    "duration": 27,
    "start_time": "2023-06-22T07:53:16.690Z"
   },
   {
    "duration": 73,
    "start_time": "2023-06-22T07:53:16.718Z"
   },
   {
    "duration": 171,
    "start_time": "2023-06-22T07:53:16.793Z"
   },
   {
    "duration": 5,
    "start_time": "2023-06-22T07:53:16.968Z"
   },
   {
    "duration": 75,
    "start_time": "2023-06-22T07:53:16.975Z"
   },
   {
    "duration": 275,
    "start_time": "2023-06-22T07:53:17.052Z"
   },
   {
    "duration": 335,
    "start_time": "2023-06-22T07:53:17.328Z"
   },
   {
    "duration": 0,
    "start_time": "2023-06-22T07:53:17.665Z"
   },
   {
    "duration": 0,
    "start_time": "2023-06-22T07:53:17.666Z"
   },
   {
    "duration": 0,
    "start_time": "2023-06-22T07:53:17.668Z"
   },
   {
    "duration": 0,
    "start_time": "2023-06-22T07:53:17.669Z"
   },
   {
    "duration": 0,
    "start_time": "2023-06-22T07:53:17.670Z"
   },
   {
    "duration": 0,
    "start_time": "2023-06-22T07:53:17.672Z"
   },
   {
    "duration": 0,
    "start_time": "2023-06-22T07:53:17.673Z"
   },
   {
    "duration": 0,
    "start_time": "2023-06-22T07:53:17.674Z"
   },
   {
    "duration": 0,
    "start_time": "2023-06-22T07:53:17.674Z"
   },
   {
    "duration": 186,
    "start_time": "2023-06-22T07:53:43.930Z"
   },
   {
    "duration": 2,
    "start_time": "2023-06-22T07:53:50.218Z"
   },
   {
    "duration": 2,
    "start_time": "2023-06-22T07:53:56.918Z"
   },
   {
    "duration": 180,
    "start_time": "2023-06-22T07:53:58.395Z"
   },
   {
    "duration": 3,
    "start_time": "2023-06-22T07:54:23.024Z"
   },
   {
    "duration": 1183,
    "start_time": "2023-06-22T07:54:24.499Z"
   },
   {
    "duration": 20,
    "start_time": "2023-06-22T07:54:28.598Z"
   },
   {
    "duration": 296,
    "start_time": "2023-06-22T07:59:24.063Z"
   },
   {
    "duration": 195,
    "start_time": "2023-06-22T07:59:46.437Z"
   },
   {
    "duration": 3,
    "start_time": "2023-06-22T08:01:35.407Z"
   },
   {
    "duration": 3375,
    "start_time": "2023-06-22T08:01:37.600Z"
   },
   {
    "duration": 276,
    "start_time": "2023-06-22T08:03:04.706Z"
   },
   {
    "duration": 267,
    "start_time": "2023-06-22T08:03:10.762Z"
   },
   {
    "duration": 3,
    "start_time": "2023-06-22T08:03:51.631Z"
   },
   {
    "duration": 721,
    "start_time": "2023-06-22T08:03:54.169Z"
   },
   {
    "duration": 202,
    "start_time": "2023-06-22T08:03:57.407Z"
   },
   {
    "duration": 3,
    "start_time": "2023-06-22T08:48:28.924Z"
   },
   {
    "duration": 550,
    "start_time": "2023-06-22T08:48:37.453Z"
   },
   {
    "duration": 9,
    "start_time": "2023-06-22T08:48:40.438Z"
   },
   {
    "duration": 12,
    "start_time": "2023-06-22T08:48:47.560Z"
   },
   {
    "duration": 10,
    "start_time": "2023-06-22T08:48:53.818Z"
   },
   {
    "duration": 167,
    "start_time": "2023-06-22T08:49:06.609Z"
   },
   {
    "duration": 122,
    "start_time": "2023-06-22T08:49:15.540Z"
   },
   {
    "duration": 13,
    "start_time": "2023-06-22T08:49:57.933Z"
   },
   {
    "duration": 7,
    "start_time": "2023-06-22T08:50:03.531Z"
   },
   {
    "duration": 11,
    "start_time": "2023-06-22T08:50:10.519Z"
   },
   {
    "duration": 3504,
    "start_time": "2023-06-22T08:50:21.624Z"
   },
   {
    "duration": 3702,
    "start_time": "2023-06-22T08:50:34.925Z"
   },
   {
    "duration": 6,
    "start_time": "2023-06-22T08:50:46.415Z"
   },
   {
    "duration": 4,
    "start_time": "2023-06-22T08:51:20.419Z"
   },
   {
    "duration": 154,
    "start_time": "2023-06-22T08:51:21.938Z"
   },
   {
    "duration": 3,
    "start_time": "2023-06-22T09:02:24.121Z"
   },
   {
    "duration": 1106,
    "start_time": "2023-06-22T09:02:25.616Z"
   },
   {
    "duration": 10,
    "start_time": "2023-06-22T09:02:30.158Z"
   },
   {
    "duration": 3,
    "start_time": "2023-06-22T09:03:27.512Z"
   },
   {
    "duration": 204,
    "start_time": "2023-06-22T09:03:29.124Z"
   },
   {
    "duration": 3,
    "start_time": "2023-06-22T09:03:38.022Z"
   },
   {
    "duration": 4700,
    "start_time": "2023-06-22T09:03:39.726Z"
   },
   {
    "duration": 12,
    "start_time": "2023-06-22T09:03:45.521Z"
   },
   {
    "duration": 2,
    "start_time": "2023-06-22T09:04:06.277Z"
   },
   {
    "duration": 4535,
    "start_time": "2023-06-22T09:04:08.304Z"
   },
   {
    "duration": 12,
    "start_time": "2023-06-22T09:04:12.840Z"
   },
   {
    "duration": 6,
    "start_time": "2023-06-22T09:04:28.116Z"
   },
   {
    "duration": 12,
    "start_time": "2023-06-22T09:04:34.534Z"
   },
   {
    "duration": 6,
    "start_time": "2023-06-22T09:04:43.620Z"
   },
   {
    "duration": 3,
    "start_time": "2023-06-22T09:17:02.508Z"
   },
   {
    "duration": 1049,
    "start_time": "2023-06-22T09:17:03.900Z"
   },
   {
    "duration": 9,
    "start_time": "2023-06-22T09:17:07.817Z"
   },
   {
    "duration": 23,
    "start_time": "2023-06-22T09:17:36.432Z"
   },
   {
    "duration": 3,
    "start_time": "2023-06-22T09:18:22.543Z"
   },
   {
    "duration": 562,
    "start_time": "2023-06-22T09:18:24.266Z"
   },
   {
    "duration": 7,
    "start_time": "2023-06-22T09:18:27.238Z"
   },
   {
    "duration": 4,
    "start_time": "2023-06-22T09:20:22.606Z"
   },
   {
    "duration": 565,
    "start_time": "2023-06-22T09:20:23.417Z"
   },
   {
    "duration": 8,
    "start_time": "2023-06-22T09:20:25.925Z"
   },
   {
    "duration": 1325,
    "start_time": "2023-06-22T09:21:55.241Z"
   },
   {
    "duration": 158,
    "start_time": "2023-06-22T09:22:24.124Z"
   },
   {
    "duration": 189,
    "start_time": "2023-06-22T09:22:48.296Z"
   },
   {
    "duration": 3,
    "start_time": "2023-06-22T09:26:51.433Z"
   },
   {
    "duration": 10895,
    "start_time": "2023-06-22T09:26:53.693Z"
   },
   {
    "duration": 526,
    "start_time": "2023-06-22T09:27:04.591Z"
   },
   {
    "duration": 3,
    "start_time": "2023-06-22T09:27:10.048Z"
   },
   {
    "duration": 1533,
    "start_time": "2023-06-22T09:33:45.152Z"
   },
   {
    "duration": 3,
    "start_time": "2023-06-22T09:33:46.687Z"
   },
   {
    "duration": 23,
    "start_time": "2023-06-22T09:33:46.692Z"
   },
   {
    "duration": 11122,
    "start_time": "2023-06-22T09:33:46.716Z"
   },
   {
    "duration": 2,
    "start_time": "2023-06-22T09:33:57.841Z"
   },
   {
    "duration": 229,
    "start_time": "2023-06-22T09:33:57.845Z"
   },
   {
    "duration": 11,
    "start_time": "2023-06-22T09:33:58.076Z"
   },
   {
    "duration": 8,
    "start_time": "2023-06-22T09:33:58.089Z"
   },
   {
    "duration": 51,
    "start_time": "2023-06-22T09:33:58.098Z"
   },
   {
    "duration": 6,
    "start_time": "2023-06-22T09:33:58.150Z"
   },
   {
    "duration": 18,
    "start_time": "2023-06-22T09:33:58.158Z"
   },
   {
    "duration": 48,
    "start_time": "2023-06-22T09:33:58.177Z"
   },
   {
    "duration": 10,
    "start_time": "2023-06-22T09:33:58.227Z"
   },
   {
    "duration": 5,
    "start_time": "2023-06-22T09:33:58.240Z"
   },
   {
    "duration": 85,
    "start_time": "2023-06-22T09:33:58.247Z"
   },
   {
    "duration": 6,
    "start_time": "2023-06-22T09:33:58.333Z"
   },
   {
    "duration": 9,
    "start_time": "2023-06-22T09:33:58.341Z"
   },
   {
    "duration": 133,
    "start_time": "2023-06-22T09:33:58.351Z"
   },
   {
    "duration": 19,
    "start_time": "2023-06-22T09:33:58.486Z"
   },
   {
    "duration": 5,
    "start_time": "2023-06-22T09:33:58.507Z"
   },
   {
    "duration": 140,
    "start_time": "2023-06-22T09:33:58.514Z"
   },
   {
    "duration": 6,
    "start_time": "2023-06-22T09:33:58.656Z"
   },
   {
    "duration": 5,
    "start_time": "2023-06-22T09:33:58.664Z"
   },
   {
    "duration": 45,
    "start_time": "2023-06-22T09:33:58.670Z"
   },
   {
    "duration": 12,
    "start_time": "2023-06-22T09:33:58.717Z"
   },
   {
    "duration": 13,
    "start_time": "2023-06-22T09:33:58.730Z"
   },
   {
    "duration": 153,
    "start_time": "2023-06-22T09:33:58.744Z"
   },
   {
    "duration": 5,
    "start_time": "2023-06-22T09:33:58.899Z"
   },
   {
    "duration": 13,
    "start_time": "2023-06-22T09:33:58.906Z"
   },
   {
    "duration": 268,
    "start_time": "2023-06-22T09:33:58.921Z"
   },
   {
    "duration": 193,
    "start_time": "2023-06-22T09:33:59.191Z"
   },
   {
    "duration": 3,
    "start_time": "2023-06-22T09:33:59.386Z"
   },
   {
    "duration": 262,
    "start_time": "2023-06-22T09:33:59.390Z"
   },
   {
    "duration": 5,
    "start_time": "2023-06-22T09:33:59.654Z"
   },
   {
    "duration": 448,
    "start_time": "2023-06-22T09:33:59.661Z"
   },
   {
    "duration": 3,
    "start_time": "2023-06-22T09:34:00.111Z"
   },
   {
    "duration": 249,
    "start_time": "2023-06-22T09:34:00.116Z"
   },
   {
    "duration": 7,
    "start_time": "2023-06-22T09:34:00.367Z"
   },
   {
    "duration": 214,
    "start_time": "2023-06-22T09:34:00.377Z"
   },
   {
    "duration": 9,
    "start_time": "2023-06-22T09:34:00.593Z"
   },
   {
    "duration": 1039,
    "start_time": "2023-06-22T09:34:00.607Z"
   },
   {
    "duration": 244,
    "start_time": "2023-06-22T09:34:01.648Z"
   },
   {
    "duration": 3,
    "start_time": "2023-06-22T09:34:01.901Z"
   },
   {
    "duration": 781,
    "start_time": "2023-06-22T09:34:01.906Z"
   },
   {
    "duration": 7,
    "start_time": "2023-06-22T09:34:02.689Z"
   },
   {
    "duration": 194,
    "start_time": "2023-06-22T09:34:02.697Z"
   },
   {
    "duration": 3,
    "start_time": "2023-06-22T09:35:39.451Z"
   },
   {
    "duration": 12418,
    "start_time": "2023-06-22T09:35:42.441Z"
   },
   {
    "duration": 409,
    "start_time": "2023-06-22T09:35:54.861Z"
   },
   {
    "duration": 4,
    "start_time": "2023-06-22T09:38:09.765Z"
   },
   {
    "duration": 308,
    "start_time": "2023-06-22T09:38:34.427Z"
   },
   {
    "duration": 59,
    "start_time": "2023-06-22T09:38:56.547Z"
   },
   {
    "duration": 134,
    "start_time": "2023-06-22T09:38:59.224Z"
   },
   {
    "duration": 6,
    "start_time": "2023-06-22T09:39:02.512Z"
   },
   {
    "duration": 49,
    "start_time": "2023-06-22T09:39:04.266Z"
   },
   {
    "duration": 132,
    "start_time": "2023-06-22T09:39:12.317Z"
   },
   {
    "duration": 290,
    "start_time": "2023-06-22T09:39:28.830Z"
   },
   {
    "duration": 13,
    "start_time": "2023-06-22T09:40:29.543Z"
   },
   {
    "duration": 282,
    "start_time": "2023-06-22T09:42:46.016Z"
   },
   {
    "duration": 191,
    "start_time": "2023-06-22T09:42:50.217Z"
   },
   {
    "duration": 182,
    "start_time": "2023-06-22T09:43:04.712Z"
   },
   {
    "duration": 187,
    "start_time": "2023-06-22T09:43:16.204Z"
   },
   {
    "duration": 192,
    "start_time": "2023-06-22T09:43:21.110Z"
   },
   {
    "duration": 181,
    "start_time": "2023-06-22T09:43:24.258Z"
   },
   {
    "duration": 193,
    "start_time": "2023-06-22T09:43:28.118Z"
   },
   {
    "duration": 195,
    "start_time": "2023-06-22T09:43:36.455Z"
   },
   {
    "duration": 195,
    "start_time": "2023-06-22T09:43:45.914Z"
   },
   {
    "duration": 182,
    "start_time": "2023-06-22T09:43:54.832Z"
   },
   {
    "duration": 192,
    "start_time": "2023-06-22T09:44:08.812Z"
   },
   {
    "duration": 214,
    "start_time": "2023-06-22T09:44:12.038Z"
   },
   {
    "duration": 29,
    "start_time": "2023-06-22T09:46:49.412Z"
   },
   {
    "duration": 6,
    "start_time": "2023-06-22T09:50:06.140Z"
   },
   {
    "duration": 6,
    "start_time": "2023-06-22T09:50:09.740Z"
   },
   {
    "duration": 8,
    "start_time": "2023-06-22T09:50:13.503Z"
   },
   {
    "duration": 8,
    "start_time": "2023-06-22T09:50:21.209Z"
   },
   {
    "duration": 10,
    "start_time": "2023-06-22T09:50:28.252Z"
   },
   {
    "duration": 10,
    "start_time": "2023-06-22T09:50:32.535Z"
   },
   {
    "duration": 7,
    "start_time": "2023-06-22T09:51:08.900Z"
   },
   {
    "duration": 8,
    "start_time": "2023-06-22T09:51:54.132Z"
   },
   {
    "duration": 63,
    "start_time": "2023-06-22T09:53:15.414Z"
   },
   {
    "duration": 128,
    "start_time": "2023-06-22T09:53:21.436Z"
   },
   {
    "duration": 11,
    "start_time": "2023-06-22T09:53:30.029Z"
   },
   {
    "duration": 5,
    "start_time": "2023-06-22T09:53:31.911Z"
   },
   {
    "duration": 5,
    "start_time": "2023-06-22T09:53:33.160Z"
   },
   {
    "duration": 69,
    "start_time": "2023-06-22T09:53:35.344Z"
   },
   {
    "duration": 33,
    "start_time": "2023-06-22T09:53:36.667Z"
   },
   {
    "duration": 26,
    "start_time": "2023-06-22T09:53:38.631Z"
   },
   {
    "duration": 91,
    "start_time": "2023-06-22T09:53:40.346Z"
   },
   {
    "duration": 35,
    "start_time": "2023-06-22T09:53:41.562Z"
   },
   {
    "duration": 125,
    "start_time": "2023-06-22T09:53:42.760Z"
   },
   {
    "duration": 64,
    "start_time": "2023-06-22T09:53:45.613Z"
   },
   {
    "duration": 35,
    "start_time": "2023-06-22T09:53:46.912Z"
   },
   {
    "duration": 34,
    "start_time": "2023-06-22T09:53:48.738Z"
   },
   {
    "duration": 63,
    "start_time": "2023-06-22T09:53:50.713Z"
   },
   {
    "duration": 35,
    "start_time": "2023-06-22T09:53:52.166Z"
   },
   {
    "duration": 125,
    "start_time": "2023-06-22T09:53:53.407Z"
   },
   {
    "duration": 62,
    "start_time": "2023-06-22T09:53:55.631Z"
   },
   {
    "duration": 39,
    "start_time": "2023-06-22T09:53:57.852Z"
   },
   {
    "duration": 41,
    "start_time": "2023-06-22T09:53:59.965Z"
   },
   {
    "duration": 41,
    "start_time": "2023-06-22T09:54:02.115Z"
   },
   {
    "duration": 123,
    "start_time": "2023-06-22T09:54:04.227Z"
   },
   {
    "duration": 10,
    "start_time": "2023-06-22T09:54:06.416Z"
   },
   {
    "duration": 4,
    "start_time": "2023-06-22T09:54:09.927Z"
   },
   {
    "duration": 123,
    "start_time": "2023-06-22T09:54:12.252Z"
   },
   {
    "duration": 48,
    "start_time": "2023-06-22T09:54:14.508Z"
   },
   {
    "duration": 29,
    "start_time": "2023-06-22T09:54:15.736Z"
   },
   {
    "duration": 45,
    "start_time": "2023-06-22T09:54:17.905Z"
   },
   {
    "duration": 46,
    "start_time": "2023-06-22T09:54:19.546Z"
   },
   {
    "duration": 4,
    "start_time": "2023-06-22T09:54:21.046Z"
   },
   {
    "duration": 4,
    "start_time": "2023-06-22T09:54:22.939Z"
   },
   {
    "duration": 93,
    "start_time": "2023-06-22T09:54:24.543Z"
   },
   {
    "duration": 29,
    "start_time": "2023-06-22T09:54:26.213Z"
   },
   {
    "duration": 29,
    "start_time": "2023-06-22T09:54:27.919Z"
   },
   {
    "duration": 47,
    "start_time": "2023-06-22T09:54:29.707Z"
   },
   {
    "duration": 29,
    "start_time": "2023-06-22T09:54:32.162Z"
   },
   {
    "duration": 37,
    "start_time": "2023-06-22T09:54:33.764Z"
   },
   {
    "duration": 25,
    "start_time": "2023-06-22T09:54:35.797Z"
   },
   {
    "duration": 20,
    "start_time": "2023-06-22T09:54:39.008Z"
   },
   {
    "duration": 91,
    "start_time": "2023-06-22T09:54:40.639Z"
   },
   {
    "duration": 93,
    "start_time": "2023-06-22T09:54:42.717Z"
   },
   {
    "duration": 130,
    "start_time": "2023-06-22T09:54:44.060Z"
   },
   {
    "duration": 4,
    "start_time": "2023-06-22T09:54:47.409Z"
   },
   {
    "duration": 136,
    "start_time": "2023-06-22T09:54:49.442Z"
   },
   {
    "duration": 238,
    "start_time": "2023-06-22T10:02:46.148Z"
   },
   {
    "duration": 432,
    "start_time": "2023-06-22T10:07:55.240Z"
   },
   {
    "duration": 355,
    "start_time": "2023-06-22T10:08:27.517Z"
   },
   {
    "duration": 71,
    "start_time": "2023-06-22T10:08:36.219Z"
   },
   {
    "duration": 68,
    "start_time": "2023-06-22T10:23:02.716Z"
   },
   {
    "duration": 65,
    "start_time": "2023-06-22T10:23:11.008Z"
   },
   {
    "duration": 3,
    "start_time": "2023-06-22T10:24:31.548Z"
   },
   {
    "duration": 3,
    "start_time": "2023-06-22T10:24:37.839Z"
   },
   {
    "duration": 4,
    "start_time": "2023-06-22T10:26:34.415Z"
   },
   {
    "duration": 374,
    "start_time": "2023-06-22T10:27:51.460Z"
   },
   {
    "duration": 1589,
    "start_time": "2023-06-22T10:28:03.109Z"
   },
   {
    "duration": 2,
    "start_time": "2023-06-22T10:28:04.703Z"
   },
   {
    "duration": 19,
    "start_time": "2023-06-22T10:28:04.707Z"
   },
   {
    "duration": 9909,
    "start_time": "2023-06-22T10:28:04.728Z"
   },
   {
    "duration": 4,
    "start_time": "2023-06-22T10:28:14.640Z"
   },
   {
    "duration": 246,
    "start_time": "2023-06-22T10:28:14.646Z"
   },
   {
    "duration": 11,
    "start_time": "2023-06-22T10:28:14.894Z"
   },
   {
    "duration": 12,
    "start_time": "2023-06-22T10:28:14.906Z"
   },
   {
    "duration": 57,
    "start_time": "2023-06-22T10:28:14.919Z"
   },
   {
    "duration": 6,
    "start_time": "2023-06-22T10:28:14.978Z"
   },
   {
    "duration": 60,
    "start_time": "2023-06-22T10:28:14.986Z"
   },
   {
    "duration": 98,
    "start_time": "2023-06-22T10:28:15.048Z"
   },
   {
    "duration": 20,
    "start_time": "2023-06-22T10:28:15.148Z"
   },
   {
    "duration": 54,
    "start_time": "2023-06-22T10:28:15.171Z"
   },
   {
    "duration": 152,
    "start_time": "2023-06-22T10:28:15.227Z"
   },
   {
    "duration": 7,
    "start_time": "2023-06-22T10:28:15.380Z"
   },
   {
    "duration": 36,
    "start_time": "2023-06-22T10:28:15.389Z"
   },
   {
    "duration": 178,
    "start_time": "2023-06-22T10:28:15.427Z"
   },
   {
    "duration": 20,
    "start_time": "2023-06-22T10:28:15.606Z"
   },
   {
    "duration": 23,
    "start_time": "2023-06-22T10:28:15.627Z"
   },
   {
    "duration": 153,
    "start_time": "2023-06-22T10:28:15.652Z"
   },
   {
    "duration": 6,
    "start_time": "2023-06-22T10:28:15.807Z"
   },
   {
    "duration": 43,
    "start_time": "2023-06-22T10:28:15.814Z"
   },
   {
    "duration": 92,
    "start_time": "2023-06-22T10:28:15.858Z"
   },
   {
    "duration": 14,
    "start_time": "2023-06-22T10:28:15.952Z"
   },
   {
    "duration": 27,
    "start_time": "2023-06-22T10:28:15.968Z"
   },
   {
    "duration": 151,
    "start_time": "2023-06-22T10:28:15.996Z"
   },
   {
    "duration": 7,
    "start_time": "2023-06-22T10:28:16.149Z"
   },
   {
    "duration": 34,
    "start_time": "2023-06-22T10:28:16.158Z"
   },
   {
    "duration": 272,
    "start_time": "2023-06-22T10:28:16.195Z"
   },
   {
    "duration": 198,
    "start_time": "2023-06-22T10:28:16.470Z"
   },
   {
    "duration": 3,
    "start_time": "2023-06-22T10:28:16.670Z"
   },
   {
    "duration": 299,
    "start_time": "2023-06-22T10:28:16.674Z"
   },
   {
    "duration": 6,
    "start_time": "2023-06-22T10:28:16.974Z"
   },
   {
    "duration": 427,
    "start_time": "2023-06-22T10:28:16.982Z"
   },
   {
    "duration": 3,
    "start_time": "2023-06-22T10:28:17.411Z"
   },
   {
    "duration": 221,
    "start_time": "2023-06-22T10:28:17.416Z"
   },
   {
    "duration": 7,
    "start_time": "2023-06-22T10:28:17.640Z"
   },
   {
    "duration": 195,
    "start_time": "2023-06-22T10:28:17.648Z"
   },
   {
    "duration": 3,
    "start_time": "2023-06-22T10:28:17.844Z"
   },
   {
    "duration": 949,
    "start_time": "2023-06-22T10:28:17.852Z"
   },
   {
    "duration": 248,
    "start_time": "2023-06-22T10:28:18.803Z"
   },
   {
    "duration": 4,
    "start_time": "2023-06-22T10:28:19.052Z"
   },
   {
    "duration": 582,
    "start_time": "2023-06-22T10:28:19.057Z"
   },
   {
    "duration": 7,
    "start_time": "2023-06-22T10:28:19.641Z"
   },
   {
    "duration": 198,
    "start_time": "2023-06-22T10:28:19.650Z"
   },
   {
    "duration": 3,
    "start_time": "2023-06-22T10:28:19.849Z"
   },
   {
    "duration": 8864,
    "start_time": "2023-06-22T10:28:19.853Z"
   },
   {
    "duration": 398,
    "start_time": "2023-06-22T10:28:28.719Z"
   },
   {
    "duration": 4,
    "start_time": "2023-06-22T10:28:29.119Z"
   },
   {
    "duration": 329,
    "start_time": "2023-06-22T10:28:29.124Z"
   },
   {
    "duration": 64,
    "start_time": "2023-06-22T10:28:29.454Z"
   },
   {
    "duration": 141,
    "start_time": "2023-06-22T10:28:29.520Z"
   },
   {
    "duration": 4,
    "start_time": "2023-06-22T10:28:29.664Z"
   },
   {
    "duration": 64,
    "start_time": "2023-06-22T10:28:29.670Z"
   },
   {
    "duration": 137,
    "start_time": "2023-06-22T10:28:29.736Z"
   },
   {
    "duration": 319,
    "start_time": "2023-06-22T10:28:29.875Z"
   },
   {
    "duration": 12,
    "start_time": "2023-06-22T10:28:30.201Z"
   },
   {
    "duration": 235,
    "start_time": "2023-06-22T10:28:30.214Z"
   },
   {
    "duration": 31,
    "start_time": "2023-06-22T10:28:30.450Z"
   },
   {
    "duration": 110,
    "start_time": "2023-06-22T10:28:30.482Z"
   },
   {
    "duration": 178,
    "start_time": "2023-06-22T10:28:30.593Z"
   },
   {
    "duration": 150,
    "start_time": "2023-06-22T10:28:30.773Z"
   },
   {
    "duration": 14,
    "start_time": "2023-06-22T10:28:30.925Z"
   },
   {
    "duration": 46,
    "start_time": "2023-06-22T10:28:30.941Z"
   },
   {
    "duration": 44,
    "start_time": "2023-06-22T10:28:30.990Z"
   },
   {
    "duration": 178,
    "start_time": "2023-06-22T10:28:31.036Z"
   },
   {
    "duration": 87,
    "start_time": "2023-06-22T10:28:31.217Z"
   },
   {
    "duration": 118,
    "start_time": "2023-06-22T10:28:31.306Z"
   },
   {
    "duration": 133,
    "start_time": "2023-06-22T10:28:31.427Z"
   },
   {
    "duration": 46,
    "start_time": "2023-06-22T10:28:31.561Z"
   },
   {
    "duration": 223,
    "start_time": "2023-06-22T10:28:31.608Z"
   },
   {
    "duration": 72,
    "start_time": "2023-06-22T10:28:31.833Z"
   },
   {
    "duration": 52,
    "start_time": "2023-06-22T10:28:31.907Z"
   },
   {
    "duration": 74,
    "start_time": "2023-06-22T10:28:31.962Z"
   },
   {
    "duration": 35,
    "start_time": "2023-06-22T10:28:32.038Z"
   },
   {
    "duration": 141,
    "start_time": "2023-06-22T10:28:32.075Z"
   },
   {
    "duration": 67,
    "start_time": "2023-06-22T10:28:32.218Z"
   },
   {
    "duration": 60,
    "start_time": "2023-06-22T10:28:32.302Z"
   },
   {
    "duration": 53,
    "start_time": "2023-06-22T10:28:32.364Z"
   },
   {
    "duration": 36,
    "start_time": "2023-06-22T10:28:32.418Z"
   },
   {
    "duration": 140,
    "start_time": "2023-06-22T10:28:32.456Z"
   },
   {
    "duration": 35,
    "start_time": "2023-06-22T10:28:32.598Z"
   },
   {
    "duration": 21,
    "start_time": "2023-06-22T10:28:32.635Z"
   },
   {
    "duration": 152,
    "start_time": "2023-06-22T10:28:32.658Z"
   },
   {
    "duration": 47,
    "start_time": "2023-06-22T10:28:32.812Z"
   },
   {
    "duration": 43,
    "start_time": "2023-06-22T10:28:32.860Z"
   },
   {
    "duration": 55,
    "start_time": "2023-06-22T10:28:32.905Z"
   },
   {
    "duration": 52,
    "start_time": "2023-06-22T10:28:32.962Z"
   },
   {
    "duration": 15,
    "start_time": "2023-06-22T10:28:33.015Z"
   },
   {
    "duration": 17,
    "start_time": "2023-06-22T10:28:33.032Z"
   },
   {
    "duration": 137,
    "start_time": "2023-06-22T10:28:33.051Z"
   },
   {
    "duration": 36,
    "start_time": "2023-06-22T10:28:33.190Z"
   },
   {
    "duration": 74,
    "start_time": "2023-06-22T10:28:33.228Z"
   },
   {
    "duration": 23,
    "start_time": "2023-06-22T10:28:33.304Z"
   },
   {
    "duration": 41,
    "start_time": "2023-06-22T10:28:33.329Z"
   },
   {
    "duration": 38,
    "start_time": "2023-06-22T10:28:33.372Z"
   },
   {
    "duration": 18,
    "start_time": "2023-06-22T10:28:33.412Z"
   },
   {
    "duration": 105,
    "start_time": "2023-06-22T10:28:33.432Z"
   },
   {
    "duration": 133,
    "start_time": "2023-06-22T10:28:33.539Z"
   },
   {
    "duration": 14,
    "start_time": "2023-06-22T10:28:33.674Z"
   },
   {
    "duration": 163,
    "start_time": "2023-06-22T10:28:33.689Z"
   },
   {
    "duration": 255,
    "start_time": "2023-06-22T10:28:33.854Z"
   },
   {
    "duration": 368,
    "start_time": "2023-06-22T10:28:34.111Z"
   },
   {
    "duration": 70,
    "start_time": "2023-06-22T10:28:34.480Z"
   },
   {
    "duration": 86,
    "start_time": "2023-06-22T10:28:34.551Z"
   },
   {
    "duration": 77,
    "start_time": "2023-06-22T10:28:34.639Z"
   },
   {
    "duration": 2,
    "start_time": "2023-06-22T10:28:34.718Z"
   },
   {
    "duration": 7,
    "start_time": "2023-06-22T10:28:34.722Z"
   },
   {
    "duration": 544,
    "start_time": "2023-06-22T10:36:01.457Z"
   },
   {
    "duration": 93,
    "start_time": "2023-06-22T10:36:29.670Z"
   },
   {
    "duration": 75,
    "start_time": "2023-06-22T10:36:32.853Z"
   },
   {
    "duration": 4,
    "start_time": "2023-06-22T10:36:34.464Z"
   },
   {
    "duration": 2,
    "start_time": "2023-06-22T10:36:36.614Z"
   },
   {
    "duration": 417,
    "start_time": "2023-06-22T10:36:37.719Z"
   },
   {
    "duration": 3,
    "start_time": "2023-06-22T10:36:58.325Z"
   },
   {
    "duration": 19,
    "start_time": "2023-06-22T10:36:59.457Z"
   },
   {
    "duration": 3,
    "start_time": "2023-06-22T10:38:33.231Z"
   },
   {
    "duration": 19,
    "start_time": "2023-06-22T10:38:34.143Z"
   },
   {
    "duration": 1749,
    "start_time": "2023-06-22T10:38:58.409Z"
   },
   {
    "duration": 2,
    "start_time": "2023-06-22T10:39:00.161Z"
   },
   {
    "duration": 15,
    "start_time": "2023-06-22T10:39:00.165Z"
   },
   {
    "duration": 12414,
    "start_time": "2023-06-22T10:39:00.182Z"
   },
   {
    "duration": 3,
    "start_time": "2023-06-22T10:39:12.599Z"
   },
   {
    "duration": 246,
    "start_time": "2023-06-22T10:39:12.603Z"
   },
   {
    "duration": 10,
    "start_time": "2023-06-22T10:39:12.851Z"
   },
   {
    "duration": 28,
    "start_time": "2023-06-22T10:39:12.863Z"
   },
   {
    "duration": 57,
    "start_time": "2023-06-22T10:39:12.894Z"
   },
   {
    "duration": 7,
    "start_time": "2023-06-22T10:39:12.953Z"
   },
   {
    "duration": 13,
    "start_time": "2023-06-22T10:39:12.963Z"
   },
   {
    "duration": 66,
    "start_time": "2023-06-22T10:39:12.978Z"
   },
   {
    "duration": 12,
    "start_time": "2023-06-22T10:39:13.047Z"
   },
   {
    "duration": 21,
    "start_time": "2023-06-22T10:39:13.064Z"
   },
   {
    "duration": 91,
    "start_time": "2023-06-22T10:39:13.087Z"
   },
   {
    "duration": 7,
    "start_time": "2023-06-22T10:39:13.180Z"
   },
   {
    "duration": 21,
    "start_time": "2023-06-22T10:39:13.188Z"
   },
   {
    "duration": 154,
    "start_time": "2023-06-22T10:39:13.212Z"
   },
   {
    "duration": 20,
    "start_time": "2023-06-22T10:39:13.368Z"
   },
   {
    "duration": 36,
    "start_time": "2023-06-22T10:39:13.390Z"
   },
   {
    "duration": 154,
    "start_time": "2023-06-22T10:39:13.428Z"
   },
   {
    "duration": 9,
    "start_time": "2023-06-22T10:39:13.585Z"
   },
   {
    "duration": 18,
    "start_time": "2023-06-22T10:39:13.596Z"
   },
   {
    "duration": 48,
    "start_time": "2023-06-22T10:39:13.616Z"
   },
   {
    "duration": 13,
    "start_time": "2023-06-22T10:39:13.665Z"
   },
   {
    "duration": 17,
    "start_time": "2023-06-22T10:39:13.680Z"
   },
   {
    "duration": 156,
    "start_time": "2023-06-22T10:39:13.699Z"
   },
   {
    "duration": 8,
    "start_time": "2023-06-22T10:39:13.857Z"
   },
   {
    "duration": 23,
    "start_time": "2023-06-22T10:39:13.867Z"
   },
   {
    "duration": 281,
    "start_time": "2023-06-22T10:39:13.892Z"
   },
   {
    "duration": 191,
    "start_time": "2023-06-22T10:39:14.175Z"
   },
   {
    "duration": 3,
    "start_time": "2023-06-22T10:39:14.368Z"
   },
   {
    "duration": 352,
    "start_time": "2023-06-22T10:39:14.372Z"
   },
   {
    "duration": 7,
    "start_time": "2023-06-22T10:39:14.726Z"
   },
   {
    "duration": 458,
    "start_time": "2023-06-22T10:39:14.734Z"
   },
   {
    "duration": 3,
    "start_time": "2023-06-22T10:39:15.202Z"
   },
   {
    "duration": 246,
    "start_time": "2023-06-22T10:39:15.206Z"
   },
   {
    "duration": 7,
    "start_time": "2023-06-22T10:39:15.454Z"
   },
   {
    "duration": 208,
    "start_time": "2023-06-22T10:39:15.462Z"
   },
   {
    "duration": 3,
    "start_time": "2023-06-22T10:39:15.672Z"
   },
   {
    "duration": 937,
    "start_time": "2023-06-22T10:39:15.681Z"
   },
   {
    "duration": 251,
    "start_time": "2023-06-22T10:39:16.620Z"
   },
   {
    "duration": 3,
    "start_time": "2023-06-22T10:39:16.873Z"
   },
   {
    "duration": 573,
    "start_time": "2023-06-22T10:39:16.877Z"
   },
   {
    "duration": 6,
    "start_time": "2023-06-22T10:39:17.452Z"
   },
   {
    "duration": 185,
    "start_time": "2023-06-22T10:39:17.460Z"
   },
   {
    "duration": 3,
    "start_time": "2023-06-22T10:39:17.647Z"
   },
   {
    "duration": 12633,
    "start_time": "2023-06-22T10:39:17.652Z"
   },
   {
    "duration": 477,
    "start_time": "2023-06-22T10:39:30.287Z"
   },
   {
    "duration": 5,
    "start_time": "2023-06-22T10:39:30.766Z"
   },
   {
    "duration": 434,
    "start_time": "2023-06-22T10:39:30.773Z"
   },
   {
    "duration": 65,
    "start_time": "2023-06-22T10:39:31.209Z"
   },
   {
    "duration": 164,
    "start_time": "2023-06-22T10:39:31.276Z"
   },
   {
    "duration": 272,
    "start_time": "2023-06-22T10:39:31.442Z"
   },
   {
    "duration": 240,
    "start_time": "2023-06-22T10:39:31.716Z"
   },
   {
    "duration": 152,
    "start_time": "2023-06-22T10:39:31.957Z"
   },
   {
    "duration": 351,
    "start_time": "2023-06-22T10:39:32.112Z"
   },
   {
    "duration": 15,
    "start_time": "2023-06-22T10:39:32.465Z"
   },
   {
    "duration": 233,
    "start_time": "2023-06-22T10:39:32.481Z"
   },
   {
    "duration": 29,
    "start_time": "2023-06-22T10:39:32.716Z"
   },
   {
    "duration": 9,
    "start_time": "2023-06-22T10:39:32.746Z"
   },
   {
    "duration": 86,
    "start_time": "2023-06-22T10:39:32.757Z"
   },
   {
    "duration": 145,
    "start_time": "2023-06-22T10:39:32.844Z"
   },
   {
    "duration": 20,
    "start_time": "2023-06-22T10:39:32.991Z"
   },
   {
    "duration": 12,
    "start_time": "2023-06-22T10:39:33.012Z"
   },
   {
    "duration": 21,
    "start_time": "2023-06-22T10:39:33.026Z"
   },
   {
    "duration": 80,
    "start_time": "2023-06-22T10:39:33.049Z"
   },
   {
    "duration": 69,
    "start_time": "2023-06-22T10:39:33.131Z"
   },
   {
    "duration": 36,
    "start_time": "2023-06-22T10:39:33.203Z"
   },
   {
    "duration": 97,
    "start_time": "2023-06-22T10:39:33.241Z"
   },
   {
    "duration": 42,
    "start_time": "2023-06-22T10:39:33.340Z"
   },
   {
    "duration": 154,
    "start_time": "2023-06-22T10:39:33.384Z"
   },
   {
    "duration": 82,
    "start_time": "2023-06-22T10:39:33.540Z"
   },
   {
    "duration": 68,
    "start_time": "2023-06-22T10:39:33.624Z"
   },
   {
    "duration": 74,
    "start_time": "2023-06-22T10:39:33.694Z"
   },
   {
    "duration": 54,
    "start_time": "2023-06-22T10:39:33.770Z"
   },
   {
    "duration": 153,
    "start_time": "2023-06-22T10:39:33.826Z"
   },
   {
    "duration": 81,
    "start_time": "2023-06-22T10:39:33.981Z"
   },
   {
    "duration": 58,
    "start_time": "2023-06-22T10:39:34.064Z"
   },
   {
    "duration": 51,
    "start_time": "2023-06-22T10:39:34.124Z"
   },
   {
    "duration": 57,
    "start_time": "2023-06-22T10:39:34.177Z"
   },
   {
    "duration": 153,
    "start_time": "2023-06-22T10:39:34.236Z"
   },
   {
    "duration": 19,
    "start_time": "2023-06-22T10:39:34.391Z"
   },
   {
    "duration": 6,
    "start_time": "2023-06-22T10:39:34.412Z"
   },
   {
    "duration": 156,
    "start_time": "2023-06-22T10:39:34.420Z"
   },
   {
    "duration": 58,
    "start_time": "2023-06-22T10:39:34.578Z"
   },
   {
    "duration": 31,
    "start_time": "2023-06-22T10:39:34.638Z"
   },
   {
    "duration": 63,
    "start_time": "2023-06-22T10:39:34.671Z"
   },
   {
    "duration": 48,
    "start_time": "2023-06-22T10:39:34.736Z"
   },
   {
    "duration": 16,
    "start_time": "2023-06-22T10:39:34.786Z"
   },
   {
    "duration": 12,
    "start_time": "2023-06-22T10:39:34.804Z"
   },
   {
    "duration": 116,
    "start_time": "2023-06-22T10:39:34.818Z"
   },
   {
    "duration": 30,
    "start_time": "2023-06-22T10:39:34.936Z"
   },
   {
    "duration": 73,
    "start_time": "2023-06-22T10:39:34.968Z"
   },
   {
    "duration": 28,
    "start_time": "2023-06-22T10:39:35.042Z"
   },
   {
    "duration": 62,
    "start_time": "2023-06-22T10:39:35.071Z"
   },
   {
    "duration": 31,
    "start_time": "2023-06-22T10:39:35.135Z"
   },
   {
    "duration": 46,
    "start_time": "2023-06-22T10:39:35.169Z"
   },
   {
    "duration": 122,
    "start_time": "2023-06-22T10:39:35.217Z"
   },
   {
    "duration": 147,
    "start_time": "2023-06-22T10:39:35.342Z"
   },
   {
    "duration": 7,
    "start_time": "2023-06-22T10:39:35.501Z"
   },
   {
    "duration": 149,
    "start_time": "2023-06-22T10:39:35.510Z"
   },
   {
    "duration": 264,
    "start_time": "2023-06-22T10:39:35.662Z"
   },
   {
    "duration": 428,
    "start_time": "2023-06-22T10:39:35.928Z"
   },
   {
    "duration": 86,
    "start_time": "2023-06-22T10:39:36.358Z"
   },
   {
    "duration": 83,
    "start_time": "2023-06-22T10:39:36.446Z"
   },
   {
    "duration": 87,
    "start_time": "2023-06-22T10:39:36.532Z"
   },
   {
    "duration": 6,
    "start_time": "2023-06-22T10:39:36.621Z"
   },
   {
    "duration": 15,
    "start_time": "2023-06-22T10:39:36.629Z"
   },
   {
    "duration": 493,
    "start_time": "2023-06-22T10:39:39.120Z"
   },
   {
    "duration": 14,
    "start_time": "2023-06-22T10:39:44.524Z"
   },
   {
    "duration": 78,
    "start_time": "2023-06-22T10:39:49.428Z"
   },
   {
    "duration": 221,
    "start_time": "2023-06-22T10:40:02.016Z"
   },
   {
    "duration": 26,
    "start_time": "2023-06-22T10:40:38.942Z"
   },
   {
    "duration": 1680,
    "start_time": "2023-06-22T10:44:12.908Z"
   },
   {
    "duration": 2,
    "start_time": "2023-06-22T10:44:14.590Z"
   },
   {
    "duration": 37,
    "start_time": "2023-06-22T10:44:14.594Z"
   },
   {
    "duration": 12121,
    "start_time": "2023-06-22T10:44:14.633Z"
   },
   {
    "duration": 3,
    "start_time": "2023-06-22T10:44:26.758Z"
   },
   {
    "duration": 236,
    "start_time": "2023-06-22T10:44:26.764Z"
   },
   {
    "duration": 15,
    "start_time": "2023-06-22T10:44:27.003Z"
   },
   {
    "duration": 8,
    "start_time": "2023-06-22T10:44:27.020Z"
   },
   {
    "duration": 58,
    "start_time": "2023-06-22T10:44:27.030Z"
   },
   {
    "duration": 7,
    "start_time": "2023-06-22T10:44:27.090Z"
   },
   {
    "duration": 19,
    "start_time": "2023-06-22T10:44:27.100Z"
   },
   {
    "duration": 57,
    "start_time": "2023-06-22T10:44:27.121Z"
   },
   {
    "duration": 12,
    "start_time": "2023-06-22T10:44:27.180Z"
   },
   {
    "duration": 28,
    "start_time": "2023-06-22T10:44:27.195Z"
   },
   {
    "duration": 97,
    "start_time": "2023-06-22T10:44:27.225Z"
   },
   {
    "duration": 6,
    "start_time": "2023-06-22T10:44:27.324Z"
   },
   {
    "duration": 35,
    "start_time": "2023-06-22T10:44:27.331Z"
   },
   {
    "duration": 150,
    "start_time": "2023-06-22T10:44:27.368Z"
   },
   {
    "duration": 20,
    "start_time": "2023-06-22T10:44:27.519Z"
   },
   {
    "duration": 25,
    "start_time": "2023-06-22T10:44:27.541Z"
   },
   {
    "duration": 147,
    "start_time": "2023-06-22T10:44:27.567Z"
   },
   {
    "duration": 6,
    "start_time": "2023-06-22T10:44:27.716Z"
   },
   {
    "duration": 18,
    "start_time": "2023-06-22T10:44:27.723Z"
   },
   {
    "duration": 45,
    "start_time": "2023-06-22T10:44:27.742Z"
   },
   {
    "duration": 14,
    "start_time": "2023-06-22T10:44:27.789Z"
   },
   {
    "duration": 44,
    "start_time": "2023-06-22T10:44:27.804Z"
   },
   {
    "duration": 151,
    "start_time": "2023-06-22T10:44:27.849Z"
   },
   {
    "duration": 7,
    "start_time": "2023-06-22T10:44:28.002Z"
   },
   {
    "duration": 9,
    "start_time": "2023-06-22T10:44:28.011Z"
   },
   {
    "duration": 268,
    "start_time": "2023-06-22T10:44:28.021Z"
   },
   {
    "duration": 192,
    "start_time": "2023-06-22T10:44:28.291Z"
   },
   {
    "duration": 2,
    "start_time": "2023-06-22T10:44:28.485Z"
   },
   {
    "duration": 270,
    "start_time": "2023-06-22T10:44:28.489Z"
   },
   {
    "duration": 7,
    "start_time": "2023-06-22T10:44:28.760Z"
   },
   {
    "duration": 445,
    "start_time": "2023-06-22T10:44:28.769Z"
   },
   {
    "duration": 4,
    "start_time": "2023-06-22T10:44:29.215Z"
   },
   {
    "duration": 261,
    "start_time": "2023-06-22T10:44:29.221Z"
   },
   {
    "duration": 8,
    "start_time": "2023-06-22T10:44:29.484Z"
   },
   {
    "duration": 204,
    "start_time": "2023-06-22T10:44:29.493Z"
   },
   {
    "duration": 2,
    "start_time": "2023-06-22T10:44:29.699Z"
   },
   {
    "duration": 995,
    "start_time": "2023-06-22T10:44:29.706Z"
   },
   {
    "duration": 261,
    "start_time": "2023-06-22T10:44:30.704Z"
   },
   {
    "duration": 4,
    "start_time": "2023-06-22T10:44:30.967Z"
   },
   {
    "duration": 837,
    "start_time": "2023-06-22T10:44:30.973Z"
   },
   {
    "duration": 7,
    "start_time": "2023-06-22T10:44:31.812Z"
   },
   {
    "duration": 275,
    "start_time": "2023-06-22T10:44:31.821Z"
   },
   {
    "duration": 4,
    "start_time": "2023-06-22T10:44:32.098Z"
   },
   {
    "duration": 12348,
    "start_time": "2023-06-22T10:44:32.104Z"
   },
   {
    "duration": 432,
    "start_time": "2023-06-22T10:44:44.454Z"
   },
   {
    "duration": 4,
    "start_time": "2023-06-22T10:44:44.889Z"
   },
   {
    "duration": 369,
    "start_time": "2023-06-22T10:44:44.894Z"
   },
   {
    "duration": 85,
    "start_time": "2023-06-22T10:44:45.265Z"
   },
   {
    "duration": 155,
    "start_time": "2023-06-22T10:44:45.352Z"
   },
   {
    "duration": 8,
    "start_time": "2023-06-22T10:44:45.510Z"
   },
   {
    "duration": 76,
    "start_time": "2023-06-22T10:44:45.519Z"
   },
   {
    "duration": 152,
    "start_time": "2023-06-22T10:44:45.597Z"
   },
   {
    "duration": 346,
    "start_time": "2023-06-22T10:44:45.752Z"
   },
   {
    "duration": 14,
    "start_time": "2023-06-22T10:44:46.101Z"
   },
   {
    "duration": 263,
    "start_time": "2023-06-22T10:44:46.117Z"
   },
   {
    "duration": 37,
    "start_time": "2023-06-22T10:44:46.382Z"
   },
   {
    "duration": 9,
    "start_time": "2023-06-22T10:44:46.421Z"
   },
   {
    "duration": 100,
    "start_time": "2023-06-22T10:44:46.431Z"
   },
   {
    "duration": 157,
    "start_time": "2023-06-22T10:44:46.532Z"
   },
   {
    "duration": 23,
    "start_time": "2023-06-22T10:44:46.692Z"
   },
   {
    "duration": 7,
    "start_time": "2023-06-22T10:44:46.718Z"
   },
   {
    "duration": 25,
    "start_time": "2023-06-22T10:44:46.727Z"
   },
   {
    "duration": 75,
    "start_time": "2023-06-22T10:44:46.753Z"
   },
   {
    "duration": 65,
    "start_time": "2023-06-22T10:44:46.830Z"
   },
   {
    "duration": 36,
    "start_time": "2023-06-22T10:44:46.897Z"
   },
   {
    "duration": 95,
    "start_time": "2023-06-22T10:44:46.936Z"
   },
   {
    "duration": 33,
    "start_time": "2023-06-22T10:44:47.033Z"
   },
   {
    "duration": 142,
    "start_time": "2023-06-22T10:44:47.068Z"
   },
   {
    "duration": 96,
    "start_time": "2023-06-22T10:44:47.212Z"
   },
   {
    "duration": 44,
    "start_time": "2023-06-22T10:44:47.310Z"
   },
   {
    "duration": 80,
    "start_time": "2023-06-22T10:44:47.356Z"
   },
   {
    "duration": 51,
    "start_time": "2023-06-22T10:44:47.437Z"
   },
   {
    "duration": 130,
    "start_time": "2023-06-22T10:44:47.490Z"
   },
   {
    "duration": 83,
    "start_time": "2023-06-22T10:44:47.622Z"
   },
   {
    "duration": 57,
    "start_time": "2023-06-22T10:44:47.707Z"
   },
   {
    "duration": 60,
    "start_time": "2023-06-22T10:44:47.766Z"
   },
   {
    "duration": 39,
    "start_time": "2023-06-22T10:44:47.828Z"
   },
   {
    "duration": 149,
    "start_time": "2023-06-22T10:44:47.868Z"
   },
   {
    "duration": 10,
    "start_time": "2023-06-22T10:44:48.020Z"
   },
   {
    "duration": 5,
    "start_time": "2023-06-22T10:44:48.032Z"
   },
   {
    "duration": 153,
    "start_time": "2023-06-22T10:44:48.039Z"
   },
   {
    "duration": 46,
    "start_time": "2023-06-22T10:44:48.201Z"
   },
   {
    "duration": 49,
    "start_time": "2023-06-22T10:44:48.248Z"
   },
   {
    "duration": 63,
    "start_time": "2023-06-22T10:44:48.299Z"
   },
   {
    "duration": 68,
    "start_time": "2023-06-22T10:44:48.363Z"
   },
   {
    "duration": 6,
    "start_time": "2023-06-22T10:44:48.433Z"
   },
   {
    "duration": 15,
    "start_time": "2023-06-22T10:44:48.441Z"
   },
   {
    "duration": 117,
    "start_time": "2023-06-22T10:44:48.458Z"
   },
   {
    "duration": 45,
    "start_time": "2023-06-22T10:44:48.577Z"
   },
   {
    "duration": 60,
    "start_time": "2023-06-22T10:44:48.624Z"
   },
   {
    "duration": 41,
    "start_time": "2023-06-22T10:44:48.686Z"
   },
   {
    "duration": 47,
    "start_time": "2023-06-22T10:44:48.728Z"
   },
   {
    "duration": 43,
    "start_time": "2023-06-22T10:44:48.777Z"
   },
   {
    "duration": 22,
    "start_time": "2023-06-22T10:44:48.822Z"
   },
   {
    "duration": 116,
    "start_time": "2023-06-22T10:44:48.846Z"
   },
   {
    "duration": 146,
    "start_time": "2023-06-22T10:44:48.964Z"
   },
   {
    "duration": 4,
    "start_time": "2023-06-22T10:44:49.112Z"
   },
   {
    "duration": 142,
    "start_time": "2023-06-22T10:44:49.118Z"
   },
   {
    "duration": 255,
    "start_time": "2023-06-22T10:44:49.263Z"
   },
   {
    "duration": 444,
    "start_time": "2023-06-22T10:44:49.520Z"
   },
   {
    "duration": 78,
    "start_time": "2023-06-22T10:44:49.966Z"
   },
   {
    "duration": 94,
    "start_time": "2023-06-22T10:44:50.046Z"
   },
   {
    "duration": 78,
    "start_time": "2023-06-22T10:44:50.142Z"
   },
   {
    "duration": 3,
    "start_time": "2023-06-22T10:44:50.222Z"
   },
   {
    "duration": 4,
    "start_time": "2023-06-22T10:46:56.015Z"
   },
   {
    "duration": 3,
    "start_time": "2023-06-22T10:52:25.311Z"
   },
   {
    "duration": 177,
    "start_time": "2023-06-22T10:52:29.128Z"
   },
   {
    "duration": 4,
    "start_time": "2023-06-22T10:54:50.916Z"
   },
   {
    "duration": 702,
    "start_time": "2023-06-22T10:54:52.331Z"
   },
   {
    "duration": 2085,
    "start_time": "2023-06-22T10:55:00.830Z"
   },
   {
    "duration": 5,
    "start_time": "2023-06-22T10:55:02.918Z"
   },
   {
    "duration": 24,
    "start_time": "2023-06-22T10:55:02.924Z"
   },
   {
    "duration": 15951,
    "start_time": "2023-06-22T10:55:02.950Z"
   },
   {
    "duration": 3,
    "start_time": "2023-06-22T10:55:18.903Z"
   },
   {
    "duration": 229,
    "start_time": "2023-06-22T10:55:18.907Z"
   },
   {
    "duration": 11,
    "start_time": "2023-06-22T10:55:19.139Z"
   },
   {
    "duration": 13,
    "start_time": "2023-06-22T10:55:19.152Z"
   },
   {
    "duration": 53,
    "start_time": "2023-06-22T10:55:19.167Z"
   },
   {
    "duration": 6,
    "start_time": "2023-06-22T10:55:19.224Z"
   },
   {
    "duration": 30,
    "start_time": "2023-06-22T10:55:19.232Z"
   },
   {
    "duration": 70,
    "start_time": "2023-06-22T10:55:19.264Z"
   },
   {
    "duration": 12,
    "start_time": "2023-06-22T10:55:19.336Z"
   },
   {
    "duration": 17,
    "start_time": "2023-06-22T10:55:19.350Z"
   },
   {
    "duration": 89,
    "start_time": "2023-06-22T10:55:19.369Z"
   },
   {
    "duration": 7,
    "start_time": "2023-06-22T10:55:19.461Z"
   },
   {
    "duration": 13,
    "start_time": "2023-06-22T10:55:19.470Z"
   },
   {
    "duration": 46,
    "start_time": "2023-06-22T10:55:19.485Z"
   },
   {
    "duration": 114,
    "start_time": "2023-06-22T10:55:19.533Z"
   },
   {
    "duration": 50,
    "start_time": "2023-06-22T10:55:19.650Z"
   },
   {
    "duration": 165,
    "start_time": "2023-06-22T10:55:19.702Z"
   },
   {
    "duration": 8,
    "start_time": "2023-06-22T10:55:19.869Z"
   },
   {
    "duration": 18,
    "start_time": "2023-06-22T10:55:19.878Z"
   },
   {
    "duration": 54,
    "start_time": "2023-06-22T10:55:19.898Z"
   },
   {
    "duration": 14,
    "start_time": "2023-06-22T10:55:19.953Z"
   },
   {
    "duration": 21,
    "start_time": "2023-06-22T10:55:19.969Z"
   },
   {
    "duration": 211,
    "start_time": "2023-06-22T10:55:19.992Z"
   },
   {
    "duration": 6,
    "start_time": "2023-06-22T10:55:20.207Z"
   },
   {
    "duration": 20,
    "start_time": "2023-06-22T10:55:20.215Z"
   },
   {
    "duration": 291,
    "start_time": "2023-06-22T10:55:20.238Z"
   },
   {
    "duration": 233,
    "start_time": "2023-06-22T10:55:20.532Z"
   },
   {
    "duration": 3,
    "start_time": "2023-06-22T10:55:20.768Z"
   },
   {
    "duration": 268,
    "start_time": "2023-06-22T10:55:20.773Z"
   },
   {
    "duration": 8,
    "start_time": "2023-06-22T10:55:21.044Z"
   },
   {
    "duration": 462,
    "start_time": "2023-06-22T10:55:21.054Z"
   },
   {
    "duration": 3,
    "start_time": "2023-06-22T10:55:21.518Z"
   },
   {
    "duration": 232,
    "start_time": "2023-06-22T10:55:21.523Z"
   },
   {
    "duration": 8,
    "start_time": "2023-06-22T10:55:21.757Z"
   },
   {
    "duration": 215,
    "start_time": "2023-06-22T10:55:21.766Z"
   },
   {
    "duration": 4,
    "start_time": "2023-06-22T10:55:21.983Z"
   },
   {
    "duration": 1026,
    "start_time": "2023-06-22T10:55:21.989Z"
   },
   {
    "duration": 259,
    "start_time": "2023-06-22T10:55:23.016Z"
   },
   {
    "duration": 4,
    "start_time": "2023-06-22T10:55:23.277Z"
   },
   {
    "duration": 584,
    "start_time": "2023-06-22T10:55:23.283Z"
   },
   {
    "duration": 11,
    "start_time": "2023-06-22T10:55:23.872Z"
   },
   {
    "duration": 231,
    "start_time": "2023-06-22T10:55:23.885Z"
   },
   {
    "duration": 3,
    "start_time": "2023-06-22T10:55:24.117Z"
   },
   {
    "duration": 11873,
    "start_time": "2023-06-22T10:55:24.122Z"
   },
   {
    "duration": 517,
    "start_time": "2023-06-22T10:55:36.002Z"
   },
   {
    "duration": 5,
    "start_time": "2023-06-22T10:55:36.522Z"
   },
   {
    "duration": 425,
    "start_time": "2023-06-22T10:55:36.530Z"
   },
   {
    "duration": 89,
    "start_time": "2023-06-22T10:55:36.957Z"
   },
   {
    "duration": 182,
    "start_time": "2023-06-22T10:55:37.048Z"
   },
   {
    "duration": 61,
    "start_time": "2023-06-22T10:55:37.233Z"
   },
   {
    "duration": 132,
    "start_time": "2023-06-22T10:55:37.297Z"
   },
   {
    "duration": 175,
    "start_time": "2023-06-22T10:55:37.431Z"
   },
   {
    "duration": 394,
    "start_time": "2023-06-22T10:55:37.608Z"
   },
   {
    "duration": 14,
    "start_time": "2023-06-22T10:55:38.005Z"
   },
   {
    "duration": 221,
    "start_time": "2023-06-22T10:55:38.021Z"
   },
   {
    "duration": 34,
    "start_time": "2023-06-22T10:55:38.244Z"
   },
   {
    "duration": 28,
    "start_time": "2023-06-22T10:55:38.280Z"
   },
   {
    "duration": 145,
    "start_time": "2023-06-22T10:55:38.310Z"
   },
   {
    "duration": 173,
    "start_time": "2023-06-22T10:55:38.458Z"
   },
   {
    "duration": 17,
    "start_time": "2023-06-22T10:55:38.634Z"
   },
   {
    "duration": 48,
    "start_time": "2023-06-22T10:55:38.654Z"
   },
   {
    "duration": 44,
    "start_time": "2023-06-22T10:55:38.705Z"
   },
   {
    "duration": 97,
    "start_time": "2023-06-22T10:55:38.751Z"
   },
   {
    "duration": 56,
    "start_time": "2023-06-22T10:55:38.851Z"
   },
   {
    "duration": 55,
    "start_time": "2023-06-22T10:55:38.909Z"
   },
   {
    "duration": 138,
    "start_time": "2023-06-22T10:55:38.966Z"
   },
   {
    "duration": 67,
    "start_time": "2023-06-22T10:55:39.107Z"
   },
   {
    "duration": 219,
    "start_time": "2023-06-22T10:55:39.177Z"
   },
   {
    "duration": 80,
    "start_time": "2023-06-22T10:55:39.399Z"
   },
   {
    "duration": 65,
    "start_time": "2023-06-22T10:55:39.482Z"
   },
   {
    "duration": 105,
    "start_time": "2023-06-22T10:55:39.550Z"
   },
   {
    "duration": 96,
    "start_time": "2023-06-22T10:55:39.657Z"
   },
   {
    "duration": 182,
    "start_time": "2023-06-22T10:55:39.755Z"
   },
   {
    "duration": 95,
    "start_time": "2023-06-22T10:55:39.940Z"
   },
   {
    "duration": 65,
    "start_time": "2023-06-22T10:55:40.037Z"
   },
   {
    "duration": 56,
    "start_time": "2023-06-22T10:55:40.104Z"
   },
   {
    "duration": 62,
    "start_time": "2023-06-22T10:55:40.163Z"
   },
   {
    "duration": 163,
    "start_time": "2023-06-22T10:55:40.231Z"
   },
   {
    "duration": 57,
    "start_time": "2023-06-22T10:55:40.397Z"
   },
   {
    "duration": 30,
    "start_time": "2023-06-22T10:55:40.456Z"
   },
   {
    "duration": 186,
    "start_time": "2023-06-22T10:55:40.488Z"
   },
   {
    "duration": 57,
    "start_time": "2023-06-22T10:55:40.677Z"
   },
   {
    "duration": 97,
    "start_time": "2023-06-22T10:55:40.736Z"
   },
   {
    "duration": 56,
    "start_time": "2023-06-22T10:55:40.834Z"
   },
   {
    "duration": 48,
    "start_time": "2023-06-22T10:55:40.903Z"
   },
   {
    "duration": 6,
    "start_time": "2023-06-22T10:55:40.953Z"
   },
   {
    "duration": 52,
    "start_time": "2023-06-22T10:55:40.961Z"
   },
   {
    "duration": 151,
    "start_time": "2023-06-22T10:55:41.015Z"
   },
   {
    "duration": 42,
    "start_time": "2023-06-22T10:55:41.168Z"
   },
   {
    "duration": 60,
    "start_time": "2023-06-22T10:55:41.212Z"
   },
   {
    "duration": 44,
    "start_time": "2023-06-22T10:55:41.274Z"
   },
   {
    "duration": 44,
    "start_time": "2023-06-22T10:55:41.320Z"
   },
   {
    "duration": 44,
    "start_time": "2023-06-22T10:55:41.367Z"
   },
   {
    "duration": 20,
    "start_time": "2023-06-22T10:55:41.413Z"
   },
   {
    "duration": 168,
    "start_time": "2023-06-22T10:55:41.435Z"
   },
   {
    "duration": 176,
    "start_time": "2023-06-22T10:55:41.606Z"
   },
   {
    "duration": 3,
    "start_time": "2023-06-22T10:55:41.784Z"
   },
   {
    "duration": 173,
    "start_time": "2023-06-22T10:55:41.789Z"
   },
   {
    "duration": 361,
    "start_time": "2023-06-22T10:55:41.964Z"
   },
   {
    "duration": 458,
    "start_time": "2023-06-22T10:55:42.327Z"
   },
   {
    "duration": 91,
    "start_time": "2023-06-22T10:55:42.787Z"
   },
   {
    "duration": 121,
    "start_time": "2023-06-22T10:55:42.880Z"
   },
   {
    "duration": 81,
    "start_time": "2023-06-22T10:55:43.004Z"
   },
   {
    "duration": 36,
    "start_time": "2023-06-22T10:55:43.087Z"
   },
   {
    "duration": 60,
    "start_time": "2023-06-22T10:55:43.125Z"
   },
   {
    "duration": 120,
    "start_time": "2023-06-22T10:55:43.187Z"
   },
   {
    "duration": 601,
    "start_time": "2023-06-22T10:57:34.325Z"
   },
   {
    "duration": 24,
    "start_time": "2023-06-22T10:57:36.720Z"
   },
   {
    "duration": 15,
    "start_time": "2023-06-22T10:57:55.215Z"
   },
   {
    "duration": 5,
    "start_time": "2023-06-22T10:58:21.795Z"
   },
   {
    "duration": 1836,
    "start_time": "2023-06-22T10:58:36.549Z"
   },
   {
    "duration": 3,
    "start_time": "2023-06-22T10:58:38.387Z"
   },
   {
    "duration": 15,
    "start_time": "2023-06-22T10:58:38.392Z"
   },
   {
    "duration": 13127,
    "start_time": "2023-06-22T10:58:38.411Z"
   },
   {
    "duration": 3,
    "start_time": "2023-06-22T10:58:51.541Z"
   },
   {
    "duration": 264,
    "start_time": "2023-06-22T10:58:51.546Z"
   },
   {
    "duration": 16,
    "start_time": "2023-06-22T10:58:51.812Z"
   },
   {
    "duration": 30,
    "start_time": "2023-06-22T10:58:51.830Z"
   },
   {
    "duration": 61,
    "start_time": "2023-06-22T10:58:51.863Z"
   },
   {
    "duration": 8,
    "start_time": "2023-06-22T10:58:51.928Z"
   },
   {
    "duration": 11,
    "start_time": "2023-06-22T10:58:51.937Z"
   },
   {
    "duration": 46,
    "start_time": "2023-06-22T10:58:51.950Z"
   },
   {
    "duration": 14,
    "start_time": "2023-06-22T10:58:51.999Z"
   },
   {
    "duration": 39,
    "start_time": "2023-06-22T10:58:52.015Z"
   },
   {
    "duration": 125,
    "start_time": "2023-06-22T10:58:52.057Z"
   },
   {
    "duration": 8,
    "start_time": "2023-06-22T10:58:52.184Z"
   },
   {
    "duration": 19,
    "start_time": "2023-06-22T10:58:52.195Z"
   },
   {
    "duration": 46,
    "start_time": "2023-06-22T10:58:52.217Z"
   },
   {
    "duration": 153,
    "start_time": "2023-06-22T10:58:52.265Z"
   },
   {
    "duration": 21,
    "start_time": "2023-06-22T10:58:52.420Z"
   },
   {
    "duration": 131,
    "start_time": "2023-06-22T10:58:52.444Z"
   },
   {
    "duration": 7,
    "start_time": "2023-06-22T10:58:52.577Z"
   },
   {
    "duration": 13,
    "start_time": "2023-06-22T10:58:52.586Z"
   },
   {
    "duration": 94,
    "start_time": "2023-06-22T10:58:52.601Z"
   },
   {
    "duration": 18,
    "start_time": "2023-06-22T10:58:52.698Z"
   },
   {
    "duration": 19,
    "start_time": "2023-06-22T10:58:52.718Z"
   },
   {
    "duration": 197,
    "start_time": "2023-06-22T10:58:52.739Z"
   },
   {
    "duration": 9,
    "start_time": "2023-06-22T10:58:52.945Z"
   },
   {
    "duration": 20,
    "start_time": "2023-06-22T10:58:52.956Z"
   },
   {
    "duration": 292,
    "start_time": "2023-06-22T10:58:52.978Z"
   },
   {
    "duration": 316,
    "start_time": "2023-06-22T10:58:53.273Z"
   },
   {
    "duration": 3,
    "start_time": "2023-06-22T10:58:53.601Z"
   },
   {
    "duration": 295,
    "start_time": "2023-06-22T10:58:53.607Z"
   },
   {
    "duration": 12,
    "start_time": "2023-06-22T10:58:53.904Z"
   },
   {
    "duration": 660,
    "start_time": "2023-06-22T10:58:53.921Z"
   },
   {
    "duration": 6,
    "start_time": "2023-06-22T10:58:54.584Z"
   },
   {
    "duration": 219,
    "start_time": "2023-06-22T10:58:54.603Z"
   },
   {
    "duration": 9,
    "start_time": "2023-06-22T10:58:54.825Z"
   },
   {
    "duration": 253,
    "start_time": "2023-06-22T10:58:54.836Z"
   },
   {
    "duration": 11,
    "start_time": "2023-06-22T10:58:55.091Z"
   },
   {
    "duration": 1083,
    "start_time": "2023-06-22T10:58:55.105Z"
   },
   {
    "duration": 265,
    "start_time": "2023-06-22T10:58:56.191Z"
   },
   {
    "duration": 6,
    "start_time": "2023-06-22T10:58:56.459Z"
   },
   {
    "duration": 561,
    "start_time": "2023-06-22T10:58:56.466Z"
   },
   {
    "duration": 13,
    "start_time": "2023-06-22T10:58:57.030Z"
   },
   {
    "duration": 315,
    "start_time": "2023-06-22T10:58:57.045Z"
   },
   {
    "duration": 3,
    "start_time": "2023-06-22T10:58:57.363Z"
   },
   {
    "duration": 12639,
    "start_time": "2023-06-22T10:58:57.368Z"
   },
   {
    "duration": 670,
    "start_time": "2023-06-22T10:59:10.008Z"
   },
   {
    "duration": 4,
    "start_time": "2023-06-22T10:59:10.681Z"
   },
   {
    "duration": 437,
    "start_time": "2023-06-22T10:59:10.703Z"
   },
   {
    "duration": 87,
    "start_time": "2023-06-22T10:59:11.142Z"
   },
   {
    "duration": 162,
    "start_time": "2023-06-22T10:59:11.232Z"
   },
   {
    "duration": 6,
    "start_time": "2023-06-22T10:59:11.402Z"
   },
   {
    "duration": 68,
    "start_time": "2023-06-22T10:59:11.410Z"
   },
   {
    "duration": 163,
    "start_time": "2023-06-22T10:59:11.480Z"
   },
   {
    "duration": 385,
    "start_time": "2023-06-22T10:59:11.645Z"
   },
   {
    "duration": 14,
    "start_time": "2023-06-22T10:59:12.033Z"
   },
   {
    "duration": 276,
    "start_time": "2023-06-22T10:59:12.050Z"
   },
   {
    "duration": 38,
    "start_time": "2023-06-22T10:59:12.329Z"
   },
   {
    "duration": 33,
    "start_time": "2023-06-22T10:59:12.370Z"
   },
   {
    "duration": 77,
    "start_time": "2023-06-22T10:59:12.406Z"
   },
   {
    "duration": 170,
    "start_time": "2023-06-22T10:59:12.486Z"
   },
   {
    "duration": 13,
    "start_time": "2023-06-22T10:59:12.660Z"
   },
   {
    "duration": 15,
    "start_time": "2023-06-22T10:59:12.675Z"
   },
   {
    "duration": 5,
    "start_time": "2023-06-22T10:59:12.703Z"
   },
   {
    "duration": 80,
    "start_time": "2023-06-22T10:59:12.710Z"
   },
   {
    "duration": 60,
    "start_time": "2023-06-22T10:59:12.801Z"
   },
   {
    "duration": 49,
    "start_time": "2023-06-22T10:59:12.863Z"
   },
   {
    "duration": 105,
    "start_time": "2023-06-22T10:59:12.914Z"
   },
   {
    "duration": 43,
    "start_time": "2023-06-22T10:59:13.022Z"
   },
   {
    "duration": 167,
    "start_time": "2023-06-22T10:59:13.067Z"
   },
   {
    "duration": 101,
    "start_time": "2023-06-22T10:59:13.237Z"
   },
   {
    "duration": 70,
    "start_time": "2023-06-22T10:59:13.341Z"
   },
   {
    "duration": 91,
    "start_time": "2023-06-22T10:59:13.414Z"
   },
   {
    "duration": 58,
    "start_time": "2023-06-22T10:59:13.507Z"
   },
   {
    "duration": 147,
    "start_time": "2023-06-22T10:59:13.568Z"
   },
   {
    "duration": 90,
    "start_time": "2023-06-22T10:59:13.717Z"
   },
   {
    "duration": 64,
    "start_time": "2023-06-22T10:59:13.809Z"
   },
   {
    "duration": 53,
    "start_time": "2023-06-22T10:59:13.876Z"
   },
   {
    "duration": 80,
    "start_time": "2023-06-22T10:59:13.932Z"
   },
   {
    "duration": 160,
    "start_time": "2023-06-22T10:59:14.017Z"
   },
   {
    "duration": 21,
    "start_time": "2023-06-22T10:59:14.179Z"
   },
   {
    "duration": 5,
    "start_time": "2023-06-22T10:59:14.202Z"
   },
   {
    "duration": 160,
    "start_time": "2023-06-22T10:59:14.209Z"
   },
   {
    "duration": 65,
    "start_time": "2023-06-22T10:59:14.372Z"
   },
   {
    "duration": 49,
    "start_time": "2023-06-22T10:59:14.439Z"
   },
   {
    "duration": 75,
    "start_time": "2023-06-22T10:59:14.490Z"
   },
   {
    "duration": 80,
    "start_time": "2023-06-22T10:59:14.567Z"
   },
   {
    "duration": 22,
    "start_time": "2023-06-22T10:59:14.649Z"
   },
   {
    "duration": 33,
    "start_time": "2023-06-22T10:59:14.674Z"
   },
   {
    "duration": 149,
    "start_time": "2023-06-22T10:59:14.709Z"
   },
   {
    "duration": 32,
    "start_time": "2023-06-22T10:59:14.860Z"
   },
   {
    "duration": 83,
    "start_time": "2023-06-22T10:59:14.903Z"
   },
   {
    "duration": 55,
    "start_time": "2023-06-22T10:59:14.989Z"
   },
   {
    "duration": 120,
    "start_time": "2023-06-22T10:59:15.047Z"
   },
   {
    "duration": 41,
    "start_time": "2023-06-22T10:59:15.169Z"
   },
   {
    "duration": 34,
    "start_time": "2023-06-22T10:59:15.212Z"
   },
   {
    "duration": 168,
    "start_time": "2023-06-22T10:59:15.248Z"
   },
   {
    "duration": 172,
    "start_time": "2023-06-22T10:59:15.418Z"
   },
   {
    "duration": 13,
    "start_time": "2023-06-22T10:59:15.592Z"
   },
   {
    "duration": 168,
    "start_time": "2023-06-22T10:59:15.607Z"
   },
   {
    "duration": 301,
    "start_time": "2023-06-22T10:59:15.777Z"
   },
   {
    "duration": 636,
    "start_time": "2023-06-22T10:59:16.080Z"
   },
   {
    "duration": 103,
    "start_time": "2023-06-22T10:59:16.719Z"
   },
   {
    "duration": 84,
    "start_time": "2023-06-22T10:59:46.258Z"
   },
   {
    "duration": 80,
    "start_time": "2023-06-22T10:59:49.451Z"
   },
   {
    "duration": 4,
    "start_time": "2023-06-22T10:59:51.129Z"
   },
   {
    "duration": 4,
    "start_time": "2023-06-22T10:59:56.315Z"
   },
   {
    "duration": 64,
    "start_time": "2023-06-22T10:59:58.807Z"
   },
   {
    "duration": 624,
    "start_time": "2023-06-22T11:00:00.923Z"
   },
   {
    "duration": 12,
    "start_time": "2023-06-22T11:00:04.723Z"
   },
   {
    "duration": 15,
    "start_time": "2023-06-22T11:00:30.007Z"
   },
   {
    "duration": 14,
    "start_time": "2023-06-22T11:00:42.898Z"
   },
   {
    "duration": 242,
    "start_time": "2023-06-22T11:01:01.505Z"
   },
   {
    "duration": 14,
    "start_time": "2023-06-22T11:01:23.223Z"
   },
   {
    "duration": 16,
    "start_time": "2023-06-22T11:01:36.532Z"
   },
   {
    "duration": 16,
    "start_time": "2023-06-22T11:01:44.112Z"
   },
   {
    "duration": 1933,
    "start_time": "2023-06-22T11:02:00.129Z"
   },
   {
    "duration": 4,
    "start_time": "2023-06-22T11:02:02.066Z"
   },
   {
    "duration": 80,
    "start_time": "2023-06-22T11:02:02.073Z"
   },
   {
    "duration": 11775,
    "start_time": "2023-06-22T11:02:02.156Z"
   },
   {
    "duration": 4,
    "start_time": "2023-06-22T11:02:13.934Z"
   },
   {
    "duration": 256,
    "start_time": "2023-06-22T11:02:13.940Z"
   },
   {
    "duration": 16,
    "start_time": "2023-06-22T11:02:14.198Z"
   },
   {
    "duration": 15,
    "start_time": "2023-06-22T11:02:14.216Z"
   },
   {
    "duration": 47,
    "start_time": "2023-06-22T11:02:14.233Z"
   },
   {
    "duration": 8,
    "start_time": "2023-06-22T11:02:14.282Z"
   },
   {
    "duration": 12,
    "start_time": "2023-06-22T11:02:14.292Z"
   },
   {
    "duration": 84,
    "start_time": "2023-06-22T11:02:14.307Z"
   },
   {
    "duration": 15,
    "start_time": "2023-06-22T11:02:14.393Z"
   },
   {
    "duration": 19,
    "start_time": "2023-06-22T11:02:14.412Z"
   },
   {
    "duration": 118,
    "start_time": "2023-06-22T11:02:14.434Z"
   },
   {
    "duration": 8,
    "start_time": "2023-06-22T11:02:14.555Z"
   },
   {
    "duration": 17,
    "start_time": "2023-06-22T11:02:14.565Z"
   },
   {
    "duration": 193,
    "start_time": "2023-06-22T11:02:14.586Z"
   },
   {
    "duration": 34,
    "start_time": "2023-06-22T11:02:14.782Z"
   },
   {
    "duration": 28,
    "start_time": "2023-06-22T11:02:14.818Z"
   },
   {
    "duration": 149,
    "start_time": "2023-06-22T11:02:14.849Z"
   },
   {
    "duration": 8,
    "start_time": "2023-06-22T11:02:15.001Z"
   },
   {
    "duration": 107,
    "start_time": "2023-06-22T11:02:15.011Z"
   },
   {
    "duration": 104,
    "start_time": "2023-06-22T11:02:15.120Z"
   },
   {
    "duration": 21,
    "start_time": "2023-06-22T11:02:15.227Z"
   },
   {
    "duration": 64,
    "start_time": "2023-06-22T11:02:15.250Z"
   },
   {
    "duration": 153,
    "start_time": "2023-06-22T11:02:15.316Z"
   },
   {
    "duration": 7,
    "start_time": "2023-06-22T11:02:15.471Z"
   },
   {
    "duration": 16,
    "start_time": "2023-06-22T11:02:15.480Z"
   },
   {
    "duration": 297,
    "start_time": "2023-06-22T11:02:15.499Z"
   },
   {
    "duration": 219,
    "start_time": "2023-06-22T11:02:15.798Z"
   },
   {
    "duration": 3,
    "start_time": "2023-06-22T11:02:16.019Z"
   },
   {
    "duration": 264,
    "start_time": "2023-06-22T11:02:16.024Z"
   },
   {
    "duration": 7,
    "start_time": "2023-06-22T11:02:16.290Z"
   },
   {
    "duration": 472,
    "start_time": "2023-06-22T11:02:16.299Z"
   },
   {
    "duration": 3,
    "start_time": "2023-06-22T11:02:16.773Z"
   },
   {
    "duration": 224,
    "start_time": "2023-06-22T11:02:16.778Z"
   },
   {
    "duration": 8,
    "start_time": "2023-06-22T11:02:17.004Z"
   },
   {
    "duration": 246,
    "start_time": "2023-06-22T11:02:17.015Z"
   },
   {
    "duration": 3,
    "start_time": "2023-06-22T11:02:17.264Z"
   },
   {
    "duration": 1001,
    "start_time": "2023-06-22T11:02:17.273Z"
   },
   {
    "duration": 264,
    "start_time": "2023-06-22T11:02:18.276Z"
   },
   {
    "duration": 4,
    "start_time": "2023-06-22T11:02:18.542Z"
   },
   {
    "duration": 572,
    "start_time": "2023-06-22T11:02:18.548Z"
   },
   {
    "duration": 9,
    "start_time": "2023-06-22T11:02:19.122Z"
   },
   {
    "duration": 203,
    "start_time": "2023-06-22T11:02:19.134Z"
   },
   {
    "duration": 4,
    "start_time": "2023-06-22T11:02:19.339Z"
   },
   {
    "duration": 11201,
    "start_time": "2023-06-22T11:02:19.345Z"
   },
   {
    "duration": 479,
    "start_time": "2023-06-22T11:02:30.548Z"
   },
   {
    "duration": 5,
    "start_time": "2023-06-22T11:02:31.029Z"
   },
   {
    "duration": 513,
    "start_time": "2023-06-22T11:02:31.040Z"
   },
   {
    "duration": 88,
    "start_time": "2023-06-22T11:02:31.556Z"
   },
   {
    "duration": 286,
    "start_time": "2023-06-22T11:02:31.647Z"
   },
   {
    "duration": 5,
    "start_time": "2023-06-22T11:02:31.935Z"
   },
   {
    "duration": 100,
    "start_time": "2023-06-22T11:02:31.942Z"
   },
   {
    "duration": 179,
    "start_time": "2023-06-22T11:02:32.045Z"
   },
   {
    "duration": 380,
    "start_time": "2023-06-22T11:02:32.226Z"
   },
   {
    "duration": 16,
    "start_time": "2023-06-22T11:02:32.609Z"
   },
   {
    "duration": 229,
    "start_time": "2023-06-22T11:02:32.627Z"
   },
   {
    "duration": 43,
    "start_time": "2023-06-22T11:02:32.859Z"
   },
   {
    "duration": 10,
    "start_time": "2023-06-22T11:02:32.904Z"
   },
   {
    "duration": 109,
    "start_time": "2023-06-22T11:02:32.916Z"
   },
   {
    "duration": 174,
    "start_time": "2023-06-22T11:02:33.028Z"
   },
   {
    "duration": 30,
    "start_time": "2023-06-22T11:02:33.207Z"
   },
   {
    "duration": 8,
    "start_time": "2023-06-22T11:02:33.240Z"
   },
   {
    "duration": 15,
    "start_time": "2023-06-22T11:02:33.250Z"
   },
   {
    "duration": 93,
    "start_time": "2023-06-22T11:02:33.268Z"
   },
   {
    "duration": 64,
    "start_time": "2023-06-22T11:02:33.363Z"
   },
   {
    "duration": 29,
    "start_time": "2023-06-22T11:02:33.429Z"
   },
   {
    "duration": 109,
    "start_time": "2023-06-22T11:02:33.460Z"
   },
   {
    "duration": 54,
    "start_time": "2023-06-22T11:02:33.571Z"
   },
   {
    "duration": 174,
    "start_time": "2023-06-22T11:02:33.627Z"
   },
   {
    "duration": 79,
    "start_time": "2023-06-22T11:02:33.803Z"
   },
   {
    "duration": 91,
    "start_time": "2023-06-22T11:02:33.884Z"
   },
   {
    "duration": 83,
    "start_time": "2023-06-22T11:02:33.977Z"
   },
   {
    "duration": 84,
    "start_time": "2023-06-22T11:02:34.062Z"
   },
   {
    "duration": 151,
    "start_time": "2023-06-22T11:02:34.148Z"
   },
   {
    "duration": 71,
    "start_time": "2023-06-22T11:02:34.303Z"
   },
   {
    "duration": 63,
    "start_time": "2023-06-22T11:02:34.376Z"
   },
   {
    "duration": 61,
    "start_time": "2023-06-22T11:02:34.441Z"
   },
   {
    "duration": 61,
    "start_time": "2023-06-22T11:02:34.505Z"
   },
   {
    "duration": 171,
    "start_time": "2023-06-22T11:02:34.568Z"
   },
   {
    "duration": 296,
    "start_time": "2023-06-22T11:02:34.741Z"
   },
   {
    "duration": 11,
    "start_time": "2023-06-22T11:02:35.039Z"
   },
   {
    "duration": 160,
    "start_time": "2023-06-22T11:02:35.053Z"
   },
   {
    "duration": 71,
    "start_time": "2023-06-22T11:02:35.217Z"
   },
   {
    "duration": 61,
    "start_time": "2023-06-22T11:02:35.290Z"
   },
   {
    "duration": 53,
    "start_time": "2023-06-22T11:02:35.354Z"
   },
   {
    "duration": 66,
    "start_time": "2023-06-22T11:02:35.409Z"
   },
   {
    "duration": 10,
    "start_time": "2023-06-22T11:02:35.477Z"
   },
   {
    "duration": 14,
    "start_time": "2023-06-22T11:02:35.490Z"
   },
   {
    "duration": 140,
    "start_time": "2023-06-22T11:02:35.506Z"
   },
   {
    "duration": 33,
    "start_time": "2023-06-22T11:02:35.648Z"
   },
   {
    "duration": 96,
    "start_time": "2023-06-22T11:02:35.683Z"
   },
   {
    "duration": 43,
    "start_time": "2023-06-22T11:02:35.782Z"
   },
   {
    "duration": 65,
    "start_time": "2023-06-22T11:02:35.828Z"
   },
   {
    "duration": 36,
    "start_time": "2023-06-22T11:02:35.902Z"
   },
   {
    "duration": 65,
    "start_time": "2023-06-22T11:02:35.940Z"
   },
   {
    "duration": 283,
    "start_time": "2023-06-22T11:02:36.007Z"
   },
   {
    "duration": 157,
    "start_time": "2023-06-22T11:02:36.292Z"
   },
   {
    "duration": 16,
    "start_time": "2023-06-22T11:02:36.451Z"
   },
   {
    "duration": 160,
    "start_time": "2023-06-22T11:02:36.469Z"
   },
   {
    "duration": 283,
    "start_time": "2023-06-22T11:02:36.631Z"
   },
   {
    "duration": 560,
    "start_time": "2023-06-22T11:02:36.916Z"
   },
   {
    "duration": 90,
    "start_time": "2023-06-22T11:02:37.477Z"
   },
   {
    "duration": 95,
    "start_time": "2023-06-22T11:02:37.569Z"
   },
   {
    "duration": 95,
    "start_time": "2023-06-22T11:02:37.669Z"
   },
   {
    "duration": 77,
    "start_time": "2023-06-22T11:02:37.766Z"
   },
   {
    "duration": 35,
    "start_time": "2023-06-22T11:02:37.846Z"
   },
   {
    "duration": 68,
    "start_time": "2023-06-22T11:02:37.882Z"
   },
   {
    "duration": 556,
    "start_time": "2023-06-22T11:02:37.952Z"
   },
   {
    "duration": 202,
    "start_time": "2023-06-22T11:02:41.115Z"
   },
   {
    "duration": 24,
    "start_time": "2023-06-22T11:02:56.227Z"
   },
   {
    "duration": 15,
    "start_time": "2023-06-22T11:03:26.326Z"
   },
   {
    "duration": 16,
    "start_time": "2023-06-22T11:03:34.218Z"
   },
   {
    "duration": 238,
    "start_time": "2023-06-22T11:03:55.256Z"
   },
   {
    "duration": 49,
    "start_time": "2023-06-22T11:04:06.316Z"
   },
   {
    "duration": 1965,
    "start_time": "2023-06-22T11:04:33.547Z"
   },
   {
    "duration": 6,
    "start_time": "2023-06-22T11:04:35.515Z"
   },
   {
    "duration": 33,
    "start_time": "2023-06-22T11:04:35.523Z"
   },
   {
    "duration": 12372,
    "start_time": "2023-06-22T11:04:35.558Z"
   },
   {
    "duration": 5,
    "start_time": "2023-06-22T11:04:47.934Z"
   },
   {
    "duration": 293,
    "start_time": "2023-06-22T11:04:47.942Z"
   },
   {
    "duration": 20,
    "start_time": "2023-06-22T11:04:48.238Z"
   },
   {
    "duration": 30,
    "start_time": "2023-06-22T11:04:48.261Z"
   },
   {
    "duration": 105,
    "start_time": "2023-06-22T11:04:48.296Z"
   },
   {
    "duration": 9,
    "start_time": "2023-06-22T11:04:48.405Z"
   },
   {
    "duration": 43,
    "start_time": "2023-06-22T11:04:48.416Z"
   },
   {
    "duration": 103,
    "start_time": "2023-06-22T11:04:48.461Z"
   },
   {
    "duration": 30,
    "start_time": "2023-06-22T11:04:48.567Z"
   },
   {
    "duration": 45,
    "start_time": "2023-06-22T11:04:48.602Z"
   },
   {
    "duration": 110,
    "start_time": "2023-06-22T11:04:48.650Z"
   },
   {
    "duration": 10,
    "start_time": "2023-06-22T11:04:48.763Z"
   },
   {
    "duration": 48,
    "start_time": "2023-06-22T11:04:48.775Z"
   },
   {
    "duration": 165,
    "start_time": "2023-06-22T11:04:48.826Z"
   },
   {
    "duration": 28,
    "start_time": "2023-06-22T11:04:48.993Z"
   },
   {
    "duration": 36,
    "start_time": "2023-06-22T11:04:49.023Z"
   },
   {
    "duration": 171,
    "start_time": "2023-06-22T11:04:49.061Z"
   },
   {
    "duration": 8,
    "start_time": "2023-06-22T11:04:49.235Z"
   },
   {
    "duration": 6,
    "start_time": "2023-06-22T11:04:49.245Z"
   },
   {
    "duration": 68,
    "start_time": "2023-06-22T11:04:49.254Z"
   },
   {
    "duration": 21,
    "start_time": "2023-06-22T11:04:49.324Z"
   },
   {
    "duration": 15,
    "start_time": "2023-06-22T11:04:49.347Z"
   },
   {
    "duration": 168,
    "start_time": "2023-06-22T11:04:49.364Z"
   },
   {
    "duration": 8,
    "start_time": "2023-06-22T11:04:49.535Z"
   },
   {
    "duration": 28,
    "start_time": "2023-06-22T11:04:49.545Z"
   },
   {
    "duration": 297,
    "start_time": "2023-06-22T11:04:49.575Z"
   },
   {
    "duration": 228,
    "start_time": "2023-06-22T11:04:49.875Z"
   },
   {
    "duration": 9,
    "start_time": "2023-06-22T11:04:50.105Z"
   },
   {
    "duration": 322,
    "start_time": "2023-06-22T11:04:50.121Z"
   },
   {
    "duration": 8,
    "start_time": "2023-06-22T11:04:50.446Z"
   },
   {
    "duration": 507,
    "start_time": "2023-06-22T11:04:50.456Z"
   },
   {
    "duration": 4,
    "start_time": "2023-06-22T11:04:50.966Z"
   },
   {
    "duration": 256,
    "start_time": "2023-06-22T11:04:50.977Z"
   },
   {
    "duration": 13,
    "start_time": "2023-06-22T11:04:51.236Z"
   },
   {
    "duration": 372,
    "start_time": "2023-06-22T11:04:51.251Z"
   },
   {
    "duration": 3,
    "start_time": "2023-06-22T11:04:51.625Z"
   },
   {
    "duration": 1093,
    "start_time": "2023-06-22T11:04:51.637Z"
   },
   {
    "duration": 278,
    "start_time": "2023-06-22T11:04:52.732Z"
   },
   {
    "duration": 5,
    "start_time": "2023-06-22T11:04:53.012Z"
   },
   {
    "duration": 635,
    "start_time": "2023-06-22T11:04:53.019Z"
   },
   {
    "duration": 8,
    "start_time": "2023-06-22T11:04:53.656Z"
   },
   {
    "duration": 295,
    "start_time": "2023-06-22T11:04:53.668Z"
   },
   {
    "duration": 3,
    "start_time": "2023-06-22T11:04:53.966Z"
   },
   {
    "duration": 11582,
    "start_time": "2023-06-22T11:04:53.971Z"
   },
   {
    "duration": 422,
    "start_time": "2023-06-22T11:05:05.555Z"
   },
   {
    "duration": 5,
    "start_time": "2023-06-22T11:05:05.980Z"
   },
   {
    "duration": 467,
    "start_time": "2023-06-22T11:05:05.987Z"
   },
   {
    "duration": 75,
    "start_time": "2023-06-22T11:05:06.457Z"
   },
   {
    "duration": 164,
    "start_time": "2023-06-22T11:05:06.534Z"
   },
   {
    "duration": 7,
    "start_time": "2023-06-22T11:05:06.701Z"
   },
   {
    "duration": 65,
    "start_time": "2023-06-22T11:05:06.710Z"
   },
   {
    "duration": 200,
    "start_time": "2023-06-22T11:05:06.777Z"
   },
   {
    "duration": 395,
    "start_time": "2023-06-22T11:05:06.979Z"
   },
   {
    "duration": 31,
    "start_time": "2023-06-22T11:05:07.376Z"
   },
   {
    "duration": 253,
    "start_time": "2023-06-22T11:05:07.410Z"
   },
   {
    "duration": 53,
    "start_time": "2023-06-22T11:05:07.666Z"
   },
   {
    "duration": 10,
    "start_time": "2023-06-22T11:05:07.721Z"
   },
   {
    "duration": 96,
    "start_time": "2023-06-22T11:05:07.734Z"
   },
   {
    "duration": 133,
    "start_time": "2023-06-22T11:05:07.832Z"
   },
   {
    "duration": 24,
    "start_time": "2023-06-22T11:05:07.967Z"
   },
   {
    "duration": 21,
    "start_time": "2023-06-22T11:05:07.993Z"
   },
   {
    "duration": 17,
    "start_time": "2023-06-22T11:05:08.018Z"
   },
   {
    "duration": 85,
    "start_time": "2023-06-22T11:05:08.038Z"
   },
   {
    "duration": 44,
    "start_time": "2023-06-22T11:05:08.125Z"
   },
   {
    "duration": 45,
    "start_time": "2023-06-22T11:05:08.171Z"
   },
   {
    "duration": 96,
    "start_time": "2023-06-22T11:05:08.217Z"
   },
   {
    "duration": 40,
    "start_time": "2023-06-22T11:05:08.314Z"
   },
   {
    "duration": 165,
    "start_time": "2023-06-22T11:05:08.356Z"
   },
   {
    "duration": 81,
    "start_time": "2023-06-22T11:05:08.523Z"
   },
   {
    "duration": 55,
    "start_time": "2023-06-22T11:05:08.613Z"
   },
   {
    "duration": 70,
    "start_time": "2023-06-22T11:05:08.670Z"
   },
   {
    "duration": 37,
    "start_time": "2023-06-22T11:05:08.742Z"
   },
   {
    "duration": 151,
    "start_time": "2023-06-22T11:05:08.781Z"
   },
   {
    "duration": 84,
    "start_time": "2023-06-22T11:05:08.934Z"
   },
   {
    "duration": 87,
    "start_time": "2023-06-22T11:05:09.020Z"
   },
   {
    "duration": 56,
    "start_time": "2023-06-22T11:05:09.115Z"
   },
   {
    "duration": 53,
    "start_time": "2023-06-22T11:05:09.174Z"
   },
   {
    "duration": 155,
    "start_time": "2023-06-22T11:05:09.228Z"
   },
   {
    "duration": 14,
    "start_time": "2023-06-22T11:05:09.385Z"
   },
   {
    "duration": 18,
    "start_time": "2023-06-22T11:05:09.401Z"
   },
   {
    "duration": 133,
    "start_time": "2023-06-22T11:05:09.421Z"
   },
   {
    "duration": 57,
    "start_time": "2023-06-22T11:05:09.555Z"
   },
   {
    "duration": 52,
    "start_time": "2023-06-22T11:05:09.621Z"
   },
   {
    "duration": 91,
    "start_time": "2023-06-22T11:05:09.674Z"
   },
   {
    "duration": 56,
    "start_time": "2023-06-22T11:05:09.767Z"
   },
   {
    "duration": 10,
    "start_time": "2023-06-22T11:05:09.824Z"
   },
   {
    "duration": 16,
    "start_time": "2023-06-22T11:05:09.836Z"
   },
   {
    "duration": 270,
    "start_time": "2023-06-22T11:05:09.854Z"
   },
   {
    "duration": 94,
    "start_time": "2023-06-22T11:05:10.126Z"
   },
   {
    "duration": 95,
    "start_time": "2023-06-22T11:05:10.223Z"
   },
   {
    "duration": 88,
    "start_time": "2023-06-22T11:05:10.324Z"
   },
   {
    "duration": 104,
    "start_time": "2023-06-22T11:05:10.420Z"
   },
   {
    "duration": 84,
    "start_time": "2023-06-22T11:05:10.529Z"
   },
   {
    "duration": 38,
    "start_time": "2023-06-22T11:05:10.620Z"
   },
   {
    "duration": 138,
    "start_time": "2023-06-22T11:05:10.660Z"
   },
   {
    "duration": 165,
    "start_time": "2023-06-22T11:05:10.806Z"
   },
   {
    "duration": 9,
    "start_time": "2023-06-22T11:05:10.973Z"
   },
   {
    "duration": 147,
    "start_time": "2023-06-22T11:05:10.984Z"
   },
   {
    "duration": 259,
    "start_time": "2023-06-22T11:05:11.134Z"
   },
   {
    "duration": 443,
    "start_time": "2023-06-22T11:05:11.395Z"
   },
   {
    "duration": 86,
    "start_time": "2023-06-22T11:05:11.840Z"
   },
   {
    "duration": 97,
    "start_time": "2023-06-22T11:05:11.928Z"
   },
   {
    "duration": 80,
    "start_time": "2023-06-22T11:05:12.026Z"
   },
   {
    "duration": 6,
    "start_time": "2023-06-22T11:05:12.118Z"
   },
   {
    "duration": 26,
    "start_time": "2023-06-22T11:05:12.126Z"
   },
   {
    "duration": 54,
    "start_time": "2023-06-22T11:05:12.154Z"
   },
   {
    "duration": 525,
    "start_time": "2023-06-22T11:05:12.209Z"
   },
   {
    "duration": 48,
    "start_time": "2023-06-22T11:05:12.736Z"
   },
   {
    "duration": 3,
    "start_time": "2023-06-22T11:06:20.819Z"
   },
   {
    "duration": 458820,
    "start_time": "2023-06-22T11:06:27.115Z"
   },
   {
    "duration": 264,
    "start_time": "2023-06-22T11:14:22.123Z"
   },
   {
    "duration": 61,
    "start_time": "2023-06-22T11:14:30.260Z"
   },
   {
    "duration": 70696,
    "start_time": "2023-06-22T11:30:25.937Z"
   },
   {
    "duration": 2139,
    "start_time": "2023-06-22T11:34:30.333Z"
   },
   {
    "duration": 4,
    "start_time": "2023-06-22T11:34:32.474Z"
   },
   {
    "duration": 78,
    "start_time": "2023-06-22T11:34:32.480Z"
   },
   {
    "duration": 32681,
    "start_time": "2023-06-22T11:34:32.561Z"
   },
   {
    "duration": 4,
    "start_time": "2023-06-22T11:35:05.244Z"
   },
   {
    "duration": 315,
    "start_time": "2023-06-22T11:35:05.249Z"
   },
   {
    "duration": 12,
    "start_time": "2023-06-22T11:35:05.566Z"
   },
   {
    "duration": 16,
    "start_time": "2023-06-22T11:35:05.580Z"
   },
   {
    "duration": 78,
    "start_time": "2023-06-22T11:35:05.598Z"
   },
   {
    "duration": 7,
    "start_time": "2023-06-22T11:35:05.678Z"
   },
   {
    "duration": 61,
    "start_time": "2023-06-22T11:35:05.686Z"
   },
   {
    "duration": 104,
    "start_time": "2023-06-22T11:35:05.750Z"
   },
   {
    "duration": 33,
    "start_time": "2023-06-22T11:35:05.856Z"
   },
   {
    "duration": 75,
    "start_time": "2023-06-22T11:35:05.892Z"
   },
   {
    "duration": 124,
    "start_time": "2023-06-22T11:35:05.969Z"
   },
   {
    "duration": 7,
    "start_time": "2023-06-22T11:35:06.095Z"
   },
   {
    "duration": 70,
    "start_time": "2023-06-22T11:35:06.104Z"
   },
   {
    "duration": 207,
    "start_time": "2023-06-22T11:35:06.176Z"
   },
   {
    "duration": 26,
    "start_time": "2023-06-22T11:35:06.386Z"
   },
   {
    "duration": 74,
    "start_time": "2023-06-22T11:35:06.414Z"
   },
   {
    "duration": 188,
    "start_time": "2023-06-22T11:35:06.490Z"
   },
   {
    "duration": 7,
    "start_time": "2023-06-22T11:35:06.680Z"
   },
   {
    "duration": 17,
    "start_time": "2023-06-22T11:35:06.689Z"
   },
   {
    "duration": 76,
    "start_time": "2023-06-22T11:35:06.710Z"
   },
   {
    "duration": 13,
    "start_time": "2023-06-22T11:35:06.788Z"
   },
   {
    "duration": 46,
    "start_time": "2023-06-22T11:35:06.807Z"
   },
   {
    "duration": 194,
    "start_time": "2023-06-22T11:35:06.855Z"
   },
   {
    "duration": 8,
    "start_time": "2023-06-22T11:35:07.052Z"
   },
   {
    "duration": 68,
    "start_time": "2023-06-22T11:35:07.063Z"
   },
   {
    "duration": 287,
    "start_time": "2023-06-22T11:35:07.137Z"
   },
   {
    "duration": 242,
    "start_time": "2023-06-22T11:35:07.426Z"
   },
   {
    "duration": 4,
    "start_time": "2023-06-22T11:35:07.670Z"
   },
   {
    "duration": 269,
    "start_time": "2023-06-22T11:35:07.676Z"
   },
   {
    "duration": 7,
    "start_time": "2023-06-22T11:35:07.947Z"
   },
   {
    "duration": 498,
    "start_time": "2023-06-22T11:35:07.956Z"
   },
   {
    "duration": 4,
    "start_time": "2023-06-22T11:35:08.456Z"
   },
   {
    "duration": 224,
    "start_time": "2023-06-22T11:35:08.461Z"
   },
   {
    "duration": 8,
    "start_time": "2023-06-22T11:35:08.687Z"
   },
   {
    "duration": 267,
    "start_time": "2023-06-22T11:35:08.697Z"
   },
   {
    "duration": 3,
    "start_time": "2023-06-22T11:35:08.966Z"
   },
   {
    "duration": 1354,
    "start_time": "2023-06-22T11:35:08.974Z"
   },
   {
    "duration": 319,
    "start_time": "2023-06-22T11:35:10.332Z"
   },
   {
    "duration": 4,
    "start_time": "2023-06-22T11:35:10.654Z"
   },
   {
    "duration": 580,
    "start_time": "2023-06-22T11:35:10.660Z"
   },
   {
    "duration": 8,
    "start_time": "2023-06-22T11:35:11.242Z"
   },
   {
    "duration": 226,
    "start_time": "2023-06-22T11:35:11.252Z"
   },
   {
    "duration": 3,
    "start_time": "2023-06-22T11:35:11.480Z"
   },
   {
    "duration": 13405,
    "start_time": "2023-06-22T11:35:11.484Z"
   },
   {
    "duration": 467,
    "start_time": "2023-06-22T11:35:24.891Z"
   },
   {
    "duration": 4,
    "start_time": "2023-06-22T11:35:25.360Z"
   },
   {
    "duration": 391,
    "start_time": "2023-06-22T11:35:25.366Z"
   },
   {
    "duration": 97,
    "start_time": "2023-06-22T11:35:25.760Z"
   },
   {
    "duration": 162,
    "start_time": "2023-06-22T11:35:25.860Z"
   },
   {
    "duration": 12,
    "start_time": "2023-06-22T11:35:26.024Z"
   },
   {
    "duration": 71,
    "start_time": "2023-06-22T11:35:26.041Z"
   },
   {
    "duration": 154,
    "start_time": "2023-06-22T11:35:26.114Z"
   },
   {
    "duration": 385,
    "start_time": "2023-06-22T11:35:26.270Z"
   },
   {
    "duration": 13,
    "start_time": "2023-06-22T11:35:26.657Z"
   },
   {
    "duration": 243,
    "start_time": "2023-06-22T11:35:26.672Z"
   },
   {
    "duration": 34,
    "start_time": "2023-06-22T11:35:26.918Z"
   },
   {
    "duration": 10,
    "start_time": "2023-06-22T11:35:26.955Z"
   },
   {
    "duration": 116,
    "start_time": "2023-06-22T11:35:26.967Z"
   },
   {
    "duration": 164,
    "start_time": "2023-06-22T11:35:27.085Z"
   },
   {
    "duration": 30,
    "start_time": "2023-06-22T11:35:27.251Z"
   },
   {
    "duration": 25,
    "start_time": "2023-06-22T11:35:27.283Z"
   },
   {
    "duration": 39,
    "start_time": "2023-06-22T11:35:27.311Z"
   },
   {
    "duration": 98,
    "start_time": "2023-06-22T11:35:27.353Z"
   },
   {
    "duration": 63,
    "start_time": "2023-06-22T11:35:27.453Z"
   },
   {
    "duration": 53,
    "start_time": "2023-06-22T11:35:27.518Z"
   },
   {
    "duration": 145,
    "start_time": "2023-06-22T11:35:27.573Z"
   },
   {
    "duration": 51,
    "start_time": "2023-06-22T11:35:27.720Z"
   },
   {
    "duration": 168,
    "start_time": "2023-06-22T11:35:27.773Z"
   },
   {
    "duration": 82,
    "start_time": "2023-06-22T11:35:27.943Z"
   },
   {
    "duration": 69,
    "start_time": "2023-06-22T11:35:28.027Z"
   },
   {
    "duration": 101,
    "start_time": "2023-06-22T11:35:28.097Z"
   },
   {
    "duration": 70,
    "start_time": "2023-06-22T11:35:28.200Z"
   },
   {
    "duration": 150,
    "start_time": "2023-06-22T11:35:28.272Z"
   },
   {
    "duration": 99,
    "start_time": "2023-06-22T11:35:28.425Z"
   },
   {
    "duration": 55,
    "start_time": "2023-06-22T11:35:28.531Z"
   },
   {
    "duration": 56,
    "start_time": "2023-06-22T11:35:28.588Z"
   },
   {
    "duration": 88,
    "start_time": "2023-06-22T11:35:28.647Z"
   },
   {
    "duration": 174,
    "start_time": "2023-06-22T11:35:28.737Z"
   },
   {
    "duration": 15,
    "start_time": "2023-06-22T11:35:28.921Z"
   },
   {
    "duration": 7,
    "start_time": "2023-06-22T11:35:28.938Z"
   },
   {
    "duration": 179,
    "start_time": "2023-06-22T11:35:28.947Z"
   },
   {
    "duration": 57,
    "start_time": "2023-06-22T11:35:29.128Z"
   },
   {
    "duration": 88,
    "start_time": "2023-06-22T11:35:29.188Z"
   },
   {
    "duration": 102,
    "start_time": "2023-06-22T11:35:29.278Z"
   },
   {
    "duration": 101,
    "start_time": "2023-06-22T11:35:29.382Z"
   },
   {
    "duration": 31,
    "start_time": "2023-06-22T11:35:29.485Z"
   },
   {
    "duration": 25,
    "start_time": "2023-06-22T11:35:29.518Z"
   },
   {
    "duration": 138,
    "start_time": "2023-06-22T11:35:29.546Z"
   },
   {
    "duration": 43,
    "start_time": "2023-06-22T11:35:29.686Z"
   },
   {
    "duration": 75,
    "start_time": "2023-06-22T11:35:29.733Z"
   },
   {
    "duration": 40,
    "start_time": "2023-06-22T11:35:29.813Z"
   },
   {
    "duration": 52,
    "start_time": "2023-06-22T11:35:29.854Z"
   },
   {
    "duration": 56,
    "start_time": "2023-06-22T11:35:29.907Z"
   },
   {
    "duration": 46,
    "start_time": "2023-06-22T11:35:29.965Z"
   },
   {
    "duration": 189,
    "start_time": "2023-06-22T11:35:30.018Z"
   },
   {
    "duration": 154,
    "start_time": "2023-06-22T11:35:30.210Z"
   },
   {
    "duration": 4,
    "start_time": "2023-06-22T11:35:30.366Z"
   },
   {
    "duration": 211,
    "start_time": "2023-06-22T11:35:30.372Z"
   },
   {
    "duration": 366,
    "start_time": "2023-06-22T11:35:30.584Z"
   },
   {
    "duration": 606,
    "start_time": "2023-06-22T11:35:30.953Z"
   },
   {
    "duration": 93,
    "start_time": "2023-06-22T11:35:31.562Z"
   },
   {
    "duration": 146,
    "start_time": "2023-06-22T11:35:31.657Z"
   },
   {
    "duration": 89,
    "start_time": "2023-06-22T11:35:31.805Z"
   },
   {
    "duration": 7,
    "start_time": "2023-06-22T11:35:31.897Z"
   },
   {
    "duration": 9,
    "start_time": "2023-06-22T11:35:31.905Z"
   },
   {
    "duration": 97,
    "start_time": "2023-06-22T11:35:31.916Z"
   },
   {
    "duration": 660,
    "start_time": "2023-06-22T11:35:32.016Z"
   },
   {
    "duration": 82,
    "start_time": "2023-06-22T11:35:32.679Z"
   },
   {
    "duration": 11142,
    "start_time": "2023-06-22T11:35:32.763Z"
   },
   {
    "duration": 9575,
    "start_time": "2023-06-22T11:35:43.913Z"
   },
   {
    "duration": 8804,
    "start_time": "2023-06-22T11:42:00.105Z"
   },
   {
    "duration": 11367,
    "start_time": "2023-06-22T11:51:58.646Z"
   },
   {
    "duration": 2201276,
    "start_time": "2023-06-22T11:53:16.267Z"
   },
   {
    "duration": 6,
    "start_time": "2023-06-22T12:30:44.227Z"
   },
   {
    "duration": 375196,
    "start_time": "2023-06-22T12:30:48.235Z"
   },
   {
    "duration": 107,
    "start_time": "2023-06-22T12:37:03.433Z"
   },
   {
    "duration": 4,
    "start_time": "2023-06-22T12:43:43.621Z"
   },
   {
    "duration": 371659,
    "start_time": "2023-06-22T12:43:45.351Z"
   },
   {
    "duration": 119,
    "start_time": "2023-06-22T12:49:57.012Z"
   },
   {
    "duration": 726257,
    "start_time": "2023-06-22T12:50:21.747Z"
   },
   {
    "duration": 8237,
    "start_time": "2023-06-22T13:02:57.454Z"
   },
   {
    "duration": 216094,
    "start_time": "2023-06-22T13:03:23.712Z"
   },
   {
    "duration": 32,
    "start_time": "2023-06-22T13:22:32.011Z"
   },
   {
    "duration": 32,
    "start_time": "2023-06-22T13:22:43.827Z"
   },
   {
    "duration": 36,
    "start_time": "2023-06-22T13:25:11.261Z"
   },
   {
    "duration": 22,
    "start_time": "2023-06-22T13:25:20.009Z"
   },
   {
    "duration": 14,
    "start_time": "2023-06-22T13:26:29.366Z"
   },
   {
    "duration": 122,
    "start_time": "2023-06-22T13:26:45.940Z"
   },
   {
    "duration": 1716,
    "start_time": "2023-06-22T13:29:54.149Z"
   },
   {
    "duration": 3,
    "start_time": "2023-06-22T13:29:55.867Z"
   },
   {
    "duration": 18,
    "start_time": "2023-06-22T13:29:55.872Z"
   },
   {
    "duration": 13453,
    "start_time": "2023-06-22T13:29:55.892Z"
   },
   {
    "duration": 4,
    "start_time": "2023-06-22T13:30:09.349Z"
   },
   {
    "duration": 281,
    "start_time": "2023-06-22T13:30:09.355Z"
   },
   {
    "duration": 12,
    "start_time": "2023-06-22T13:30:09.638Z"
   },
   {
    "duration": 20,
    "start_time": "2023-06-22T13:30:09.653Z"
   },
   {
    "duration": 61,
    "start_time": "2023-06-22T13:30:09.675Z"
   },
   {
    "duration": 9,
    "start_time": "2023-06-22T13:30:09.739Z"
   },
   {
    "duration": 80,
    "start_time": "2023-06-22T13:30:09.750Z"
   },
   {
    "duration": 118,
    "start_time": "2023-06-22T13:30:09.832Z"
   },
   {
    "duration": 62,
    "start_time": "2023-06-22T13:30:09.952Z"
   },
   {
    "duration": 41,
    "start_time": "2023-06-22T13:30:10.019Z"
   },
   {
    "duration": 110,
    "start_time": "2023-06-22T13:30:10.063Z"
   },
   {
    "duration": 6,
    "start_time": "2023-06-22T13:30:10.176Z"
   },
   {
    "duration": 11,
    "start_time": "2023-06-22T13:30:10.183Z"
   },
   {
    "duration": 156,
    "start_time": "2023-06-22T13:30:10.196Z"
   },
   {
    "duration": 21,
    "start_time": "2023-06-22T13:30:10.354Z"
   },
   {
    "duration": 6,
    "start_time": "2023-06-22T13:30:10.377Z"
   },
   {
    "duration": 151,
    "start_time": "2023-06-22T13:30:10.384Z"
   },
   {
    "duration": 14,
    "start_time": "2023-06-22T13:30:10.541Z"
   },
   {
    "duration": 13,
    "start_time": "2023-06-22T13:30:10.558Z"
   },
   {
    "duration": 63,
    "start_time": "2023-06-22T13:30:10.573Z"
   },
   {
    "duration": 16,
    "start_time": "2023-06-22T13:30:10.638Z"
   },
   {
    "duration": 25,
    "start_time": "2023-06-22T13:30:10.657Z"
   },
   {
    "duration": 167,
    "start_time": "2023-06-22T13:30:10.684Z"
   },
   {
    "duration": 7,
    "start_time": "2023-06-22T13:30:10.853Z"
   },
   {
    "duration": 13,
    "start_time": "2023-06-22T13:30:10.863Z"
   },
   {
    "duration": 289,
    "start_time": "2023-06-22T13:30:10.878Z"
   },
   {
    "duration": 208,
    "start_time": "2023-06-22T13:30:11.169Z"
   },
   {
    "duration": 3,
    "start_time": "2023-06-22T13:30:11.378Z"
   },
   {
    "duration": 266,
    "start_time": "2023-06-22T13:30:11.383Z"
   },
   {
    "duration": 9,
    "start_time": "2023-06-22T13:30:11.651Z"
   },
   {
    "duration": 455,
    "start_time": "2023-06-22T13:30:11.662Z"
   },
   {
    "duration": 3,
    "start_time": "2023-06-22T13:30:12.120Z"
   },
   {
    "duration": 232,
    "start_time": "2023-06-22T13:30:12.126Z"
   },
   {
    "duration": 11,
    "start_time": "2023-06-22T13:30:12.361Z"
   },
   {
    "duration": 214,
    "start_time": "2023-06-22T13:30:12.374Z"
   },
   {
    "duration": 2,
    "start_time": "2023-06-22T13:30:12.590Z"
   },
   {
    "duration": 996,
    "start_time": "2023-06-22T13:30:12.602Z"
   },
   {
    "duration": 261,
    "start_time": "2023-06-22T13:30:13.602Z"
   },
   {
    "duration": 4,
    "start_time": "2023-06-22T13:30:13.866Z"
   },
   {
    "duration": 587,
    "start_time": "2023-06-22T13:30:13.872Z"
   },
   {
    "duration": 9,
    "start_time": "2023-06-22T13:30:14.461Z"
   },
   {
    "duration": 220,
    "start_time": "2023-06-22T13:30:14.473Z"
   },
   {
    "duration": 2,
    "start_time": "2023-06-22T13:30:14.695Z"
   },
   {
    "duration": 12036,
    "start_time": "2023-06-22T13:30:14.702Z"
   },
   {
    "duration": 418,
    "start_time": "2023-06-22T13:30:26.740Z"
   },
   {
    "duration": 6,
    "start_time": "2023-06-22T13:30:27.160Z"
   },
   {
    "duration": 368,
    "start_time": "2023-06-22T13:30:27.168Z"
   },
   {
    "duration": 75,
    "start_time": "2023-06-22T13:30:27.539Z"
   },
   {
    "duration": 146,
    "start_time": "2023-06-22T13:30:27.616Z"
   },
   {
    "duration": 5,
    "start_time": "2023-06-22T13:30:27.764Z"
   },
   {
    "duration": 79,
    "start_time": "2023-06-22T13:30:27.770Z"
   },
   {
    "duration": 153,
    "start_time": "2023-06-22T13:30:27.851Z"
   },
   {
    "duration": 318,
    "start_time": "2023-06-22T13:30:28.006Z"
   },
   {
    "duration": 19,
    "start_time": "2023-06-22T13:30:28.327Z"
   },
   {
    "duration": 220,
    "start_time": "2023-06-22T13:30:28.348Z"
   },
   {
    "duration": 42,
    "start_time": "2023-06-22T13:30:28.569Z"
   },
   {
    "duration": 8,
    "start_time": "2023-06-22T13:30:28.613Z"
   },
   {
    "duration": 80,
    "start_time": "2023-06-22T13:30:28.622Z"
   },
   {
    "duration": 141,
    "start_time": "2023-06-22T13:30:28.704Z"
   },
   {
    "duration": 28,
    "start_time": "2023-06-22T13:30:28.847Z"
   },
   {
    "duration": 17,
    "start_time": "2023-06-22T13:30:28.877Z"
   },
   {
    "duration": 15,
    "start_time": "2023-06-22T13:30:28.896Z"
   },
   {
    "duration": 70,
    "start_time": "2023-06-22T13:30:28.913Z"
   },
   {
    "duration": 61,
    "start_time": "2023-06-22T13:30:28.984Z"
   },
   {
    "duration": 29,
    "start_time": "2023-06-22T13:30:29.047Z"
   },
   {
    "duration": 104,
    "start_time": "2023-06-22T13:30:29.078Z"
   },
   {
    "duration": 47,
    "start_time": "2023-06-22T13:30:29.185Z"
   },
   {
    "duration": 145,
    "start_time": "2023-06-22T13:30:29.234Z"
   },
   {
    "duration": 73,
    "start_time": "2023-06-22T13:30:29.381Z"
   },
   {
    "duration": 63,
    "start_time": "2023-06-22T13:30:29.455Z"
   },
   {
    "duration": 86,
    "start_time": "2023-06-22T13:30:29.520Z"
   },
   {
    "duration": 58,
    "start_time": "2023-06-22T13:30:29.608Z"
   },
   {
    "duration": 145,
    "start_time": "2023-06-22T13:30:29.669Z"
   },
   {
    "duration": 70,
    "start_time": "2023-06-22T13:30:29.816Z"
   },
   {
    "duration": 51,
    "start_time": "2023-06-22T13:30:29.889Z"
   },
   {
    "duration": 49,
    "start_time": "2023-06-22T13:30:29.943Z"
   },
   {
    "duration": 43,
    "start_time": "2023-06-22T13:30:30.001Z"
   },
   {
    "duration": 162,
    "start_time": "2023-06-22T13:30:30.047Z"
   },
   {
    "duration": 13,
    "start_time": "2023-06-22T13:30:30.212Z"
   },
   {
    "duration": 22,
    "start_time": "2023-06-22T13:30:30.227Z"
   },
   {
    "duration": 157,
    "start_time": "2023-06-22T13:30:30.251Z"
   },
   {
    "duration": 59,
    "start_time": "2023-06-22T13:30:30.419Z"
   },
   {
    "duration": 84,
    "start_time": "2023-06-22T13:30:30.480Z"
   },
   {
    "duration": 107,
    "start_time": "2023-06-22T13:30:30.567Z"
   },
   {
    "duration": 92,
    "start_time": "2023-06-22T13:30:30.676Z"
   },
   {
    "duration": 41,
    "start_time": "2023-06-22T13:30:30.770Z"
   },
   {
    "duration": 87,
    "start_time": "2023-06-22T13:30:30.813Z"
   },
   {
    "duration": 171,
    "start_time": "2023-06-22T13:30:30.902Z"
   },
   {
    "duration": 38,
    "start_time": "2023-06-22T13:30:31.075Z"
   },
   {
    "duration": 99,
    "start_time": "2023-06-22T13:30:31.115Z"
   },
   {
    "duration": 29,
    "start_time": "2023-06-22T13:30:31.216Z"
   },
   {
    "duration": 68,
    "start_time": "2023-06-22T13:30:31.246Z"
   },
   {
    "duration": 92,
    "start_time": "2023-06-22T13:30:31.316Z"
   },
   {
    "duration": 54,
    "start_time": "2023-06-22T13:30:31.410Z"
   },
   {
    "duration": 176,
    "start_time": "2023-06-22T13:30:31.466Z"
   },
   {
    "duration": 135,
    "start_time": "2023-06-22T13:30:31.644Z"
   },
   {
    "duration": 21,
    "start_time": "2023-06-22T13:30:31.781Z"
   },
   {
    "duration": 159,
    "start_time": "2023-06-22T13:30:31.804Z"
   },
   {
    "duration": 262,
    "start_time": "2023-06-22T13:30:31.965Z"
   },
   {
    "duration": 429,
    "start_time": "2023-06-22T13:30:32.229Z"
   },
   {
    "duration": 99,
    "start_time": "2023-06-22T13:30:32.660Z"
   },
   {
    "duration": 93,
    "start_time": "2023-06-22T13:30:32.762Z"
   },
   {
    "duration": 75,
    "start_time": "2023-06-22T13:30:32.857Z"
   },
   {
    "duration": 10,
    "start_time": "2023-06-22T13:30:32.934Z"
   },
   {
    "duration": 23,
    "start_time": "2023-06-22T13:30:32.946Z"
   },
   {
    "duration": 71,
    "start_time": "2023-06-22T13:30:32.971Z"
   },
   {
    "duration": 529,
    "start_time": "2023-06-22T13:30:33.045Z"
   },
   {
    "duration": 68,
    "start_time": "2023-06-22T13:30:33.576Z"
   },
   {
    "duration": 11275,
    "start_time": "2023-06-22T13:30:33.647Z"
   },
   {
    "duration": 1781,
    "start_time": "2023-06-22T13:31:16.173Z"
   },
   {
    "duration": 4,
    "start_time": "2023-06-22T13:31:17.956Z"
   },
   {
    "duration": 12,
    "start_time": "2023-06-22T13:31:17.961Z"
   },
   {
    "duration": 10638,
    "start_time": "2023-06-22T13:31:17.975Z"
   },
   {
    "duration": 3,
    "start_time": "2023-06-22T13:31:28.615Z"
   },
   {
    "duration": 264,
    "start_time": "2023-06-22T13:31:28.620Z"
   },
   {
    "duration": 13,
    "start_time": "2023-06-22T13:31:28.886Z"
   },
   {
    "duration": 17,
    "start_time": "2023-06-22T13:31:28.901Z"
   },
   {
    "duration": 80,
    "start_time": "2023-06-22T13:31:28.920Z"
   },
   {
    "duration": 16,
    "start_time": "2023-06-22T13:31:29.003Z"
   },
   {
    "duration": 31,
    "start_time": "2023-06-22T13:31:29.021Z"
   },
   {
    "duration": 66,
    "start_time": "2023-06-22T13:31:29.053Z"
   },
   {
    "duration": 10,
    "start_time": "2023-06-22T13:31:29.121Z"
   },
   {
    "duration": 28,
    "start_time": "2023-06-22T13:31:29.133Z"
   },
   {
    "duration": 90,
    "start_time": "2023-06-22T13:31:29.164Z"
   },
   {
    "duration": 7,
    "start_time": "2023-06-22T13:31:29.255Z"
   },
   {
    "duration": 21,
    "start_time": "2023-06-22T13:31:29.264Z"
   },
   {
    "duration": 47,
    "start_time": "2023-06-22T13:31:29.287Z"
   },
   {
    "duration": 109,
    "start_time": "2023-06-22T13:31:29.336Z"
   },
   {
    "duration": 24,
    "start_time": "2023-06-22T13:31:29.447Z"
   },
   {
    "duration": 160,
    "start_time": "2023-06-22T13:31:29.473Z"
   },
   {
    "duration": 7,
    "start_time": "2023-06-22T13:31:29.635Z"
   },
   {
    "duration": 9,
    "start_time": "2023-06-22T13:31:29.643Z"
   },
   {
    "duration": 45,
    "start_time": "2023-06-22T13:31:29.654Z"
   },
   {
    "duration": 17,
    "start_time": "2023-06-22T13:31:29.701Z"
   },
   {
    "duration": 19,
    "start_time": "2023-06-22T13:31:29.720Z"
   },
   {
    "duration": 153,
    "start_time": "2023-06-22T13:31:29.741Z"
   },
   {
    "duration": 8,
    "start_time": "2023-06-22T13:31:29.900Z"
   },
   {
    "duration": 19,
    "start_time": "2023-06-22T13:31:29.911Z"
   },
   {
    "duration": 270,
    "start_time": "2023-06-22T13:31:29.932Z"
   },
   {
    "duration": 208,
    "start_time": "2023-06-22T13:31:30.204Z"
   },
   {
    "duration": 4,
    "start_time": "2023-06-22T13:31:30.414Z"
   },
   {
    "duration": 344,
    "start_time": "2023-06-22T13:31:30.419Z"
   },
   {
    "duration": 8,
    "start_time": "2023-06-22T13:31:30.766Z"
   },
   {
    "duration": 554,
    "start_time": "2023-06-22T13:31:30.776Z"
   },
   {
    "duration": 4,
    "start_time": "2023-06-22T13:31:31.331Z"
   },
   {
    "duration": 261,
    "start_time": "2023-06-22T13:31:31.336Z"
   },
   {
    "duration": 9,
    "start_time": "2023-06-22T13:31:31.600Z"
   },
   {
    "duration": 210,
    "start_time": "2023-06-22T13:31:31.611Z"
   },
   {
    "duration": 4,
    "start_time": "2023-06-22T13:31:31.824Z"
   },
   {
    "duration": 996,
    "start_time": "2023-06-22T13:31:31.830Z"
   },
   {
    "duration": 245,
    "start_time": "2023-06-22T13:31:32.828Z"
   },
   {
    "duration": 4,
    "start_time": "2023-06-22T13:31:33.075Z"
   },
   {
    "duration": 607,
    "start_time": "2023-06-22T13:31:33.080Z"
   },
   {
    "duration": 8,
    "start_time": "2023-06-22T13:31:33.688Z"
   },
   {
    "duration": 362,
    "start_time": "2023-06-22T13:31:33.698Z"
   },
   {
    "duration": 3,
    "start_time": "2023-06-22T13:31:34.062Z"
   },
   {
    "duration": 11697,
    "start_time": "2023-06-22T13:31:34.067Z"
   },
   {
    "duration": 423,
    "start_time": "2023-06-22T13:31:45.766Z"
   },
   {
    "duration": 6,
    "start_time": "2023-06-22T13:31:46.203Z"
   },
   {
    "duration": 368,
    "start_time": "2023-06-22T13:31:46.211Z"
   },
   {
    "duration": 69,
    "start_time": "2023-06-22T13:31:46.581Z"
   },
   {
    "duration": 150,
    "start_time": "2023-06-22T13:31:46.652Z"
   },
   {
    "duration": 8,
    "start_time": "2023-06-22T13:31:46.805Z"
   },
   {
    "duration": 99,
    "start_time": "2023-06-22T13:31:46.815Z"
   },
   {
    "duration": 165,
    "start_time": "2023-06-22T13:31:46.917Z"
   },
   {
    "duration": 401,
    "start_time": "2023-06-22T13:31:47.085Z"
   },
   {
    "duration": 20,
    "start_time": "2023-06-22T13:31:47.488Z"
   },
   {
    "duration": 232,
    "start_time": "2023-06-22T13:31:47.510Z"
   },
   {
    "duration": 36,
    "start_time": "2023-06-22T13:31:47.745Z"
   },
   {
    "duration": 31,
    "start_time": "2023-06-22T13:31:47.783Z"
   },
   {
    "duration": 97,
    "start_time": "2023-06-22T13:31:47.817Z"
   },
   {
    "duration": 137,
    "start_time": "2023-06-22T13:31:47.916Z"
   },
   {
    "duration": 19,
    "start_time": "2023-06-22T13:31:48.055Z"
   },
   {
    "duration": 26,
    "start_time": "2023-06-22T13:31:48.076Z"
   },
   {
    "duration": 6,
    "start_time": "2023-06-22T13:31:48.104Z"
   },
   {
    "duration": 80,
    "start_time": "2023-06-22T13:31:48.112Z"
   },
   {
    "duration": 70,
    "start_time": "2023-06-22T13:31:48.194Z"
   },
   {
    "duration": 34,
    "start_time": "2023-06-22T13:31:48.267Z"
   },
   {
    "duration": 110,
    "start_time": "2023-06-22T13:31:48.303Z"
   },
   {
    "duration": 43,
    "start_time": "2023-06-22T13:31:48.419Z"
   },
   {
    "duration": 145,
    "start_time": "2023-06-22T13:31:48.464Z"
   },
   {
    "duration": 66,
    "start_time": "2023-06-22T13:31:48.611Z"
   },
   {
    "duration": 65,
    "start_time": "2023-06-22T13:31:48.679Z"
   },
   {
    "duration": 84,
    "start_time": "2023-06-22T13:31:48.746Z"
   },
   {
    "duration": 58,
    "start_time": "2023-06-22T13:31:48.832Z"
   },
   {
    "duration": 198,
    "start_time": "2023-06-22T13:31:48.893Z"
   },
   {
    "duration": 75,
    "start_time": "2023-06-22T13:31:49.093Z"
   },
   {
    "duration": 81,
    "start_time": "2023-06-22T13:31:49.171Z"
   },
   {
    "duration": 72,
    "start_time": "2023-06-22T13:31:49.254Z"
   },
   {
    "duration": 50,
    "start_time": "2023-06-22T13:31:49.328Z"
   },
   {
    "duration": 136,
    "start_time": "2023-06-22T13:31:49.384Z"
   },
   {
    "duration": 14,
    "start_time": "2023-06-22T13:31:49.523Z"
   },
   {
    "duration": 34,
    "start_time": "2023-06-22T13:31:49.539Z"
   },
   {
    "duration": 175,
    "start_time": "2023-06-22T13:31:49.575Z"
   },
   {
    "duration": 82,
    "start_time": "2023-06-22T13:31:49.753Z"
   },
   {
    "duration": 49,
    "start_time": "2023-06-22T13:31:49.837Z"
   },
   {
    "duration": 98,
    "start_time": "2023-06-22T13:31:49.888Z"
   },
   {
    "duration": 61,
    "start_time": "2023-06-22T13:31:49.988Z"
   },
   {
    "duration": 27,
    "start_time": "2023-06-22T13:31:50.051Z"
   },
   {
    "duration": 59,
    "start_time": "2023-06-22T13:31:50.081Z"
   },
   {
    "duration": 135,
    "start_time": "2023-06-22T13:31:50.142Z"
   },
   {
    "duration": 35,
    "start_time": "2023-06-22T13:31:50.279Z"
   },
   {
    "duration": 86,
    "start_time": "2023-06-22T13:31:50.316Z"
   },
   {
    "duration": 35,
    "start_time": "2023-06-22T13:31:50.404Z"
   },
   {
    "duration": 75,
    "start_time": "2023-06-22T13:31:50.440Z"
   },
   {
    "duration": 66,
    "start_time": "2023-06-22T13:31:50.518Z"
   },
   {
    "duration": 59,
    "start_time": "2023-06-22T13:31:50.587Z"
   },
   {
    "duration": 150,
    "start_time": "2023-06-22T13:31:50.648Z"
   },
   {
    "duration": 143,
    "start_time": "2023-06-22T13:31:50.802Z"
   },
   {
    "duration": 6,
    "start_time": "2023-06-22T13:31:50.948Z"
   },
   {
    "duration": 152,
    "start_time": "2023-06-22T13:31:50.957Z"
   },
   {
    "duration": 336,
    "start_time": "2023-06-22T13:31:51.111Z"
   },
   {
    "duration": 493,
    "start_time": "2023-06-22T13:31:51.449Z"
   },
   {
    "duration": 90,
    "start_time": "2023-06-22T13:31:51.944Z"
   },
   {
    "duration": 117,
    "start_time": "2023-06-22T13:31:52.036Z"
   },
   {
    "duration": 84,
    "start_time": "2023-06-22T13:31:52.155Z"
   },
   {
    "duration": 7,
    "start_time": "2023-06-22T13:31:52.241Z"
   },
   {
    "duration": 38,
    "start_time": "2023-06-22T13:31:52.250Z"
   },
   {
    "duration": 92,
    "start_time": "2023-06-22T13:31:52.290Z"
   },
   {
    "duration": 540,
    "start_time": "2023-06-22T13:31:52.384Z"
   },
   {
    "duration": 55,
    "start_time": "2023-06-22T13:31:52.926Z"
   },
   {
    "duration": 176040,
    "start_time": "2023-06-22T13:31:52.983Z"
   },
   {
    "duration": 8890,
    "start_time": "2023-06-22T13:34:49.026Z"
   },
   {
    "duration": 8413,
    "start_time": "2023-06-22T13:34:58.004Z"
   },
   {
    "duration": 158,
    "start_time": "2023-06-22T13:35:06.419Z"
   },
   {
    "duration": 172,
    "start_time": "2023-06-22T13:35:06.579Z"
   },
   {
    "duration": 0,
    "start_time": "2023-06-22T13:35:06.753Z"
   },
   {
    "duration": 1831,
    "start_time": "2023-06-22T13:36:37.125Z"
   },
   {
    "duration": 3,
    "start_time": "2023-06-22T13:36:38.958Z"
   },
   {
    "duration": 18,
    "start_time": "2023-06-22T13:36:38.963Z"
   },
   {
    "duration": 9588,
    "start_time": "2023-06-22T13:36:38.983Z"
   },
   {
    "duration": 3,
    "start_time": "2023-06-22T13:36:48.574Z"
   },
   {
    "duration": 260,
    "start_time": "2023-06-22T13:36:48.580Z"
   },
   {
    "duration": 15,
    "start_time": "2023-06-22T13:36:48.842Z"
   },
   {
    "duration": 29,
    "start_time": "2023-06-22T13:36:48.860Z"
   },
   {
    "duration": 56,
    "start_time": "2023-06-22T13:36:48.891Z"
   },
   {
    "duration": 8,
    "start_time": "2023-06-22T13:36:48.949Z"
   },
   {
    "duration": 6,
    "start_time": "2023-06-22T13:36:48.959Z"
   },
   {
    "duration": 43,
    "start_time": "2023-06-22T13:36:48.967Z"
   },
   {
    "duration": 16,
    "start_time": "2023-06-22T13:36:49.012Z"
   },
   {
    "duration": 17,
    "start_time": "2023-06-22T13:36:49.033Z"
   },
   {
    "duration": 94,
    "start_time": "2023-06-22T13:36:49.052Z"
   },
   {
    "duration": 9,
    "start_time": "2023-06-22T13:36:49.149Z"
   },
   {
    "duration": 19,
    "start_time": "2023-06-22T13:36:49.161Z"
   },
   {
    "duration": 149,
    "start_time": "2023-06-22T13:36:49.183Z"
   },
   {
    "duration": 22,
    "start_time": "2023-06-22T13:36:49.334Z"
   },
   {
    "duration": 7,
    "start_time": "2023-06-22T13:36:49.358Z"
   },
   {
    "duration": 159,
    "start_time": "2023-06-22T13:36:49.366Z"
   },
   {
    "duration": 6,
    "start_time": "2023-06-22T13:36:49.528Z"
   },
   {
    "duration": 18,
    "start_time": "2023-06-22T13:36:49.537Z"
   },
   {
    "duration": 50,
    "start_time": "2023-06-22T13:36:49.557Z"
   },
   {
    "duration": 17,
    "start_time": "2023-06-22T13:36:49.610Z"
   },
   {
    "duration": 9,
    "start_time": "2023-06-22T13:36:49.629Z"
   },
   {
    "duration": 160,
    "start_time": "2023-06-22T13:36:49.640Z"
   },
   {
    "duration": 8,
    "start_time": "2023-06-22T13:36:49.802Z"
   },
   {
    "duration": 13,
    "start_time": "2023-06-22T13:36:49.812Z"
   },
   {
    "duration": 269,
    "start_time": "2023-06-22T13:36:49.827Z"
   },
   {
    "duration": 258,
    "start_time": "2023-06-22T13:36:50.099Z"
   },
   {
    "duration": 5,
    "start_time": "2023-06-22T13:36:50.359Z"
   },
   {
    "duration": 284,
    "start_time": "2023-06-22T13:36:50.367Z"
   },
   {
    "duration": 11,
    "start_time": "2023-06-22T13:36:50.655Z"
   },
   {
    "duration": 471,
    "start_time": "2023-06-22T13:36:50.669Z"
   },
   {
    "duration": 4,
    "start_time": "2023-06-22T13:36:51.142Z"
   },
   {
    "duration": 253,
    "start_time": "2023-06-22T13:36:51.148Z"
   },
   {
    "duration": 9,
    "start_time": "2023-06-22T13:36:51.403Z"
   },
   {
    "duration": 213,
    "start_time": "2023-06-22T13:36:51.415Z"
   },
   {
    "duration": 4,
    "start_time": "2023-06-22T13:36:51.631Z"
   },
   {
    "duration": 1002,
    "start_time": "2023-06-22T13:36:51.645Z"
   },
   {
    "duration": 253,
    "start_time": "2023-06-22T13:36:52.649Z"
   },
   {
    "duration": 4,
    "start_time": "2023-06-22T13:36:52.904Z"
   },
   {
    "duration": 571,
    "start_time": "2023-06-22T13:36:52.911Z"
   },
   {
    "duration": 11,
    "start_time": "2023-06-22T13:36:53.485Z"
   },
   {
    "duration": 231,
    "start_time": "2023-06-22T13:36:53.499Z"
   },
   {
    "duration": 6,
    "start_time": "2023-06-22T13:36:53.732Z"
   },
   {
    "duration": 11165,
    "start_time": "2023-06-22T13:36:53.740Z"
   },
   {
    "duration": 416,
    "start_time": "2023-06-22T13:37:04.908Z"
   },
   {
    "duration": 4,
    "start_time": "2023-06-22T13:37:05.327Z"
   },
   {
    "duration": 502,
    "start_time": "2023-06-22T13:37:05.334Z"
   },
   {
    "duration": 94,
    "start_time": "2023-06-22T13:37:05.838Z"
   },
   {
    "duration": 147,
    "start_time": "2023-06-22T13:37:05.935Z"
   },
   {
    "duration": 19,
    "start_time": "2023-06-22T13:37:06.085Z"
   },
   {
    "duration": 79,
    "start_time": "2023-06-22T13:37:06.107Z"
   },
   {
    "duration": 153,
    "start_time": "2023-06-22T13:37:06.188Z"
   },
   {
    "duration": 322,
    "start_time": "2023-06-22T13:37:06.343Z"
   },
   {
    "duration": 14,
    "start_time": "2023-06-22T13:37:06.668Z"
   },
   {
    "duration": 260,
    "start_time": "2023-06-22T13:37:06.685Z"
   },
   {
    "duration": 61,
    "start_time": "2023-06-22T13:37:06.946Z"
   },
   {
    "duration": 10,
    "start_time": "2023-06-22T13:37:07.010Z"
   },
   {
    "duration": 97,
    "start_time": "2023-06-22T13:37:07.021Z"
   },
   {
    "duration": 149,
    "start_time": "2023-06-22T13:37:07.120Z"
   },
   {
    "duration": 32,
    "start_time": "2023-06-22T13:37:07.271Z"
   },
   {
    "duration": 7,
    "start_time": "2023-06-22T13:37:07.306Z"
   },
   {
    "duration": 12,
    "start_time": "2023-06-22T13:37:07.314Z"
   },
   {
    "duration": 82,
    "start_time": "2023-06-22T13:37:07.328Z"
   },
   {
    "duration": 72,
    "start_time": "2023-06-22T13:37:07.414Z"
   },
   {
    "duration": 27,
    "start_time": "2023-06-22T13:37:07.489Z"
   },
   {
    "duration": 91,
    "start_time": "2023-06-22T13:37:07.518Z"
   },
   {
    "duration": 37,
    "start_time": "2023-06-22T13:37:07.611Z"
   },
   {
    "duration": 158,
    "start_time": "2023-06-22T13:37:07.650Z"
   },
   {
    "duration": 68,
    "start_time": "2023-06-22T13:37:07.810Z"
   },
   {
    "duration": 57,
    "start_time": "2023-06-22T13:37:07.880Z"
   },
   {
    "duration": 86,
    "start_time": "2023-06-22T13:37:07.939Z"
   },
   {
    "duration": 43,
    "start_time": "2023-06-22T13:37:08.027Z"
   },
   {
    "duration": 149,
    "start_time": "2023-06-22T13:37:08.072Z"
   },
   {
    "duration": 86,
    "start_time": "2023-06-22T13:37:08.224Z"
   },
   {
    "duration": 59,
    "start_time": "2023-06-22T13:37:08.312Z"
   },
   {
    "duration": 63,
    "start_time": "2023-06-22T13:37:08.373Z"
   },
   {
    "duration": 43,
    "start_time": "2023-06-22T13:37:08.438Z"
   },
   {
    "duration": 158,
    "start_time": "2023-06-22T13:37:08.483Z"
   },
   {
    "duration": 15,
    "start_time": "2023-06-22T13:37:08.644Z"
   },
   {
    "duration": 6,
    "start_time": "2023-06-22T13:37:08.661Z"
   },
   {
    "duration": 161,
    "start_time": "2023-06-22T13:37:08.670Z"
   },
   {
    "duration": 69,
    "start_time": "2023-06-22T13:37:08.833Z"
   },
   {
    "duration": 40,
    "start_time": "2023-06-22T13:37:08.903Z"
   },
   {
    "duration": 80,
    "start_time": "2023-06-22T13:37:08.946Z"
   },
   {
    "duration": 78,
    "start_time": "2023-06-22T13:37:09.028Z"
   },
   {
    "duration": 5,
    "start_time": "2023-06-22T13:37:09.109Z"
   },
   {
    "duration": 14,
    "start_time": "2023-06-22T13:37:09.116Z"
   },
   {
    "duration": 127,
    "start_time": "2023-06-22T13:37:09.132Z"
   },
   {
    "duration": 46,
    "start_time": "2023-06-22T13:37:09.264Z"
   },
   {
    "duration": 79,
    "start_time": "2023-06-22T13:37:09.313Z"
   },
   {
    "duration": 38,
    "start_time": "2023-06-22T13:37:09.394Z"
   },
   {
    "duration": 67,
    "start_time": "2023-06-22T13:37:09.435Z"
   },
   {
    "duration": 35,
    "start_time": "2023-06-22T13:37:09.505Z"
   },
   {
    "duration": 64,
    "start_time": "2023-06-22T13:37:09.543Z"
   },
   {
    "duration": 146,
    "start_time": "2023-06-22T13:37:09.609Z"
   },
   {
    "duration": 132,
    "start_time": "2023-06-22T13:37:09.757Z"
   },
   {
    "duration": 16,
    "start_time": "2023-06-22T13:37:09.891Z"
   },
   {
    "duration": 136,
    "start_time": "2023-06-22T13:37:09.910Z"
   },
   {
    "duration": 281,
    "start_time": "2023-06-22T13:37:10.048Z"
   },
   {
    "duration": 1005,
    "start_time": "2023-06-22T13:37:10.331Z"
   },
   {
    "duration": 169,
    "start_time": "2023-06-22T13:37:11.340Z"
   },
   {
    "duration": 100,
    "start_time": "2023-06-22T13:37:11.512Z"
   },
   {
    "duration": 90,
    "start_time": "2023-06-22T13:37:11.615Z"
   },
   {
    "duration": 7,
    "start_time": "2023-06-22T13:37:11.707Z"
   },
   {
    "duration": 3,
    "start_time": "2023-06-22T13:39:05.351Z"
   },
   {
    "duration": 49,
    "start_time": "2023-06-22T13:39:07.053Z"
   },
   {
    "duration": 167,
    "start_time": "2023-06-22T13:39:08.536Z"
   },
   {
    "duration": 3,
    "start_time": "2023-06-22T13:39:20.030Z"
   },
   {
    "duration": 60,
    "start_time": "2023-06-22T13:39:21.237Z"
   },
   {
    "duration": 524,
    "start_time": "2023-06-22T13:39:22.620Z"
   },
   {
    "duration": 43,
    "start_time": "2023-06-22T13:39:26.407Z"
   },
   {
    "duration": 152560,
    "start_time": "2023-06-22T13:39:33.958Z"
   },
   {
    "duration": 7790,
    "start_time": "2023-06-22T13:42:06.521Z"
   },
   {
    "duration": 8131,
    "start_time": "2023-06-22T13:42:14.316Z"
   },
   {
    "duration": 174,
    "start_time": "2023-06-22T13:42:22.450Z"
   },
   {
    "duration": 15,
    "start_time": "2023-06-22T13:42:22.626Z"
   },
   {
    "duration": 0,
    "start_time": "2023-06-22T13:42:22.643Z"
   },
   {
    "duration": 0,
    "start_time": "2023-06-22T13:42:22.645Z"
   },
   {
    "duration": 0,
    "start_time": "2023-06-22T13:42:22.646Z"
   },
   {
    "duration": 0,
    "start_time": "2023-06-22T13:42:22.647Z"
   },
   {
    "duration": 9599,
    "start_time": "2023-06-22T13:44:50.427Z"
   },
   {
    "duration": 2457,
    "start_time": "2023-06-22T13:45:10.089Z"
   },
   {
    "duration": 5,
    "start_time": "2023-06-22T13:45:12.549Z"
   },
   {
    "duration": 10,
    "start_time": "2023-06-22T13:45:12.555Z"
   },
   {
    "duration": 20535,
    "start_time": "2023-06-22T13:45:12.567Z"
   },
   {
    "duration": 4,
    "start_time": "2023-06-22T13:45:33.106Z"
   },
   {
    "duration": 241,
    "start_time": "2023-06-22T13:45:33.112Z"
   },
   {
    "duration": 15,
    "start_time": "2023-06-22T13:45:33.356Z"
   },
   {
    "duration": 9,
    "start_time": "2023-06-22T13:45:33.373Z"
   },
   {
    "duration": 41,
    "start_time": "2023-06-22T13:45:33.387Z"
   },
   {
    "duration": 8,
    "start_time": "2023-06-22T13:45:33.431Z"
   },
   {
    "duration": 17,
    "start_time": "2023-06-22T13:45:33.441Z"
   },
   {
    "duration": 44,
    "start_time": "2023-06-22T13:45:33.460Z"
   },
   {
    "duration": 13,
    "start_time": "2023-06-22T13:45:33.506Z"
   },
   {
    "duration": 11,
    "start_time": "2023-06-22T13:45:33.523Z"
   },
   {
    "duration": 92,
    "start_time": "2023-06-22T13:45:33.536Z"
   },
   {
    "duration": 8,
    "start_time": "2023-06-22T13:45:33.631Z"
   },
   {
    "duration": 43,
    "start_time": "2023-06-22T13:45:33.641Z"
   },
   {
    "duration": 173,
    "start_time": "2023-06-22T13:45:33.687Z"
   },
   {
    "duration": 40,
    "start_time": "2023-06-22T13:45:33.863Z"
   },
   {
    "duration": 20,
    "start_time": "2023-06-22T13:45:33.906Z"
   },
   {
    "duration": 155,
    "start_time": "2023-06-22T13:45:33.929Z"
   },
   {
    "duration": 28,
    "start_time": "2023-06-22T13:45:34.087Z"
   },
   {
    "duration": 62,
    "start_time": "2023-06-22T13:45:34.120Z"
   },
   {
    "duration": 49,
    "start_time": "2023-06-22T13:45:34.184Z"
   },
   {
    "duration": 21,
    "start_time": "2023-06-22T13:45:34.236Z"
   },
   {
    "duration": 23,
    "start_time": "2023-06-22T13:45:34.261Z"
   },
   {
    "duration": 181,
    "start_time": "2023-06-22T13:45:34.287Z"
   },
   {
    "duration": 9,
    "start_time": "2023-06-22T13:45:34.471Z"
   },
   {
    "duration": 6,
    "start_time": "2023-06-22T13:45:34.483Z"
   },
   {
    "duration": 270,
    "start_time": "2023-06-22T13:45:34.491Z"
   },
   {
    "duration": 292,
    "start_time": "2023-06-22T13:45:34.763Z"
   },
   {
    "duration": 4,
    "start_time": "2023-06-22T13:45:35.058Z"
   },
   {
    "duration": 296,
    "start_time": "2023-06-22T13:45:35.064Z"
   },
   {
    "duration": 8,
    "start_time": "2023-06-22T13:45:35.363Z"
   },
   {
    "duration": 563,
    "start_time": "2023-06-22T13:45:35.373Z"
   },
   {
    "duration": 3,
    "start_time": "2023-06-22T13:45:35.939Z"
   },
   {
    "duration": 216,
    "start_time": "2023-06-22T13:45:35.944Z"
   },
   {
    "duration": 8,
    "start_time": "2023-06-22T13:45:36.162Z"
   },
   {
    "duration": 278,
    "start_time": "2023-06-22T13:45:36.173Z"
   },
   {
    "duration": 3,
    "start_time": "2023-06-22T13:45:36.454Z"
   },
   {
    "duration": 1116,
    "start_time": "2023-06-22T13:45:36.465Z"
   },
   {
    "duration": 340,
    "start_time": "2023-06-22T13:45:37.584Z"
   },
   {
    "duration": 4,
    "start_time": "2023-06-22T13:45:37.926Z"
   },
   {
    "duration": 570,
    "start_time": "2023-06-22T13:45:37.932Z"
   },
   {
    "duration": 12,
    "start_time": "2023-06-22T13:45:38.507Z"
   },
   {
    "duration": 199,
    "start_time": "2023-06-22T13:45:38.524Z"
   },
   {
    "duration": 4,
    "start_time": "2023-06-22T13:45:38.725Z"
   },
   {
    "duration": 13147,
    "start_time": "2023-06-22T13:45:38.731Z"
   },
   {
    "duration": 521,
    "start_time": "2023-06-22T13:45:51.881Z"
   },
   {
    "duration": 4,
    "start_time": "2023-06-22T13:45:52.406Z"
   },
   {
    "duration": 500,
    "start_time": "2023-06-22T13:45:52.413Z"
   },
   {
    "duration": 96,
    "start_time": "2023-06-22T13:45:52.915Z"
   },
   {
    "duration": 198,
    "start_time": "2023-06-22T13:45:53.014Z"
   },
   {
    "duration": 10,
    "start_time": "2023-06-22T13:45:53.214Z"
   },
   {
    "duration": 100,
    "start_time": "2023-06-22T13:45:53.227Z"
   },
   {
    "duration": 188,
    "start_time": "2023-06-22T13:45:53.330Z"
   },
   {
    "duration": 381,
    "start_time": "2023-06-22T13:45:53.521Z"
   },
   {
    "duration": 17,
    "start_time": "2023-06-22T13:45:53.904Z"
   },
   {
    "duration": 332,
    "start_time": "2023-06-22T13:45:53.923Z"
   },
   {
    "duration": 47,
    "start_time": "2023-06-22T13:45:54.259Z"
   },
   {
    "duration": 18,
    "start_time": "2023-06-22T13:45:54.308Z"
   },
   {
    "duration": 98,
    "start_time": "2023-06-22T13:45:54.328Z"
   },
   {
    "duration": 180,
    "start_time": "2023-06-22T13:45:54.429Z"
   },
   {
    "duration": 19,
    "start_time": "2023-06-22T13:45:54.615Z"
   },
   {
    "duration": 7,
    "start_time": "2023-06-22T13:45:54.639Z"
   },
   {
    "duration": 15,
    "start_time": "2023-06-22T13:45:54.648Z"
   },
   {
    "duration": 92,
    "start_time": "2023-06-22T13:45:54.666Z"
   },
   {
    "duration": 85,
    "start_time": "2023-06-22T13:45:54.760Z"
   },
   {
    "duration": 32,
    "start_time": "2023-06-22T13:45:54.847Z"
   },
   {
    "duration": 143,
    "start_time": "2023-06-22T13:45:54.881Z"
   },
   {
    "duration": 63,
    "start_time": "2023-06-22T13:45:55.026Z"
   },
   {
    "duration": 168,
    "start_time": "2023-06-22T13:45:55.103Z"
   },
   {
    "duration": 96,
    "start_time": "2023-06-22T13:45:55.272Z"
   },
   {
    "duration": 66,
    "start_time": "2023-06-22T13:45:55.370Z"
   },
   {
    "duration": 111,
    "start_time": "2023-06-22T13:45:55.438Z"
   },
   {
    "duration": 75,
    "start_time": "2023-06-22T13:45:55.553Z"
   },
   {
    "duration": 173,
    "start_time": "2023-06-22T13:45:55.631Z"
   },
   {
    "duration": 85,
    "start_time": "2023-06-22T13:45:55.806Z"
   },
   {
    "duration": 58,
    "start_time": "2023-06-22T13:45:55.905Z"
   },
   {
    "duration": 79,
    "start_time": "2023-06-22T13:45:55.966Z"
   },
   {
    "duration": 60,
    "start_time": "2023-06-22T13:45:56.048Z"
   },
   {
    "duration": 162,
    "start_time": "2023-06-22T13:45:56.110Z"
   },
   {
    "duration": 44,
    "start_time": "2023-06-22T13:45:56.275Z"
   },
   {
    "duration": 22,
    "start_time": "2023-06-22T13:45:56.322Z"
   },
   {
    "duration": 205,
    "start_time": "2023-06-22T13:45:56.348Z"
   },
   {
    "duration": 68,
    "start_time": "2023-06-22T13:45:56.557Z"
   },
   {
    "duration": 72,
    "start_time": "2023-06-22T13:45:56.632Z"
   },
   {
    "duration": 93,
    "start_time": "2023-06-22T13:45:56.709Z"
   },
   {
    "duration": 65,
    "start_time": "2023-06-22T13:45:56.805Z"
   },
   {
    "duration": 10,
    "start_time": "2023-06-22T13:45:56.872Z"
   },
   {
    "duration": 20,
    "start_time": "2023-06-22T13:45:56.885Z"
   },
   {
    "duration": 126,
    "start_time": "2023-06-22T13:45:56.907Z"
   },
   {
    "duration": 36,
    "start_time": "2023-06-22T13:45:57.035Z"
   },
   {
    "duration": 80,
    "start_time": "2023-06-22T13:45:57.075Z"
   },
   {
    "duration": 64,
    "start_time": "2023-06-22T13:45:57.157Z"
   },
   {
    "duration": 63,
    "start_time": "2023-06-22T13:45:57.226Z"
   },
   {
    "duration": 38,
    "start_time": "2023-06-22T13:45:57.292Z"
   },
   {
    "duration": 30,
    "start_time": "2023-06-22T13:45:57.333Z"
   },
   {
    "duration": 126,
    "start_time": "2023-06-22T13:45:57.365Z"
   },
   {
    "duration": 151,
    "start_time": "2023-06-22T13:45:57.493Z"
   },
   {
    "duration": 3,
    "start_time": "2023-06-22T13:45:57.647Z"
   },
   {
    "duration": 164,
    "start_time": "2023-06-22T13:45:57.653Z"
   },
   {
    "duration": 350,
    "start_time": "2023-06-22T13:45:57.819Z"
   },
   {
    "duration": 535,
    "start_time": "2023-06-22T13:45:58.171Z"
   },
   {
    "duration": 98,
    "start_time": "2023-06-22T13:45:58.708Z"
   },
   {
    "duration": 101,
    "start_time": "2023-06-22T13:45:58.808Z"
   },
   {
    "duration": 98,
    "start_time": "2023-06-22T13:45:58.911Z"
   },
   {
    "duration": 4,
    "start_time": "2023-06-22T13:45:59.012Z"
   },
   {
    "duration": 25,
    "start_time": "2023-06-22T13:45:59.019Z"
   },
   {
    "duration": 74,
    "start_time": "2023-06-22T13:45:59.046Z"
   },
   {
    "duration": 647,
    "start_time": "2023-06-22T13:45:59.122Z"
   },
   {
    "duration": 0,
    "start_time": "2023-06-22T13:45:59.771Z"
   },
   {
    "duration": 0,
    "start_time": "2023-06-22T13:45:59.774Z"
   },
   {
    "duration": 0,
    "start_time": "2023-06-22T13:45:59.776Z"
   },
   {
    "duration": 0,
    "start_time": "2023-06-22T13:45:59.777Z"
   },
   {
    "duration": 0,
    "start_time": "2023-06-22T13:45:59.779Z"
   },
   {
    "duration": 0,
    "start_time": "2023-06-22T13:45:59.780Z"
   },
   {
    "duration": 0,
    "start_time": "2023-06-22T13:45:59.782Z"
   },
   {
    "duration": 1,
    "start_time": "2023-06-22T13:45:59.802Z"
   },
   {
    "duration": 0,
    "start_time": "2023-06-22T13:45:59.804Z"
   },
   {
    "duration": 0,
    "start_time": "2023-06-22T13:45:59.805Z"
   },
   {
    "duration": 0,
    "start_time": "2023-06-22T13:45:59.807Z"
   },
   {
    "duration": 2197,
    "start_time": "2023-06-22T13:47:00.530Z"
   },
   {
    "duration": 4,
    "start_time": "2023-06-22T13:47:02.730Z"
   },
   {
    "duration": 48,
    "start_time": "2023-06-22T13:47:02.737Z"
   },
   {
    "duration": 19363,
    "start_time": "2023-06-22T13:47:02.787Z"
   },
   {
    "duration": 7,
    "start_time": "2023-06-22T13:47:22.153Z"
   },
   {
    "duration": 253,
    "start_time": "2023-06-22T13:47:22.162Z"
   },
   {
    "duration": 17,
    "start_time": "2023-06-22T13:47:22.418Z"
   },
   {
    "duration": 35,
    "start_time": "2023-06-22T13:47:22.438Z"
   },
   {
    "duration": 72,
    "start_time": "2023-06-22T13:47:22.475Z"
   },
   {
    "duration": 9,
    "start_time": "2023-06-22T13:47:22.549Z"
   },
   {
    "duration": 26,
    "start_time": "2023-06-22T13:47:22.560Z"
   },
   {
    "duration": 59,
    "start_time": "2023-06-22T13:47:22.589Z"
   },
   {
    "duration": 21,
    "start_time": "2023-06-22T13:47:22.650Z"
   },
   {
    "duration": 13,
    "start_time": "2023-06-22T13:47:22.677Z"
   },
   {
    "duration": 103,
    "start_time": "2023-06-22T13:47:22.693Z"
   },
   {
    "duration": 9,
    "start_time": "2023-06-22T13:47:22.799Z"
   },
   {
    "duration": 34,
    "start_time": "2023-06-22T13:47:22.810Z"
   },
   {
    "duration": 195,
    "start_time": "2023-06-22T13:47:22.846Z"
   },
   {
    "duration": 38,
    "start_time": "2023-06-22T13:47:23.043Z"
   },
   {
    "duration": 37,
    "start_time": "2023-06-22T13:47:23.083Z"
   },
   {
    "duration": 153,
    "start_time": "2023-06-22T13:47:23.123Z"
   },
   {
    "duration": 13,
    "start_time": "2023-06-22T13:47:23.279Z"
   },
   {
    "duration": 32,
    "start_time": "2023-06-22T13:47:23.295Z"
   },
   {
    "duration": 86,
    "start_time": "2023-06-22T13:47:23.329Z"
   },
   {
    "duration": 18,
    "start_time": "2023-06-22T13:47:23.417Z"
   },
   {
    "duration": 35,
    "start_time": "2023-06-22T13:47:23.437Z"
   },
   {
    "duration": 163,
    "start_time": "2023-06-22T13:47:23.474Z"
   },
   {
    "duration": 8,
    "start_time": "2023-06-22T13:47:23.640Z"
   },
   {
    "duration": 36,
    "start_time": "2023-06-22T13:47:23.650Z"
   },
   {
    "duration": 296,
    "start_time": "2023-06-22T13:47:23.689Z"
   },
   {
    "duration": 287,
    "start_time": "2023-06-22T13:47:23.987Z"
   },
   {
    "duration": 3,
    "start_time": "2023-06-22T13:47:24.278Z"
   },
   {
    "duration": 292,
    "start_time": "2023-06-22T13:47:24.283Z"
   },
   {
    "duration": 11,
    "start_time": "2023-06-22T13:47:24.578Z"
   },
   {
    "duration": 610,
    "start_time": "2023-06-22T13:47:24.591Z"
   },
   {
    "duration": 5,
    "start_time": "2023-06-22T13:47:25.203Z"
   },
   {
    "duration": 254,
    "start_time": "2023-06-22T13:47:25.210Z"
   },
   {
    "duration": 12,
    "start_time": "2023-06-22T13:47:25.467Z"
   },
   {
    "duration": 325,
    "start_time": "2023-06-22T13:47:25.482Z"
   },
   {
    "duration": 3,
    "start_time": "2023-06-22T13:47:25.810Z"
   },
   {
    "duration": 1125,
    "start_time": "2023-06-22T13:47:25.820Z"
   },
   {
    "duration": 408,
    "start_time": "2023-06-22T13:47:26.948Z"
   },
   {
    "duration": 4,
    "start_time": "2023-06-22T13:47:27.358Z"
   },
   {
    "duration": 582,
    "start_time": "2023-06-22T13:47:27.365Z"
   },
   {
    "duration": 11,
    "start_time": "2023-06-22T13:47:27.949Z"
   },
   {
    "duration": 277,
    "start_time": "2023-06-22T13:47:27.962Z"
   },
   {
    "duration": 5,
    "start_time": "2023-06-22T13:47:28.241Z"
   },
   {
    "duration": 11793,
    "start_time": "2023-06-22T13:47:28.248Z"
   },
   {
    "duration": 497,
    "start_time": "2023-06-22T13:47:40.044Z"
   },
   {
    "duration": 5,
    "start_time": "2023-06-22T13:47:40.545Z"
   },
   {
    "duration": 495,
    "start_time": "2023-06-22T13:47:40.552Z"
   },
   {
    "duration": 82,
    "start_time": "2023-06-22T13:47:41.049Z"
   },
   {
    "duration": 174,
    "start_time": "2023-06-22T13:47:41.133Z"
   },
   {
    "duration": 8,
    "start_time": "2023-06-22T13:47:41.309Z"
   },
   {
    "duration": 106,
    "start_time": "2023-06-22T13:47:41.321Z"
   },
   {
    "duration": 164,
    "start_time": "2023-06-22T13:47:41.430Z"
   },
   {
    "duration": 383,
    "start_time": "2023-06-22T13:47:41.596Z"
   },
   {
    "duration": 32,
    "start_time": "2023-06-22T13:47:41.981Z"
   },
   {
    "duration": 351,
    "start_time": "2023-06-22T13:47:42.016Z"
   },
   {
    "duration": 53,
    "start_time": "2023-06-22T13:47:42.369Z"
   },
   {
    "duration": 11,
    "start_time": "2023-06-22T13:47:42.426Z"
   },
   {
    "duration": 139,
    "start_time": "2023-06-22T13:47:42.439Z"
   },
   {
    "duration": 146,
    "start_time": "2023-06-22T13:47:42.580Z"
   },
   {
    "duration": 35,
    "start_time": "2023-06-22T13:47:42.729Z"
   },
   {
    "duration": 15,
    "start_time": "2023-06-22T13:47:42.767Z"
   },
   {
    "duration": 48,
    "start_time": "2023-06-22T13:47:42.784Z"
   },
   {
    "duration": 126,
    "start_time": "2023-06-22T13:47:42.835Z"
   },
   {
    "duration": 93,
    "start_time": "2023-06-22T13:47:42.963Z"
   },
   {
    "duration": 44,
    "start_time": "2023-06-22T13:47:43.058Z"
   },
   {
    "duration": 161,
    "start_time": "2023-06-22T13:47:43.105Z"
   },
   {
    "duration": 91,
    "start_time": "2023-06-22T13:47:43.269Z"
   },
   {
    "duration": 301,
    "start_time": "2023-06-22T13:47:43.363Z"
   },
   {
    "duration": 84,
    "start_time": "2023-06-22T13:47:43.676Z"
   },
   {
    "duration": 76,
    "start_time": "2023-06-22T13:47:43.766Z"
   },
   {
    "duration": 121,
    "start_time": "2023-06-22T13:47:43.844Z"
   },
   {
    "duration": 70,
    "start_time": "2023-06-22T13:47:43.970Z"
   },
   {
    "duration": 193,
    "start_time": "2023-06-22T13:47:44.043Z"
   },
   {
    "duration": 89,
    "start_time": "2023-06-22T13:47:44.238Z"
   },
   {
    "duration": 75,
    "start_time": "2023-06-22T13:47:44.329Z"
   },
   {
    "duration": 55,
    "start_time": "2023-06-22T13:47:44.411Z"
   },
   {
    "duration": 68,
    "start_time": "2023-06-22T13:47:44.469Z"
   },
   {
    "duration": 166,
    "start_time": "2023-06-22T13:47:44.539Z"
   },
   {
    "duration": 25,
    "start_time": "2023-06-22T13:47:44.707Z"
   },
   {
    "duration": 20,
    "start_time": "2023-06-22T13:47:44.735Z"
   },
   {
    "duration": 172,
    "start_time": "2023-06-22T13:47:44.758Z"
   },
   {
    "duration": 74,
    "start_time": "2023-06-22T13:47:44.934Z"
   },
   {
    "duration": 147,
    "start_time": "2023-06-22T13:47:45.010Z"
   },
   {
    "duration": 79,
    "start_time": "2023-06-22T13:47:45.159Z"
   },
   {
    "duration": 79,
    "start_time": "2023-06-22T13:47:45.240Z"
   },
   {
    "duration": 21,
    "start_time": "2023-06-22T13:47:45.321Z"
   },
   {
    "duration": 15,
    "start_time": "2023-06-22T13:47:45.344Z"
   },
   {
    "duration": 154,
    "start_time": "2023-06-22T13:47:45.361Z"
   },
   {
    "duration": 46,
    "start_time": "2023-06-22T13:47:45.518Z"
   },
   {
    "duration": 108,
    "start_time": "2023-06-22T13:47:45.567Z"
   },
   {
    "duration": 46,
    "start_time": "2023-06-22T13:47:45.678Z"
   },
   {
    "duration": 54,
    "start_time": "2023-06-22T13:47:45.727Z"
   },
   {
    "duration": 34,
    "start_time": "2023-06-22T13:47:45.802Z"
   },
   {
    "duration": 27,
    "start_time": "2023-06-22T13:47:45.839Z"
   },
   {
    "duration": 175,
    "start_time": "2023-06-22T13:47:45.869Z"
   },
   {
    "duration": 144,
    "start_time": "2023-06-22T13:47:46.047Z"
   },
   {
    "duration": 4,
    "start_time": "2023-06-22T13:47:46.203Z"
   },
   {
    "duration": 160,
    "start_time": "2023-06-22T13:47:46.209Z"
   },
   {
    "duration": 415,
    "start_time": "2023-06-22T13:47:46.372Z"
   },
   {
    "duration": 642,
    "start_time": "2023-06-22T13:47:46.790Z"
   },
   {
    "duration": 91,
    "start_time": "2023-06-22T13:47:47.435Z"
   },
   {
    "duration": 120,
    "start_time": "2023-06-22T13:47:47.528Z"
   },
   {
    "duration": 90,
    "start_time": "2023-06-22T13:47:47.651Z"
   },
   {
    "duration": 7,
    "start_time": "2023-06-22T13:47:47.743Z"
   },
   {
    "duration": 12,
    "start_time": "2023-06-22T13:47:47.752Z"
   },
   {
    "duration": 74,
    "start_time": "2023-06-22T13:47:47.767Z"
   },
   {
    "duration": 859,
    "start_time": "2023-06-22T13:47:47.843Z"
   },
   {
    "duration": 2265,
    "start_time": "2023-06-22T13:48:36.008Z"
   },
   {
    "duration": 5,
    "start_time": "2023-06-22T13:48:38.275Z"
   },
   {
    "duration": 20,
    "start_time": "2023-06-22T13:48:38.282Z"
   },
   {
    "duration": 13828,
    "start_time": "2023-06-22T13:48:38.306Z"
   },
   {
    "duration": 4,
    "start_time": "2023-06-22T13:48:52.137Z"
   },
   {
    "duration": 270,
    "start_time": "2023-06-22T13:48:52.143Z"
   },
   {
    "duration": 17,
    "start_time": "2023-06-22T13:48:52.416Z"
   },
   {
    "duration": 10,
    "start_time": "2023-06-22T13:48:52.435Z"
   },
   {
    "duration": 47,
    "start_time": "2023-06-22T13:48:52.449Z"
   },
   {
    "duration": 9,
    "start_time": "2023-06-22T13:48:52.501Z"
   },
   {
    "duration": 9,
    "start_time": "2023-06-22T13:48:52.513Z"
   },
   {
    "duration": 69,
    "start_time": "2023-06-22T13:48:52.524Z"
   },
   {
    "duration": 13,
    "start_time": "2023-06-22T13:48:52.595Z"
   },
   {
    "duration": 10,
    "start_time": "2023-06-22T13:48:52.610Z"
   },
   {
    "duration": 90,
    "start_time": "2023-06-22T13:48:52.623Z"
   },
   {
    "duration": 8,
    "start_time": "2023-06-22T13:48:52.715Z"
   },
   {
    "duration": 54,
    "start_time": "2023-06-22T13:48:52.725Z"
   },
   {
    "duration": 72,
    "start_time": "2023-06-22T13:48:52.782Z"
   },
   {
    "duration": 117,
    "start_time": "2023-06-22T13:48:52.857Z"
   },
   {
    "duration": 56,
    "start_time": "2023-06-22T13:48:52.977Z"
   },
   {
    "duration": 144,
    "start_time": "2023-06-22T13:48:53.036Z"
   },
   {
    "duration": 7,
    "start_time": "2023-06-22T13:48:53.183Z"
   },
   {
    "duration": 45,
    "start_time": "2023-06-22T13:48:53.192Z"
   },
   {
    "duration": 46,
    "start_time": "2023-06-22T13:48:53.239Z"
   },
   {
    "duration": 19,
    "start_time": "2023-06-22T13:48:53.288Z"
   },
   {
    "duration": 17,
    "start_time": "2023-06-22T13:48:53.309Z"
   },
   {
    "duration": 168,
    "start_time": "2023-06-22T13:48:53.328Z"
   },
   {
    "duration": 8,
    "start_time": "2023-06-22T13:48:53.503Z"
   },
   {
    "duration": 28,
    "start_time": "2023-06-22T13:48:53.513Z"
   },
   {
    "duration": 274,
    "start_time": "2023-06-22T13:48:53.544Z"
   },
   {
    "duration": 246,
    "start_time": "2023-06-22T13:48:53.821Z"
   },
   {
    "duration": 4,
    "start_time": "2023-06-22T13:48:54.070Z"
   },
   {
    "duration": 320,
    "start_time": "2023-06-22T13:48:54.076Z"
   },
   {
    "duration": 7,
    "start_time": "2023-06-22T13:48:54.399Z"
   },
   {
    "duration": 425,
    "start_time": "2023-06-22T13:48:54.408Z"
   },
   {
    "duration": 3,
    "start_time": "2023-06-22T13:48:54.836Z"
   },
   {
    "duration": 236,
    "start_time": "2023-06-22T13:48:54.842Z"
   },
   {
    "duration": 9,
    "start_time": "2023-06-22T13:48:55.080Z"
   },
   {
    "duration": 233,
    "start_time": "2023-06-22T13:48:55.091Z"
   },
   {
    "duration": 4,
    "start_time": "2023-06-22T13:48:55.327Z"
   },
   {
    "duration": 1017,
    "start_time": "2023-06-22T13:48:55.333Z"
   },
   {
    "duration": 263,
    "start_time": "2023-06-22T13:48:56.352Z"
   },
   {
    "duration": 4,
    "start_time": "2023-06-22T13:48:56.618Z"
   },
   {
    "duration": 585,
    "start_time": "2023-06-22T13:48:56.624Z"
   },
   {
    "duration": 11,
    "start_time": "2023-06-22T13:48:57.212Z"
   },
   {
    "duration": 224,
    "start_time": "2023-06-22T13:48:57.226Z"
   },
   {
    "duration": 3,
    "start_time": "2023-06-22T13:48:57.452Z"
   },
   {
    "duration": 12059,
    "start_time": "2023-06-22T13:48:57.457Z"
   },
   {
    "duration": 667,
    "start_time": "2023-06-22T13:49:09.519Z"
   },
   {
    "duration": 4,
    "start_time": "2023-06-22T13:49:10.189Z"
   },
   {
    "duration": 535,
    "start_time": "2023-06-22T13:49:10.202Z"
   },
   {
    "duration": 84,
    "start_time": "2023-06-22T13:49:10.740Z"
   },
   {
    "duration": 164,
    "start_time": "2023-06-22T13:49:10.826Z"
   },
   {
    "duration": 13,
    "start_time": "2023-06-22T13:49:11.001Z"
   },
   {
    "duration": 86,
    "start_time": "2023-06-22T13:49:11.016Z"
   },
   {
    "duration": 164,
    "start_time": "2023-06-22T13:49:11.105Z"
   },
   {
    "duration": 375,
    "start_time": "2023-06-22T13:49:11.271Z"
   },
   {
    "duration": 13,
    "start_time": "2023-06-22T13:49:11.648Z"
   },
   {
    "duration": 285,
    "start_time": "2023-06-22T13:49:11.664Z"
   },
   {
    "duration": 31,
    "start_time": "2023-06-22T13:49:11.951Z"
   },
   {
    "duration": 27,
    "start_time": "2023-06-22T13:49:11.983Z"
   },
   {
    "duration": 90,
    "start_time": "2023-06-22T13:49:12.012Z"
   },
   {
    "duration": 143,
    "start_time": "2023-06-22T13:49:12.104Z"
   },
   {
    "duration": 15,
    "start_time": "2023-06-22T13:49:12.249Z"
   },
   {
    "duration": 6,
    "start_time": "2023-06-22T13:49:12.266Z"
   },
   {
    "duration": 28,
    "start_time": "2023-06-22T13:49:12.274Z"
   },
   {
    "duration": 82,
    "start_time": "2023-06-22T13:49:12.304Z"
   },
   {
    "duration": 39,
    "start_time": "2023-06-22T13:49:12.401Z"
   },
   {
    "duration": 29,
    "start_time": "2023-06-22T13:49:12.442Z"
   },
   {
    "duration": 116,
    "start_time": "2023-06-22T13:49:12.473Z"
   },
   {
    "duration": 38,
    "start_time": "2023-06-22T13:49:12.591Z"
   },
   {
    "duration": 148,
    "start_time": "2023-06-22T13:49:12.631Z"
   },
   {
    "duration": 72,
    "start_time": "2023-06-22T13:49:12.781Z"
   },
   {
    "duration": 73,
    "start_time": "2023-06-22T13:49:12.856Z"
   },
   {
    "duration": 91,
    "start_time": "2023-06-22T13:49:12.931Z"
   },
   {
    "duration": 70,
    "start_time": "2023-06-22T13:49:13.024Z"
   },
   {
    "duration": 151,
    "start_time": "2023-06-22T13:49:13.096Z"
   },
   {
    "duration": 88,
    "start_time": "2023-06-22T13:49:13.249Z"
   },
   {
    "duration": 75,
    "start_time": "2023-06-22T13:49:13.339Z"
   },
   {
    "duration": 49,
    "start_time": "2023-06-22T13:49:13.416Z"
   },
   {
    "duration": 51,
    "start_time": "2023-06-22T13:49:13.467Z"
   },
   {
    "duration": 149,
    "start_time": "2023-06-22T13:49:13.524Z"
   },
   {
    "duration": 28,
    "start_time": "2023-06-22T13:49:13.675Z"
   },
   {
    "duration": 15,
    "start_time": "2023-06-22T13:49:13.705Z"
   },
   {
    "duration": 156,
    "start_time": "2023-06-22T13:49:13.723Z"
   },
   {
    "duration": 66,
    "start_time": "2023-06-22T13:49:13.880Z"
   },
   {
    "duration": 55,
    "start_time": "2023-06-22T13:49:13.948Z"
   },
   {
    "duration": 59,
    "start_time": "2023-06-22T13:49:14.005Z"
   },
   {
    "duration": 58,
    "start_time": "2023-06-22T13:49:14.067Z"
   },
   {
    "duration": 17,
    "start_time": "2023-06-22T13:49:14.127Z"
   },
   {
    "duration": 24,
    "start_time": "2023-06-22T13:49:14.146Z"
   },
   {
    "duration": 122,
    "start_time": "2023-06-22T13:49:14.171Z"
   },
   {
    "duration": 31,
    "start_time": "2023-06-22T13:49:14.301Z"
   },
   {
    "duration": 82,
    "start_time": "2023-06-22T13:49:14.334Z"
   },
   {
    "duration": 36,
    "start_time": "2023-06-22T13:49:14.418Z"
   },
   {
    "duration": 65,
    "start_time": "2023-06-22T13:49:14.457Z"
   },
   {
    "duration": 32,
    "start_time": "2023-06-22T13:49:14.524Z"
   },
   {
    "duration": 46,
    "start_time": "2023-06-22T13:49:14.558Z"
   },
   {
    "duration": 120,
    "start_time": "2023-06-22T13:49:14.607Z"
   },
   {
    "duration": 162,
    "start_time": "2023-06-22T13:49:14.729Z"
   },
   {
    "duration": 11,
    "start_time": "2023-06-22T13:49:14.901Z"
   },
   {
    "duration": 141,
    "start_time": "2023-06-22T13:49:14.915Z"
   },
   {
    "duration": 300,
    "start_time": "2023-06-22T13:49:15.058Z"
   },
   {
    "duration": 447,
    "start_time": "2023-06-22T13:49:15.360Z"
   },
   {
    "duration": 74,
    "start_time": "2023-06-22T13:49:15.809Z"
   },
   {
    "duration": 89,
    "start_time": "2023-06-22T13:49:15.885Z"
   },
   {
    "duration": 97,
    "start_time": "2023-06-22T13:49:15.976Z"
   },
   {
    "duration": 17,
    "start_time": "2023-06-22T13:49:16.075Z"
   },
   {
    "duration": 26,
    "start_time": "2023-06-22T13:49:16.095Z"
   },
   {
    "duration": 67,
    "start_time": "2023-06-22T13:49:16.123Z"
   },
   {
    "duration": 568,
    "start_time": "2023-06-22T13:49:37.458Z"
   },
   {
    "duration": 16,
    "start_time": "2023-06-22T13:50:02.275Z"
   },
   {
    "duration": 2212,
    "start_time": "2023-06-22T13:50:27.178Z"
   },
   {
    "duration": 8,
    "start_time": "2023-06-22T13:50:29.394Z"
   },
   {
    "duration": 12,
    "start_time": "2023-06-22T13:50:29.403Z"
   },
   {
    "duration": 11897,
    "start_time": "2023-06-22T13:50:29.417Z"
   },
   {
    "duration": 3,
    "start_time": "2023-06-22T13:50:41.318Z"
   },
   {
    "duration": 244,
    "start_time": "2023-06-22T13:50:41.323Z"
   },
   {
    "duration": 14,
    "start_time": "2023-06-22T13:50:41.570Z"
   },
   {
    "duration": 3,
    "start_time": "2023-06-22T13:50:41.586Z"
   },
   {
    "duration": 49,
    "start_time": "2023-06-22T13:50:41.591Z"
   },
   {
    "duration": 10,
    "start_time": "2023-06-22T13:50:41.643Z"
   },
   {
    "duration": 8,
    "start_time": "2023-06-22T13:50:41.655Z"
   },
   {
    "duration": 45,
    "start_time": "2023-06-22T13:50:41.665Z"
   },
   {
    "duration": 12,
    "start_time": "2023-06-22T13:50:41.712Z"
   },
   {
    "duration": 14,
    "start_time": "2023-06-22T13:50:41.728Z"
   },
   {
    "duration": 95,
    "start_time": "2023-06-22T13:50:41.744Z"
   },
   {
    "duration": 8,
    "start_time": "2023-06-22T13:50:41.841Z"
   },
   {
    "duration": 11,
    "start_time": "2023-06-22T13:50:41.851Z"
   },
   {
    "duration": 143,
    "start_time": "2023-06-22T13:50:41.864Z"
   },
   {
    "duration": 21,
    "start_time": "2023-06-22T13:50:42.009Z"
   },
   {
    "duration": 31,
    "start_time": "2023-06-22T13:50:42.032Z"
   },
   {
    "duration": 146,
    "start_time": "2023-06-22T13:50:42.066Z"
   },
   {
    "duration": 9,
    "start_time": "2023-06-22T13:50:42.215Z"
   },
   {
    "duration": 16,
    "start_time": "2023-06-22T13:50:42.226Z"
   },
   {
    "duration": 64,
    "start_time": "2023-06-22T13:50:42.245Z"
   },
   {
    "duration": 17,
    "start_time": "2023-06-22T13:50:42.311Z"
   },
   {
    "duration": 15,
    "start_time": "2023-06-22T13:50:42.330Z"
   },
   {
    "duration": 157,
    "start_time": "2023-06-22T13:50:42.347Z"
   },
   {
    "duration": 8,
    "start_time": "2023-06-22T13:50:42.507Z"
   },
   {
    "duration": 130,
    "start_time": "2023-06-22T13:50:42.517Z"
   },
   {
    "duration": 530,
    "start_time": "2023-06-22T13:50:42.650Z"
   },
   {
    "duration": 294,
    "start_time": "2023-06-22T13:50:43.182Z"
   },
   {
    "duration": 3,
    "start_time": "2023-06-22T13:50:43.480Z"
   },
   {
    "duration": 308,
    "start_time": "2023-06-22T13:50:43.485Z"
   },
   {
    "duration": 8,
    "start_time": "2023-06-22T13:50:43.795Z"
   },
   {
    "duration": 435,
    "start_time": "2023-06-22T13:50:43.805Z"
   },
   {
    "duration": 4,
    "start_time": "2023-06-22T13:50:44.242Z"
   },
   {
    "duration": 271,
    "start_time": "2023-06-22T13:50:44.248Z"
   },
   {
    "duration": 10,
    "start_time": "2023-06-22T13:50:44.521Z"
   },
   {
    "duration": 298,
    "start_time": "2023-06-22T13:50:44.533Z"
   },
   {
    "duration": 4,
    "start_time": "2023-06-22T13:50:44.833Z"
   },
   {
    "duration": 981,
    "start_time": "2023-06-22T13:50:44.845Z"
   },
   {
    "duration": 258,
    "start_time": "2023-06-22T13:50:45.829Z"
   },
   {
    "duration": 3,
    "start_time": "2023-06-22T13:50:46.089Z"
   },
   {
    "duration": 572,
    "start_time": "2023-06-22T13:50:46.101Z"
   },
   {
    "duration": 8,
    "start_time": "2023-06-22T13:50:46.675Z"
   },
   {
    "duration": 205,
    "start_time": "2023-06-22T13:50:46.685Z"
   },
   {
    "duration": 10,
    "start_time": "2023-06-22T13:50:46.892Z"
   },
   {
    "duration": 12677,
    "start_time": "2023-06-22T13:50:46.904Z"
   },
   {
    "duration": 419,
    "start_time": "2023-06-22T13:50:59.583Z"
   },
   {
    "duration": 5,
    "start_time": "2023-06-22T13:51:00.005Z"
   },
   {
    "duration": 408,
    "start_time": "2023-06-22T13:51:00.012Z"
   },
   {
    "duration": 62,
    "start_time": "2023-06-22T13:51:00.422Z"
   },
   {
    "duration": 175,
    "start_time": "2023-06-22T13:51:00.505Z"
   },
   {
    "duration": 19,
    "start_time": "2023-06-22T13:51:00.683Z"
   },
   {
    "duration": 121,
    "start_time": "2023-06-22T13:51:00.705Z"
   },
   {
    "duration": 156,
    "start_time": "2023-06-22T13:51:00.830Z"
   },
   {
    "duration": 351,
    "start_time": "2023-06-22T13:51:00.989Z"
   },
   {
    "duration": 18,
    "start_time": "2023-06-22T13:51:01.342Z"
   },
   {
    "duration": 250,
    "start_time": "2023-06-22T13:51:01.363Z"
   },
   {
    "duration": 34,
    "start_time": "2023-06-22T13:51:01.615Z"
   },
   {
    "duration": 140,
    "start_time": "2023-06-22T13:51:01.651Z"
   },
   {
    "duration": 501,
    "start_time": "2023-06-22T13:51:01.794Z"
   },
   {
    "duration": 168,
    "start_time": "2023-06-22T13:51:02.298Z"
   },
   {
    "duration": 14,
    "start_time": "2023-06-22T13:51:02.469Z"
   },
   {
    "duration": 6,
    "start_time": "2023-06-22T13:51:02.502Z"
   },
   {
    "duration": 12,
    "start_time": "2023-06-22T13:51:02.510Z"
   },
   {
    "duration": 137,
    "start_time": "2023-06-22T13:51:02.525Z"
   },
   {
    "duration": 59,
    "start_time": "2023-06-22T13:51:02.665Z"
   },
   {
    "duration": 29,
    "start_time": "2023-06-22T13:51:02.727Z"
   },
   {
    "duration": 97,
    "start_time": "2023-06-22T13:51:02.759Z"
   },
   {
    "duration": 49,
    "start_time": "2023-06-22T13:51:02.858Z"
   },
   {
    "duration": 135,
    "start_time": "2023-06-22T13:51:02.909Z"
   },
   {
    "duration": 84,
    "start_time": "2023-06-22T13:51:03.046Z"
   },
   {
    "duration": 49,
    "start_time": "2023-06-22T13:51:03.132Z"
   },
   {
    "duration": 87,
    "start_time": "2023-06-22T13:51:03.186Z"
   },
   {
    "duration": 57,
    "start_time": "2023-06-22T13:51:03.275Z"
   },
   {
    "duration": 138,
    "start_time": "2023-06-22T13:51:03.335Z"
   },
   {
    "duration": 91,
    "start_time": "2023-06-22T13:51:03.475Z"
   },
   {
    "duration": 61,
    "start_time": "2023-06-22T13:51:03.568Z"
   },
   {
    "duration": 55,
    "start_time": "2023-06-22T13:51:03.632Z"
   },
   {
    "duration": 61,
    "start_time": "2023-06-22T13:51:03.690Z"
   },
   {
    "duration": 150,
    "start_time": "2023-06-22T13:51:03.753Z"
   },
   {
    "duration": 24,
    "start_time": "2023-06-22T13:51:03.906Z"
   },
   {
    "duration": 9,
    "start_time": "2023-06-22T13:51:03.932Z"
   },
   {
    "duration": 151,
    "start_time": "2023-06-22T13:51:03.943Z"
   },
   {
    "duration": 52,
    "start_time": "2023-06-22T13:51:04.096Z"
   },
   {
    "duration": 53,
    "start_time": "2023-06-22T13:51:04.150Z"
   },
   {
    "duration": 66,
    "start_time": "2023-06-22T13:51:04.205Z"
   },
   {
    "duration": 72,
    "start_time": "2023-06-22T13:51:04.274Z"
   },
   {
    "duration": 6,
    "start_time": "2023-06-22T13:51:04.348Z"
   },
   {
    "duration": 35,
    "start_time": "2023-06-22T13:51:04.356Z"
   },
   {
    "duration": 150,
    "start_time": "2023-06-22T13:51:04.393Z"
   },
   {
    "duration": 47,
    "start_time": "2023-06-22T13:51:04.545Z"
   },
   {
    "duration": 83,
    "start_time": "2023-06-22T13:51:04.604Z"
   },
   {
    "duration": 44,
    "start_time": "2023-06-22T13:51:04.703Z"
   },
   {
    "duration": 72,
    "start_time": "2023-06-22T13:51:04.750Z"
   },
   {
    "duration": 48,
    "start_time": "2023-06-22T13:51:04.824Z"
   },
   {
    "duration": 26,
    "start_time": "2023-06-22T13:51:04.875Z"
   },
   {
    "duration": 104,
    "start_time": "2023-06-22T13:51:04.904Z"
   },
   {
    "duration": 132,
    "start_time": "2023-06-22T13:51:05.010Z"
   },
   {
    "duration": 14,
    "start_time": "2023-06-22T13:51:05.145Z"
   },
   {
    "duration": 167,
    "start_time": "2023-06-22T13:51:05.161Z"
   },
   {
    "duration": 254,
    "start_time": "2023-06-22T13:51:05.330Z"
   },
   {
    "duration": 430,
    "start_time": "2023-06-22T13:51:05.586Z"
   },
   {
    "duration": 86,
    "start_time": "2023-06-22T13:51:06.019Z"
   },
   {
    "duration": 165,
    "start_time": "2023-06-22T13:51:06.107Z"
   },
   {
    "duration": 92,
    "start_time": "2023-06-22T13:51:06.274Z"
   },
   {
    "duration": 16,
    "start_time": "2023-06-22T13:51:06.369Z"
   },
   {
    "duration": 55,
    "start_time": "2023-06-22T13:51:06.388Z"
   },
   {
    "duration": 88,
    "start_time": "2023-06-22T13:51:06.446Z"
   },
   {
    "duration": 43,
    "start_time": "2023-06-22T13:51:06.537Z"
   },
   {
    "duration": 525,
    "start_time": "2023-06-22T13:51:06.583Z"
   },
   {
    "duration": 54,
    "start_time": "2023-06-22T13:52:44.321Z"
   },
   {
    "duration": 162131,
    "start_time": "2023-06-22T13:52:44.378Z"
   },
   {
    "duration": 15500,
    "start_time": "2023-06-22T13:55:26.511Z"
   },
   {
    "duration": 8004,
    "start_time": "2023-06-22T13:55:42.014Z"
   },
   {
    "duration": 115,
    "start_time": "2023-06-22T13:55:50.021Z"
   },
   {
    "duration": 68,
    "start_time": "2023-06-22T13:55:50.138Z"
   },
   {
    "duration": 165,
    "start_time": "2023-06-22T13:55:50.209Z"
   },
   {
    "duration": 0,
    "start_time": "2023-06-22T13:55:50.377Z"
   },
   {
    "duration": 0,
    "start_time": "2023-06-22T13:55:50.379Z"
   },
   {
    "duration": 0,
    "start_time": "2023-06-22T13:55:50.381Z"
   },
   {
    "duration": 0,
    "start_time": "2023-06-22T13:55:50.382Z"
   },
   {
    "duration": 16,
    "start_time": "2023-06-22T13:56:24.850Z"
   },
   {
    "duration": 17,
    "start_time": "2023-06-22T13:56:27.308Z"
   },
   {
    "duration": 319,
    "start_time": "2023-06-22T13:56:33.833Z"
   },
   {
    "duration": 168,
    "start_time": "2023-06-22T13:57:02.644Z"
   },
   {
    "duration": 15,
    "start_time": "2023-06-22T13:57:10.061Z"
   },
   {
    "duration": 13,
    "start_time": "2023-06-22T13:57:52.557Z"
   },
   {
    "duration": 21,
    "start_time": "2023-06-22T13:58:07.200Z"
   },
   {
    "duration": 16,
    "start_time": "2023-06-22T13:58:33.770Z"
   }
  ],
  "kernelspec": {
   "display_name": "Python 3 (ipykernel)",
   "language": "python",
   "name": "python3"
  },
  "language_info": {
   "codemirror_mode": {
    "name": "ipython",
    "version": 3
   },
   "file_extension": ".py",
   "mimetype": "text/x-python",
   "name": "python",
   "nbconvert_exporter": "python",
   "pygments_lexer": "ipython3",
   "version": "3.9.13"
  },
  "toc": {
   "base_numbering": 1,
   "nav_menu": {},
   "number_sections": false,
   "sideBar": true,
   "skip_h1_title": false,
   "title_cell": "Table of Contents",
   "title_sidebar": "Contents",
   "toc_cell": false,
   "toc_position": {},
   "toc_section_display": true,
   "toc_window_display": false
  },
  "varInspector": {
   "cols": {
    "lenName": 16,
    "lenType": 16,
    "lenVar": 40
   },
   "kernels_config": {
    "python": {
     "delete_cmd_postfix": "",
     "delete_cmd_prefix": "del ",
     "library": "var_list.py",
     "varRefreshCmd": "print(var_dic_list())"
    },
    "r": {
     "delete_cmd_postfix": ") ",
     "delete_cmd_prefix": "rm(",
     "library": "var_list.r",
     "varRefreshCmd": "cat(var_dic_list()) "
    }
   },
   "types_to_exclude": [
    "module",
    "function",
    "builtin_function_or_method",
    "instance",
    "_Feature"
   ],
   "window_display": false
  }
 },
 "nbformat": 4,
 "nbformat_minor": 5
}
